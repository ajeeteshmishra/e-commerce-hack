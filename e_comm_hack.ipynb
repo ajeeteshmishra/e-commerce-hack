{
  "nbformat": 4,
  "nbformat_minor": 0,
  "metadata": {
    "colab": {
      "name": "Untitled0.ipynb",
      "provenance": []
    },
    "kernelspec": {
      "name": "python3",
      "display_name": "Python 3"
    }
  },
  "cells": [
    {
      "cell_type": "code",
      "metadata": {
        "id": "4WrR4Z1sbX6V",
        "colab_type": "code",
        "colab": {}
      },
      "source": [
        "import pandas as pd\n",
        "import numpy as np\n",
        "import matplotlib.pyplot as plt\n",
        "import seaborn as sns"
      ],
      "execution_count": 2,
      "outputs": []
    },
    {
      "cell_type": "code",
      "metadata": {
        "id": "oRT-7v1eb1xX",
        "colab_type": "code",
        "colab": {
          "resources": {
            "http://localhost:8080/nbextensions/google.colab/files.js": {
              "data": "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",
              "ok": true,
              "headers": [
                [
                  "content-type",
                  "application/javascript"
                ]
              ],
              "status": 200,
              "status_text": ""
            }
          },
          "base_uri": "https://localhost:8080/",
          "height": 110
        },
        "outputId": "fef07dcc-f984-4390-a21e-f7b388add308"
      },
      "source": [
        "from google.colab import files\n",
        "files.upload()"
      ],
      "execution_count": 5,
      "outputs": [
        {
          "output_type": "display_data",
          "data": {
            "text/html": [
              "\n",
              "     <input type=\"file\" id=\"files-cb370da6-f9a4-4221-bd2e-4c60cb736187\" name=\"files[]\" multiple disabled\n",
              "        style=\"border:none\" />\n",
              "     <output id=\"result-cb370da6-f9a4-4221-bd2e-4c60cb736187\">\n",
              "      Upload widget is only available when the cell has been executed in the\n",
              "      current browser session. Please rerun this cell to enable.\n",
              "      </output>\n",
              "      <script src=\"/nbextensions/google.colab/files.js\"></script> "
            ],
            "text/plain": [
              "<IPython.core.display.HTML object>"
            ]
          },
          "metadata": {
            "tags": []
          }
        },
        {
          "output_type": "stream",
          "text": [
            "Saving Train.csv to Train.csv\n"
          ],
          "name": "stdout"
        },
        {
          "output_type": "execute_result",
          "data": {
            "text/plain": [
              "{'Train.csv': b'Product,Product_Brand,Item_Category,Subcategory_1,Subcategory_2,Item_Rating,Date,Selling_Price\\nP-2610,B-659,bags wallets belts,bags,hand bags,4.3,2/3/2017,291.0\\nP-2453,B-3078,clothing,women s clothing,western wear,3.1,7/1/2015,897.0\\nP-6802,B-1810,home decor festive needs,showpieces,ethnic,3.5,1/12/2019,792.0\\nP-4452,B-3078,beauty and personal care,eye care,h2o plus eye care,4.0,12/12/2014,837.0\\nP-8454,B-3078,clothing,men s clothing,t shirts,4.3,12/12/2013,470.0\\nP-5597,B-1487,home decor festive needs,table decor handicrafts,showpieces,5.0,9/4/2020,746.0\\nP-8398,B-3078,footwear,women s footwear,casual shoes,4.1,4/12/2017,1798.0\\nP-10744,B-2830,kitchen dining,cookware,pots pans,3.1,1/12/2013,955.0\\nP-4042,B-1045,home decor festive needs,wall decor clocks,paintings,2.4,18/3/2019,21770.0\\nP-360,B-88,automotive,accessories spare parts,car interior exterior,2.3,10/5/2018,199.0\\nP-5086,B-1347,computers,computer components,processors,4.3,1/12/2019,2470.0\\nP-1786,B-2679,clothing,women s clothing,western wear,5.0,30/12/2012,497.0\\nP-7089,B-1880,miss wow slim fit women s blue jeans,unknown,unknown,1.5,10/5/2017,489.0\\nP-8775,B-2261,food nutrition,health nutrition,protein supplements,3.6,6/6/2015,939.0\\nP-9951,B-2605,home decor festive needs,showpieces,shoppingtara showpieces,4.6,1/12/2018,416.0\\nP-5742,B-1517,jewellery,rings,unknown,2.8,1/1/2013,30918.0\\nP-10525,B-2755,srpc baoer starwalker executive rollerball pen g,unknown,unknown,3.2,5/4/2019,798.0\\nP-2805,B-724,home decor festive needs,candles fragrances,home fragrances,1.5,15/6/2014,290.0\\nP-10835,B-2870,computers,laptop accessories,usb gadgets,1.0,29/12/2018,641.0\\nP-8605,B-3078,kitchen dining,coffee mugs,printland coffee mugs,3.8,1/12/2017,298.0\\nP-11626,B-3119,kitchen dining,coffee mugs,value bay coffee mugs,1.5,19/3/2015,292.0\\nP-6539,B-1721,clothing,kids clothing,girls wear,1.7,2/4/2017,1993.0\\nP-5565,B-1478,jewellery,necklaces chains,necklaces,3.0,1/12/2017,300.0\\nP-2838,B-734,home furnishing,kitchen dining linen,table runners,4.0,1/1/2014,299.0\\nP-466,B-113,clothing,women s clothing,western wear,2.3,10/5/2017,610.0\\nP-7204,B-3078,clothing,women s clothing,western wear,3.7,1/12/2012,904.0\\nP-3786,B-977,home furnishing,kitchen dining linen,table runners,1.2,1/1/2020,393.0\\nP-8446,B-2223,clothing,women s clothing,western wear,1.6,19/3/2014,396.0\\nP-10051,B-3078,clothing,women s clothing,western wear,3.7,7/1/2019,596.0\\nP-11810,B-3175,jewellery,necklaces chains,necklaces,1.4,1/12/2013,253.0\\nP-10633,B-3078,clothing,men s clothing,winter seasonal wear,1.2,29/12/2012,664.0\\nP-7551,B-3078,clothing,men s clothing,t shirts,2.0,13/12/2019,341.0\\nP-7885,B-2372,clothing,women s clothing,western wear,2.1,30/12/2013,496.0\\nP-4381,B-2201,clothing,women s clothing,lingerie sleep swimwear,2.5,7/1/2015,441.0\\nP-11753,B-3159,automotive,accessories spare parts,car electronics accessories,3.9,1/12/2014,405.0\\nP-6331,B-1650,computers,network components,routers,3.4,1/12/2016,946.0\\nP-4997,B-1315,jewellery,necklaces chains,necklaces,1.8,1/12/2019,352.0\\nP-8844,B-2679,clothing,men s clothing,shirts,3.6,12/12/2016,691.0\\nP-6616,B-1737,bags wallets belts,luggage travel,lowe alpine luggage travel,4.0,23/6/2019,1490.0\\nP-4021,B-3078,clothing,women s clothing,western wear,4.6,7/1/2017,497.0\\nP-2073,B-459,bags wallets belts,bags,hand bags,4.3,24/2/2018,1390.0\\nP-9092,B-3078,clothing,women s clothing,ethnic wear,2.5,29/12/2015,1299.0\\nP-5128,B-3078,clothing,women s clothing,western wear,3.3,1/12/2013,791.0\\nP-7221,B-1937,jewellery,bangles bracelets armlets,bangles,4.5,30/12/2016,381.0\\nP-2489,B-610,home furnishing,kitchen dining linen,kitchen linen sets,2.6,18/3/2018,291.0\\nP-8952,B-2307,jewellery,rings,unknown,4.1,1/1/2020,20961.0\\nP-5643,B-3078,clothing,women s clothing,ethnic wear,2.0,1/12/2013,646.0\\nP-8915,B-2307,jewellery,rings,unknown,4.2,1/1/2015,28841.0\\nP-5369,B-1431,jewellery,rings,unknown,1.3,1/1/2018,36339.0\\nP-5471,B-3078,clothing,men s clothing,shirts,3.6,6/12/2016,529.0\\nP-8912,B-2307,jewellery,rings,unknown,1.3,1/1/2017,25901.0\\nP-2327,B-3078,beauty and personal care,fragrances,deodorants,1.0,1/12/2012,507.0\\nP-3304,B-3078,pens stationery,school supplies,geometry pen pencil boxes,1.5,1/12/2013,452.0\\nP-12128,B-3235,jewellery,accessories,brooches,2.4,28/2/2014,269.0\\nP-6165,B-678,clothing,women s clothing,lingerie sleep swimwear,1.0,7/1/2015,180.0\\nP-188,B-3078,clothing,women s clothing,western wear,3.3,30/12/2015,447.0\\nP-10422,B-2741,automotive,accessories spare parts,car interior exterior,3.4,21/4/2014,350.0\\nP-1709,B-3078,clothing,women s clothing,western wear,5.0,7/1/2014,889.0\\nP-2917,B-748,toys school supplies,action figures,disney action figures,2.0,28/3/2017,298.0\\nP-7520,B-3078,beauty and personal care,fragrances,deodorants,1.3,1/12/2015,398.0\\nP-8282,B-1936,furniture,pet furniture,unknown,1.0,29/12/2018,1147.0\\nP-4507,B-1193,jewellery,necklaces chains,necklaces,3.9,1/12/2014,445.0\\nP-5137,B-3078,toys school supplies,school supplies,geometry pencil boxes,1.2,1/12/2017,148.0\\nP-3995,B-1027,home decor festive needs,table decor handicrafts,showpieces,4.7,4/1/2018,2346.0\\nP-8981,B-2307,jewellery,rings,unknown,2.4,1/1/2016,33068.0\\nP-2203,B-3078,clothing,women s clothing,western wear,4.0,6/1/2016,761.0\\nP-6274,B-3078,clothing,women s clothing,western wear,4.7,30/12/2017,394.0\\nP-1755,B-372,automotive,car bike accessories,car bike lighting,3.9,2/6/2016,234.0\\nP-1046,B-144,jewellery,rings,amantran jewels om shaped silver zircon sterling,1.0,27/5/2018,2497.0\\nP-11595,B-3106,automotive,accessories spare parts,car interior exterior,3.5,24/5/2014,592.0\\nP-2494,B-610,home furnishing,kitchen dining linen,kitchen linen sets,3.4,18/3/2016,297.0\\nP-12022,B-3209,clothing,men s clothing,winter seasonal wear,2.6,13/6/2017,745.0\\nP-3273,B-850,mobiles accessories,tablet accessories,cases covers,4.7,1/1/2013,1491.0\\nP-1004,B-133,automotive,accessories spare parts,car interior exterior,4.2,1/12/2017,1374.0\\nP-1612,B-323,clothing,kids clothing,girls wear,4.6,11/3/2017,1415.0\\nP-3702,B-947,jewellery,necklaces chains,necklaces,2.7,1/12/2019,289.0\\nP-405,B-93,home decor festive needs,table decor handicrafts,showpieces,3.9,1/1/2017,595.0\\nP-4107,B-1059,beauty and personal care,hair care,hair colors,1.0,22/3/2016,1330.0\\nP-12375,B-3295,home decor festive needs,showpieces,you2deal showpieces,1.3,12/12/2017,445.0\\nP-9051,B-3078,kitchen dining,coffee mugs,rajesh digital coffee mugs,4.0,1/12/2014,241.0\\nP-4667,B-1237,mobiles accessories,tablet accessories,cases covers,1.3,1/1/2013,993.0\\nP-11550,B-2281,clothing,women s clothing,lingerie sleep swimwear,2.9,7/1/2020,290.0\\nP-10177,B-2699,automotive,accessories spare parts,car electronics accessories,2.7,1/12/2015,392.0\\nP-11456,B-3056,clothing,kids clothing,infants wear,3.1,18/3/2016,538.0\\nP-7796,B-3078,clothing,men s clothing,t shirts,3.1,13/12/2016,299.0\\nP-6434,B-1674,jewellery,bangles bracelets armlets,bracelets,1.1,20/12/2019,599.0\\nP-4243,B-1097,clothing,kids clothing,boys wear,1.1,12/5/2017,268.0\\nP-4955,B-3078,clothing,women s clothing,ethnic wear,3.7,7/1/2017,992.0\\nP-1841,B-405,jewellery,rings,unknown,1.3,1/1/2020,25001.0\\nP-8519,B-2201,clothing,women s clothing,lingerie sleep swimwear,5.0,7/1/2013,802.0\\nP-6388,B-2679,clothing,men s clothing,shirts,4.1,6/12/2012,460.0\\nP-9018,B-2307,jewellery,rings,unknown,2.8,1/1/2014,19558.0\\nP-1651,B-340,computers,network components,routers,4.0,1/12/2019,2394.0\\nP-10218,B-2709,soie fashion women s sports bra,unknown,unknown,1.4,10/5/2014,790.0\\nP-6253,B-2355,furniture,pet furniture,unknown,3.1,29/12/2012,1899.0\\nP-9346,B-3078,kitchen dining,coffee mugs,rockmantra coffee mugs,4.6,1/12/2019,191.0\\nP-2794,B-720,home decor festive needs,wall decor clocks,wall decals stickers,2.2,29/12/2015,994.0\\nP-2951,B-3078,sunglasses,unknown,unknown,4.7,6/1/2020,391.0\\nP-5715,B-1517,jewellery,rings,unknown,1.4,6/1/2019,31468.0\\nP-7818,B-2080,cameras accessories,camera accessories,lens hoods,2.6,29/12/2019,231.0\\nP-10409,B-2741,automotive,accessories spare parts,bike essentials,1.8,18/3/2015,214.0\\nP-6486,B-1699,clothing,women s clothing,lingerie sleep swimwear,2.3,20/6/2016,191.0\\nP-12046,B-3215,baby care,baby kids gifts,stickers,4.0,1/12/2013,582.0\\nP-10640,B-3078,footwear,women s footwear,casual shoes,3.2,1/12/2015,493.0\\nP-2893,B-2679,clothing,women s clothing,western wear,4.8,30/12/2018,489.0\\nP-6700,B-3078,clothing,women s clothing,western wear,1.4,6/1/2019,589.0\\nP-10823,B-2866,home decor festive needs,wall decor clocks,paintings,4.5,31/12/2014,1791.0\\nP-5909,B-1556,jewellery,rings,unknown,2.1,6/1/2017,1732.0\\nP-612,B-133,automotive,accessories spare parts,car interior exterior,3.9,1/12/2013,1348.0\\nP-4404,B-1148,jewellery,necklaces chains,necklaces,3.7,1/12/2017,441.0\\nP-5783,B-1517,jewellery,rings,unknown,1.4,1/1/2015,28100.0\\nP-3911,B-3078,ebooks,academic texts,law,1.7,7/1/2019,1563.0\\nP-15,B-1,automotive,accessories spare parts,car interior exterior,1.8,1/12/2015,1486.0\\nP-4435,B-1168,jewellery,rings,unknown,1.1,1/1/2019,26996.0\\nP-12392,B-3301,jewellery,necklaces chains,necklaces,1.1,1/12/2014,139.0\\nP-2513,B-616,clothing,men s clothing,shirts,1.1,11/6/2016,2285.0\\nP-3807,B-979,footwear,kids infant footwear,for boys,4.6,10/5/2020,240.0\\nP-7266,B-3078,beauty and personal care,combos and kits,mxofere combos and kits,4.8,12/12/2016,280.0\\nP-1512,B-278,mobiles accessories,tablet accessories,cases covers,4.3,1/1/2019,1003.0\\nP-7033,B-3078,footwear,women s footwear,flats,4.3,1/1/2019,1790.0\\nP-8900,B-2303,automotive,accessories spare parts,car bike care,1.3,25/2/2018,3349.0\\nP-816,B-133,automotive,accessories spare parts,car interior exterior,4.1,1/12/2015,1594.0\\nP-12014,B-3207,automotive,accessories spare parts,car bike care,3.1,25/2/2016,989.0\\nP-5736,B-1517,jewellery,rings,unknown,4.8,1/1/2019,21083.0\\nP-9332,B-2415,computers,laptop accessories,usb gadgets,1.0,29/12/2012,2998.0\\nP-8931,B-2307,jewellery,rings,unknown,2.2,1/1/2020,19584.0\\nP-201,B-3078,clothing,kids clothing,girls wear,2.1,20/12/2013,856.0\\nP-8108,B-3078,clothing,women s clothing,western wear,3.7,1/1/2015,489.0\\nP-8712,B-3078,kitchen dining,coffee mugs,prithish coffee mugs,1.9,1/12/2017,173.0\\nP-5209,B-1380,kitchen dining,cookware,pots pans,4.3,1/12/2012,489.0\\nP-2244,B-3078,clothing,women s clothing,ethnic wear,5.0,7/1/2018,617.0\\nP-12190,B-449,clothing,women s clothing,lingerie sleep swimwear,3.3,7/1/2018,337.0\\nP-6551,B-3078,clothing,women s clothing,western wear,1.2,1/12/2016,798.0\\nP-1565,B-304,baby care,baby bedding,baby blankets,3.1,12/12/2017,486.0\\nP-3061,B-789,jewellery,necklaces chains,necklaces,2.4,1/12/2012,393.0\\nP-4176,B-1080,jewellery,bangles bracelets armlets,bracelets,4.3,20/12/2012,451.0\\nP-12554,B-3078,bags wallets belts,bags,backpacks,3.3,12/12/2012,760.0\\nP-3156,B-2372,clothing,women s clothing,western wear,3.9,30/12/2012,396.0\\nP-4126,B-1067,automotive,accessories spare parts,car electronics accessories,4.1,1/12/2014,947.0\\nP-3127,B-808,home improvement,tools,hand tools,1.6,1/1/2015,890.0\\nP-5307,B-1417,jewellery,necklaces chains,necklaces,4.7,1/12/2017,348.0\\nP-5851,B-1527,home furnishing,kitchen dining linen,table covers,4.6,24/4/2020,491.0\\nP-8289,B-2182,furniture,pet furniture,unknown,3.9,29/12/2012,1143.0\\nP-3780,B-974,baby care,infant wear,baby girls clothes,5.0,10/5/2014,350.0\\nP-6687,B-1936,clothing,women s clothing,lingerie sleep swimwear,1.2,7/1/2018,283.0\\nP-8054,B-2131,automotive,accessories spare parts,car interior exterior,2.1,25/4/2017,1394.0\\nP-8725,B-3078,kitchen dining,coffee mugs,prithish coffee mugs,2.8,1/12/2016,215.0\\nP-11733,B-3149,automotive,accessories spare parts,car interior exterior,2.2,16/4/2020,442.0\\nP-7842,B-2086,clothing,women s clothing,western wear,1.4,25/3/2013,299.0\\nP-1705,B-3078,clothing,kids clothing,girls wear,5.0,6/1/2017,1987.0\\nP-5709,B-1517,jewellery,rings,unknown,4.4,1/1/2017,24057.0\\nP-2901,B-746,jewellery,necklaces chains,necklaces,2.8,1/12/2015,494.0\\nP-2048,B-3078,footwear,women s footwear,casual shoes,3.4,4/12/2012,1192.0\\nP-2336,B-555,pens stationery,office supplies,clairefontaine office supplies,1.6,31/12/2016,951.0\\nP-10593,B-2776,kitchen dining,kitchen tools,kitchen implements,1.1,1/12/2013,131.0\\nP-3707,B-3078,clothing,women s clothing,western wear,3.8,4/1/2014,690.0\\nP-5898,B-1551,clothing,women s clothing,lingerie sleep swimwear,3.7,28/4/2016,323.0\\nP-4009,B-1033,mobiles accessories,mobile accessories,mobile cables,3.3,20/6/2020,115.0\\nP-3439,B-889,home decor festive needs,showpieces,exotic india showpieces,4.9,4/1/2013,10885.0\\nP-3929,B-3078,clothing,men s clothing,t shirts,3.8,7/1/2020,703.0\\nP-7721,B-2054,clothing,kids clothing,boys wear,1.4,10/6/2019,989.0\\nP-8943,B-2307,jewellery,rings,unknown,1.4,1/1/2018,25573.0\\nP-3337,B-861,watches,wrist watches,esidon wrist watches,1.2,24/4/2017,445.0\\nP-10038,B-2638,jewellery,pendants lockets,silvesto india stone pendant,3.3,22/5/2016,540.0\\nP-10636,B-2787,footwear,men s footwear,casual shoes,4.3,17/5/2019,796.0\\nP-7178,B-3078,clothing,women s clothing,western wear,4.5,1/12/2012,870.0\\nP-9977,B-3231,clothing,women s clothing,lingerie sleep swimwear,2.7,7/1/2020,135.0\\nP-4490,B-3078,clothing,women s clothing,western wear,4.2,7/1/2014,489.0\\nP-8315,B-2355,furniture,pet furniture,unknown,2.8,29/12/2012,1295.0\\nP-4816,B-3078,clothing,men s clothing,t shirts,3.0,7/1/2016,695.0\\nP-8889,B-2301,jewellery,bangles bracelets armlets,bangles,3.0,12/12/2017,455.0\\nP-3437,B-889,home decor festive needs,showpieces,exotic india showpieces,4.6,3/1/2013,2747.0\\nP-72,B-9,sports fitness,outdoor adventure,cycling,3.2,23/4/2018,6690.0\\nP-4277,B-3231,clothing,women s clothing,lingerie sleep swimwear,1.6,7/1/2018,343.0\\nP-1642,B-3078,clothing,women s clothing,western wear,1.0,30/12/2018,324.0\\nP-3524,B-3078,footwear,women s footwear,heels,4.9,31/12/2017,951.0\\nP-2576,B-648,automotive,car bike accessories,car bike care,4.6,13/6/2017,459.0\\nP-547,B-3078,footwear,women s footwear,wedges,4.6,29/12/2017,692.0\\nP-6338,B-1655,eyewear,frames,lavish blink full rim rectangle frame 54 mm,2.0,19/3/2019,325.0\\nP-7627,B-3078,watches,wrist watches,noise wrist watches,2.2,7/1/2017,992.0\\nP-5419,B-1444,cameras accessories,camera accessories,lens hoods,2.2,29/12/2019,1373.0\\nP-7328,B-1961,home furnishing,bed linen,blankets quilts dohars,4.0,1/1/2013,1346.0\\nP-12496,B-3335,zevrr sterling silver swarovski zirconia platinu,unknown,unknown,2.6,3/4/2015,1063.0\\nP-11091,B-3231,clothing,women s clothing,lingerie sleep swimwear,2.0,7/1/2017,399.0\\nP-3584,B-922,baby care,baby bedding,baby mosquito nets,2.7,12/12/2019,954.0\\nP-2996,B-3078,footwear,women s footwear,wedges,3.1,29/12/2016,399.0\\nP-1962,B-3078,clothing,women s clothing,western wear,2.0,30/12/2018,391.0\\nP-5733,B-1517,jewellery,rings,unknown,1.5,1/1/2015,24437.0\\nP-290,B-79,adidas ind pro thi gua thigh guard white blue,unknown,unknown,2.5,10/6/2014,991.0\\nP-1439,B-255,tools hardware,tools,gardening tools,2.4,7/1/2020,346.0\\nP-5149,B-1366,home decor festive needs,candles fragrances,home fragrances,3.0,15/6/2016,389.0\\nP-7149,B-1907,clothing,women s clothing,ethnic wear,4.4,12/6/2020,2396.0\\nP-6978,B-3078,clothing,women s clothing,western wear,4.3,1/12/2013,757.0\\nP-10159,B-2695,computers,laptop accessories,adapters,4.3,11/3/2016,537.0\\nP-2984,B-3078,footwear,women s footwear,casual shoes,4.4,4/12/2014,497.0\\nP-9326,B-2415,mobiles accessories,tablet accessories,cases covers,3.3,1/1/2019,1550.0\\nP-5506,B-1466,jewellery,necklaces chains,necklaces,2.7,1/12/2013,293.0\\nP-12135,B-3078,beauty and personal care,fragrances,deodorants,1.3,1/12/2018,340.0\\nP-4004,B-1030,furniture,living room,sofas sectionals,3.1,31/12/2012,17997.0\\nP-4721,B-1256,home decor festive needs,wall decor clocks,wall decals stickers,3.0,29/12/2015,8098.0\\nP-7115,B-3078,footwear,women s footwear,casual shoes,1.7,1/12/2014,1321.0\\nP-8226,B-3078,clothing,women s clothing,western wear,4.8,12/12/2018,194.0\\nP-9948,B-2605,home furnishing,bed linen,blankets quilts dohars,2.7,12/12/2019,841.0\\nP-5510,B-1466,jewellery,necklaces chains,necklaces,3.3,1/12/2016,199.0\\nP-117,B-30,jewellery,necklaces chains,necklaces,2.0,1/12/2013,797.0\\nP-10491,B-2743,clothing,kids clothing,boys wear,1.8,21/4/2018,438.0\\nP-820,B-133,automotive,accessories spare parts,car interior exterior,2.8,1/12/2019,1598.0\\nP-12261,B-3269,mobiles accessories,mobile accessories,chargers,1.9,25/3/2017,263.0\\nP-3123,B-805,home furnishing,bed linen,blankets quilts dohars,5.0,12/12/2019,998.0\\nP-6079,B-1598,kitchen dining,tableware cutlery,tableware,2.0,11/3/2015,221.0\\nP-9104,B-2332,jewellery,rings,unknown,3.1,7/1/2014,27851.0\\nP-5508,B-1466,jewellery,necklaces chains,necklaces,3.6,1/12/2017,249.0\\nP-3147,B-810,tools hardware,tools,gardening tools,1.6,7/1/2020,898.0\\nP-1138,B-2372,clothing,women s clothing,western wear,1.7,30/12/2013,296.0\\nP-4259,B-1105,jewellery,bangles bracelets armlets,bracelets,3.2,20/12/2017,446.0\\nP-10956,B-2902,clothing,men s clothing,accessories combo sets,1.8,3/6/2016,311.0\\nP-389,B-88,mobiles accessories,mobile accessories,car accessories,3.8,3/3/2018,164.0\\nP-9499,B-3078,clothing,women s clothing,winter seasonal wear,3.2,3/12/2014,2591.0\\nP-12047,B-3215,home decor festive needs,wall decor clocks,paintings,2.3,31/12/2012,1742.0\\nP-10715,B-2821,tools hardware,tools,gardening tools,1.4,7/1/2014,594.0\\nP-7691,B-3078,clothing,men s clothing,t shirts,4.2,13/12/2012,336.0\\nP-3076,B-793,furniture,living room,sofas sectionals,5.0,31/12/2016,31590.0\\nP-6141,B-2373,clothing,women s clothing,western wear,4.4,30/12/2013,446.0\\nP-1142,B-2372,clothing,women s clothing,western wear,4.3,30/12/2019,295.0\\nP-9211,B-2370,computers,laptop accessories,batteries,3.7,7/1/2015,2499.0\\nP-1228,B-199,clothing,kids clothing,girls wear,3.1,23/6/2017,294.0\\nP-6791,B-3078,clothing,women s clothing,western wear,1.5,1/12/2018,981.0\\nP-1886,B-405,jewellery,rings,unknown,4.8,1/1/2014,28821.0\\nP-4573,B-3078,clothing,kids clothing,girls wear,1.6,6/1/2013,1489.0\\nP-6297,B-1645,computers,laptop accessories,batteries,4.3,7/1/2016,1695.0\\nP-2187,B-502,mobiles accessories,mobile accessories,mobile body panels,4.7,20/6/2018,539.0\\nP-10897,B-2892,baby care,infant wear,baby boys clothes,4.4,21/6/2018,429.0\\nP-11220,B-2372,clothing,women s clothing,western wear,1.3,30/12/2012,367.0\\nP-2817,B-730,jewellery,necklaces chains,necklaces,4.5,10/3/2019,682.0\\nP-11486,B-3070,home decor festive needs,showpieces,ethnic,4.5,1/12/2018,490.0\\nP-6639,B-1741,kitchen dining,dinnerware crockery,cups saucers,1.5,14/6/2017,817.0\\nP-1739,B-368,cameras accessories,camera accessories,lens hoods,4.0,24/4/2013,5572.0\\nP-5453,B-1448,mobiles accessories,tablet accessories,cases covers,1.2,31/12/2017,445.0\\nP-2283,B-3078,toys school supplies,school supplies,geometry pencil boxes,1.3,1/12/2012,174.0\\nP-3203,B-3078,watches,wrist watches,elantra wrist watches,4.5,4/12/2018,941.0\\nP-1959,B-3078,clothing,women s clothing,western wear,4.0,1/1/2014,576.0\\nP-11519,B-3078,clothing,women s clothing,winter seasonal wear,3.0,6/1/2020,1616.0\\nP-1672,B-3078,clothing,kids clothing,girls wear,4.7,7/1/2019,697.0\\nP-2909,B-748,jewellery,bangles bracelets armlets,bracelets,2.1,20/12/2018,391.0\\nP-3927,B-3078,clothing,women s clothing,western wear,4.6,7/1/2019,290.0\\nP-10960,B-2904,watches,wrist watches,texus wrist watches,4.2,24/4/2016,354.0\\nP-6325,B-3078,clothing,women s clothing,western wear,3.9,7/1/2017,535.0\\nP-10783,B-2852,mobiles accessories,mobile accessories,cables,5.0,12/12/2015,593.0\\nP-3247,B-3078,beauty and personal care,fragrances,deodorants,3.5,1/12/2019,299.0\\nP-1282,B-211,arial morris women flats,unknown,unknown,4.3,24/4/2016,496.0\\nP-4491,B-1188,home decor festive needs,wall decor clocks,wall decals stickers,3.6,7/3/2017,238.0\\nP-5981,B-1569,mobiles accessories,mobile accessories,mobile pouches,1.4,5/3/2019,450.0\\nP-12139,B-3078,beauty and personal care,fragrances,deodorants,4.3,1/12/2014,353.0\\nP-6613,B-1820,clothing,women s clothing,lingerie sleep swimwear,4.2,7/1/2014,422.0\\nP-948,B-133,automotive,accessories spare parts,car interior exterior,2.7,1/12/2019,1372.0\\nP-3554,B-3078,clothing,women s clothing,western wear,3.4,6/1/2015,443.0\\nP-3626,B-938,jewellery,necklaces chains,necklaces,1.5,1/12/2016,495.0\\nP-2169,B-3078,footwear,women s footwear,casual shoes,5.0,4/12/2015,2289.0\\nP-7837,B-3078,clothing,women s clothing,accessories,4.6,1/1/2016,498.0\\nP-9166,B-2679,clothing,men s clothing,jeans,3.9,12/12/2014,3889.0\\nP-4587,B-1215,sunglasses,hh aviator sunglasses,unknown,2.3,10/6/2017,339.0\\nP-1452,B-258,mobiles accessories,mobile accessories,headphones,3.4,11/3/2013,116289.0\\nP-12229,B-3078,clothing,men s clothing,t shirts,4.5,15/12/2017,687.0\\nP-8982,B-2307,jewellery,rings,unknown,3.0,1/1/2017,37947.0\\nP-2304,B-545,baby care,infant wear,baby girls clothes,4.9,7/6/2013,792.0\\nP-10061,B-2650,clothing,women s clothing,ethnic wear,3.1,3/3/2016,1599.0\\nP-3627,B-939,footwear,women s footwear,casual shoes,3.8,2/4/2014,492.0\\nP-11987,B-3199,jewellery,necklaces chains,necklaces,3.1,1/12/2019,143.0\\nP-12440,B-3311,jewellery,necklaces chains,necklaces,2.1,1/12/2019,243.0\\nP-12020,B-3208,clothing,men s clothing,inner wear sleep wear,3.6,10/5/2020,588.0\\nP-7590,B-3078,clothing,women s clothing,western wear,4.5,1/1/2020,471.0\\nP-10925,B-2895,computers,network components,routers,4.8,1/12/2014,1397.0\\nP-6873,B-3078,watches,wrist watches,maxima wrist watches,5.0,7/1/2017,948.0\\nP-4855,B-1276,computers,computer peripherals,cpu,1.5,26/5/2018,6986.0\\nP-9318,B-3078,clothing,women s clothing,winter seasonal wear,4.3,20/12/2013,899.0\\nP-3000,B-768,toys school supplies,action figures,doctor who action figures,4.2,3/3/2016,4527.0\\nP-9636,B-3078,footwear,women s footwear,wedges,2.5,29/12/2012,392.0\\nP-3886,B-1000,clothing,women s clothing,western wear,3.7,12/5/2017,616.0\\nP-9998,B-3078,clothing,women s clothing,western wear,4.4,31/12/2017,1047.0\\nP-7288,B-3078,footwear,women s footwear,wedges,3.1,12/12/2015,952.0\\nP-7559,B-2372,clothing,women s clothing,western wear,1.1,30/12/2019,485.0\\nP-9618,B-2281,clothing,women s clothing,lingerie sleep swimwear,3.8,7/1/2013,545.0\\nP-9727,B-3078,beauty and personal care,body and skin care,face care,4.0,31/12/2015,1214.0\\nP-4885,B-1290,mobiles accessories,tablet accessories,cases covers,2.6,31/12/2014,348.0\\nP-713,B-133,automotive,accessories spare parts,car interior exterior,2.9,1/12/2017,1593.0\\nP-3043,B-786,jewellery,bangles bracelets armlets,bracelets,3.9,20/12/2018,353.0\\nP-10002,B-2622,clothing,women s clothing,ethnic wear,3.5,13/6/2016,948.0\\nP-9821,B-2565,clothing,kids clothing,boys wear,4.5,16/6/2020,875.0\\nP-3717,B-949,feet flow women flats,unknown,unknown,3.2,10/5/2018,1395.0\\nP-1997,B-430,clothing,women s clothing,fusion wear,1.2,1/6/2020,745.0\\nP-7503,B-2008,footwear,women s footwear,ballerinas,4.0,23/4/2014,293.0\\nP-2411,B-2281,clothing,women s clothing,lingerie sleep swimwear,3.2,7/1/2019,289.0\\nP-10290,B-2715,sonaxo men running shoes,unknown,unknown,2.8,2/4/2019,968.0\\nP-4033,B-1039,kitchen dining,coffee mugs,g g coffee mugs,1.2,23/3/2013,189.0\\nP-3955,B-1019,clothing,kids clothing,boys wear,1.9,28/4/2018,291.0\\nP-11643,B-3123,jewellery,bangles bracelets armlets,bangles,3.3,30/12/2013,398.0\\nP-7654,B-2044,kitchen dining,kitchen tools,kitchen implements,3.6,1/12/2013,699.0\\nP-11446,B-3051,bags wallets belts,wallets clutches,travel document holders card holders,4.8,14/6/2017,492.0\\nP-3324,B-860,jewellery,bangles bracelets armlets,bracelets,4.3,4/1/2018,91.0\\nP-8310,B-2183,furniture,pet furniture,unknown,3.6,29/12/2019,1596.0\\nP-3018,B-3078,footwear,men s footwear,casual shoes,4.6,12/12/2018,397.0\\nP-7586,B-2028,jewellery,rings,unknown,1.7,6/1/2013,17428.0\\nP-4884,B-1289,home entertainment,home audio,speakers,3.7,3/3/2018,290.0\\nP-317,B-86,jewellery,necklaces chains,necklaces,1.2,1/12/2018,819.0\\nP-9307,B-3231,clothing,women s clothing,lingerie sleep swimwear,3.9,7/1/2017,247.0\\nP-5750,B-1517,jewellery,rings,unknown,2.9,6/1/2016,35688.0\\nP-6542,B-3078,baby care,baby grooming,baby grooming combos,2.9,3/1/2015,2942.0\\nP-6137,B-1621,clothing,men s clothing,inner wear sleep wear,3.4,21/6/2019,347.0\\nP-8824,B-2679,clothing,kids clothing,boys wear,2.6,12/12/2017,841.0\\nP-5215,B-1384,home furnishing,living room furnishing,diwan sets,2.4,20/6/2013,1745.0\\nP-414,B-3078,beauty and personal care,fragrances,deodorants,4.9,1/12/2018,159.0\\nP-2329,B-3078,beauty and personal care,fragrances,deodorants,2.5,1/12/2018,513.0\\nP-4221,B-1087,kitchen dining,bar glassware,bar glasses,1.5,16/4/2013,796.0\\nP-9897,B-3078,pens stationery,school supplies,geometry pen pencil boxes,1.6,1/12/2014,240.0\\nP-12041,B-3215,baby care,baby kids gifts,stickers,1.0,1/12/2018,1424.0\\nP-5634,B-1502,clothing,women s clothing,fusion wear,1.9,6/4/2015,1097.0\\nP-7644,B-3078,clothing,men s clothing,t shirts,3.5,13/12/2014,589.0\\nP-1323,B-219,home furnishing,curtains accessories,curtains,4.8,3/3/2017,596.0\\nP-1877,B-405,jewellery,rings,unknown,4.5,6/1/2014,22637.0\\nP-6157,B-3078,footwear,women s footwear,casual shoes,4.5,1/12/2018,793.0\\nP-5836,B-1525,mobiles accessories,tablet accessories,cases covers,3.4,1/1/2016,640.0\\nP-3602,B-931,jewellery,accessories,brooches,3.6,28/2/2013,216.0\\nP-8264,B-3078,watches,wrist watches,perucci wrist watches,4.8,12/12/2019,390.0\\nP-11326,B-3000,clothing,women s clothing,lingerie sleep swimwear,4.2,23/4/2014,492.0\\nP-6783,B-1803,home furnishing,bath linen,towels,4.8,12/12/2018,599.0\\nP-9004,B-2307,jewellery,rings,unknown,3.5,1/1/2020,34025.0\\nP-3149,B-810,tools hardware,tools,gardening tools,4.7,7/1/2018,1399.0\\nP-515,B-2373,clothing,women s clothing,western wear,3.4,30/12/2012,310.0\\nP-8048,B-3078,clothing,women s clothing,western wear,1.1,6/1/2015,1997.0\\nP-3132,B-810,tools hardware,tools,gardening tools,3.5,7/1/2019,789.0\\nP-5888,B-1543,jewellery,bangles bracelets armlets,bracelets,1.8,20/12/2012,241.0\\nP-11400,B-3032,pens stationery,office supplies,tucasa office supplies,1.8,2/3/2019,957.0\\nP-111,B-29,pens stationery,office supplies,files and folders,3.9,3/3/2016,424.0\\nP-9264,B-2390,beauty and personal care,makeup,face,1.3,3/3/2013,291.0\\nP-11089,B-378,clothing,women s clothing,lingerie sleep swimwear,1.6,7/1/2017,257.0\\nP-2325,B-3078,beauty and personal care,fragrances,deodorants,5.0,1/12/2018,335.0\\nP-7398,B-3078,pens stationery,college supplies,geometry pencil boxes,2.8,1/12/2015,490.0\\nP-9557,B-2475,home decor festive needs,festive decor,holi essentials,3.7,11/3/2015,889.0\\nP-1303,B-218,beauty and personal care,makeup,nails,3.5,20/5/2013,194.0\\nP-10740,B-2830,kitchen dining,cookware,pots pans,5.0,1/12/2014,295.0\\nP-11108,B-2201,clothing,women s clothing,lingerie sleep swimwear,1.3,7/1/2016,182.0\\nP-4553,B-1207,jewellery,necklaces chains,necklaces,2.4,1/12/2012,158.0\\nP-8453,B-3078,clothing,men s clothing,t shirts,4.8,12/12/2016,598.0\\nP-10685,B-2806,home decor festive needs,table decor handicrafts,decorative platters,2.8,4/1/2020,394.0\\nP-3514,B-909,home furnishing,curtains accessories,curtains,3.0,31/12/2016,442.0\\nP-3588,B-924,jewellery,necklaces chains,necklaces,3.2,1/12/2018,400.0\\nP-10034,B-2679,clothing,men s clothing,shirts,2.6,3/12/2012,591.0\\nP-8209,B-1157,clothing,women s clothing,lingerie sleep swimwear,2.6,7/1/2016,568.0\\nP-4470,B-1177,home decor festive needs,table decor handicrafts,showpieces,1.3,4/1/2014,642.0\\nP-2210,B-3078,clothing,women s clothing,western wear,3.0,7/1/2019,840.0\\nP-5092,B-3078,beauty and personal care,fragrances,deodorants,2.2,1/12/2018,346.0\\nP-3691,B-945,automotive,accessories spare parts,car bike lighting,4.4,11/3/2018,2108.0\\nP-101,B-23,clothing,men s clothing,accessories combo sets,4.1,18/4/2017,297.0\\nP-3103,B-797,mobiles accessories,mobile accessories,headphones,3.6,11/3/2017,3506.0\\nP-4275,B-3078,bags wallets belts,bags,hand bags,4.7,1/1/2018,391.0\\nP-6943,B-3078,clothing,women s clothing,western wear,4.4,12/12/2017,343.0\\nP-9838,B-3078,footwear,women s footwear,wedges,2.9,29/12/2019,597.0\\nP-2810,B-726,tools hardware,tools,gardening tools,4.8,7/1/2017,860.0\\nP-748,B-133,automotive,accessories spare parts,car interior exterior,4.9,1/12/2019,1593.0\\nP-9030,B-2312,toys school supplies,school supplies,umbrellas,2.5,3/3/2018,322.0\\nP-11342,B-3009,automotive,accessories spare parts,car bike styling,3.6,3/3/2013,2692.0\\nP-12212,B-3260,jewellery,necklaces chains,necklaces,4.1,1/12/2015,188.0\\nP-6221,B-1638,home decor festive needs,showpieces,ethnic,1.6,1/12/2015,5543.0\\nP-1491,B-274,baby care,baby bath skin,baby body wash,4.0,28/3/2013,1248.0\\nP-5271,B-1407,clothing,kids clothing,girls wear,2.1,11/3/2019,596.0\\nP-5368,B-1431,jewellery,rings,unknown,3.1,1/1/2020,25205.0\\nP-8447,B-2224,baby care,infant wear,baby girls clothes,1.9,16/3/2016,772.0\\nP-10188,B-2701,mobiles accessories,tablet accessories,cases covers,4.3,31/12/2019,256.0\\nP-9960,B-2607,clothing,women s clothing,formal wear,3.5,19/3/2016,797.0\\nP-4969,B-3078,clothing,women s clothing,western wear,4.7,1/12/2015,891.0\\nP-4466,B-1176,computers,laptop accessories,batteries,2.3,7/1/2014,1295.0\\nP-9041,B-2316,home furnishing,bed linen,blankets quilts dohars,1.6,1/1/2017,1498.0\\nP-5214,B-3078,clothing,women s clothing,western wear,4.4,1/12/2017,690.0\\nP-11164,B-3078,watches,wrist watches,timewel wrist watches,1.3,7/1/2016,848.0\\nP-1476,B-267,automotive,accessories spare parts,car bike lighting,3.9,24/4/2014,285.0\\nP-744,B-133,automotive,accessories spare parts,car interior exterior,1.3,1/12/2018,1591.0\\nP-2823,B-730,jewellery,necklaces chains,necklaces,4.0,10/3/2013,1687.0\\nP-8905,B-2305,jewellery,nose rings studs,radhesh creation crystal yellow gold plated bras,4.0,14/3/2020,391.0\\nP-205,B-57,home decor festive needs,showpieces,abhushan showpieces,3.7,1/1/2014,694.0\\nP-7927,B-2114,mobiles accessories,mobile accessories,earphone cable organizers,4.6,2/4/2015,493.0\\nP-11880,B-3078,clothing,men s clothing,t shirts,3.2,7/1/2020,495.0\\nP-1793,B-390,tools hardware,tools,gardening tools,5.0,7/1/2013,498.0\\nP-4560,B-3078,clothing,women s clothing,western wear,4.6,31/12/2017,345.0\\nP-3778,B-973,tools hardware,tools,gardening tools,4.2,7/1/2016,438.0\\nP-11433,B-2201,clothing,women s clothing,lingerie sleep swimwear,3.7,7/1/2016,439.0\\nP-6546,B-2372,clothing,men s clothing,shirts,1.5,3/12/2012,893.0\\nP-6075,B-1597,home improvement,lawn gardening,plants,2.1,7/1/2017,168.0\\nP-3658,B-3078,watches,wrist watches,fastrack wrist watches,4.0,7/1/2020,643.0\\nP-492,B-119,kitchen dining,coffee mugs,akup coffee mugs,2.2,20/3/2017,251.0\\nP-5751,B-1517,jewellery,rings,unknown,2.8,1/1/2014,18047.0\\nP-894,B-133,automotive,accessories spare parts,car interior exterior,1.3,1/12/2017,913.0\\nP-10437,B-2741,automotive,accessories spare parts,car interior exterior,1.8,21/4/2014,353.0\\nP-11718,B-3146,clothing,women s clothing,fusion wear,4.8,25/4/2014,993.0\\nP-7310,B-3078,clothing,kids clothing,girls wear,2.4,6/1/2020,961.0\\nP-7477,B-2001,clothing,women s clothing,ethnic wear,1.1,2/3/2014,1589.0\\nP-9283,B-3078,watches,wrist watches,ridas wrist watches,4.4,31/12/2017,298.0\\nP-9410,B-3078,sports fitness,other sports,skating,2.5,4/1/2017,4499.0\\nP-1095,B-165,pens stationery,office supplies,amy office supplies,2.7,29/12/2018,240.0\\nP-4669,B-1237,mobiles accessories,tablet accessories,cases covers,4.5,1/1/2017,1193.0\\nP-2549,B-634,watches,watch accessories,wrist bands,4.3,5/6/2016,143.0\\nP-5054,B-1333,clothing,women s clothing,western wear,4.8,3/3/2020,2307.0\\nP-3225,B-838,clothing,men s clothing,cargos shorts 3 4ths,4.8,27/5/2019,493.0\\nP-5690,B-1517,jewellery,rings,unknown,1.1,1/1/2013,27961.0\\nP-1933,B-410,mobiles accessories,tablet accessories,cases covers,2.3,7/1/2013,696.0\\nP-9963,B-2608,sports fitness,fitness accessories,mats,3.4,18/4/2014,425.0\\nP-6887,B-3078,watches,wrist watches,maxima wrist watches,3.6,7/1/2017,894.0\\nP-11244,B-2971,kitchen dining,cookware,pots pans,5.0,1/12/2018,301.0\\nP-2647,B-667,mobiles accessories,tablet accessories,cases covers,4.6,1/1/2015,1684.0\\nP-3462,B-2372,clothing,women s clothing,western wear,1.1,30/12/2014,411.0\\nP-7892,B-2102,clothing,women s clothing,formal wear,4.9,2/6/2018,906.0\\nP-6073,B-1596,automotive,car bike accessories,car interior exterior,4.3,22/6/2017,991.0\\nP-4703,B-1251,home furnishing,curtains accessories,curtains,4.9,31/12/2012,1331.0\\nP-3910,B-3078,clothing,women s clothing,western wear,2.4,1/1/2020,281.0\\nP-8821,B-2274,bags wallets belts,bags,hand bags,4.7,2/3/2013,3989.0\\nP-7429,B-1993,computers,network components,routers,5.0,1/12/2017,4243.0\\nP-10379,B-2741,automotive,accessories spare parts,spares performance parts,2.3,12/3/2019,586.0\\nP-10935,B-2895,computers,network components,routers,4.4,1/12/2013,1675.0\\nP-6758,B-1793,jewellery,rings,manirathnum ruby gemstone silver ring sterling s,1.1,28/3/2020,744.0\\nP-12150,B-3238,clothing,kids clothing,boys wear,2.9,2/4/2014,830.0\\nP-4168,B-3078,footwear,women s footwear,casual shoes,4.1,4/12/2015,491.0\\nP-5688,B-1517,jewellery,rings,unknown,1.7,1/1/2018,28960.0\\nP-3897,B-3078,beauty and personal care,fragrances,deodorants,5.0,1/12/2019,376.0\\nP-6109,B-1614,jewellery,bangles bracelets armlets,bangles,4.2,12/12/2013,331.0\\nP-5677,B-1517,jewellery,rings,unknown,2.3,1/1/2017,25297.0\\nP-9537,B-1154,clothing,women s clothing,lingerie sleep swimwear,3.1,7/1/2013,201.0\\nP-2066,B-3078,clothing,women s clothing,ethnic wear,1.3,1/12/2019,294.0\\nP-4558,B-3078,clothing,men s clothing,winter seasonal wear,2.8,29/12/2012,1296.0\\nP-490,B-119,kitchen dining,coffee mugs,akup coffee mugs,4.1,20/3/2019,249.0\\nP-4397,B-1145,sports fitness,fitness accessories,mats,1.2,18/4/2013,1062.0\\nP-11839,B-3185,home decor festive needs,wall decor clocks,paintings,4.5,31/12/2012,1939.0\\nP-7739,B-2059,mobiles accessories,mobile accessories,chargers,4.8,29/4/2017,345.0\\nP-1325,B-219,home furnishing,curtains accessories,curtains,2.3,3/3/2018,699.0\\nP-5675,B-1516,clothing,women s clothing,ethnic wear,4.7,13/6/2014,417.0\\nP-8265,B-3078,watches,wrist watches,perucci wrist watches,4.5,12/12/2015,491.0\\nP-4119,B-1065,jewellery,rings,unknown,3.7,7/1/2015,467.0\\nP-4315,B-1116,clothing,women s clothing,western wear,1.8,7/6/2016,823.0\\nP-6858,B-3078,watches,wrist watches,maxima wrist watches,2.2,7/1/2019,692.0\\nP-11174,B-3078,watches,wrist watches,timewel wrist watches,4.1,7/1/2015,760.0\\nP-10018,B-2632,mobiles accessories,mobile accessories,headphones,3.2,7/1/2017,244.0\\nP-7528,B-3078,beauty and personal care,fragrances,deodorants,1.4,1/12/2014,390.0\\nP-761,B-133,automotive,accessories spare parts,car interior exterior,4.3,1/12/2014,1590.0\\nP-3593,B-927,jewellery,bangles bracelets armlets,bracelets,4.6,4/1/2015,231.0\\nP-5866,B-1533,kitchen dining,kitchen tools,kitchen implements,1.2,1/12/2012,139.0\\nP-306,B-82,home furnishing,cushions pillows covers,cushion covers,1.4,7/3/2019,383.0\\nP-12258,B-3269,mobiles accessories,mobile accessories,chargers,2.3,25/3/2015,265.0\\nP-8620,B-3078,kitchen dining,coffee mugs,printland coffee mugs,4.2,1/12/2018,297.0\\nP-268,B-2679,clothing,women s clothing,western wear,2.1,30/12/2018,490.0\\nP-6751,B-1793,jewellery,rings,manirathnum manirathnum garnet gemstone silver r,1.7,28/3/2016,471.0\\nP-4151,B-1076,mobiles accessories,mobile accessories,cables,2.1,7/3/2019,193.0\\nP-8436,B-2355,clothing,women s clothing,lingerie sleep swimwear,4.4,7/1/2019,325.0\\nP-5359,B-1430,jewellery,rings,unknown,4.6,6/1/2017,9842.0\\nP-9680,B-2517,say uv sterilizer solid filter cartridge 0 pac,unknown,unknown,4.8,10/5/2017,397.0\\nP-5861,B-2372,clothing,men s clothing,shirts,5.0,6/12/2013,490.0\\nP-151,B-41,jewellery,necklaces chains,necklaces,3.5,1/12/2012,593.0\\nP-5055,B-1334,jewellery,necklaces chains,necklaces,2.8,1/12/2013,298.0\\nP-8469,B-3078,clothing,women s clothing,ethnic wear,4.2,29/12/2018,549.0\\nP-3827,B-985,cameras accessories,camera accessories,lens hoods,2.5,29/12/2017,4894.0\\nP-6446,B-3078,sports fitness,team sports,basketball,2.8,29/12/2012,2092.0\\nP-1745,B-372,automotive,accessories spare parts,spares performance parts,1.8,10/4/2016,1190.0\\nP-11856,B-3231,clothing,women s clothing,lingerie sleep swimwear,2.4,7/1/2014,292.0\\nP-921,B-133,automotive,accessories spare parts,car interior exterior,4.1,1/12/2013,919.0\\nP-2130,B-3078,clothing,women s clothing,western wear,3.4,30/12/2016,493.0\\nP-8630,B-3078,kitchen dining,coffee mugs,printland coffee mugs,3.7,1/12/2013,299.0\\nP-8163,B-3078,clothing,women s clothing,western wear,5.0,1/12/2019,828.0\\nP-3148,B-810,tools hardware,tools,gardening tools,2.4,7/1/2020,491.0\\nP-906,B-133,automotive,accessories spare parts,car interior exterior,3.9,1/12/2013,913.0\\nP-7674,B-3078,clothing,men s clothing,t shirts,3.8,13/12/2014,499.0\\nP-9673,B-2515,tools hardware,tools,tool accessories,4.2,29/12/2017,155.0\\nP-6414,B-1668,home improvement,electricals,switches accessories,2.0,1/12/2017,211.0\\nP-5583,B-1481,jewellery,bangles bracelets armlets,bracelets,3.8,4/1/2015,415.0\\nP-11671,B-3132,automotive,accessories spare parts,car interior exterior,2.0,25/3/2015,896.0\\nP-453,B-107,toys school supplies,learning educational toys,aimedu toy learning educational toys,2.3,24/5/2018,2843.0\\nP-6169,B-3078,clothing,women s clothing,western wear,1.1,1/12/2014,849.0\\nP-9013,B-2307,jewellery,rings,unknown,1.6,1/1/2019,27645.0\\nP-8331,B-2184,pet supplies,pet apparel,petto raincoat for dog cat grey green,4.5,5/3/2020,2648.0\\nP-2825,B-732,home kitchen,home appliances,lightings,5.0,11/3/2013,295.0\\nP-5152,B-3231,clothing,women s clothing,lingerie sleep swimwear,4.8,7/1/2018,291.0\\nP-873,B-133,automotive,accessories spare parts,car interior exterior,3.7,1/12/2013,920.0\\nP-11,B-1,automotive,accessories spare parts,car interior exterior,3.0,1/12/2016,1451.0\\nP-5105,B-2679,clothing,men s clothing,shirts,3.1,6/12/2019,993.0\\nP-6772,B-3078,footwear,women s footwear,casual shoes,2.6,12/12/2017,826.0\\nP-993,B-133,automotive,accessories spare parts,car interior exterior,2.6,1/12/2019,1378.0\\nP-4280,B-334,clothing,women s clothing,lingerie sleep swimwear,3.2,7/1/2013,425.0\\nP-8205,B-2679,clothing,men s clothing,shirts,1.9,12/12/2015,1497.0\\nP-6803,B-1811,home decor festive needs,showpieces,marwar showpieces,3.3,1/12/2012,5094.0\\nP-171,B-2679,clothing,women s clothing,western wear,2.1,30/12/2017,479.0\\nP-10256,B-3078,watches,wrist watches,sonata wrist watches,2.4,7/1/2016,990.0\\nP-8021,B-3078,beauty and personal care,combos and kits,oxyglow combos and kits,2.0,12/12/2014,467.0\\nP-10325,B-2731,footwear,kids infant footwear,for boys,1.8,2/4/2020,490.0\\nP-2469,B-598,home furnishing,bath linen,towels,3.3,20/12/2016,944.0\\nP-6341,B-1656,home decor festive needs,festive decor,rakhi,4.0,25/6/2017,346.0\\nP-2701,B-698,home decor festive needs,flowers plants vases,artificial plants,4.3,25/2/2017,505.0\\nP-11693,B-3139,jewellery,necklaces chains,necklaces,2.5,1/12/2016,394.0\\nP-2354,B-3078,toys school supplies,school supplies,geometry pencil boxes,1.7,1/12/2019,304.0\\nP-4720,B-1256,home decor festive needs,wall decor clocks,wall decals stickers,2.0,29/12/2017,8498.0\\nP-9881,B-3078,clothing,women s clothing,ethnic wear,2.1,29/12/2016,491.0\\nP-7677,B-3078,clothing,men s clothing,t shirts,4.2,13/12/2012,498.0\\nP-4208,B-1083,pens stationery,office supplies,office supplies accessories,3.9,24/2/2016,374.0\\nP-7026,B-3078,footwear,women s footwear,wedges,4.6,29/12/2013,1012.0\\nP-7547,B-2015,mobiles accessories,mobile accessories,screen protectors,5.0,12/12/2014,593.0\\nP-6314,B-1645,computers,laptop accessories,adapters,1.4,12/12/2018,943.0\\nP-10693,B-2807,jewellery,bangles bracelets armlets,bangles,2.6,30/12/2019,428.0\\nP-5631,B-1501,kalpaveda copper bowl gold pack of 1,unknown,unknown,3.6,10/5/2014,2395.0\\nP-7865,B-3078,clothing,men s clothing,t shirts,3.5,13/12/2019,643.0\\nP-4420,B-3078,clothing,women s clothing,sports gym wear,3.0,6/1/2016,494.0\\nP-7163,B-1912,bags wallets belts,bags,sling bags,2.2,20/6/2018,449.0\\nP-10416,B-2741,automotive,accessories spare parts,car bike styling,2.4,25/3/2015,976.0\\nP-9084,B-3078,clothing,men s clothing,winter seasonal wear,1.0,12/12/2018,1247.0\\nP-8851,B-334,clothing,women s clothing,lingerie sleep swimwear,5.0,7/1/2017,124.0\\nP-10803,B-2861,tadd men s women s ankle length socks,unknown,unknown,3.0,10/5/2017,194.0\\nP-8110,B-2141,footwear,women s footwear,heels,1.1,13/3/2018,1489.0\\nP-2809,B-725,kitchen dining,kitchen tools,kitchen implements,2.7,1/12/2019,489.0\\nP-12286,B-3274,automotive,accessories spare parts,spares performance parts,1.1,31/12/2014,1196.0\\nP-8288,B-1936,furniture,pet furniture,unknown,1.0,29/12/2017,1248.0\\nP-3042,B-3078,clothing,women s clothing,western wear,2.8,7/1/2019,356.0\\nP-12513,B-3342,clothing,men s clothing,shirts,2.8,26/6/2014,1047.0\\nP-166,B-3078,toys school supplies,school supplies,geometry pencil boxes,1.2,1/12/2017,420.0\\nP-4927,B-1300,jewellery,necklaces chains,necklaces,3.2,1/12/2013,446.0\\nP-6217,B-1635,clothing,women s clothing,ethnic wear,1.9,3/3/2018,1713.0\\nP-3963,B-1020,jewellery,rings,unknown,2.1,1/1/2019,26833.0\\nP-10058,B-2650,watches,wrist watches,sitaram wrist watches,4.3,24/4/2014,104.0\\nP-3597,B-929,jewellery,necklaces chains,necklaces,3.4,1/12/2013,401.0\\nP-1360,B-3078,beauty and personal care,makeup,vanity boxes,2.6,4/1/2013,1997.0\\nP-10090,B-3078,watches,wrist watches,skmei wrist watches,4.4,4/12/2019,1170.0\\nP-775,B-133,automotive,accessories spare parts,car interior exterior,3.1,1/12/2018,1591.0\\nP-9065,B-2323,home furnishing,cushions pillows covers,cushion covers,2.0,12/12/2016,871.0\\nP-7111,B-1894,mobiles accessories,mobile accessories,chargers,4.3,7/3/2015,324.0\\nP-7912,B-2111,furniture,kids room furniture,kids tables seating,3.0,3/3/2015,1989.0\\nP-895,B-133,automotive,accessories spare parts,car interior exterior,4.7,1/12/2018,918.0\\nP-1685,B-3078,beauty and personal care,fragrances,deodorants,4.5,1/12/2013,421.0\\nP-8358,B-2196,clothing,women s clothing,sports gym wear,3.9,10/5/2016,616.0\\nP-6637,B-3078,watches,wrist watches,luba wrist watches,4.0,12/12/2017,197.0\\nP-5773,B-1517,jewellery,rings,unknown,2.4,1/1/2014,29150.0\\nP-3716,B-3078,footwear,men s footwear,formal shoes,1.8,29/12/2019,551.0\\nP-3494,B-2372,clothing,women s clothing,western wear,3.4,30/12/2017,421.0\\nP-7146,B-1906,baby care,infant wear,baby girls clothes,1.5,3/3/2017,765.0\\nP-12127,B-3235,jewellery,accessories,brooches,4.6,28/2/2017,287.0\\nP-651,B-133,automotive,accessories spare parts,car interior exterior,5.0,1/12/2015,1590.0\\nP-5386,B-1432,jewellery,jewellery sets,unknown,2.1,1/1/2016,993.0\\nP-10937,B-2895,computers,network components,routers,5.0,1/12/2017,799.0\\nP-6185,B-3078,clothing,women s clothing,western wear,4.5,1/12/2019,820.0\\nP-7357,B-1973,kitchen dining,kitchen tools,kitchen implements,1.2,2/3/2019,596.0\\nP-11076,B-2940,threads pals full sleeve self design men s swe,unknown,unknown,2.9,19/4/2020,699.0\\nP-3271,B-850,mobiles accessories,tablet accessories,cases covers,2.5,1/1/2020,1489.0\\nP-11614,B-334,clothing,women s clothing,lingerie sleep swimwear,2.6,7/1/2013,171.0\\nP-647,B-133,automotive,accessories spare parts,car interior exterior,2.6,1/12/2016,1595.0\\nP-5713,B-1517,jewellery,rings,unknown,3.4,6/1/2017,40173.0\\nP-3745,B-3078,home decor festive needs,wall decor clocks,clocks,1.7,7/1/2013,1095.0\\nP-10727,B-2824,jewellery,rings,unknown,4.4,1/1/2014,39991.0\\nP-2696,B-696,mobiles accessories,mobile accessories,screen protectors,4.4,12/3/2020,244.0\\nP-10123,B-3078,toys school supplies,school supplies,geometry pencil boxes,3.0,1/12/2014,244.0\\nP-8919,B-2307,jewellery,rings,unknown,3.6,1/1/2019,37912.0\\nP-9659,B-3078,clothing,women s clothing,lingerie sleep swimwear,3.3,2/1/2016,692.0\\nP-770,B-133,automotive,accessories spare parts,car interior exterior,4.6,1/12/2015,1599.0\\nP-9766,B-2546,home decor festive needs,table decor handicrafts,decorative platters,2.5,4/1/2019,1099.0\\nP-6068,B-1594,kitchen dining,cookware,pots pans,2.7,7/1/2017,486.0\\nP-6340,B-1656,home decor festive needs,festive decor,rakhi,2.3,25/6/2014,531.0\\nP-6269,B-3078,watches,wrist watches,lamex timewear wrist watches,4.0,7/1/2018,789.0\\nP-9275,B-2394,jewellery,bangles bracelets armlets,bracelets,5.0,20/12/2018,649.0\\nP-6718,B-3078,footwear,women s footwear,casual shoes,1.5,4/12/2016,1893.0\\nP-3218,B-3078,clothing,men s clothing,elite neckties men s clothing,3.9,6/1/2020,399.0\\nP-5903,B-3078,clothing,women s clothing,ethnic wear,4.5,30/12/2018,467.0\\nP-570,B-133,automotive,accessories spare parts,car interior exterior,4.4,1/12/2019,1596.0\\nP-1814,B-3078,footwear,women s footwear,casual shoes,2.7,1/12/2018,695.0\\nP-2253,B-3078,footwear,women s footwear,wedges,1.9,29/12/2015,993.0\\nP-8156,B-3078,ebooks,science,physics,1.1,7/1/2016,3752.0\\nP-3592,B-926,jewellery,bangles bracelets armlets,bangles,3.1,30/12/2018,299.0\\nP-6690,B-3078,clothing,women s clothing,western wear,4.1,1/12/2019,991.0\\nP-2796,B-720,home decor festive needs,wall decor clocks,wall decals stickers,3.8,17/6/2015,343.0\\nP-76,B-11,jewellery,bangles bracelets armlets,bracelets,1.6,20/12/2013,2245.0\\nP-9686,B-2372,clothing,women s clothing,western wear,4.2,30/12/2017,495.0\\nP-2112,B-473,tools hardware,tools,gardening tools,1.7,7/1/2016,598.0\\nP-11393,B-3078,footwear,women s footwear,casual shoes,2.2,4/12/2016,2641.0\\nP-12431,B-3309,clothing,women s clothing,ethnic wear,1.8,30/4/2015,289.0\\nP-9852,B-2577,jewellery,bangles bracelets armlets,bangles,3.5,30/12/2018,498.0\\nP-1763,B-376,clothing,kids clothing,infants wear,4.6,6/5/2014,748.0\\nP-8910,B-2307,jewellery,rings,unknown,2.1,1/1/2018,31193.0\\nP-6818,B-3078,clothing,men s clothing,winter seasonal wear,3.0,20/12/2018,899.0\\nP-271,B-3078,footwear,women s footwear,wedges,4.6,7/1/2015,398.0\\nP-4509,B-1193,jewellery,necklaces chains,necklaces,2.1,1/12/2015,296.0\\nP-5296,B-1413,computers,computer peripherals,printers inks,3.5,3/1/2013,1497.0\\nP-4890,B-1292,mobiles accessories,tablet accessories,cases covers,1.1,1/1/2020,589.0\\nP-5570,B-1478,jewellery,necklaces chains,necklaces,2.5,1/12/2018,299.0\\nP-905,B-133,automotive,accessories spare parts,car interior exterior,4.5,1/12/2012,914.0\\nP-4053,B-1051,clothing,women s clothing,western wear,2.7,13/4/2014,1096.0\\nP-9950,B-2605,home decor festive needs,showpieces,shoppingtara showpieces,1.8,1/12/2014,546.0\\nP-2350,B-3078,footwear,women s footwear,flats,4.7,1/1/2019,1674.0\\nP-5479,B-1458,mobiles accessories,tablet accessories,cases covers,3.1,31/12/2017,277.0\\nP-3346,B-864,jewellery,necklaces chains,necklaces,3.0,1/12/2013,394.0\\nP-9999,B-3078,footwear,women s footwear,casual shoes,4.5,4/12/2019,1266.0\\nP-4915,B-3078,footwear,women s footwear,heels,4.2,7/1/2016,340.0\\nP-9971,B-2609,mobiles accessories,mobile accessories,speakers,1.7,20/5/2015,440.0\\nP-2033,B-443,pens stationery,pens,ball pens,4.0,2/4/2018,342.0\\nP-8646,B-3078,kitchen dining,coffee mugs,printland coffee mugs,1.4,1/12/2018,289.0\\nP-2425,B-3078,footwear,women s footwear,wedges,3.5,29/12/2016,986.0\\nP-7565,B-3078,clothing,men s clothing,t shirts,3.7,13/12/2015,593.0\\nP-11238,B-2968,gaming,gaming accessories,mousepads,3.8,17/6/2020,316.0\\nP-10986,B-2918,home decor festive needs,showpieces,the crystal jewel showpieces,3.4,1/12/2014,640.0\\nP-607,B-133,automotive,accessories spare parts,car interior exterior,4.7,1/12/2017,1596.0\\nP-10156,B-2695,computers,laptop accessories,adapters,4.1,11/3/2015,529.0\\nP-451,B-2372,clothing,women s clothing,western wear,2.7,30/12/2019,433.0\\nP-5358,B-1430,jewellery,rings,unknown,3.8,1/1/2015,22835.0\\nP-12376,B-3296,jewellery,bangles bracelets armlets,bangles,2.4,31/12/2012,699.0\\nP-2661,B-673,jewellery,bangles bracelets armlets,bangles,5.0,30/12/2013,295.0\\nP-5610,B-2679,clothing,women s clothing,western wear,3.0,30/12/2013,477.0\\nP-219,B-63,automotive,car bike accessories,car bike lighting,2.0,15/6/2017,947.0\\nP-12355,B-3285,computers,tablet accessories,cases covers,1.6,17/6/2019,493.0\\nP-4876,B-1287,computers,network components,routers,4.0,1/12/2016,1797.0\\nP-5217,B-1385,home furnishing,cushions pillows covers,cushion covers,2.3,20/12/2012,899.0\\nP-9741,B-3078,footwear,women s footwear,sports shoes,3.0,20/12/2019,447.0\\nP-5062,B-3078,footwear,women s footwear,casual shoes,4.0,1/12/2013,494.0\\nP-3501,B-3078,toys school supplies,school supplies,geometry pencil boxes,3.5,1/12/2018,211.0\\nP-6427,B-3078,watches,wrist watches,lenco wrist watches,4.6,4/12/2017,845.0\\nP-3961,B-1020,jewellery,rings,unknown,4.1,1/1/2020,32780.0\\nP-8116,B-2144,home decor festive needs,showpieces,paras showpieces,3.7,4/1/2017,906.0\\nP-1926,B-410,mobiles accessories,tablet accessories,cases covers,4.7,1/1/2015,1045.0\\nP-7804,B-679,clothing,women s clothing,lingerie sleep swimwear,2.6,7/1/2017,295.0\\nP-9584,B-3078,footwear,women s footwear,casual shoes,1.6,4/12/2013,3144.0\\nP-12196,B-3251,jewellery,necklaces chains,necklaces,1.8,1/12/2013,437.0\\nP-8765,B-1936,clothing,women s clothing,lingerie sleep swimwear,4.5,7/1/2019,489.0\\nP-9520,B-2462,beauty and personal care,combos and kits,rythmx combos and kits,1.8,2/6/2016,390.0\\nP-3373,B-877,clothing,women s clothing,western wear,2.4,2/4/2013,990.0\\nP-1200,B-187,clothing,women s clothing,western wear,5.0,12/6/2013,1025.0\\nP-8586,B-3078,kitchen dining,coffee mugs,printland coffee mugs,2.3,1/12/2013,192.0\\nP-12527,B-3078,footwear,men s footwear,casual shoes,4.2,29/12/2016,1289.0\\nP-9457,B-2443,clothing,kids clothing,girls wear,4.7,3/4/2013,545.0\\nP-9493,B-2453,baby care,baby bedding,baby bedsheets,3.3,10/5/2017,495.0\\nP-8390,B-2204,jewellery,earrings,unknown,1.9,12/12/2019,396.0\\nP-9310,B-2411,tools hardware,tools,gardening tools,3.5,7/1/2015,1594.0\\nP-3608,B-933,jewellery,necklaces chains,necklaces,1.8,1/12/2014,298.0\\nP-9215,B-2370,computers,laptop accessories,adapters,4.1,12/12/2015,699.0\\nP-2718,B-2372,clothing,women s clothing,western wear,5.0,30/12/2013,380.0\\nP-9875,B-2586,shonaya printed bhagalpuri art silk sari,unknown,unknown,2.7,11/5/2018,547.0\\nP-78,B-12,baby care,baby kids gifts,stickers,4.2,1/12/2012,593.0\\nP-244,B-71,jewellery,jewellery sets,unknown,3.7,1/1/2020,892.0\\nP-3704,B-947,jewellery,necklaces chains,necklaces,5.0,1/12/2012,470.0\\nP-1486,B-270,autoplus m ap15 arm sleeve black,unknown,unknown,2.6,5/4/2014,433.0\\nP-8083,B-2135,kitchen dining,palakz kitchen dining,palakz printed foldable storage stool multicolor,4.5,10/5/2015,389.0\\nP-3770,B-968,toys school supplies,school supplies,lunch boxes,2.7,28/3/2018,146.0\\nP-2582,B-649,jewellery,bangles bracelets armlets,bracelets,3.0,20/12/2012,489.0\\nP-1541,B-289,home decor festive needs,wall decor clocks,wall shelves,3.0,26/6/2016,838.0\\nP-2431,B-581,jewellery,bangles bracelets armlets,bangles,3.1,30/12/2016,339.0\\nP-6538,B-2679,clothing,women s clothing,western wear,3.4,30/12/2016,435.0\\nP-3547,B-2372,clothing,women s clothing,western wear,1.6,12/12/2014,396.0\\nP-5025,B-3078,clothing,women s clothing,western wear,3.0,1/12/2013,648.0\\nP-5082,B-1345,computers,laptop accessories,usb gadgets,2.4,29/12/2014,85.0\\nP-4965,B-1312,home decor festive needs,decorative lighting lamps,series lights,4.8,1/1/2014,312.0\\nP-8335,B-2185,clothing,women s clothing,western wear,3.1,12/6/2016,695.0\\nP-6585,B-3078,clothing,women s clothing,western wear,1.2,1/12/2015,992.0\\nP-10403,B-2741,automotive,accessories spare parts,car bike lighting,2.3,3/3/2015,499.0\\nP-325,B-3078,toys school supplies,remote control toys,adraxx remote control toys,1.0,1/1/2020,1191.0\\nP-10737,B-2828,beauty and personal care,health care,medical equipment accessories,3.1,3/3/2015,1641.0\\nP-1531,B-285,clothing,women s clothing,western wear,4.5,11/3/2018,749.0\\nP-1129,B-170,sports fitness,racquet sports,badminton,2.1,18/3/2020,341.0\\nP-10584,B-2770,clothing,men s clothing,sports wear,2.0,11/4/2018,1397.0\\nP-4390,B-1143,kitchen dining,kitchen tools,kitchen implements,3.1,1/12/2016,345.0\\nP-228,B-64,automotive,accessories spare parts,car interior exterior,2.2,1/12/2015,3390.0\\nP-9714,B-3078,clothing,men s clothing,winter seasonal wear,2.7,29/12/2013,746.0\\nP-427,B-97,jewellery,necklaces chains,necklaces,2.4,1/12/2015,862.0\\nP-702,B-133,automotive,accessories spare parts,car interior exterior,2.2,1/12/2013,1589.0\\nP-11538,B-3082,jewellery,necklaces chains,necklaces,4.9,1/12/2018,281.0\\nP-10900,B-3078,clothing,women s clothing,western wear,4.9,6/1/2018,489.0\\nP-5078,B-1342,tools hardware,tools,gardening tools,2.3,7/1/2015,571.0\\nP-3336,B-861,watches,wrist watches,esidon wrist watches,1.2,24/4/2013,444.0\\nP-9355,B-3078,kitchen dining,coffee mugs,rockmantra coffee mugs,3.9,1/12/2015,197.0\\nP-4374,B-3078,sports fitness,other sports,skating,1.5,1/12/2014,3490.0\\nP-7297,B-1947,home decor festive needs,decorative lighting lamps,series lights,2.0,1/1/2013,850.0\\nP-9843,B-3078,clothing,women s clothing,western wear,1.8,6/1/2016,799.0\\nP-11549,B-2201,clothing,women s clothing,lingerie sleep swimwear,1.8,7/1/2016,484.0\\nP-9567,B-2484,clothing,women s clothing,sports gym wear,3.0,3/3/2016,146.0\\nP-11264,B-2982,home decor festive needs,table decor handicrafts,table decor,3.8,1/1/2016,242.0\\nP-4660,B-1237,mobiles accessories,tablet accessories,cases covers,1.6,1/1/2020,1243.0\\nP-10902,B-3078,clothing,women s clothing,western wear,1.4,6/1/2015,597.0\\nP-8860,B-2288,computers,laptop accessories,usb gadgets,4.9,29/12/2019,128.0\\nP-9648,B-2508,home furnishing,bath linen,towels,5.0,20/12/2012,685.0\\nP-11845,B-3187,jewellery,bangles bracelets armlets,bangles,2.1,30/12/2016,891.0\\nP-3363,B-871,footwear,men s footwear,sports shoes,4.1,7/6/2015,296.0\\nP-4760,B-1260,jewellery,necklaces chains,necklaces,4.8,1/12/2016,424.0\\nP-796,B-133,automotive,accessories spare parts,car interior exterior,1.5,1/12/2012,1592.0\\nP-10164,B-2695,computers,laptop accessories,adapters,3.9,11/3/2014,538.0\\nP-7673,B-3078,clothing,men s clothing,t shirts,2.3,13/12/2013,396.0\\nP-4994,B-1315,jewellery,necklaces chains,necklaces,3.2,1/12/2016,464.0\\nP-12450,B-3314,clothing,women s clothing,western wear,3.0,24/4/2018,626.0\\nP-3154,B-812,clothing,men s clothing,shirts,4.1,12/3/2016,893.0\\nP-7671,B-3078,clothing,men s clothing,t shirts,3.7,13/12/2014,329.0\\nP-4324,B-1120,home decor festive needs,decorative lighting lamps,wall lamps,3.3,7/3/2016,3499.0\\nP-10532,B-3078,clothing,women s clothing,ethnic wear,3.5,30/12/2015,539.0\\nP-6148,B-3078,clothing,women s clothing,western wear,2.8,1/12/2014,743.0\\nP-3862,B-992,footwear,women s footwear,sports sandals,4.6,19/4/2018,640.0\\nP-7254,B-3078,beauty and personal care,combos and kits,mxofere combos and kits,3.3,12/12/2017,281.0\\nP-7090,B-1881,jewellery,accessories,brooches,1.6,19/5/2018,689.0\\nP-7327,B-1961,home furnishing,bed linen,blankets quilts dohars,3.4,1/1/2019,1396.0\\nP-10167,B-2695,computers,laptop accessories,adapters,1.9,11/3/2014,534.0\\nP-9509,B-3078,pens stationery,school supplies,geometry pen pencil boxes,4.4,1/12/2017,225.0\\nP-318,B-86,jewellery,necklaces chains,necklaces,4.9,1/12/2014,861.0\\nP-11714,B-3144,clothing,women s clothing,western wear,4.4,2/4/2017,2494.0\\nP-3402,B-879,jewellery,necklaces chains,necklaces,5.0,1/12/2013,240.0\\nP-1852,B-405,jewellery,rings,unknown,2.0,1/1/2015,35524.0\\nP-9799,B-2555,clothing,men s clothing,shirts,4.5,21/3/2016,997.0\\nP-11178,B-3078,watches,wrist watches,timewel wrist watches,4.4,7/1/2015,845.0\\nP-10673,B-3078,footwear,women s footwear,heels,4.9,1/12/2015,491.0\\nP-2798,B-720,home decor festive needs,wall decor clocks,wall decals stickers,1.1,31/12/2014,490.0\\nP-2089,B-465,pens stationery,art supplies,sketch paint markers,4.2,25/3/2020,347.0\\nP-11846,B-3187,jewellery,bangles bracelets armlets,bangles,3.4,30/12/2017,803.0\\nP-10006,B-2624,pet supplies,grooming,skin coat care,2.1,25/3/2018,90.0\\nP-11913,B-3197,jewellery,necklaces chains,necklaces,3.6,1/12/2015,292.0\\nP-3940,B-1018,baby care,infant wear,baby girls clothes,3.3,22/3/2014,899.0\\nP-3731,B-954,footwear,women s footwear,ballerinas,3.7,17/6/2015,495.0\\nP-9885,B-3078,clothing,women s clothing,ethnic wear,3.8,29/12/2018,398.0\\nP-5460,B-1452,jewellery,necklaces chains,necklaces,1.6,1/12/2014,341.0\\nP-5763,B-1517,jewellery,rings,unknown,1.3,1/1/2016,23483.0\\nP-1691,B-349,jewellery,jewellery sets,unknown,4.4,31/12/2014,346.0\\nP-9082,B-2326,jewellery,rings,unknown,3.2,1/1/2020,28579.0\\nP-5848,B-1526,footwear,women s footwear,heels,4.5,24/4/2020,1745.0\\nP-5268,B-1407,clothing,kids clothing,boys wear,3.6,26/5/2013,493.0\\nP-5330,B-1420,jewellery,necklaces chains,necklaces,1.0,1/12/2015,489.0\\nP-11425,B-3041,jewellery,necklaces chains,necklaces,5.0,1/12/2016,219.0\\nP-167,B-3078,toys school supplies,school supplies,geometry pencil boxes,4.4,1/12/2013,299.0\\nP-587,B-133,automotive,accessories spare parts,car interior exterior,1.1,1/12/2014,1589.0\\nP-2654,B-668,kitchen dining,cookware,pots pans,1.8,1/12/2014,952.0\\nP-9730,B-378,clothing,women s clothing,lingerie sleep swimwear,3.8,7/1/2020,390.0\\nP-7925,B-2114,mobiles accessories,mobile accessories,earphone cable organizers,2.0,2/4/2018,492.0\\nP-3451,B-896,sports fitness,outdoor adventure,camping hiking,1.6,25/2/2013,139.0\\nP-12312,B-3078,beauty and personal care,fragrances,deodorants,3.8,1/12/2015,269.0\\nP-5982,B-1569,mobiles accessories,mobile accessories,mobile pouches,2.4,5/3/2018,452.0\\nP-425,B-96,footwear,women s footwear,slippers flip flops,1.7,16/5/2015,696.0\\nP-432,B-98,health personal care appliances,personal care appliances,trimmers,2.5,1/1/2013,859.0\\nP-8977,B-2307,jewellery,rings,unknown,2.6,1/1/2015,27556.0\\nP-738,B-133,automotive,accessories spare parts,car interior exterior,4.0,1/12/2014,1597.0\\nP-9261,B-2679,clothing,men s clothing,shirts,5.0,3/12/2012,839.0\\nP-1045,B-143,clothing,women s clothing,lingerie sleep swimwear,2.8,2/4/2019,338.0\\nP-3598,B-929,jewellery,necklaces chains,necklaces,2.8,1/12/2018,349.0\\nP-4689,B-1245,beauty and personal care,body and skin care,body and skin accessories,1.8,2/4/2018,195.0\\nP-8619,B-3078,kitchen dining,coffee mugs,printland coffee mugs,2.2,1/12/2016,296.0\\nP-7354,B-3078,clothing,men s clothing,navaksha men s clothing,2.5,6/1/2014,748.0\\nP-6669,B-1754,jewellery,bangles bracelets armlets,bangles,1.9,30/12/2018,287.0\\nP-512,B-123,baby care,furniture furnishings,inflatable products,2.0,1/1/2019,594.0\\nP-1802,B-392,clothing,kids clothing,girls wear,1.8,10/5/2016,718.0\\nP-1792,B-390,tools hardware,tools,gardening tools,1.2,7/1/2015,993.0\\nP-6739,B-1788,baby care,baby bath skin,baby bath towels,4.0,31/12/2012,289.0\\nP-5962,B-3078,clothing,women s clothing,western wear,1.2,1/12/2016,699.0\\nP-3912,B-1009,clothing,men s clothing,ethnic wear,2.9,3/3/2017,896.0\\nP-6475,B-1695,clothing,kids clothing,girls wear,4.0,10/5/2020,1608.0\\nP-576,B-133,automotive,accessories spare parts,car interior exterior,3.0,1/12/2018,1599.0\\nP-10509,B-2748,furniture,bedroom furniture,mattresses,4.0,5/4/2018,20571.0\\nP-7437,B-1994,computers,network components,routers,2.4,1/12/2015,5249.0\\nP-8798,B-3078,pens stationery,college supplies,geometry pencil boxes,2.1,1/12/2013,297.0\\nP-8277,B-1936,furniture,pet furniture,unknown,1.0,29/12/2018,1244.0\\nP-7314,B-1954,automotive,accessories spare parts,helmets riding gear,3.2,24/4/2014,178.0\\nP-3894,B-1004,frabjous german silver rings for women alloy zir,unknown,unknown,2.1,3/4/2020,391.0\\nP-1532,B-3078,clothing,women s clothing,ethnic wear,1.4,1/12/2017,689.0\\nP-6825,B-1816,home improvement,home storage organization,laundry,1.8,21/6/2019,1575.0\\nP-9436,B-2428,clothing,men s clothing,accessories combo sets,4.4,24/6/2014,646.0\\nP-785,B-133,automotive,accessories spare parts,car interior exterior,3.2,1/12/2017,1591.0\\nP-1785,B-388,home furnishing,bed linen,blankets quilts dohars,2.3,1/1/2018,895.0\\nP-5919,B-3078,footwear,women s footwear,casual shoes,2.5,4/12/2016,2394.0\\nP-10255,B-3078,watches,wrist watches,sonata wrist watches,4.0,7/1/2013,791.0\\nP-9787,B-3078,clothing,women s clothing,western wear,3.5,7/1/2017,644.0\\nP-7863,B-3078,bags wallets belts,bags,backpacks,4.1,1/1/2018,329.0\\nP-5785,B-1518,home decor festive needs,table decor handicrafts,showpieces,3.0,4/1/2019,2296.0\\nP-8788,B-3078,footwear,men s footwear,casual shoes,5.0,29/12/2016,2292.0\\nP-11631,B-3078,clothing,women s clothing,western wear,1.4,7/1/2015,1669.0\\nP-10077,B-1936,clothing,women s clothing,lingerie sleep swimwear,3.5,7/1/2015,295.0\\nP-5070,B-3078,clothing,women s clothing,western wear,2.4,1/12/2014,831.0\\nP-8972,B-2307,jewellery,rings,unknown,1.8,1/1/2015,20575.0\\nP-8098,B-2139,toys school supplies,school supplies,school bags,3.6,19/4/2013,246.0\\nP-3564,B-920,jewellery,necklaces chains,necklaces,4.0,1/12/2017,238.0\\nP-6027,B-3078,footwear,men s footwear,casual shoes,1.3,29/12/2013,1945.0\\nP-9655,B-2510,clothing,women s clothing,western wear,3.6,24/4/2018,1790.0\\nP-9205,B-2370,computers,laptop accessories,adapters,3.0,12/12/2016,698.0\\nP-10626,B-2784,mobiles accessories,mobile accessories,cables,1.2,12/12/2017,298.0\\nP-4258,B-3078,footwear,men s footwear,casual shoes,2.2,29/12/2014,1998.0\\nP-7701,B-3078,beauty and personal care,fragrances,deodorants,1.0,1/12/2016,148.0\\nP-7941,B-3078,clothing,men s clothing,t shirts,1.3,13/12/2016,208.0\\nP-7230,B-3078,clothing,women s clothing,western wear,3.0,4/1/2015,1613.0\\nP-11797,B-3172,jewellery,nose rings studs,unknown,1.4,31/12/2016,647.0\\nP-8819,B-3078,clothing,men s clothing,accessories combo sets,2.7,31/12/2017,905.0\\nP-11875,B-3194,computers,network components,routers,5.0,1/12/2019,2697.0\\nP-3830,B-3078,clothing,women s clothing,ethnic wear,4.3,7/1/2017,444.0\\nP-9365,B-3078,kitchen dining,coffee mugs,rockmantra coffee mugs,4.6,1/12/2017,349.0\\nP-12441,B-3311,computers,laptop accessories,usb gadgets,1.2,29/12/2017,495.0\\nP-4897,B-1293,computers,laptop accessories,usb gadgets,1.6,29/12/2015,512.0\\nP-3185,B-3078,toys school supplies,school supplies,geometry pencil boxes,3.3,1/12/2018,76.0\\nP-4976,B-3078,clothing,women s clothing,western wear,4.1,1/12/2012,891.0\\nP-5639,B-3078,clothing,women s clothing,western wear,3.0,1/12/2017,791.0\\nP-11691,B-3138,home decor festive needs,garden leisure,hookah hookah flavors,5.0,26/3/2016,295.0\\nP-9149,B-2344,clothing,men s clothing,suits blazers,3.8,23/6/2020,1997.0\\nP-8935,B-2307,jewellery,rings,unknown,3.0,1/1/2017,15357.0\\nP-6982,B-1842,computers,laptop accessories,usb gadgets,1.9,29/12/2018,188.0\\nP-6806,B-1812,clothing,kids clothing,girls wear,4.6,12/6/2013,1595.0\\nP-11765,B-3164,clothing,women s clothing,ethnic wear,1.4,21/6/2019,940.0\\nP-10125,B-2690,mobiles accessories,mobile accessories,car accessories,1.9,1/12/2017,693.0\\nP-6490,B-3078,clothing,women s clothing,ethnic wear,3.1,7/1/2017,548.0\\nP-7207,B-1932,beauty and personal care,body and skin care,lip care,5.0,3/3/2020,349.0\\nP-10724,B-3078,clothing,kids clothing,boys wear,4.7,6/1/2020,825.0\\nP-1117,B-166,automotive,accessories spare parts,car electronics accessories,3.7,1/12/2014,1392.0\\nP-1827,B-405,jewellery,rings,unknown,3.3,1/1/2019,25371.0\\nP-12081,B-3220,jewellery,rings,unknown,1.7,7/1/2013,7191.0\\nP-3493,B-907,fabpoppy printed women s jumpsuit,unknown,unknown,2.8,25/4/2020,599.0\\nP-10732,B-2826,home decor festive needs,showpieces,ethnic,1.7,1/12/2019,4041.0\\nP-8322,B-2183,furniture,pet furniture,unknown,3.4,29/12/2016,1291.0\\nP-10222,B-2710,jewellery,bangles bracelets armlets,bangles,5.0,30/12/2013,994.0\\nP-7724,B-3078,clothing,women s clothing,fusion wear,2.7,12/12/2014,296.0\\nP-2462,B-593,footwear,kids infant footwear,for boys,2.0,10/5/2013,989.0\\nP-6527,B-3078,footwear,women s footwear,heels,3.8,7/1/2014,739.0\\nP-5305,B-1417,jewellery,necklaces chains,necklaces,4.2,1/12/2017,348.0\\nP-1207,B-191,jewellery,accessories,brooches,2.0,19/5/2016,269.0\\nP-8973,B-2307,jewellery,rings,unknown,1.6,1/1/2020,18213.0\\nP-8488,B-2679,clothing,men s clothing,jeans,1.1,12/12/2019,696.0\\nP-5,B-3078,footwear,women s footwear,wedges,4.6,29/12/2013,499.0\\nP-3045,B-786,jewellery,necklaces chains,necklaces,3.5,1/12/2016,268.0\\nP-10454,B-2741,automotive,accessories spare parts,spares performance parts,1.6,3/3/2017,308.0\\nP-7767,B-2066,automotive,accessories spare parts,spares performance parts,3.4,3/3/2019,832.0\\nP-2593,B-653,home decor festive needs,table decor handicrafts,showpieces,4.5,28/3/2020,289.0\\nP-2129,B-478,jewellery,jewellery sets,unknown,5.0,31/12/2012,294.0\\nP-3559,B-918,jewellery,necklaces chains,necklaces,2.8,1/12/2018,191.0\\nP-12325,B-3078,beauty and personal care,fragrances,deodorants,1.4,1/12/2017,274.0\\nP-1069,B-155,bags wallets belts,luggage travel,suitcases,4.5,3/3/2018,5636.0\\nP-782,B-133,automotive,accessories spare parts,car interior exterior,4.9,1/12/2014,1591.0\\nP-9202,B-2370,computers,laptop accessories,batteries,5.0,7/1/2020,1495.0\\nP-5649,B-3078,clothing,women s clothing,ethnic wear,4.2,1/12/2015,747.0\\nP-7548,B-3078,clothing,men s clothing,t shirts,2.8,13/12/2018,386.0\\nP-6603,B-1841,clothing,women s clothing,lingerie sleep swimwear,3.0,7/1/2018,325.0\\nP-12157,B-3078,clothing,men s clothing,t shirts,3.3,15/12/2017,258.0\\nP-12264,B-3269,mobiles accessories,mobile accessories,chargers,2.6,25/3/2016,267.0\\nP-1854,B-405,jewellery,rings,unknown,1.8,1/1/2017,30286.0\\nP-11039,B-2929,jewellery,bangles bracelets armlets,bangles,5.0,30/12/2019,490.0\\nP-190,B-49,jewellery,bangles bracelets armlets,bangles,4.3,30/12/2017,347.0\\nP-9528,B-2463,home decor festive needs,showpieces,s c handicrafts showpieces,2.7,1/12/2018,886.0\\nP-5355,B-1427,jewellery,bangles bracelets armlets,bangles,4.4,20/12/2017,797.0\\nP-6658,B-3078,clothing,women s clothing,western wear,4.5,3/12/2015,698.0\\nP-1919,B-408,home decor festive needs,wall decor clocks,wall shelves,1.2,7/6/2020,1729.0\\nP-10390,B-2741,automotive,accessories spare parts,spares performance parts,2.8,12/3/2018,584.0\\nP-10481,B-2741,automotive,accessories spare parts,spares performance parts,3.3,31/12/2012,272.0\\nP-7373,B-3078,clothing,women s clothing,western wear,3.1,12/12/2014,493.0\\nP-9938,B-2604,shopoj white paper sky lantern 80 cm x 34 cm p,unknown,unknown,1.5,18/4/2016,546.0\\nP-2259,B-523,clothing,women s clothing,maternity wear,1.7,26/5/2015,4039.0\\nP-4438,B-1169,jewellery,necklaces chains,necklaces,4.2,1/12/2018,248.0\\nP-11320,B-2998,computers,network components,routers,5.0,1/12/2014,1212.0\\nP-10457,B-2741,automotive,accessories spare parts,spares performance parts,2.4,31/12/2019,1113.0\\nP-8887,B-2301,jewellery,bangles bracelets armlets,bangles,2.3,12/12/2014,367.0\\nP-3821,B-3078,watches,wrist watches,fluid wrist watches,3.0,7/1/2016,897.0\\nP-2400,B-705,clothing,women s clothing,lingerie sleep swimwear,1.5,7/1/2017,244.0\\nP-11058,B-3078,clothing,women s clothing,western wear,3.0,30/12/2014,390.0\\nP-5185,B-1377,jewellery,rings,unknown,3.8,7/1/2015,13888.0\\nP-9244,B-3078,footwear,women s footwear,casual shoes,1.4,4/12/2012,1995.0\\nP-12284,B-3274,automotive,accessories spare parts,spares performance parts,3.5,31/12/2013,1089.0\\nP-5928,B-1559,killys men s solid no show socks,unknown,unknown,2.9,10/5/2017,502.0\\nP-12435,B-3311,jewellery,necklaces chains,necklaces,1.5,1/12/2015,298.0\\nP-529,B-3078,footwear,men s footwear,casual shoes,3.3,29/12/2016,1792.0\\nP-558,B-133,automotive,accessories spare parts,car interior exterior,4.2,1/12/2015,1593.0\\nP-10068,B-2657,sj barstel 56m 1000m binoculars 30 mm black,unknown,unknown,3.2,25/3/2019,6447.0\\nP-479,B-119,kitchen dining,coffee mugs,akup coffee mugs,1.1,20/3/2020,258.0\\nP-9561,B-2478,jewellery,bangles bracelets armlets,bracelets,1.5,20/12/2013,493.0\\nP-4188,B-1082,jewellery,necklaces chains,necklaces,3.6,1/12/2018,489.0\\nP-864,B-133,automotive,accessories spare parts,car interior exterior,3.1,1/12/2016,916.0\\nP-3343,B-863,clothing,women s clothing,western wear,4.6,3/3/2017,448.0\\nP-8004,B-3078,beauty and personal care,combos and kits,oxyglow combos and kits,3.6,12/12/2013,397.0\\nP-3488,B-3078,footwear,women s footwear,wedges,1.8,7/1/2016,479.0\\nP-8737,B-3078,kitchen dining,coffee mugs,prithish coffee mugs,4.5,1/12/2015,175.0\\nP-8805,B-3078,clothing,men s clothing,winter seasonal wear,3.2,7/1/2013,2691.0\\nP-3649,B-3078,watches,wrist watches,fastrack wrist watches,5.0,7/1/2019,887.0\\nP-1871,B-405,jewellery,rings,unknown,1.1,1/1/2016,25726.0\\nP-4161,B-3078,footwear,men s footwear,casual shoes,3.0,29/12/2018,1992.0\\nP-1465,B-2679,clothing,women s clothing,western wear,4.2,30/12/2015,326.0\\nP-3274,B-850,mobiles accessories,tablet accessories,cases covers,3.5,1/1/2020,1498.0\\nP-2960,B-755,jewellery,necklaces chains,necklaces,4.2,1/12/2019,490.0\\nP-5466,B-2679,clothing,men s clothing,shirts,1.1,6/12/2017,768.0\\nP-1295,B-3078,beauty and personal care,fragrances,deodorants,1.6,1/12/2014,395.0\\nP-199,B-54,clothing,women s clothing,ethnic wear,1.4,5/5/2017,995.0\\nP-9258,B-3078,kitchen dining,coffee mugs,returnfavors coffee mugs,2.2,1/12/2019,298.0\\nP-7982,B-3078,clothing,men s clothing,t shirts,4.1,13/12/2014,490.0\\nP-7915,B-2113,kitchen dining,lighting,bulbs,5.0,31/12/2012,203.0\\nP-9060,B-2322,home decor festive needs,showpieces,ethnic,4.9,1/12/2017,1789.0\\nP-5295,B-1154,furniture,pet furniture,unknown,2.4,29/12/2014,1294.0\\nP-3401,B-879,jewellery,necklaces chains,necklaces,3.9,1/12/2017,246.0\\nP-7961,B-3231,clothing,women s clothing,lingerie sleep swimwear,2.5,7/1/2019,261.0\\nP-11540,B-3082,jewellery,necklaces chains,necklaces,4.0,1/12/2015,493.0\\nP-239,B-68,mobiles accessories,mobile accessories,cables,3.1,31/12/2012,885.0\\nP-577,B-133,automotive,accessories spare parts,car interior exterior,1.1,1/12/2012,1591.0\\nP-5181,B-1376,home entertainment,audio players,home audio,2.4,1/12/2013,3787.0\\nP-2028,B-440,home decor festive needs,religion devotion,brass gift center religion devotion,4.0,26/6/2014,4544.0\\nP-7896,B-3078,beauty and personal care,body and skin care,face care,1.4,31/12/2016,450.0\\nP-1752,B-372,automotive,car bike accessories,car bike lighting,2.7,2/6/2013,244.0\\nP-12471,B-3078,clothing,kids clothing,boys wear,2.8,29/12/2014,450.0\\nP-4529,B-3078,clothing,women s clothing,fusion wear,3.8,7/1/2020,442.0\\nP-27,B-1,automotive,accessories spare parts,car interior exterior,2.6,1/12/2016,1489.0\\nP-8529,B-2247,prime printed 8 seater table cover multicolor,unknown,unknown,2.9,19/4/2019,793.0\\nP-2058,B-452,baby care,infant wear,baby girls clothes,1.5,16/6/2014,489.0\\nP-7203,B-3078,clothing,women s clothing,western wear,4.2,1/12/2017,904.0\\nP-11794,B-3171,footwear,men s footwear,casual shoes,2.0,7/3/2016,239.0\\nP-6216,B-1635,clothing,women s clothing,ethnic wear,2.1,3/3/2017,2084.0\\nP-56,B-4,computers,laptop accessories,batteries,4.3,7/1/2020,1349.0\\nP-2484,B-608,sports fitness,racquet sports,tennis,3.7,25/2/2018,210.0\\nP-6660,B-1753,pens stationery,college supplies,pens notebooks,2.8,29/4/2017,301.0\\nP-12028,B-3211,home decor festive needs,wall decor clocks,wall decals stickers,4.2,17/5/2014,241.0\\nP-11371,B-3020,jewellery,necklaces chains,necklaces,2.0,1/12/2014,349.0\\nP-3364,B-872,clothing,men s clothing,winter seasonal wear,3.9,20/5/2019,629.0\\nP-6030,B-3078,footwear,men s footwear,casual shoes,2.8,29/12/2017,1741.0\\nP-7480,B-2003,clothing,women s clothing,lingerie sleep swimwear,3.5,26/5/2017,249.0\\nP-5729,B-1517,jewellery,rings,unknown,4.0,6/1/2013,35055.0\\nP-10821,B-2866,home decor festive needs,wall decor clocks,posters,3.4,23/6/2014,693.0\\nP-2376,B-570,computers,laptop accessories,usb gadgets,3.2,29/12/2014,290.0\\nP-12126,B-3234,computers,network components,routers,3.2,1/12/2013,1341.0\\nP-1606,B-322,baby care,diapering potty training,changing tables,4.7,25/4/2018,1099.0\\nP-6488,B-1700,clothing,women s clothing,fusion wear,1.9,11/3/2015,691.0\\nP-8370,B-2200,computers,laptop accessories,anti dust plugs,3.8,4/1/2020,289.0\\nP-2665,B-3078,clothing,women s clothing,western wear,3.0,7/1/2014,981.0\\nP-8470,B-3078,footwear,men s footwear,casual shoes,2.3,12/12/2012,695.0\\nP-4293,B-2281,clothing,women s clothing,lingerie sleep swimwear,1.4,7/1/2015,394.0\\nP-12315,B-3078,beauty and personal care,fragrances,deodorants,1.4,1/12/2012,274.0\\nP-4568,B-3078,footwear,women s footwear,heels,4.0,7/1/2020,999.0\\nP-9273,B-3078,footwear,women s footwear,casual shoes,1.0,1/12/2014,1293.0\\nP-4933,B-1302,jewellery,bangles bracelets armlets,bangles,2.7,30/12/2015,196.0\\nP-12069,B-3220,jewellery,rings,unknown,1.3,6/1/2016,10224.0\\nP-6901,B-3078,watches,wrist watches,maxima wrist watches,4.1,7/1/2014,690.0\\nP-2145,B-485,health personal care appliances,health care,health care devices,3.8,18/4/2015,793.0\\nP-2410,B-573,clovia women s t shirt bra,unknown,unknown,3.7,10/5/2013,471.0\\nP-9892,B-2591,home furnishing,curtains accessories,curtains,3.1,31/12/2018,589.0\\nP-9763,B-2544,toys school supplies,action figures,sentinel action figures,2.0,3/3/2014,14657.0\\nP-1953,B-419,home furnishing,bed linen,bedsheets,3.9,5/3/2020,1489.0\\nP-2657,B-670,sunglasses,damemoda wayfarer sunglasses,unknown,4.7,10/6/2018,397.0\\nP-4979,B-1315,jewellery,necklaces chains,necklaces,2.0,1/12/2018,260.0\\nP-1395,B-247,computers,network components,routers,1.9,1/12/2015,1694.0\\nP-9450,B-2437,royal seal creations 40 st color silver zircon n,unknown,unknown,1.1,3/4/2017,649.0\\nP-417,B-3078,beauty and personal care,fragrances,deodorants,2.9,1/12/2013,159.0\\nP-11598,B-3108,jewellery,bangles bracelets armlets,bracelets,4.0,20/12/2014,416.0\\nP-7647,B-3078,clothing,men s clothing,t shirts,2.3,13/12/2017,689.0\\nP-10421,B-2741,automotive,accessories spare parts,car interior exterior,4.7,21/4/2020,353.0\\nP-1409,B-247,computers,network components,routers,4.2,1/12/2017,5595.0\\nP-6842,B-3078,watches,wrist watches,maxima wrist watches,4.4,7/1/2020,648.0\\nP-2988,B-3078,clothing,men s clothing,t shirts,2.3,7/1/2016,493.0\\nP-12090,B-3223,bags wallets belts,bags,backpacks,3.3,24/5/2016,994.0\\nP-9555,B-2473,computers,laptop accessories,mouse pads,2.7,12/5/2014,216.0\\nP-3081,B-793,furniture,living room,sofas sectionals,5.0,31/12/2015,47773.0\\nP-2316,B-552,jewellery,rings,unknown,4.8,7/1/2017,10507.0\\nP-4895,B-1293,computers,laptop accessories,usb gadgets,1.1,29/12/2012,546.0\\nP-7182,B-1920,sports fitness,outdoor adventure,camping hiking,4.0,28/2/2020,2096.0\\nP-12503,B-3078,clothing,women s clothing,western wear,4.0,7/1/2015,739.0\\nP-3534,B-3078,footwear,women s footwear,wedges,4.6,29/12/2012,1293.0\\nP-2621,B-662,computers,network components,routers,4.3,1/12/2013,2190.0\\nP-3774,B-970,home furnishing,floor coverings,firangi floor coverings,3.9,10/5/2013,799.0\\nP-1196,B-186,beauty and personal care,bath and spa,bath and spa accessories,2.1,13/4/2020,349.0\\nP-9341,B-3078,kitchen dining,coffee mugs,rockmantra coffee mugs,4.7,1/12/2019,192.0\\nP-3973,B-1020,jewellery,rings,unknown,3.4,1/1/2017,25851.0\\nP-2724,B-706,clothing,women s clothing,ethnic wear,3.7,3/3/2020,378.0\\nP-11877,B-3195,jewellery,necklaces chains,necklaces,1.5,1/12/2014,494.0\\nP-9615,B-1154,clothing,women s clothing,lingerie sleep swimwear,4.3,7/1/2018,494.0\\nP-2068,B-456,toys school supplies,school supplies,school bags,5.0,19/4/2019,492.0\\nP-10930,B-2895,computers,network components,routers,3.7,1/12/2018,3239.0\\nP-2412,B-574,clothing,women s clothing,western wear,2.3,7/6/2019,454.0\\nP-3895,B-1004,jewellery,earrings,unknown,3.0,12/12/2015,296.0\\nP-6750,B-1793,jewellery,rings,manirathnum manirathnum black star gemstone silv,4.5,28/3/2016,467.0\\nP-1420,B-250,automotive,accessories spare parts,car bike care,1.4,31/12/2017,144.0\\nP-9034,B-2314,home furnishing,bed linen,blankets quilts dohars,2.5,12/12/2012,911.0\\nP-3722,B-3078,clothing,women s clothing,western wear,3.7,7/1/2018,415.0\\nP-12401,B-3302,tools hardware,tools,gardening tools,4.0,7/1/2014,1796.0\\nP-153,B-41,jewellery,necklaces chains,necklaces,3.7,1/12/2018,994.0\\nP-249,B-72,home decor festive needs,showpieces,adaa showpieces,3.4,4/1/2018,2190.0\\nP-3475,B-3078,clothing,women s clothing,ethnic wear,3.0,31/12/2014,398.0\\nP-11252,B-2976,automotive,accessories spare parts,car bike care,4.0,6/5/2016,286.0\\nP-6811,B-2679,clothing,women s clothing,western wear,2.7,30/12/2012,467.0\\nP-12335,B-3078,clothing,women s clothing,western wear,3.7,6/1/2016,398.0\\nP-7049,B-3078,kitchen dining,containers bottles,bottles sippers,3.5,3/12/2015,247.0\\nP-1650,B-339,baby care,baby bedding,baby bedsheets,3.3,26/5/2015,312.0\\nP-2766,B-3078,beauty and personal care,fragrances,deodorants,1.8,1/12/2013,336.0\\nP-9074,B-2326,jewellery,rings,unknown,4.4,1/1/2016,26446.0\\nP-3570,B-920,jewellery,necklaces chains,necklaces,3.8,1/12/2019,191.0\\nP-9390,B-3078,kitchen dining,coffee mugs,rockmantra coffee mugs,2.2,1/12/2018,192.0\\nP-9247,B-2386,home furnishing,bed linen,blankets quilts dohars,1.4,25/2/2019,524.0\\nP-4642,B-3078,watches,wrist watches,hmt wrist watches,3.9,7/1/2014,523.0\\nP-6264,B-3078,footwear,women s footwear,flats,3.7,6/1/2019,779.0\\nP-5911,B-1556,jewellery,rings,unknown,3.9,6/1/2014,2170.0\\nP-8927,B-2307,jewellery,rings,unknown,1.8,1/1/2016,30759.0\\nP-5001,B-1316,jewellery,bangles bracelets armlets,bangles,2.6,26/3/2018,218.0\\nP-3930,B-2679,clothing,women s clothing,western wear,4.3,30/12/2019,494.0\\nP-7962,B-3078,clothing,men s clothing,t shirts,1.9,13/12/2015,489.0\\nP-2990,B-3078,footwear,women s footwear,casual shoes,1.2,1/12/2019,499.0\\nP-3005,B-770,clothing,women s clothing,dolz women s clothing,1.8,10/5/2016,595.0\\nP-5442,B-1444,cameras accessories,camera accessories,lens hoods,2.6,29/12/2018,1390.0\\nP-4728,B-1260,jewellery,necklaces chains,necklaces,4.0,1/12/2016,488.0\\nP-5842,B-2679,clothing,women s clothing,western wear,3.1,30/12/2015,494.0\\nP-4436,B-1167,jewellery,necklaces chains,necklaces,2.1,1/12/2013,238.0\\nP-3411,B-879,jewellery,necklaces chains,necklaces,2.5,1/12/2019,189.0\\nP-6201,B-334,clothing,women s clothing,lingerie sleep swimwear,5.0,7/1/2017,519.0\\nP-5098,B-1349,baby care,furniture furnishings,inflatable products,1.0,20/12/2018,429.0\\nP-12372,B-3292,clothing,kids clothing,girls wear,1.8,26/5/2013,626.0\\nP-4265,B-1109,home decor festive needs,table decor handicrafts,showpieces,3.5,31/12/2014,496.0\\nP-2448,B-590,tools hardware,tools,gardening tools,3.4,7/1/2016,462.0\\nP-7581,B-2025,jewellery,bangles bracelets armlets,bracelets,2.1,29/12/2012,247.0\\nP-2334,B-3078,clothing,women s clothing,western wear,2.7,3/12/2018,692.0\\nP-8232,B-2373,clothing,women s clothing,western wear,2.0,30/12/2019,294.0\\nP-11131,B-2949,home decor festive needs,table decor handicrafts,showpieces,2.8,28/3/2014,3200.0\\nP-10214,B-3078,clothing,women s clothing,western wear,3.2,6/1/2016,702.0\\nP-11578,B-3095,jewellery,necklaces chains,necklaces,4.2,1/12/2013,241.0\\nP-10526,B-3078,footwear,women s footwear,casual shoes,4.8,1/12/2015,497.0\\nP-10419,B-2741,automotive,accessories spare parts,car interior exterior,1.6,21/4/2018,350.0\\nP-496,B-119,kitchen dining,coffee mugs,akup coffee mugs,3.8,20/3/2015,251.0\\nP-585,B-133,automotive,accessories spare parts,car interior exterior,1.3,1/12/2019,1590.0\\nP-5403,B-1442,jewellery,necklaces chains,necklaces,3.4,1/12/2017,299.0\\nP-12465,B-3322,jewellery,bangles bracelets armlets,bangles,4.2,31/12/2018,887.0\\nP-7662,B-2047,sports fitness,other sports,swimming,2.2,24/2/2018,192.0\\nP-7036,B-1859,mobiles accessories,tablet accessories,cases covers,1.6,1/1/2015,1293.0\\nP-10586,B-3231,clothing,women s clothing,lingerie sleep swimwear,3.1,7/1/2014,189.0\\nP-10187,B-2701,mobiles accessories,tablet accessories,cases covers,4.7,31/12/2016,251.0\\nP-6713,B-378,clothing,women s clothing,lingerie sleep swimwear,1.0,7/1/2017,246.0\\nP-9755,B-2541,home decor festive needs,table decor handicrafts,showpieces,4.7,31/12/2016,270.0\\nP-728,B-133,automotive,accessories spare parts,car interior exterior,3.2,1/12/2018,1591.0\\nP-5622,B-1496,jewellery,bangles bracelets armlets,bangles,2.4,30/12/2017,716.0\\nP-3326,B-860,jewellery,necklaces chains,necklaces,3.1,1/12/2016,249.0\\nP-6449,B-1680,libas printed women s anarkali kurta,unknown,unknown,4.7,5/4/2016,920.0\\nP-799,B-133,automotive,accessories spare parts,car interior exterior,1.4,1/12/2015,1344.0\\nP-1973,B-423,home entertainment,mp3 players ipods accessories,headphones,5.0,26/6/2015,291.0\\nP-3150,B-809,automotive,accessories spare parts,car electronics accessories,2.4,1/12/2014,190.0\\nP-649,B-133,automotive,accessories spare parts,car interior exterior,2.4,1/12/2015,1592.0\\nP-4044,B-3078,footwear,men s footwear,casual shoes,4.3,29/12/2018,1590.0\\nP-5097,B-1349,baby care,furniture furnishings,inflatable products,3.5,20/12/2013,431.0\\nP-10334,B-2733,home furnishing,bed linen,blankets quilts dohars,5.0,1/1/2020,1095.0\\nP-1058,B-151,home furnishing,bath linen,towels,4.2,20/12/2014,243.0\\nP-3089,B-793,furniture,living room,sofas sectionals,3.6,31/12/2015,70784.0\\nP-8759,B-3078,kitchen dining,coffee mugs,prithish coffee mugs,5.0,1/12/2014,219.0\\nP-1484,B-269,automotive,accessories spare parts,car interior exterior,1.6,7/1/2015,803.0\\nP-3737,B-3078,footwear,women s footwear,wedges,3.4,7/1/2013,491.0\\nP-6871,B-3078,watches,wrist watches,maxima wrist watches,2.0,7/1/2015,693.0\\nP-6541,B-1721,clothing,kids clothing,girls wear,3.8,2/4/2013,1490.0\\nP-6881,B-3078,watches,wrist watches,maxima wrist watches,4.5,7/1/2015,1158.0\\nP-4562,B-449,clothing,women s clothing,lingerie sleep swimwear,2.2,7/1/2020,495.0\\nP-7123,B-3078,clothing,women s clothing,western wear,2.0,1/12/2019,891.0\\nP-11092,B-378,clothing,women s clothing,lingerie sleep swimwear,3.7,7/1/2015,249.0\\nP-5191,B-1377,jewellery,rings,unknown,2.3,7/1/2015,13888.0\\nP-5384,B-1431,jewellery,rings,unknown,2.5,1/1/2014,27000.0\\nP-1625,B-330,home furnishing,bed linen,bedsheets,3.3,3/12/2017,1953.0\\nP-3512,B-909,home furnishing,curtains accessories,curtains,1.6,31/12/2019,490.0\\nP-842,B-133,automotive,accessories spare parts,car interior exterior,2.4,1/12/2012,1347.0\\nP-9330,B-2415,mobiles accessories,tablet accessories,cases covers,1.6,1/1/2020,1495.0\\nP-8884,B-2301,jewellery,bangles bracelets armlets,bangles,4.2,12/12/2018,350.0\\nP-10941,B-2895,computers,network components,routers,4.4,1/12/2013,2673.0\\nP-4138,B-3078,clothing,women s clothing,western wear,2.8,31/12/2017,393.0\\nP-5225,B-1389,home furnishing,bed linen,bedsheets,3.8,20/6/2015,277.0\\nP-1442,B-3078,ebooks,academic texts,medical,2.4,7/1/2020,7523.0\\nP-11187,B-3078,watches,wrist watches,timex wrist watches,3.7,29/12/2013,3121.0\\nP-9252,B-2388,clothing,kids clothing,girls wear,3.5,10/6/2014,795.0\\nP-3351,B-866,jewellery,necklaces chains,necklaces,3.2,1/12/2015,489.0\\nP-5206,B-1379,jewellery,necklaces chains,necklaces,2.4,1/12/2013,393.0\\nP-8465,B-2232,jewellery,necklaces chains,necklaces,2.3,10/3/2016,1498.0\\nP-9175,B-2358,footwear,kids infant footwear,for girls,1.3,14/3/2020,896.0\\nP-4443,B-1169,jewellery,necklaces chains,necklaces,3.1,1/12/2014,345.0\\nP-11374,B-3078,footwear,men s footwear,casual shoes,5.0,29/12/2017,1999.0\\nP-4517,B-2372,clothing,women s clothing,western wear,4.2,30/12/2014,479.0\\nP-5300,B-1416,jewellery,necklaces chains,necklaces,3.6,1/12/2013,396.0\\nP-10074,B-2658,jewellery,bangles bracelets armlets,bracelets,2.4,20/12/2015,596.0\\nP-9322,B-2372,clothing,women s clothing,western wear,4.7,30/12/2016,491.0\\nP-2556,B-639,home decor festive needs,wall decor clocks,wall decals stickers,1.0,31/12/2016,299.0\\nP-8333,B-3078,clothing,women s clothing,western wear,3.7,1/1/2014,497.0\\nP-6962,B-3078,clothing,women s clothing,western wear,4.1,1/12/2019,698.0\\nP-472,B-3078,clothing,women s clothing,western wear,4.3,1/1/2017,594.0\\nP-8911,B-2307,jewellery,rings,unknown,1.8,1/1/2019,27673.0\\nP-11046,B-2930,jewellery,earrings,unknown,1.6,12/12/2014,675.0\\nP-8430,B-1154,clothing,women s clothing,lingerie sleep swimwear,3.8,7/1/2016,399.0\\nP-7401,B-3078,toys school supplies,school supplies,geometry pencil boxes,3.8,1/12/2014,294.0\\nP-438,B-101,home improvement,lawn gardening,plants,4.6,7/1/2016,70.0\\nP-6680,B-3078,footwear,men s footwear,formal shoes,3.5,29/12/2017,593.0\\nP-10634,B-3078,clothing,women s clothing,lingerie sleep swimwear,4.8,12/12/2012,230.0\\nP-1205,B-191,jewellery,accessories,brooches,2.2,28/2/2018,492.0\\nP-992,B-133,automotive,accessories spare parts,car interior exterior,4.5,1/12/2018,1379.0\\nP-1319,B-219,home furnishing,curtains accessories,curtains,2.7,3/3/2013,491.0\\nP-3797,B-3078,watches,wrist watches,flippd wrist watches,4.0,7/1/2019,744.0\\nP-7757,B-3078,clothing,men s clothing,t shirts,2.3,13/12/2019,272.0\\nP-4456,B-1176,computers,laptop accessories,laptop adapters,3.8,10/6/2018,1793.0\\nP-3642,B-3078,watches,wrist watches,fastrack wrist watches,4.4,7/1/2019,747.0\\nP-4338,B-1128,jewellery,necklaces chains,necklaces,1.8,1/12/2012,294.0\\nP-5946,B-2679,clothing,women s clothing,western wear,5.0,30/12/2015,290.0\\nP-8219,B-2175,clothing,women s clothing,western wear,1.5,10/5/2018,897.0\\nP-4886,B-1291,jewellery,necklaces chains,necklaces,4.3,1/12/2015,296.0\\nP-3469,B-901,tools hardware,tools,hardware electricals,4.1,25/2/2017,1660.0\\nP-298,B-80,jewellery,bangles bracelets armlets,bangles,2.2,20/12/2014,596.0\\nP-12406,B-3302,tools hardware,tools,gardening tools,5.0,7/1/2015,3397.0\\nP-418,B-3078,beauty and personal care,fragrances,deodorants,3.4,1/12/2019,161.0\\nP-179,B-2680,clothing,women s clothing,western wear,4.4,30/12/2018,370.0\\nP-261,B-3078,clothing,women s clothing,western wear,1.2,7/1/2013,594.0\\nP-6139,B-3078,clothing,women s clothing,western wear,4.8,1/12/2012,689.0\\nP-11706,B-3078,clothing,women s clothing,western wear,1.8,7/1/2015,1691.0\\nP-3212,B-3078,beauty and personal care,makeup,lips,4.5,1/1/2013,177.0\\nP-10495,B-2745,clothing,women s clothing,winter seasonal wear,2.3,16/3/2016,590.0\\nP-2604,B-3078,clothing,kids clothing,girls wear,3.7,7/1/2017,1601.0\\nP-3423,B-885,clothing,women s clothing,western wear,4.8,12/5/2020,923.0\\nP-12191,B-2281,clothing,women s clothing,lingerie sleep swimwear,3.1,7/1/2014,313.0\\nP-9253,B-2389,automotive,accessories spare parts,automotive combo,2.4,1/12/2018,189.0\\nP-10716,B-2821,tools hardware,tools,gardening tools,3.4,7/1/2015,863.0\\nP-2569,B-645,footwear,kids infant footwear,for boys,3.9,17/6/2014,492.0\\nP-12331,B-3281,jewellery,pendants lockets,yellow chimes butterfly fairy alloy,1.4,2/5/2020,963.0\\nP-9112,B-3078,clothing,women s clothing,ethnic wear,2.0,12/12/2017,934.0\\nP-1720,B-359,jewellery,bangles bracelets armlets,bracelets,3.4,20/12/2015,198.0\\nP-8509,B-3078,toys school supplies,school supplies,school bags,2.8,12/12/2018,778.0\\nP-9411,B-3078,sports fitness,other sports,skating,2.6,1/12/2012,4640.0\\nP-474,B-3078,clothing,women s clothing,leggings jeggings,1.5,7/1/2020,519.0\\nP-4440,B-1169,jewellery,accessories,brooches,4.3,28/2/2013,388.0\\nP-4813,B-1269,clothing,men s clothing,inner wear sleep wear,3.7,16/6/2014,599.0\\nP-2699,B-697,jewellery,mangalsutras tanmaniyas,decon alloy mangalsutra,3.0,17/6/2015,299.0\\nP-7643,B-3078,clothing,men s clothing,t shirts,4.2,13/12/2016,775.0\\nP-5944,B-3078,clothing,men s clothing,winter seasonal wear,1.5,31/12/2012,796.0\\nP-615,B-133,automotive,accessories spare parts,car interior exterior,3.9,1/12/2017,1594.0\\nP-3518,B-2679,clothing,women s clothing,western wear,2.4,30/12/2017,447.0\\nP-9062,B-2323,home furnishing,cushions pillows covers,cushion covers,4.7,12/12/2019,981.0\\nP-12198,B-3251,jewellery,necklaces chains,necklaces,4.0,1/12/2015,474.0\\nP-8092,B-3078,clothing,kids clothing,infants wear,2.6,12/12/2015,264.0\\nP-11542,B-3082,jewellery,necklaces chains,necklaces,4.8,1/12/2014,421.0\\nP-1897,B-405,jewellery,rings,unknown,3.8,1/1/2019,25082.0\\nP-8862,B-3078,footwear,men s footwear,sports shoes,4.5,29/12/2018,1922.0\\nP-12252,B-3266,toys school supplies,action figures,x plus action figures,1.7,3/3/2018,3860.0\\nP-5195,B-1378,jewellery,necklaces chains,necklaces,2.0,1/12/2013,325.0\\nP-6489,B-3078,clothing,women s clothing,western wear,3.3,1/12/2016,989.0\\nP-3483,B-905,furniture,living room furniture,sofa beds futons,1.8,25/3/2018,22643.0\\nP-5538,B-2355,clothing,women s clothing,lingerie sleep swimwear,1.9,7/1/2014,387.0\\nP-4380,B-1141,baby care,strollers activity gear,strollers prams,3.1,11/3/2017,9367.0\\nP-691,B-133,automotive,accessories spare parts,car interior exterior,3.7,1/12/2014,1589.0\\nP-2293,B-680,clothing,women s clothing,lingerie sleep swimwear,2.2,7/1/2016,189.0\\nP-3551,B-916,clothing,men s clothing,t shirts,1.7,13/6/2013,540.0\\nP-1717,B-359,jewellery,bangles bracelets armlets,bracelets,2.0,4/1/2015,206.0\\nP-11279,B-2984,computers,network components,routers,4.1,1/12/2014,1749.0\\nP-12530,B-3078,footwear,men s footwear,formal shoes,3.3,29/12/2017,1193.0\\nP-2841,B-734,jewellery,necklaces chains,necklaces,3.3,1/12/2017,295.0\\nP-11659,B-3130,kitchen dining,cookware,steamers idli makers,4.3,22/3/2015,993.0\\nP-3699,B-947,jewellery,necklaces chains,necklaces,1.8,1/12/2017,477.0\\nP-6275,B-3078,clothing,women s clothing,western wear,1.3,30/12/2015,342.0\\nP-8180,B-2160,automotive,accessories spare parts,car interior exterior,2.7,14/12/2015,439.0\\nP-8366,B-2198,pens stationery,pens,roller ball pens,3.3,12/12/2012,717.0\\nP-8881,B-3078,watches,wrist watches,r s wrist watches,1.7,12/12/2019,241.0\\nP-4229,B-1092,clothing,kids clothing,infants wear,3.8,3/5/2015,417.0\\nP-9476,B-2449,jewellery,bangles bracelets armlets,bangles,3.8,29/12/2014,493.0\\nP-1477,B-267,automotive,accessories spare parts,car bike lighting,1.9,24/4/2014,286.0\\nP-6593,B-3231,clothing,women s clothing,lingerie sleep swimwear,3.2,7/1/2014,374.0\\nP-1913,B-405,jewellery,bangles bracelets armlets,bracelets,2.8,29/12/2017,25896.0\\nP-2342,B-557,jewellery,rings,unknown,3.4,6/1/2015,1874.0\\nP-9474,B-2448,jewellery,bangles bracelets armlets,bangles,4.0,31/12/2018,695.0\\nP-3843,B-3078,beauty and personal care,fragrances,deodorants,4.6,1/12/2018,280.0\\nP-8691,B-3078,kitchen dining,coffee mugs,prithish coffee mugs,4.0,1/12/2013,175.0\\nP-5457,B-1451,jewellery,necklaces chains,necklaces,1.7,1/12/2019,342.0\\nP-6319,B-1646,computers,network components,routers,3.9,1/12/2015,2085.0\\nP-3250,B-3078,beauty and personal care,fragrances,deodorants,1.1,1/12/2012,297.0\\nP-12535,B-3078,footwear,men s footwear,casual shoes,4.9,29/12/2013,1240.0\\nP-3892,B-1004,jewellery,necklaces chains,necklaces,3.8,1/12/2018,372.0\\nP-8248,B-2355,clothing,women s clothing,lingerie sleep swimwear,1.0,7/1/2015,411.0\\nP-5120,B-3078,clothing,women s clothing,western wear,5.0,1/12/2014,849.0\\nP-6516,B-3078,clothing,kids clothing,boys wear,1.3,12/12/2017,445.0\\nP-7121,B-3078,clothing,women s clothing,western wear,3.3,1/12/2012,989.0\\nP-10522,B-2753,furniture,general utility furniture,puja mandir temple,4.6,9/6/2017,791.0\\nP-5261,B-2679,clothing,women s clothing,western wear,4.5,30/12/2013,488.0\\nP-11834,B-3182,vishudh printed women s straight kurta,unknown,unknown,3.6,5/4/2020,498.0\\nP-7161,B-1911,clothing,men s clothing,winter seasonal wear,2.8,2/4/2018,959.0\\nP-3129,B-810,tools hardware,tools,gardening tools,4.4,7/1/2019,992.0\\nP-11162,B-3078,watches,wrist watches,timewel wrist watches,1.5,7/1/2013,785.0\\nP-7976,B-3078,clothing,men s clothing,t shirts,2.4,13/12/2016,546.0\\nP-7567,B-3078,clothing,men s clothing,t shirts,1.1,13/12/2016,415.0\\nP-5559,B-1478,jewellery,necklaces chains,necklaces,2.6,1/12/2016,236.0\\nP-12245,B-3078,toys school supplies,school supplies,geometry pencil boxes,3.1,1/12/2014,218.0\\nP-10095,B-2669,clothing,men s clothing,winter seasonal wear,2.1,20/5/2013,792.0\\nP-3606,B-932,clothing,women s clothing,ethnic wear,4.4,7/3/2014,2546.0\\nP-11353,B-3014,jewellery,earrings,unknown,4.9,12/12/2013,169.0\\nP-10326,B-2731,footwear,women s footwear,heels,3.0,20/6/2017,497.0\\nP-3532,B-3078,footwear,women s footwear,heels,4.1,31/12/2018,990.0\\nP-10402,B-2741,automotive,accessories spare parts,car bike styling,1.2,24/2/2013,1997.0\\nP-7273,B-3078,clothing,women s clothing,western wear,5.0,30/12/2018,296.0\\nP-10905,B-2373,clothing,women s clothing,western wear,4.9,30/12/2015,495.0\\nP-9524,B-2463,home decor festive needs,showpieces,s c handicrafts showpieces,3.7,1/12/2017,8896.0\\nP-5769,B-1517,jewellery,rings,unknown,4.5,6/1/2016,34220.0\\nP-2905,B-3078,watches,wrist watches,disney wrist watches,2.1,4/12/2019,891.0\\nP-5489,B-1461,beauty and personal care,makeup,face,4.8,15/6/2014,5812.0\\nP-303,B-80,jewellery,earrings,unknown,1.2,12/12/2015,274.0\\nP-484,B-119,kitchen dining,coffee mugs,akup coffee mugs,4.4,20/3/2019,259.0\\nP-11444,B-3051,bags wallets belts,wallets clutches,travel document holders card holders,4.6,14/6/2015,261.0\\nP-600,B-133,automotive,accessories spare parts,car interior exterior,2.8,1/12/2015,1590.0\\nP-12391,B-2355,clothing,women s clothing,lingerie sleep swimwear,1.0,7/1/2017,198.0\\nP-11701,B-3142,jewellery,jewellery sets,unknown,1.7,4/1/2014,640.0\\nP-1269,B-3078,footwear,men s footwear,casual shoes,1.8,29/12/2013,1734.0\\nP-723,B-133,automotive,accessories spare parts,car interior exterior,4.0,1/12/2013,1596.0\\nP-8135,B-3078,beauty and personal care,fragrances,deodorants,1.8,1/12/2014,314.0\\nP-3896,B-1004,jewellery,rings,frabjous sterling silver toe ring set,4.5,25/3/2014,589.0\\nP-10548,B-2761,kitchen dining,bar glassware,bar glasses,2.1,10/6/2019,1654.0\\nP-10791,B-3078,toys school supplies,remote control toys,syma remote control toys,1.3,1/1/2015,4197.0\\nP-9248,B-3078,clothing,women s clothing,western wear,2.2,7/1/2020,686.0\\nP-4222,B-1088,jewellery,necklaces chains,necklaces,4.0,1/12/2019,229.0\\nP-8146,B-3078,beauty and personal care,fragrances,deodorants,3.3,1/12/2013,270.0\\nP-3412,B-2372,clothing,women s clothing,western wear,3.2,30/12/2018,445.0\\nP-2107,B-3078,watches,wrist watches,calibro wrist watches,2.5,4/12/2016,691.0\\nP-4790,B-1264,computers,laptop accessories,batteries,2.9,7/1/2018,3688.0\\nP-12507,B-3340,jewellery,necklaces chains,necklaces,4.3,1/12/2012,497.0\\nP-8364,B-2198,pens stationery,pens,ball pens,1.7,12/12/2014,985.0\\nP-6327,B-3078,clothing,women s clothing,western wear,1.4,1/12/2016,788.0\\nP-11501,B-3078,bags wallets belts,bags,backpacks,4.1,1/1/2014,499.0\\nP-7690,B-3078,clothing,men s clothing,t shirts,4.1,13/12/2016,711.0\\nP-10221,B-2710,jewellery,bangles bracelets armlets,bangles,1.8,31/12/2018,589.0\\nP-9546,B-2469,clothing,kids clothing,girls wear,3.1,9/6/2013,1097.0\\nP-5741,B-1517,jewellery,rings,unknown,3.2,6/1/2019,38806.0\\nP-4206,B-3078,watches,wrist watches,gift island wrist watches,1.5,7/1/2018,699.0\\nP-4820,B-3078,clothing,women s clothing,western wear,3.1,4/1/2017,2272.0\\nP-4195,B-3078,watches,wrist watches,gift island wrist watches,4.5,7/1/2013,796.0\\nP-9957,B-2606,bags wallets belts,wallets clutches,clutches,4.5,2/6/2018,285.0\\nP-4656,B-1236,beauty and personal care,health care,health care devices,3.3,24/5/2018,5200.0\\nP-8181,B-2161,kitchen dining,cookware,pots pans,5.0,1/12/2014,389.0\\nP-11061,B-2933,mobiles accessories,tablet accessories,cases covers,2.8,20/12/2014,599.0\\nP-11982,B-3197,jewellery,necklaces chains,necklaces,2.2,1/12/2013,383.0\\nP-5124,B-2679,clothing,men s clothing,shirts,3.2,6/12/2015,392.0\\nP-1775,B-384,kitchen dining,cookware,pots pans,2.3,1/12/2016,1089.0\\nP-12474,B-3078,footwear,women s footwear,casual shoes,3.4,1/12/2015,495.0\\nP-8015,B-3078,beauty and personal care,combos and kits,oxyglow combos and kits,3.4,12/12/2012,658.0\\nP-3445,B-893,sunglasses,eye glass wayfarer sunglasses,unknown,2.4,24/6/2015,288.0\\nP-1249,B-205,computers,laptop accessories,batteries,4.0,7/1/2015,1489.0\\nP-223,B-64,automotive,accessories spare parts,car interior exterior,1.3,1/12/2013,3393.0\\nP-4487,B-1185,footwear,women s footwear,casual shoes,3.1,3/3/2019,368.0\\nP-8716,B-3078,kitchen dining,coffee mugs,prithish coffee mugs,2.5,1/12/2013,198.0\\nP-5706,B-1517,jewellery,rings,unknown,2.7,1/1/2018,24361.0\\nP-12124,B-3234,computers,network components,routers,3.7,1/12/2017,1191.0\\nP-6919,B-3078,clothing,women s clothing,western wear,3.7,1/12/2012,790.0\\nP-2474,B-2372,clothing,women s clothing,western wear,1.5,30/12/2017,369.0\\nP-9932,B-2604,home decor festive needs,decorative lighting lamps,lanterns,3.4,18/4/2015,693.0\\nP-11509,B-3078,bags wallets belts,bags,backpacks,4.4,1/1/2020,596.0\\nP-4972,B-3078,clothing,women s clothing,western wear,1.7,1/12/2015,997.0\\nP-9064,B-3078,clothing,women s clothing,ethnic wear,1.0,29/12/2018,854.0\\nP-1863,B-405,jewellery,rings,unknown,4.2,6/1/2013,15913.0\\nP-3168,B-817,home furnishing,cushions pillows covers,cushion covers,2.3,12/12/2012,400.0\\nP-7791,B-3078,clothing,men s clothing,t shirts,1.7,13/12/2018,294.0\\nP-6776,B-1801,clothing,men s clothing,shirts,1.9,12/3/2019,1191.0\\nP-2005,B-432,mobiles accessories,tablet accessories,cases covers,3.8,1/1/2014,1499.0\\nP-21,B-1,automotive,accessories spare parts,car interior exterior,4.2,1/12/2012,2750.0\\nP-5757,B-1517,jewellery,rings,unknown,2.2,1/1/2015,21409.0\\nP-10774,B-2845,clothing,men s clothing,accessories combo sets,4.1,21/6/2016,229.0\\nP-12230,B-3078,clothing,men s clothing,t shirts,4.8,15/12/2019,785.0\\nP-10339,B-2735,jewellery,earrings,unknown,2.2,12/12/2016,408.0\\nP-181,B-3078,clothing,women s clothing,ethnic wear,3.7,3/12/2017,496.0\\nP-125,B-30,jewellery,necklaces chains,necklaces,4.9,1/12/2018,796.0\\nP-3656,B-3078,watches,wrist watches,fastrack wrist watches,2.0,7/1/2013,643.0\\nP-10185,B-3078,clothing,men s clothing,t shirts,1.3,7/1/2019,594.0\\nP-5316,B-1417,jewellery,necklaces chains,necklaces,2.1,1/12/2017,321.0\\nP-2982,B-3078,beauty and personal care,body and skin care,hand care,2.0,1/12/2015,261.0\\nP-8160,B-2149,home decor festive needs,showpieces,parv collections showpieces,3.8,4/1/2020,730.0\\nP-2215,B-3078,footwear,women s footwear,heels,2.0,31/12/2015,789.0\\nP-983,B-133,automotive,accessories spare parts,car interior exterior,2.8,1/12/2017,1377.0\\nP-1722,B-359,jewellery,bangles bracelets armlets,bracelets,1.1,3/3/2020,397.0\\nP-6389,B-2679,clothing,men s clothing,shirts,2.0,6/12/2018,459.0\\nP-10370,B-2741,automotive,accessories spare parts,spares performance parts,4.1,12/3/2016,591.0\\nP-5089,B-1347,computers,computer components,processors,4.7,28/2/2015,4498.0\\nP-8100,B-2140,clothing,women s clothing,western wear,1.5,11/3/2019,497.0\\nP-11126,B-2946,beauty and personal care,hair care,conditioners,1.0,11/3/2015,2289.0\\nP-7999,B-2372,clothing,women s clothing,western wear,1.6,30/12/2013,366.0\\nP-10182,B-2700,tools hardware,tools,gardening tools,2.6,5/4/2016,359.0\\nP-10979,B-3078,clothing,women s clothing,western wear,2.3,6/1/2016,392.0\\nP-3106,B-799,e hiose girl s leggings pack of 6,unknown,unknown,4.1,28/4/2013,769.0\\nP-1025,B-3078,clothing,women s clothing,western wear,4.6,30/12/2016,371.0\\nP-7388,B-1986,footwear,women s footwear,sports sandals,2.6,11/3/2018,989.0\\nP-7783,B-2068,footwear,women s footwear,ballerinas,4.5,23/4/2019,1389.0\\nP-8665,B-2256,home furnishing,bath linen,towels,3.2,20/12/2014,272.0\\nP-4853,B-3078,clothing,women s clothing,western wear,4.1,30/12/2018,486.0\\nP-2721,B-3231,clothing,women s clothing,lingerie sleep swimwear,2.2,7/1/2019,235.0\\nP-10321,B-2729,jewellery,earrings,unknown,4.8,12/12/2017,392.0\\nP-9236,B-3078,footwear,women s footwear,wedges,3.8,7/1/2015,324.0\\nP-11349,B-3013,mobiles accessories,mobile accessories,screen protectors,2.7,12/3/2013,395.0\\nP-954,B-133,automotive,accessories spare parts,car interior exterior,4.7,1/12/2015,1372.0\\nP-5069,B-3078,clothing,women s clothing,western wear,4.4,1/12/2015,717.0\\nP-10362,B-2741,automotive,accessories spare parts,car bike lighting,1.6,5/4/2016,485.0\\nP-8075,B-2134,kitchen dining,cookware,pots pans,2.5,1/6/2013,459.0\\nP-10451,B-2741,automotive,accessories spare parts,spares performance parts,3.3,3/3/2020,310.0\\nP-9327,B-2415,mobiles accessories,tablet accessories,cases covers,4.0,1/1/2014,1747.0\\nP-8955,B-2307,jewellery,rings,unknown,4.6,1/1/2020,27814.0\\nP-3117,B-3078,bags wallets belts,bags,hand bags,3.6,12/12/2015,790.0\\nP-4621,B-1222,automotive,accessories spare parts,car bike lighting,1.7,12/4/2017,498.0\\nP-1643,B-2373,clothing,women s clothing,western wear,3.9,30/12/2016,303.0\\nP-8050,B-3078,clothing,women s clothing,western wear,5.0,6/1/2013,592.0\\nP-11613,B-378,clothing,women s clothing,lingerie sleep swimwear,3.2,7/1/2019,92.0\\nP-12564,B-3352,computers,network components,routers,4.4,1/12/2012,5250.0\\nP-8836,B-2283,home decor festive needs,showpieces,purpledip showpieces,4.5,1/12/2014,636.0\\nP-10606,B-3078,clothing,women s clothing,fusion wear,3.3,30/12/2017,542.0\\nP-161,B-41,jewellery,necklaces chains,necklaces,3.1,1/12/2018,996.0\\nP-8612,B-3078,kitchen dining,coffee mugs,printland coffee mugs,1.1,1/12/2018,294.0\\nP-6950,B-3078,clothing,women s clothing,western wear,2.0,30/12/2014,439.0\\nP-9072,B-2325,bags wallets belts,bags,hand bags,1.6,12/6/2015,495.0\\nP-11620,B-3118,home furnishing,bed linen,blankets quilts dohars,2.0,1/1/2014,799.0\\nP-7755,B-3078,clothing,men s clothing,t shirts,4.1,13/12/2018,348.0\\nP-8850,B-2330,clothing,women s clothing,lingerie sleep swimwear,1.2,7/1/2015,143.0\\nP-857,B-133,automotive,accessories spare parts,car interior exterior,1.7,1/12/2015,911.0\\nP-2755,B-3078,beauty and personal care,fragrances,deodorants,3.2,1/12/2012,332.0\\nP-6223,B-1638,home decor festive needs,showpieces,ethnic,3.2,1/12/2017,745.0\\nP-9144,B-2344,home furnishing,bed linen,blankets quilts dohars,2.5,12/12/2012,4394.0\\nP-2890,B-744,jewellery,accessories,brooches,1.2,28/2/2015,780.0\\nP-9089,B-2327,home furnishing,bed linen,blankets quilts dohars,4.5,1/1/2013,745.0\\nP-6573,B-1729,toys school supplies,toy guns weapons,lotus toy guns weapons,3.9,9/6/2017,276.0\\nP-10442,B-2741,automotive,accessories spare parts,car interior exterior,4.9,21/4/2016,353.0\\nP-89,B-16,clothing,women s clothing,western wear,3.4,11/3/2016,599.0\\nP-11024,B-2925,baby care,baby bath skin,baby bath towels,1.2,31/12/2017,644.0\\nP-7224,B-3231,clothing,women s clothing,lingerie sleep swimwear,3.5,7/1/2020,489.0\\nP-9132,B-2344,home furnishing,bed linen,blankets quilts dohars,4.3,12/12/2013,4999.0\\nP-8367,B-2198,pens stationery,pens,ball pens,2.8,12/12/2018,111.0\\nP-850,B-133,automotive,accessories spare parts,car interior exterior,2.7,1/12/2014,916.0\\nP-950,B-133,automotive,accessories spare parts,car interior exterior,4.3,1/12/2012,1370.0\\nP-7870,B-2096,computers,network components,cables,3.9,14/6/2020,326.0\\nP-7872,B-2097,beauty and personal care,eye care,contact lenses,3.1,26/3/2015,995.0\\nP-3545,B-913,clothing,kids clothing,girls wear,2.5,28/4/2018,672.0\\nP-9397,B-3078,kitchen dining,coffee mugs,rockmantra coffee mugs,2.4,1/12/2015,198.0\\nP-47,B-1,automotive,accessories spare parts,car interior exterior,2.8,1/12/2016,1746.0\\nP-9102,B-2331,tools hardware,tools,hardware electricals,1.3,5/4/2018,1392.0\\nP-9376,B-3078,kitchen dining,coffee mugs,rockmantra coffee mugs,4.1,1/12/2017,349.0\\nP-1043,B-142,clothing,women s clothing,western wear,4.9,17/6/2018,395.0\\nP-867,B-133,automotive,accessories spare parts,car interior exterior,1.9,1/12/2016,912.0\\nP-11324,B-2998,computers,network components,routers,4.3,1/12/2017,4989.0\\nP-4269,B-1110,footwear,women s footwear,ballerinas,4.8,5/3/2016,326.0\\nP-9445,B-2435,automotive,car bike accessories,helmets riding gear,1.4,23/6/2014,1187.0\\nP-3938,B-1018,baby care,infant wear,baby boys clothes,1.7,2/4/2014,791.0\\nP-4798,B-1266,clothing,men s clothing,winter seasonal wear,4.8,20/5/2015,1813.0\\nP-1837,B-405,jewellery,rings,unknown,5.0,6/1/2014,32255.0\\nP-8123,B-3078,clothing,women s clothing,ethnic wear,1.5,1/12/2016,625.0\\nP-2362,B-563,jewellery,precious jewellery,classyworld brass cufflink silver 01,2.4,10/5/2020,327.0\\nP-186,B-3078,footwear,women s footwear,wedges,2.0,7/1/2018,639.0\\nP-2538,B-629,home decor festive needs,showpieces,ethnic,2.4,1/12/2018,304.0\\nP-5692,B-1517,jewellery,rings,unknown,1.6,1/1/2019,27183.0\\nP-11897,B-3197,jewellery,necklaces chains,necklaces,2.2,1/12/2018,380.0\\nP-4607,B-1222,automotive,car bike accessories,car interior exterior,2.2,9/6/2015,996.0\\nP-7984,B-3078,clothing,men s clothing,t shirts,1.4,13/12/2019,448.0\\nP-3170,B-817,home furnishing,bed linen,blankets quilts dohars,4.9,1/1/2018,1099.0\\nP-10475,B-2741,automotive,accessories spare parts,car interior exterior,1.7,14/12/2016,870.0\\nP-11254,B-2977,computers,network components,routers,2.2,1/12/2018,1710.0\\nP-10683,B-3078,clothing,women s clothing,western wear,4.7,7/1/2016,1299.0\\nP-910,B-133,automotive,accessories spare parts,car interior exterior,4.0,1/12/2014,919.0\\nP-1085,B-162,home furnishing,cushions pillows covers,cushion covers,1.6,20/12/2015,291.0\\nP-12048,B-3215,baby care,baby kids gifts,stickers,4.0,1/12/2018,573.0\\nP-10520,B-2752,jewellery,jewellery sets,unknown,1.1,4/1/2015,994.0\\nP-9427,B-3078,watches,wrist watches,rorlig wrist watches,1.4,4/12/2013,395.0\\nP-1317,B-219,home furnishing,curtains accessories,curtains,2.4,3/3/2018,593.0\\nP-7798,B-3078,clothing,men s clothing,t shirts,4.1,13/12/2017,693.0\\nP-3729,B-953,clothing,women s clothing,western wear,2.6,12/5/2014,299.0\\nP-3754,B-3078,clothing,men s clothing,cargos shorts 3 4ths,4.4,7/1/2019,969.0\\nP-3219,B-835,home decor festive needs,table decor handicrafts,showpiece,2.8,24/4/2015,3492.0\\nP-8721,B-3078,kitchen dining,coffee mugs,prithish coffee mugs,2.3,1/12/2013,168.0\\nP-10807,B-2863,jewellery,bangles bracelets armlets,bracelets,1.7,12/6/2020,391.0\\nP-5849,B-1526,footwear,women s footwear,heels,3.5,24/4/2015,1742.0\\nP-7729,B-2056,beauty and personal care,makeup,face,3.9,11/4/2017,2761.0\\nP-8376,B-3078,footwear,women s footwear,casual shoes,2.8,1/12/2013,1895.0\\nP-5180,B-3078,watches,wrist watches,jack klein wrist watches,5.0,4/12/2019,258.0\\nP-5807,B-2679,clothing,men s clothing,shirts,2.9,6/12/2019,1593.0\\nP-32,B-1,automotive,accessories spare parts,car interior exterior,2.6,1/12/2018,1889.0\\nP-11423,B-3041,jewellery,necklaces chains,necklaces,1.4,1/12/2018,241.0\\nP-9518,B-2462,beauty and personal care,combos and kits,rythmx combos and kits,2.9,2/6/2013,393.0\\nP-8167,B-3078,clothing,women s clothing,ethnic wear,3.6,29/12/2016,246.0\\nP-2337,B-555,pens stationery,office supplies,clairefontaine office supplies,3.5,31/12/2012,993.0\\nP-6451,B-1682,clothing,women s clothing,lingerie sleep swimwear,4.9,18/3/2016,324.0\\nP-9510,B-3078,pens stationery,school supplies,geometry pen pencil boxes,2.7,1/12/2016,191.0\\nP-3162,B-815,jewellery,earrings,unknown,2.4,12/12/2016,592.0\\nP-150,B-41,jewellery,necklaces chains,necklaces,1.5,1/12/2015,690.0\\nP-2214,B-3078,footwear,women s footwear,flats,3.0,12/12/2018,1692.0\\nP-2918,B-748,toys school supplies,action figures,disney action figures,1.9,28/3/2018,299.0\\nP-7634,B-3078,clothing,men s clothing,t shirts,1.2,13/12/2016,1189.0\\nP-4626,B-1225,bags wallets belts,bags,hand bags,4.7,2/3/2016,798.0\\nP-10335,B-2733,home furnishing,bed linen,blankets quilts dohars,3.3,1/1/2013,830.0\\nP-5936,B-1564,automotive,car bike accessories,car interior exterior,4.3,17/6/2016,1847.0\\nP-3052,B-3078,clothing,women s clothing,western wear,3.0,1/1/2015,398.0\\nP-10891,B-2888,computers,laptop accessories,usb gadgets,3.5,29/12/2017,442.0\\nP-5297,B-1414,jewellery,bangles bracelets armlets,bangles,3.8,31/12/2014,891.0\\nP-8567,B-2250,computers,laptop accessories,computer accessories combos,2.5,3/3/2016,327.0\\nP-943,B-133,automotive,accessories spare parts,car interior exterior,3.9,1/12/2018,1376.0\\nP-7272,B-2372,clothing,women s clothing,western wear,3.2,30/12/2013,395.0\\nP-6563,B-3078,footwear,women s footwear,wedges,4.9,29/12/2018,850.0\\nP-146,B-40,jewellery,necklaces chains,necklaces,3.0,1/12/2012,853.0\\nP-2254,B-519,clothing,men s clothing,shirts,4.4,5/3/2016,395.0\\nP-3777,B-972,home furnishing,living room furnishing,diwan sets,4.4,12/6/2018,973.0\\nP-1952,B-419,home furnishing,bath linen,towels,5.0,20/12/2013,507.0\\nP-1340,B-222,furniture,living room,sofas sectionals,2.0,31/12/2012,68393.0\\nP-9500,B-2457,home furnishing,cushions pillows covers,cushion covers,2.0,20/12/2016,791.0\\nP-2835,B-734,jewellery,necklaces chains,necklaces,4.8,1/12/2019,249.0\\nP-10232,B-2714,mobiles accessories,mobile accessories,otg adapters,3.0,29/4/2019,196.0\\nP-8563,B-2250,computers,laptop accessories,computer accessories combos,4.0,3/3/2015,321.0\\nP-4287,B-3231,clothing,women s clothing,lingerie sleep swimwear,1.7,7/1/2020,409.0\\nP-10585,B-3078,clothing,men s clothing,winter seasonal wear,2.7,20/12/2012,1609.0\\nP-5540,B-378,clothing,women s clothing,lingerie sleep swimwear,2.6,7/1/2020,215.0\\nP-6667,B-2281,clothing,women s clothing,lingerie sleep swimwear,5.0,7/1/2015,296.0\\nP-10173,B-2698,kitchen dining,tableware cutlery,tableware,3.6,1/1/2020,797.0\\nP-8434,B-1936,clothing,women s clothing,lingerie sleep swimwear,4.2,7/1/2013,339.0\\nP-2846,B-736,mobiles accessories,tablet accessories,cases covers,4.0,1/1/2016,1350.0\\nP-9709,B-2527,jewellery,accessories,brooches,4.9,19/5/2016,117.0\\nP-6699,B-1767,home furnishing,bath linen,towels,3.5,20/12/2017,679.0\\nP-9983,B-2613,clothing,women s clothing,ethnic wear,4.6,3/3/2019,691.0\\nP-7923,B-2114,mobiles accessories,mobile accessories,earphone cable organizers,2.1,25/3/2017,497.0\\nP-7811,B-2077,olvin aviator sunglasses,unknown,unknown,4.0,10/5/2014,395.0\\nP-8707,B-3078,kitchen dining,coffee mugs,prithish coffee mugs,3.2,1/12/2017,218.0\\nP-2832,B-733,pens stationery,office supplies,key chains,2.9,20/5/2020,64.0\\nP-7893,B-2103,computers,laptop accessories,usb gadgets,2.2,29/12/2017,222.0\\nP-1193,B-2372,clothing,women s clothing,western wear,1.9,30/12/2016,494.0\\nP-7714,B-3078,kitchen dining,containers bottles,bottles sippers,3.9,12/12/2013,392.0\\nP-8452,B-2679,clothing,men s clothing,jeans,4.0,12/12/2015,896.0\\nP-9746,B-3078,clothing,kids clothing,girls wear,1.1,6/1/2018,353.0\\nP-8787,B-3078,clothing,kids clothing,boys wear,4.9,12/12/2019,917.0\\nP-11820,B-3176,eyewear,frames,vinson london full rim oval frame 53 mm,3.1,26/6/2020,449.0\\nP-6144,B-1622,baby care,baby bath skin,baby body wash,4.4,28/3/2016,1364.0\\nP-7188,B-1924,jewellery,bangles bracelets armlets,bracelets,4.3,4/1/2020,455.0\\nP-6974,B-3078,clothing,women s clothing,western wear,3.3,1/12/2012,742.0\\nP-3979,B-1020,jewellery,rings,unknown,1.3,1/1/2020,32641.0\\nP-4279,B-2201,clothing,women s clothing,lingerie sleep swimwear,3.2,7/1/2015,390.0\\nP-10365,B-2741,automotive,accessories spare parts,spares performance parts,3.7,12/3/2015,639.0\\nP-11778,B-3167,jewellery,necklaces chains,necklaces,4.2,1/12/2013,368.0\\nP-8225,B-2175,clothing,women s clothing,winter seasonal wear,4.2,10/5/2019,1494.0\\nP-5085,B-1346,mobiles accessories,tablet accessories,cases covers,2.9,1/1/2018,591.0\\nP-7152,B-3078,footwear,women s footwear,wedges,1.8,7/1/2020,397.0\\nP-5327,B-1419,jewellery,rings,unknown,3.1,1/1/2019,16775.0\\nP-599,B-133,automotive,accessories spare parts,car interior exterior,2.7,1/12/2012,1599.0\\nP-4345,B-1129,jewellery,necklaces chains,necklaces,3.3,1/12/2017,489.0\\nP-2383,B-3078,footwear,men s footwear,casual shoes,2.6,29/12/2019,1990.0\\nP-1955,B-3078,clothing,women s clothing,western wear,3.0,30/12/2017,492.0\\nP-962,B-133,automotive,accessories spare parts,car interior exterior,3.1,1/12/2015,1378.0\\nP-4474,B-1180,furniture,kitchen dining furniture,dining tables chairs sets,2.2,19/5/2018,17991.0\\nP-4808,B-1268,computers,network components,routers,2.1,1/12/2019,1793.0\\nP-11563,B-3090,home furnishing,bed linen,blankets quilts dohars,4.7,1/1/2018,749.0\\nP-2757,B-3078,beauty and personal care,fragrances,deodorants,2.6,1/12/2018,369.0\\nP-1066,B-155,bags wallets belts,luggage travel,suitcases,2.7,3/3/2014,6580.0\\nP-2938,B-3078,toys school supplies,school supplies,geometry pencil boxes,4.5,1/12/2015,350.0\\nP-8918,B-2307,jewellery,rings,unknown,1.7,1/1/2016,23465.0\\nP-11504,B-3078,bags wallets belts,bags,backpacks,2.0,1/1/2020,641.0\\nP-9833,B-3231,clothing,women s clothing,lingerie sleep swimwear,4.2,7/1/2019,346.0\\nP-736,B-133,automotive,accessories spare parts,car interior exterior,3.6,1/12/2019,1592.0\\nP-1848,B-405,jewellery,rings,unknown,4.9,1/1/2013,31828.0\\nP-2072,B-458,bags wallets belts,bags,hand bags,4.1,2/3/2020,448.0\\nP-5744,B-1517,jewellery,rings,unknown,2.9,1/1/2015,32230.0\\nP-4387,B-449,clothing,women s clothing,lingerie sleep swimwear,1.5,7/1/2019,272.0\\nP-3749,B-3078,watches,wrist watches,fighter wrist watches,1.4,12/12/2012,217.0\\nP-637,B-133,automotive,accessories spare parts,car interior exterior,1.5,1/12/2018,1598.0\\nP-9276,B-2395,jewellery,necklaces chains,necklaces,2.5,15/4/2014,594.0\\nP-8924,B-2307,jewellery,rings,unknown,3.3,1/1/2016,33071.0\\nP-4984,B-1315,jewellery,necklaces chains,necklaces,1.5,1/12/2017,395.0\\nP-11775,B-3078,footwear,women s footwear,casual shoes,3.1,1/12/2019,389.0\\nP-11219,B-2372,clothing,women s clothing,western wear,4.8,30/12/2019,473.0\\nP-8301,B-3078,clothing,men s clothing,winter seasonal wear,4.0,31/12/2016,794.0\\nP-1208,B-191,jewellery,accessories,brooches,1.9,28/2/2016,300.0\\nP-12402,B-3302,tools hardware,tools,gardening tools,4.7,7/1/2017,1796.0\\nP-3434,B-889,home decor festive needs,showpieces,exotic india showpieces,2.8,1/1/2015,899.0\\nP-4988,B-1315,jewellery,necklaces chains,necklaces,4.8,1/12/2014,400.0\\nP-1369,B-235,sports fitness,racquet sports,badminton,4.4,10/4/2017,5061.0\\nP-5336,B-1421,jewellery,necklaces chains,necklaces,1.7,1/12/2019,497.0\\nP-3017,B-773,baby care,infant wear,baby boys clothes,4.8,2/3/2020,1191.0\\nP-9662,B-3078,footwear,women s footwear,casual shoes,3.0,7/1/2015,547.0\\nP-218,B-63,automotive,accessories spare parts,helmets riding gear,1.9,24/2/2015,278.0\\nP-10728,B-2825,jewellery,pendants lockets,unknown,3.9,12/12/2018,1077.0\\nP-7875,B-3078,clothing,men s clothing,t shirts,3.1,13/12/2012,589.0\\nP-3386,B-879,jewellery,necklaces chains,necklaces,2.9,1/12/2013,295.0\\nP-743,B-133,automotive,accessories spare parts,car interior exterior,1.9,1/12/2013,1598.0\\nP-5838,B-2372,clothing,women s clothing,western wear,4.5,30/12/2019,482.0\\nP-4048,B-1048,kitchen dining,lighting,bulbs,1.3,31/12/2017,396.0\\nP-750,B-133,automotive,accessories spare parts,car interior exterior,3.0,1/12/2014,1591.0\\nP-12551,B-3350,clothing,women s clothing,western wear,2.3,27/5/2015,899.0\\nP-3932,B-1016,computers,laptop accessories,usb gadgets,2.2,29/12/2017,107.0\\nP-9454,B-2440,furniture,seating furniture,outdoor cafeteria chairs,4.8,8/5/2020,6995.0\\nP-4898,B-3078,bags wallets belts,bags,hand bags,2.9,1/1/2013,246.0\\nP-6111,B-1614,jewellery,bangles bracelets armlets,bangles,4.9,31/12/2019,656.0\\nP-8869,B-2291,footwear,women s footwear,ballerinas,2.7,25/6/2017,390.0\\nP-5788,B-3078,clothing,women s clothing,western wear,1.0,1/12/2014,690.0\\nP-5002,B-1317,jewellery,necklaces chains,necklaces,1.1,1/12/2019,348.0\\nP-12420,B-3303,jewellery,bangles bracelets armlets,bracelets,1.9,20/12/2012,5993.0\\nP-9079,B-2326,jewellery,rings,unknown,1.2,1/1/2014,32827.0\\nP-8841,B-2284,clothing,women s clothing,western wear,4.0,7/6/2013,993.0\\nP-8637,B-3078,kitchen dining,coffee mugs,printland coffee mugs,5.0,1/12/2013,299.0\\nP-6180,B-3078,footwear,women s footwear,wedges,3.5,29/12/2016,440.0\\nP-4758,B-1260,jewellery,necklaces chains,necklaces,4.0,1/12/2012,480.0\\nP-7179,B-3078,clothing,women s clothing,western wear,2.2,1/12/2018,952.0\\nP-9249,B-3078,clothing,women s clothing,ethnic wear,5.0,30/12/2018,826.0\\nP-5029,B-1326,home decor festive needs,showpieces,indigocart showpieces,3.0,1/12/2012,470.0\\nP-3275,B-850,mobiles accessories,tablet accessories,cases covers,4.0,1/1/2015,1495.0\\nP-7874,B-3078,clothing,men s clothing,t shirts,4.8,13/12/2014,391.0\\nP-2811,B-727,clothing,men s clothing,cargos shorts 3 4ths,2.3,27/5/2016,298.0\\nP-901,B-133,automotive,accessories spare parts,car interior exterior,1.9,1/12/2016,910.0\\nP-11097,B-378,clothing,women s clothing,lingerie sleep swimwear,2.4,7/1/2015,399.0\\nP-7112,B-1895,automotive,accessories spare parts,spares performance parts,3.5,31/12/2015,277.0\\nP-5809,B-3078,toys school supplies,school supplies,geometry pencil boxes,2.1,1/12/2013,89.0\\nP-2133,B-2372,clothing,women s clothing,western wear,2.8,30/12/2019,488.0\\nP-10689,B-2807,jewellery,bangles bracelets armlets,bangles,3.1,30/12/2018,441.0\\nP-12501,B-3338,computers,computer peripherals,portable projectors,2.3,25/4/2017,3480.0\\nP-11901,B-3197,jewellery,necklaces chains,necklaces,2.4,1/12/2018,469.0\\nP-780,B-133,automotive,accessories spare parts,car interior exterior,1.0,1/12/2018,1589.0\\nP-11940,B-3197,jewellery,necklaces chains,necklaces,3.8,1/12/2018,297.0\\nP-708,B-133,automotive,accessories spare parts,car interior exterior,4.1,1/12/2013,1596.0\\nP-462,B-112,clothing,kids clothing,boys wear,5.0,18/6/2014,1394.0\\nP-10019,B-3078,clothing,women s clothing,fusion wear,2.1,30/12/2015,694.0\\nP-11675,B-3132,automotive,accessories spare parts,car interior exterior,3.9,25/3/2019,891.0\\nP-4182,B-1081,jewellery,necklaces chains,necklaces,1.4,1/12/2012,239.0\\nP-8397,B-3078,footwear,women s footwear,casual shoes,1.9,4/12/2019,1898.0\\nP-5983,B-1569,mobiles accessories,mobile accessories,mobile pouches,1.9,5/3/2014,444.0\\nP-5655,B-1512,mobiles accessories,tablet accessories,cases covers,3.1,1/1/2020,596.0\\nP-11636,B-3078,beauty and personal care,fragrances,deodorants,1.1,1/12/2012,359.0\\nP-1434,B-253,clothing,women s clothing,ethnic wear,2.5,3/3/2016,1685.0\\nP-6523,B-3078,clothing,men s clothing,t shirts,2.0,7/1/2020,444.0\\nP-706,B-133,automotive,accessories spare parts,car interior exterior,2.7,1/12/2015,1591.0\\nP-7790,B-3078,clothing,men s clothing,winter seasonal wear,2.6,7/1/2014,2312.0\\nP-10939,B-2895,computers,network components,routers,4.1,1/12/2013,4519.0\\nP-6308,B-1645,computers,laptop accessories,batteries,4.6,7/1/2014,1691.0\\nP-226,B-64,automotive,accessories spare parts,car interior exterior,4.3,1/12/2015,3396.0\\nP-5178,B-2679,clothing,men s clothing,jeans,1.7,12/12/2019,3892.0\\nP-3227,B-3078,clothing,women s clothing,western wear,3.2,7/1/2020,355.0\\nP-6183,B-3078,clothing,women s clothing,western wear,3.0,1/12/2013,830.0\\nP-4384,B-3231,clothing,women s clothing,lingerie sleep swimwear,3.7,7/1/2014,108.0\\nP-1626,B-3078,clothing,women s clothing,western wear,4.4,6/1/2018,399.0\\nP-2471,B-3078,ebooks,academic texts,language learning,5.0,7/1/2015,425.0\\nP-6666,B-3231,clothing,women s clothing,lingerie sleep swimwear,1.3,7/1/2016,390.0\\nP-5379,B-1431,jewellery,rings,unknown,3.3,1/1/2020,26567.0\\nP-7147,B-1906,baby care,infant wear,baby girls clothes,2.2,15/4/2019,488.0\\nP-2512,B-615,clothing,kids clothing,girls wear,4.7,5/4/2013,318.0\\nP-881,B-133,automotive,accessories spare parts,car interior exterior,4.3,1/12/2012,916.0\\nP-5516,B-1466,jewellery,necklaces chains,necklaces,5.0,1/12/2012,191.0\\nP-5743,B-1517,jewellery,rings,unknown,3.4,1/1/2016,29186.0\\nP-6908,B-3078,watches,wrist watches,maxima wrist watches,3.7,7/1/2014,793.0\\nP-5799,B-1519,clothing,women s clothing,winter seasonal wear,1.2,13/6/2017,793.0\\nP-10513,B-3078,footwear,men s footwear,casual shoes,1.0,29/12/2017,998.0\\nP-1242,B-3078,beauty and personal care,body and skin care,hand care,2.0,1/12/2013,161.0\\nP-8112,B-3078,clothing,women s clothing,western wear,4.4,6/1/2017,497.0\\nP-8713,B-3078,kitchen dining,coffee mugs,prithish coffee mugs,1.7,1/12/2012,220.0\\nP-4421,B-1160,home furnishing,bed linen,blankets quilts dohars,1.1,12/12/2017,1089.0\\nP-5015,B-1321,clothing,women s clothing,ethnic wear,3.4,16/3/2013,896.0\\nP-12396,B-3302,tools hardware,tools,gardening tools,3.8,7/1/2013,1792.0\\nP-9444,B-2435,automotive,car bike accessories,car bike styling,3.9,20/6/2017,183.0\\nP-1168,B-3078,beauty and personal care,fragrances,deodorants,3.0,1/12/2013,348.0\\nP-5947,B-2679,clothing,women s clothing,western wear,2.4,30/12/2019,291.0\\nP-1418,B-3078,clothing,men s clothing,ethnic wear,1.8,3/12/2015,219.0\\nP-1518,B-280,beauty and personal care,combos and kits,avon combos and kits,2.9,19/4/2015,295.0\\nP-938,B-133,automotive,accessories spare parts,car interior exterior,2.3,1/12/2015,915.0\\nP-8462,B-2229,bags wallets belts,luggage travel,suitcases,2.1,3/3/2017,4207.0\\nP-1020,B-134,jewellery,rings,unknown,2.0,7/1/2017,1838.0\\nP-4935,B-1303,jewellery,bangles bracelets armlets,bangles,4.7,31/12/2016,990.0\\nP-4519,B-3078,footwear,men s footwear,casual shoes,5.0,29/12/2017,1097.0\\nP-4139,B-1075,beauty and personal care,makeup,body,4.0,16/5/2013,245.0\\nP-5450,B-1446,jewellery,necklaces chains,chains,4.2,17/6/2015,202.0\\nP-8543,B-2250,computers,laptop accessories,computer accessories combos,3.3,3/3/2018,328.0\\nP-12153,B-3078,footwear,women s footwear,casual shoes,1.6,4/12/2018,996.0\\nP-1760,B-375,computers,network components,routers,1.1,1/12/2015,2493.0\\nP-9393,B-3078,kitchen dining,coffee mugs,rockmantra coffee mugs,4.8,1/12/2013,190.0\\nP-6921,B-2372,clothing,women s clothing,western wear,4.6,30/12/2013,489.0\\nP-6729,B-1783,home furnishing,bed linen,blankets quilts dohars,1.3,1/1/2018,1089.0\\nP-4753,B-1260,jewellery,necklaces chains,necklaces,2.4,1/12/2018,475.0\\nP-9940,B-2604,footwear,women s footwear,wedges,4.8,21/6/2017,396.0\\nP-9347,B-3078,kitchen dining,coffee mugs,rockmantra coffee mugs,4.5,1/12/2013,199.0\\nP-817,B-133,automotive,accessories spare parts,car interior exterior,1.5,1/12/2013,1594.0\\nP-5237,B-3078,clothing,women s clothing,western wear,1.5,6/1/2015,1489.0\\nP-9753,B-2540,clothing,women s clothing,western wear,1.1,3/3/2020,420.0\\nP-1649,B-338,jewellery,bangles bracelets armlets,bangles,2.7,30/12/2014,165.0\\nP-7403,B-3078,toys school supplies,school supplies,geometry pencil boxes,1.1,1/12/2018,108.0\\nP-3531,B-3078,footwear,women s footwear,heels,2.8,31/12/2016,690.0\\nP-5490,B-1462,beauty and personal care,fragrances,deodorants,3.9,2/3/2017,690.0\\nP-3803,B-3078,watches,wrist watches,flippd wrist watches,3.6,7/1/2014,748.0\\nP-5329,B-1419,jewellery,rings,unknown,1.2,1/1/2019,19023.0\\nP-6595,B-1736,footwear,women s footwear,casual shoes,1.1,2/4/2018,896.0\\nP-1180,B-3078,clothing,women s clothing,ethnic wear,3.4,12/12/2015,3682.0\\nP-9619,B-2504,home furnishing,bed linen,blankets quilts dohars,3.2,1/1/2017,1491.0\\nP-7116,B-3078,footwear,women s footwear,flats,2.3,12/12/2019,1284.0\\nP-2212,B-3078,footwear,women s footwear,heels,3.0,31/12/2012,998.0\\nP-473,B-3078,beauty and personal care,fragrances,deodorants,3.5,1/12/2014,395.0\\nP-4442,B-1169,jewellery,necklaces chains,necklaces,1.2,1/12/2015,192.0\\nP-968,B-133,automotive,accessories spare parts,car interior exterior,4.4,1/12/2017,1374.0\\nP-8309,B-2355,furniture,pet furniture,unknown,1.3,29/12/2014,1699.0\\nP-11840,B-3185,home decor festive needs,wall decor clocks,paintings,3.7,31/12/2016,1542.0\\nP-6501,B-1704,bags wallets belts,wallets clutches,clutches,4.8,9/3/2018,274.0\\nP-11711,B-3144,clothing,women s clothing,western wear,3.8,11/3/2020,3492.0\\nP-12517,B-3342,clothing,men s clothing,trousers,3.7,26/6/2013,1099.0\\nP-4622,B-1223,computers,laptop accessories,usb gadgets,3.1,29/12/2012,118.0\\nP-6329,B-3078,clothing,women s clothing,western wear,2.6,1/12/2013,746.0\\nP-4861,B-1280,clothing,men s clothing,ethnic wear,1.5,20/5/2015,934.0\\nP-2414,B-3078,clothing,men s clothing,winter seasonal wear,4.1,20/12/2013,890.0\\nP-12388,B-3078,clothing,men s clothing,winter seasonal wear,1.7,29/12/2013,441.0\\nP-12166,B-3078,toys school supplies,school supplies,geometry pencil boxes,2.9,1/12/2014,390.0\\nP-2261,B-2049,clothing,women s clothing,lingerie sleep swimwear,4.6,7/1/2019,597.0\\nP-6826,B-1817,home decor festive needs,table decor handicrafts,decorative platters,1.4,4/1/2014,1014.0\\nP-12036,B-3215,home decor festive needs,wall decor clocks,paintings,3.3,31/12/2019,1742.0\\nP-4814,B-1269,clothing,men s clothing,inner wear sleep wear,3.2,14/6/2016,595.0\\nP-5747,B-1517,jewellery,rings,unknown,2.1,6/1/2016,36230.0\\nP-6135,B-3078,clothing,women s clothing,western wear,2.3,30/12/2014,449.0\\nP-3096,B-793,furniture,living room,sofas sectionals,4.9,31/12/2015,35285.0\\nP-9263,B-3078,beauty and personal care,fragrances,deodorants,2.8,1/12/2015,270.0\\nP-3808,B-980,jewellery,necklaces chains,necklaces,4.1,1/12/2016,389.0\\nP-7633,B-2041,clothing,kids clothing,girls wear,2.3,11/3/2017,1116.0\\nP-4907,B-1295,jewellery,necklaces chains,necklaces,2.6,1/12/2012,169.0\\nP-6194,B-3078,clothing,women s clothing,western wear,3.2,1/12/2012,831.0\\nP-3383,B-879,jewellery,necklaces chains,necklaces,2.3,1/12/2018,243.0\\nP-11851,B-3078,clothing,women s clothing,lingerie sleep swimwear,4.0,12/12/2017,193.0\\nP-8790,B-2679,clothing,men s clothing,jeans,2.1,12/12/2018,2593.0\\nP-3266,B-847,jewellery,necklaces chains,necklaces,4.5,1/12/2013,442.0\\nP-7889,B-2679,clothing,men s clothing,shirts,4.3,29/12/2019,774.0\\nP-1605,B-3078,footwear,men s footwear,casual shoes,1.0,29/12/2019,1794.0\\nP-2834,B-734,jewellery,necklaces chains,necklaces,1.4,1/12/2017,299.0\\nP-6429,B-1670,clothing,kids clothing,infants wear,3.0,12/6/2017,4311.0\\nP-5484,B-1459,footwear,men s footwear,slippers flip flops,1.6,12/5/2017,221.0\\nP-3484,B-906,clothing,women s clothing,lingerie sleep swimwear,1.0,17/6/2016,491.0\\nP-8995,B-2307,jewellery,rings,unknown,2.6,1/1/2013,29750.0\\nP-2886,B-742,jewellery,bangles bracelets armlets,bangles,4.2,10/5/2017,2335.0\\nP-10343,B-2737,footwear,men s footwear,casual shoes,1.4,7/3/2018,1797.0\\nP-9804,B-3078,bags wallets belts,bags,pouches and potlis,4.2,3/12/2015,2186.0\\nP-10597,B-3078,footwear,women s footwear,casual shoes,3.7,1/12/2018,794.0\\nP-11359,B-3016,kitchen dining,kitchen tools,kitchen implements,1.8,1/12/2012,390.0\\nP-1749,B-372,automotive,car bike accessories,car bike lighting,3.8,2/6/2015,243.0\\nP-6333,B-1651,home decor festive needs,table decor handicrafts,showpieces,3.6,4/1/2017,590.0\\nP-3763,B-966,clothing,women s clothing,ethnic wear,4.4,31/12/2018,1298.0\\nP-10550,B-2764,sports fitness,team sports,cricket,3.6,25/2/2013,777.0\\nP-12187,B-378,clothing,women s clothing,lingerie sleep swimwear,5.0,7/1/2015,319.0\\nP-4819,B-3078,clothing,women s clothing,western wear,2.0,7/1/2015,475.0\\nP-11837,B-3078,clothing,women s clothing,ethnic wear,2.9,30/12/2013,791.0\\nP-2427,B-580,clothing,women s clothing,western wear,3.5,10/6/2018,749.0\\nP-623,B-133,automotive,accessories spare parts,car interior exterior,1.1,1/12/2016,1594.0\\nP-8527,B-2247,home furnishing,kitchen dining linen,table covers,3.5,19/4/2015,492.0\\nP-7692,B-3078,clothing,men s clothing,t shirts,2.9,13/12/2014,712.0\\nP-4980,B-1315,jewellery,necklaces chains,necklaces,1.7,1/12/2018,260.0\\nP-5775,B-1517,jewellery,rings,unknown,1.2,6/1/2013,12094.0\\nP-7016,B-1854,kitchen dining,cookware,pots pans,3.4,1/12/2014,1128.0\\nP-12453,B-3315,jewellery,necklaces chains,necklaces,3.5,1/12/2012,252.0\\nP-8773,B-2260,pens stationery,school supplies,water bottles,1.8,7/6/2014,680.0\\nP-11961,B-3197,jewellery,necklaces chains,necklaces,3.3,1/12/2015,373.0\\nP-3113,B-802,tools hardware,tools,gardening tools,1.0,7/1/2018,524.0\\nP-8728,B-3078,kitchen dining,coffee mugs,prithish coffee mugs,5.0,1/12/2015,174.0\\nP-1032,B-3078,clothing,men s clothing,accessories combo sets,1.1,31/12/2013,499.0\\nP-3510,B-909,home furnishing,curtains accessories,curtains,3.8,31/12/2017,443.0\\nP-2216,B-3078,footwear,women s footwear,wedges,4.5,29/12/2019,1889.0\\nP-1271,B-3078,footwear,men s footwear,casual shoes,4.1,29/12/2019,1741.0\\nP-6071,B-1595,clothing,kids clothing,girls wear,1.6,14/6/2017,298.0\\nP-6577,B-1730,clothing,women s clothing,accessories,2.7,9/4/2014,597.0\\nP-8206,B-2679,clothing,men s clothing,shirts,3.7,12/12/2016,1687.0\\nP-7531,B-3078,clothing,men s clothing,t shirts,1.1,13/12/2012,489.0\\nP-1564,B-303,baby care,baby bedding,baby blankets,2.1,12/12/2018,735.0\\nP-6668,B-2201,clothing,women s clothing,lingerie sleep swimwear,4.5,7/1/2013,246.0\\nP-5549,B-1477,home furnishing,bath linen,towels,1.8,20/12/2015,994.0\\nP-2458,B-3078,clothing,women s clothing,western wear,3.7,30/12/2016,420.0\\nP-5083,B-3078,clothing,women s clothing,western wear,2.4,7/1/2013,442.0\\nP-3989,B-3078,clothing,men s clothing,winter seasonal wear,5.0,6/1/2015,744.0\\nP-10469,B-2741,automotive,accessories spare parts,spares performance parts,2.5,31/12/2015,869.0\\nP-3321,B-3078,watches,wrist watches,escort wrist watches,3.9,4/12/2018,1823.0\\nP-7092,B-1883,clothing,women s clothing,western wear,2.3,15/6/2019,1516.0\\nP-11107,B-334,clothing,women s clothing,lingerie sleep swimwear,3.7,7/1/2016,259.0\\nP-7789,B-2071,kitchen dining,cookware,pots pans,1.7,1/12/2018,851.0\\nP-4900,B-3078,clothing,women s clothing,western wear,1.3,30/12/2019,489.0\\nP-8000,B-2373,clothing,women s clothing,western wear,3.9,30/12/2019,475.0\\nP-1373,B-239,home decor festive needs,candles fragrances,home fragrances,4.4,3/3/2016,567.0\\nP-8489,B-2238,cameras accessories,camera accessories,battery chargers,2.3,19/4/2013,787.0\\nP-3637,B-3078,footwear,men s footwear,casual shoes,3.6,29/12/2014,1799.0\\nP-1206,B-191,jewellery,accessories,brooches,3.1,23/4/2018,1744.0\\nP-6102,B-1610,home entertainment,audio players,krown audio players,1.8,1/12/2019,1898.0\\nP-7879,B-3078,clothing,men s clothing,t shirts,1.9,13/12/2017,495.0\\nP-9831,B-2571,tools hardware,tools,gardening tools,3.7,7/1/2013,489.0\\nP-3169,B-817,home furnishing,bed linen,blankets quilts dohars,1.8,1/1/2020,1093.0\\nP-5499,B-2679,clothing,men s clothing,shirts,1.5,6/12/2019,589.0\\nP-8487,B-2236,pout brass bangle,unknown,unknown,1.0,10/5/2013,368.0\\nP-8812,B-2274,sports fitness,team sports,cricket,1.8,25/3/2020,3996.0\\nP-10794,B-2856,baby care,baby bedding,baby bedsheets,5.0,26/5/2013,709.0\\nP-7014,B-1854,kitchen dining,cookware,pots pans,1.0,1/12/2017,746.0\\nP-10431,B-2741,automotive,accessories spare parts,car interior exterior,1.9,21/4/2016,350.0\\nP-7648,B-3078,clothing,men s clothing,t shirts,1.5,13/12/2016,496.0\\nP-3594,B-928,jewellery,necklaces chains,necklaces,1.8,1/12/2018,231.0\\nP-9422,B-3231,clothing,women s clothing,lingerie sleep swimwear,1.4,7/1/2020,95.0\\nP-5038,B-1328,clothing,kids clothing,girls wear,1.4,2/4/2013,498.0\\nP-12565,B-3352,computers,network components,routers,4.0,1/12/2017,4042.0\\nP-7580,B-2025,jewellery,bangles bracelets armlets,bracelets,1.8,20/12/2019,246.0\\nP-8685,B-3078,kitchen dining,coffee mugs,prithish coffee mugs,4.9,1/12/2013,172.0\\nP-4464,B-1176,computers,laptop accessories,laptop adapters,1.3,10/6/2013,1846.0\\nP-4461,B-1176,computers,laptop accessories,laptop adapters,3.2,10/6/2014,1796.0\\nP-9945,B-3078,clothing,women s clothing,ethnic wear,1.0,29/12/2017,640.0\\nP-6633,B-3078,watches,wrist watches,luba wrist watches,4.1,12/12/2012,219.0\\nP-9058,B-2322,home decor festive needs,showpieces,ethnic,3.5,1/12/2019,1797.0\\nP-4319,B-1118,bags wallets belts,luggage travel,suitcases,3.6,3/3/2016,3795.0\\nP-11683,B-3133,clothing,men s clothing,sports wear,2.5,5/3/2017,301.0\\nP-1884,B-405,jewellery,rings,unknown,3.3,1/1/2020,35464.0\\nP-8384,B-2204,jewellery,jewellery sets,unknown,4.7,12/12/2016,897.0\\nP-11977,B-3197,jewellery,necklaces chains,necklaces,4.8,1/12/2017,292.0\\nP-9811,B-2563,jewellery,accessories,brooches,2.4,28/2/2018,276.0\\nP-1384,B-242,home furnishing,bed linen,blankets quilts dohars,4.7,1/1/2017,1472.0\\nP-5245,B-3078,watches,wrist watches,jazma wrist watches,4.0,7/1/2016,952.0\\nP-2765,B-3078,beauty and personal care,fragrances,deodorants,4.9,1/12/2018,345.0\\nP-8968,B-2307,jewellery,rings,unknown,4.9,1/1/2018,23124.0\\nP-10981,B-2914,the cotton company solid women s polo neck pink,unknown,unknown,4.6,10/5/2015,397.0\\nP-8558,B-2250,computers,laptop accessories,computer accessories combos,4.6,3/3/2019,321.0\\nP-4585,B-1214,clothing,women s clothing,lingerie sleep swimwear,4.4,23/6/2016,995.0\\nP-5731,B-1517,jewellery,rings,unknown,4.9,1/1/2014,38282.0\\nP-1969,B-2372,clothing,women s clothing,western wear,1.9,30/12/2014,392.0\\nP-9172,B-2356,footwear,men s footwear,casual shoes,1.0,7/3/2013,3053.0\\nP-4535,B-1198,jewellery,necklaces chains,necklaces,4.4,1/12/2019,222.0\\nP-11226,B-3078,pens stationery,office supplies,punches punching machines,1.8,29/12/2013,121.0\\nP-7415,B-1991,automotive,accessories spare parts,car electronics accessories,2.9,1/12/2017,493.0\\nP-8172,B-2154,clothing,men s clothing,shirts,1.8,12/3/2013,989.0\\nP-8329,B-2355,furniture,pet furniture,unknown,4.3,29/12/2018,1293.0\\nP-8046,B-3078,clothing,women s clothing,western wear,3.0,6/1/2015,586.0\\nP-8228,B-2373,clothing,women s clothing,western wear,4.3,30/12/2014,447.0\\nP-7074,B-3078,clothing,women s clothing,western wear,3.7,1/12/2013,615.0\\nP-1464,B-3078,clothing,women s clothing,western wear,4.2,6/1/2016,359.0\\nP-10709,B-2818,beauty and personal care,hair care,hair care accessories,1.7,21/6/2019,317.0\\nP-53,B-4,computers,laptop accessories,batteries,3.1,7/1/2015,1391.0\\nP-4600,B-2679,clothing,men s clothing,shirts,1.5,7/1/2020,733.0\\nP-6196,B-334,clothing,women s clothing,lingerie sleep swimwear,5.0,7/1/2017,274.0\\nP-6571,B-3078,footwear,men s footwear,casual shoes,1.1,29/12/2016,1395.0\\nP-9063,B-2323,home decor festive needs,showpieces,animal figurines,2.9,25/3/2015,208.0\\nP-2564,B-642,clothing,women s clothing,sports gym wear,2.8,3/3/2017,891.0\\nP-4565,B-2201,clothing,women s clothing,lingerie sleep swimwear,4.0,7/1/2018,545.0\\nP-7042,B-1864,pens stationery,office equipments,home security cameras,4.1,16/4/2019,4700.0\\nP-10045,B-2643,clothing,women s clothing,lingerie sleep swimwear,3.7,2/4/2020,1092.0\\nP-4171,B-3078,clothing,men s clothing,accessories combo sets,4.7,31/12/2019,300.0\\nP-1782,B-3078,home decor festive needs,wall decor clocks,clocks,1.1,3/12/2012,809.0\\nP-7834,B-2085,home decor festive needs,showpieces,ona s showpieces,3.8,1/12/2013,790.0\\nP-5734,B-1517,jewellery,rings,unknown,4.3,1/1/2015,31596.0\\nP-5497,B-3078,beauty and personal care,body and skin care,face care,5.0,31/12/2019,317.0\\nP-4966,B-1312,clothing,women s clothing,ethnic wear,3.0,24/6/2013,691.0\\nP-10303,B-2722,beauty and personal care,makeup,vanity boxes,1.6,12/3/2015,1293.0\\nP-9882,B-3078,clothing,women s clothing,ethnic wear,3.1,29/12/2019,392.0\\nP-4514,B-3078,clothing,women s clothing,western wear,4.6,7/1/2017,470.0\\nP-10158,B-2695,computers,laptop accessories,adapters,3.4,11/3/2019,535.0\\nP-7513,B-3078,beauty and personal care,fragrances,deodorants,1.3,1/12/2014,375.0\\nP-5778,B-1517,jewellery,rings,unknown,3.2,1/1/2019,29924.0\\nP-11232,B-3078,toys school supplies,school supplies,geometry pencil boxes,1.5,1/12/2012,98.0\\nP-11963,B-3197,jewellery,necklaces chains,necklaces,2.0,1/12/2017,184.0\\nP-2301,B-544,jewellery,necklaces chains,necklaces,4.6,10/3/2015,497.0\\nP-1757,B-373,clothing,kids clothing,boys wear,3.3,12/5/2013,293.0\\nP-2916,B-3078,watches,wrist watches,disney wrist watches,2.7,4/12/2019,1337.0\\nP-6992,B-3078,clothing,kids clothing,girls wear,2.3,20/12/2012,218.0\\nP-4743,B-1260,jewellery,necklaces chains,necklaces,3.8,1/12/2019,423.0\\nP-2045,B-3078,footwear,women s footwear,flats,1.8,7/1/2013,414.0\\nP-6397,B-1664,automotive,car bike accessories,car bike lighting,1.9,18/6/2019,1493.0\\nP-3934,B-1017,home decor festive needs,table decor handicrafts,decorative platters,4.7,4/1/2014,2680.0\\nP-10953,B-2901,clothing,kids clothing,girls wear,3.4,9/3/2013,391.0\\nP-5280,B-1409,jewellery,bangles bracelets armlets,bracelets,2.4,20/12/2015,368.0\\nP-12030,B-3212,home decor festive needs,wall decor clocks,wall decals stickers,1.8,29/12/2015,235.0\\nP-3815,B-2355,clothing,women s clothing,lingerie sleep swimwear,5.0,7/1/2020,395.0\\nP-11412,B-3036,mobiles accessories,tablet accessories,cases covers,4.3,1/1/2015,292.0\\nP-4219,B-1087,kitchen dining,bar glassware,bar glasses,4.7,16/4/2016,796.0\\nP-2732,B-711,clothing,men s clothing,jeans,1.1,18/3/2016,1053.0\\nP-6479,B-1695,baby care,infant wear,baby boys clothes,1.1,14/5/2013,559.0\\nP-12475,B-3078,footwear,women s footwear,casual shoes,1.7,1/12/2013,490.0\\nP-3068,B-2372,clothing,women s clothing,western wear,1.1,30/12/2012,397.0\\nP-11484,B-3070,home decor festive needs,showpieces,ethnic,3.2,1/12/2018,346.0\\nP-5710,B-1517,jewellery,rings,unknown,2.8,1/1/2015,28846.0\\nP-7967,B-2119,jewellery,accessories,brooches,2.2,28/2/2020,544.0\\nP-1222,B-196,computers,laptop accessories,usb gadgets,4.8,20/6/2014,173.0\\nP-8461,B-2229,bags wallets belts,luggage travel,suitcases,1.1,3/3/2019,5882.0\\nP-6520,B-3078,clothing,men s clothing,trousers,3.2,20/12/2013,2384.0\\nP-12182,B-334,clothing,women s clothing,lingerie sleep swimwear,1.7,7/1/2019,311.0\\nP-1374,B-240,jewellery,rings,unknown,1.7,6/1/2015,871.0\\nP-6800,B-1810,home decor festive needs,showpieces,ethnic,1.8,1/12/2018,340.0\\nP-12317,B-3078,beauty and personal care,fragrances,deodorants,4.4,1/12/2019,277.0\\nP-6984,B-1842,computers,laptop accessories,usb gadgets,2.6,29/12/2019,188.0\\nP-10411,B-2741,automotive,accessories spare parts,bike essentials,3.9,18/3/2020,449.0\\nP-9250,B-3078,clothing,women s clothing,western wear,1.5,6/1/2013,820.0\\nP-5049,B-1331,jewellery,bangles bracelets armlets,bangles,1.7,20/12/2015,588.0\\nP-3810,B-1690,clothing,women s clothing,lingerie sleep swimwear,4.7,7/1/2018,199.0\\nP-6170,B-1627,clothing,women s clothing,ethnic wear,1.4,25/4/2017,102.0\\nP-11950,B-3197,jewellery,necklaces chains,necklaces,4.4,1/12/2018,153.0\\nP-12283,B-3273,automotive,accessories spare parts,helmets riding gear,2.9,24/2/2014,190.0\\nP-5759,B-1517,jewellery,rings,unknown,1.2,1/1/2017,27884.0\\nP-5340,B-1421,jewellery,bangles bracelets armlets,bracelets,1.2,20/12/2012,244.0\\nP-2668,B-684,dassler slim fit women s multicolor jeans,unknown,unknown,2.4,10/5/2013,1597.0\\nP-10145,B-2695,computers,laptop accessories,adapters,4.7,11/3/2015,530.0\\nP-7914,B-2112,kitchen dining,lighting,bulbs,1.5,31/12/2019,316.0\\nP-1015,B-133,automotive,accessories spare parts,car interior exterior,2.1,1/12/2014,1499.0\\nP-4860,B-1279,mobiles accessories,mobile accessories,mobile pouches,1.0,7/1/2015,248.0\\nP-3582,B-921,clothing,women s clothing,ethnic wear,4.3,25/3/2018,1589.0\\nP-3962,B-1020,jewellery,rings,unknown,3.4,1/1/2015,33954.0\\nP-792,B-133,automotive,accessories spare parts,car interior exterior,2.9,1/12/2015,1598.0\\nP-4589,B-1215,sunglasses,hh wayfarer sunglasses,unknown,2.8,10/6/2015,289.0\\nP-10483,B-2741,automotive,accessories spare parts,spares performance parts,3.7,31/12/2015,1045.0\\nP-5932,B-1561,kitchen dining,kitchen tools,kitchen implements,4.7,1/12/2017,194.0\\nP-5905,B-1554,toys school supplies,party supplies,balloons decoration,2.7,15/6/2018,894.0\\nP-300,B-80,jewellery,necklaces chains,necklaces,4.1,1/12/2012,539.0\\nP-9514,B-2462,beauty and personal care,combos and kits,rythmx combos and kits,3.0,2/6/2019,390.0\\nP-8141,B-3078,beauty and personal care,fragrances,deodorants,2.4,1/12/2015,395.0\\nP-11453,B-3054,baby care,baby kids gifts,stickers,4.5,1/12/2012,541.0\\nP-2140,B-482,mobiles accessories,tablet accessories,cases covers,3.7,1/1/2014,1092.0\\nP-9711,B-2355,clothing,women s clothing,lingerie sleep swimwear,4.7,7/1/2014,244.0\\nP-6807,B-1813,masara solid women s straight kurta,unknown,unknown,3.0,5/4/2016,547.0\\nP-4299,B-2372,clothing,women s clothing,western wear,1.0,30/12/2017,497.0\\nP-2276,B-533,baby care,infant wear,baby boys clothes,3.3,2/4/2014,2164.0\\nP-6122,B-3078,clothing,men s clothing,shirts,1.0,6/12/2016,599.0\\nP-9204,B-2370,computers,laptop accessories,batteries,3.2,7/1/2020,1290.0\\nP-3739,B-3078,clothing,women s clothing,western wear,3.6,7/1/2015,529.0\\nP-6822,B-3078,clothing,men s clothing,winter seasonal wear,4.9,31/12/2017,900.0\\nP-233,B-66,mobiles accessories,mobile accessories,headphones,2.1,11/3/2019,299.0\\nP-4363,B-3078,clothing,women s clothing,western wear,3.4,7/1/2013,394.0\\nP-12065,B-3078,clothing,men s clothing,t shirts,3.5,15/12/2015,792.0\\nP-5249,B-1402,clothing,kids clothing,boys wear,3.5,1/5/2019,645.0\\nP-109,B-27,jewellery,necklaces chains,necklaces,1.2,1/12/2013,690.0\\nP-3317,B-857,footwear,kids infant footwear,for boys,4.7,3/3/2015,991.0\\nP-9907,B-3078,clothing,women s clothing,western wear,1.1,1/1/2014,542.0\\nP-9658,B-2512,clothing,women s clothing,ethnic wear,2.3,29/4/2018,1232.0\\nP-12197,B-3251,jewellery,necklaces chains,necklaces,5.0,1/12/2016,469.0\\nP-6049,B-1590,home furnishing,floor coverings,mats,2.9,24/4/2018,193.0\\nP-9353,B-3078,kitchen dining,coffee mugs,rockmantra coffee mugs,2.3,1/12/2016,194.0\\nP-9432,B-2426,jewellery,pendants lockets,rosesnribbons rhodium garnet amethyst citrine,2.6,11/3/2014,4995.0\\nP-11811,B-3175,jewellery,necklaces chains,necklaces,2.8,1/12/2015,418.0\\nP-4203,B-3078,watches,wrist watches,gift island wrist watches,3.6,7/1/2020,891.0\\nP-11128,B-2948,clothing,women s clothing,western wear,1.3,12/5/2014,1099.0\\nP-1847,B-405,jewellery,rings,unknown,3.1,1/1/2013,26854.0\\nP-7574,B-2024,kitchen dining,cookware,pots pans,4.4,17/6/2017,293.0\\nP-7794,B-3078,clothing,men s clothing,t shirts,3.2,13/12/2019,698.0\\nP-9858,B-2580,jewellery,bangles bracelets armlets,bangles,1.3,30/12/2014,596.0\\nP-4591,B-1217,jewellery,necklaces chains,necklaces,5.0,1/12/2016,483.0\\nP-4957,B-1310,jewellery,pendants lockets,inaya yellow gold nak brass pendant set,4.1,11/3/2020,381.0\\nP-6769,B-1798,pens stationery,school supplies,pencils pen pencil boxes,4.8,25/3/2016,42.0\\nP-729,B-133,automotive,accessories spare parts,car interior exterior,1.6,1/12/2014,1594.0\\nP-8183,B-2165,kitchen dining,kitchen tools,kitchen implements,3.2,1/12/2014,69.0\\nP-9287,B-2399,toys school supplies,role play toys,riddhi siddhi role play toys,1.7,9/6/2017,292.0\\nP-8618,B-3078,kitchen dining,coffee mugs,printland coffee mugs,2.9,1/12/2012,294.0\\nP-5720,B-1517,jewellery,rings,unknown,2.8,1/1/2020,30607.0\\nP-9656,B-2510,clothing,women s clothing,western wear,4.0,24/4/2014,1499.0\\nP-8200,B-2168,jewellery,earrings,unknown,1.9,12/12/2019,198.0\\nP-8802,B-2271,pu good women flats,unknown,unknown,5.0,10/5/2015,370.0\\nP-4281,B-2355,clothing,women s clothing,lingerie sleep swimwear,4.1,7/1/2019,400.0\\nP-5999,B-1574,footwear,women s footwear,ballerinas,1.7,23/4/2014,496.0\\nP-211,B-3078,footwear,women s footwear,casual shoes,4.8,6/1/2018,449.0\\nP-1330,B-221,home furnishing,bath linen,towels,2.4,20/12/2015,793.0\\nP-5414,B-1444,cameras accessories,camera accessories,lens hoods,3.5,29/12/2013,994.0\\nP-6654,B-1749,home furnishing,cushions pillows covers,cushion covers,4.2,4/6/2014,311.0\\nP-3566,B-920,jewellery,necklaces chains,necklaces,1.3,1/12/2018,184.0\\nP-10696,B-3078,clothing,women s clothing,leggings jeggings,1.8,12/12/2017,372.0\\nP-1790,B-390,tools hardware,tools,gardening tools,5.0,7/1/2014,398.0\\nP-6310,B-1645,computers,laptop accessories,batteries,3.0,7/1/2016,1794.0\\nP-3747,B-959,bags wallets belts,bags,backpacks,4.7,1/1/2016,596.0\\nP-12213,B-3260,baby care,infant wear,baby girls clothes,3.8,7/6/2019,544.0\\nP-8113,B-2142,home furnishing,bed linen,blankets quilts dohars,3.7,1/1/2014,1397.0\\nP-2904,B-747,toys school supplies,action figures,discovery toys action figures,4.5,3/3/2020,9716.0\\nP-9616,B-2281,clothing,women s clothing,lingerie sleep swimwear,2.0,7/1/2014,542.0\\nP-2894,B-505,clothing,women s clothing,western wear,4.9,30/12/2014,495.0\\nP-12179,B-2355,clothing,women s clothing,lingerie sleep swimwear,5.0,7/1/2018,313.0\\nP-3038,B-785,jewellery,necklaces chains,necklaces,5.0,1/12/2019,449.0\\nP-2220,B-3078,watches,wrist watches,cb fashion wrist watches,3.6,31/12/2018,616.0\\nP-3825,B-984,fly u slim fit fit women s brown jeans,unknown,unknown,1.5,10/5/2013,591.0\\nP-8378,B-378,clothing,women s clothing,lingerie sleep swimwear,3.3,7/1/2018,191.0\\nP-11551,B-2355,clothing,women s clothing,lingerie sleep swimwear,5.0,7/1/2015,263.0\\nP-9712,B-3078,clothing,men s clothing,t shirts,2.2,7/1/2014,394.0\\nP-12545,B-3078,clothing,men s clothing,trousers,3.2,3/12/2014,519.0\\nP-2437,B-586,baby care,infant wear,baby girls clothes,3.3,4/6/2020,474.0\\nP-7427,B-1993,computers,network components,routers,4.0,1/12/2018,5444.0\\nP-5970,B-1569,mobiles accessories,mobile accessories,mobile pouches,3.7,5/3/2020,446.0\\nP-1106,B-165,pens stationery,office supplies,amy office supplies,2.4,29/12/2019,241.0\\nP-8072,B-2132,home furnishing,bed linen,blankets quilts dohars,1.7,1/1/2018,1189.0\\nP-7416,B-1991,mobiles accessories,tablet accessories,cases covers,3.1,1/1/2019,1195.0\\nP-6788,B-1808,clothing,women s clothing,western wear,1.7,12/5/2020,694.0\\nP-6011,B-3078,clothing,women s clothing,western wear,1.1,6/1/2019,600.0\\nP-9053,B-2320,beauty and personal care,health care,medical equipment accessories,2.1,1/12/2015,590.0\\nP-11972,B-3197,jewellery,rings,unknown,2.8,1/1/2015,27735.0\\nP-10082,B-3078,toys school supplies,school supplies,geometry pencil boxes,3.8,1/12/2015,189.0\\nP-4014,B-1033,mobiles accessories,mobile accessories,mobile chargers,3.4,28/6/2015,246.0\\nP-4838,B-2679,clothing,women s clothing,western wear,3.7,30/12/2014,314.0\\nP-10677,B-2801,clothing,women s clothing,western wear,5.0,13/4/2016,689.0\\nP-1113,B-166,mobiles accessories,tablet accessories,cases covers,1.9,1/1/2018,1293.0\\nP-5010,B-3078,clothing,women s clothing,ethnic wear,1.1,1/12/2017,299.0\\nP-826,B-133,automotive,accessories spare parts,car interior exterior,1.5,1/12/2015,1590.0\\nP-3060,B-788,jewellery,necklaces chains,necklaces,3.2,1/12/2016,493.0\\nP-8045,B-3078,clothing,women s clothing,western wear,2.5,6/1/2013,987.0\\nP-7558,B-2019,clothing,women s clothing,winter seasonal wear,2.3,18/3/2017,792.0\\nP-3902,B-3078,watches,wrist watches,franck bella wrist watches,3.1,4/12/2017,1313.0\\nP-8038,B-3078,beauty and personal care,combos and kits,oxyglow combos and kits,3.4,12/12/2017,314.0\\nP-1257,B-206,jewellery,jewellery sets,unknown,3.5,31/12/2016,490.0\\nP-2876,B-3078,pens stationery,office supplies,desk organizers,3.5,1/1/2013,244.0\\nP-6831,B-1819,beauty and personal care,hair care,hair colors,3.5,22/3/2019,350.0\\nP-8883,B-2300,home decor festive needs,showpieces,r s jewels showpieces,5.0,1/12/2019,778.0\\nP-5342,B-1421,jewellery,necklaces chains,necklaces,1.3,1/12/2017,497.0\\nP-9071,B-2325,bags wallets belts,bags,hand bags,3.8,2/3/2014,490.0\\nP-3522,B-3078,footwear,men s footwear,formal shoes,2.5,29/12/2014,1789.0\\nP-1834,B-405,jewellery,rings,unknown,3.1,1/1/2020,32224.0\\nP-858,B-133,automotive,accessories spare parts,car interior exterior,2.3,1/12/2013,917.0\\nP-2948,B-751,jewellery,rings,unknown,1.3,1/1/2017,27820.0\\nP-9108,B-3078,clothing,women s clothing,western wear,3.3,7/1/2019,394.0\\nP-6481,B-1695,lilliput top baby girl s combo,unknown,unknown,2.0,3/4/2016,1113.0\\nP-4832,B-3078,clothing,kids clothing,girls wear,4.0,31/12/2016,999.0\\nP-1110,B-165,pens stationery,office supplies,amy office supplies,3.5,29/12/2013,240.0\\nP-3040,B-786,footwear,women s footwear,ballerinas,4.2,5/3/2018,1259.0\\nP-5337,B-1421,jewellery,necklaces chains,necklaces,3.2,1/12/2015,397.0\\nP-4101,B-1055,computers,laptop accessories,usb gadgets,3.0,29/12/2014,247.0\\nP-3555,B-3078,clothing,women s clothing,lingerie sleep swimwear,2.5,7/1/2019,512.0\\nP-4120,B-1065,jewellery,rings,unknown,2.0,7/1/2017,393.0\\nP-523,B-127,clothing,women s clothing,lingerie sleep swimwear,4.3,25/3/2019,373.0\\nP-10663,B-2797,kitchen dining,coffee mugs,stylestuffs coffee mugs,3.5,26/6/2018,192.0\\nP-1971,B-3078,footwear,women s footwear,ballerinas,1.9,6/1/2015,493.0\\nP-6164,B-3078,clothing,women s clothing,western wear,3.8,1/12/2018,979.0\\nP-11218,B-2372,clothing,women s clothing,western wear,4.9,30/12/2018,471.0\\nP-6810,B-2679,clothing,women s clothing,western wear,4.5,12/12/2013,472.0\\nP-1517,B-3078,beauty and personal care,fragrances,deodorants,2.0,1/12/2012,396.0\\nP-2062,B-3078,beauty and personal care,makeup,vanity boxes,3.0,3/1/2014,389.0\\nP-8705,B-3078,kitchen dining,coffee mugs,prithish coffee mugs,5.0,1/12/2012,293.0\\nP-10789,B-2853,automotive,accessories spare parts,car electronics accessories,4.3,1/12/2012,391.0\\nP-7009,B-1851,clothing,women s clothing,western wear,2.9,3/3/2017,297.0\\nP-2442,B-588,sports fitness,outdoor adventure,camping hiking,4.0,28/2/2020,4491.0\\nP-10010,B-2626,clothing,women s clothing,western wear,1.5,10/5/2013,476.0\\nP-9818,B-2564,jewellery,rings,unknown,4.5,1/1/2020,30778.0\\nP-756,B-133,automotive,accessories spare parts,car interior exterior,4.8,1/12/2014,1593.0\\nP-2779,B-3078,clothing,women s clothing,western wear,2.8,4/12/2019,717.0\\nP-9154,B-2347,computers,laptop accessories,batteries,4.1,7/1/2016,2037.0\\nP-215,B-3078,clothing,men s clothing,winter seasonal wear,4.1,6/1/2013,1186.0\\nP-11884,B-3197,jewellery,jewellery sets,unknown,1.5,20/12/2012,791.0\\nP-4216,B-3078,clothing,women s clothing,ethnic wear,1.3,30/12/2016,586.0\\nP-6608,B-2355,clothing,women s clothing,lingerie sleep swimwear,4.6,7/1/2017,305.0\\nP-4842,B-3078,clothing,women s clothing,western wear,2.4,7/1/2018,444.0\\nP-11243,B-3078,footwear,men s footwear,casual shoes,3.1,29/12/2012,1598.0\\nP-12387,B-449,clothing,women s clothing,lingerie sleep swimwear,4.3,7/1/2019,142.0\\nP-4272,B-2372,clothing,women s clothing,western wear,2.9,30/12/2012,447.0\\nP-1758,B-374,mobiles accessories,tablet accessories,cases covers,1.1,31/12/2012,221.0\\nP-11882,B-3197,jewellery,bangles bracelets armlets,bangles,1.3,30/12/2013,479.0\\nP-5143,B-1365,watches,wrist watches,italian fashion wrist watches,2.0,24/4/2020,545.0\\nP-8043,B-3078,clothing,kids clothing,girls wear,4.0,12/12/2017,448.0\\nP-10468,B-2741,automotive,accessories spare parts,spares performance parts,3.7,31/12/2012,871.0\\nP-1419,B-249,clothing,men s clothing,accessories combo sets,3.2,16/4/2015,340.0\\nP-3417,B-882,kitchen dining,housekeeping laundry,bathroom accessories,4.5,22/3/2017,1289.0\\nP-5194,B-2372,clothing,men s clothing,shirts,3.7,6/12/2012,1392.0\\nP-12318,B-3078,beauty and personal care,fragrances,deodorants,2.2,1/12/2019,311.0\\nP-8087,B-2136,watches,wrist watches,palito wrist watches,2.8,24/4/2017,190.0\\nP-4608,B-1222,automotive,car bike accessories,car interior exterior,3.1,9/6/2014,993.0\\nP-8587,B-3078,kitchen dining,coffee mugs,printland coffee mugs,2.9,1/12/2019,198.0\\nP-9338,B-3078,kitchen dining,coffee mugs,rockmantra coffee mugs,3.2,1/12/2013,196.0\\nP-9460,B-2444,toys school supplies,musical instruments toys,rrenterprizes musical instruments toys,1.6,24/4/2018,1492.0\\nP-11070,B-2937,mobiles accessories,tablet accessories,cases covers,2.4,20/12/2015,547.0\\nP-5627,B-1499,home decor festive needs,wall decor clocks,paintings,3.7,31/12/2012,1627.0\\nP-5939,B-3078,clothing,men s clothing,winter seasonal wear,3.9,31/12/2016,896.0\\nP-9740,B-2538,home decor festive needs,table decor handicrafts,showpieces,1.4,4/1/2014,1167.0\\nP-2949,B-751,jewellery,rings,unknown,3.0,1/1/2013,26992.0\\nP-4331,B-3078,clothing,women s clothing,western wear,4.3,7/1/2015,293.0\\nP-9535,B-1805,clothing,women s clothing,lingerie sleep swimwear,2.7,7/1/2013,269.0\\nP-2914,B-3078,toys school supplies,school supplies,geometry pencil boxes,2.5,1/12/2019,359.0\\nP-6138,B-3078,clothing,women s clothing,western wear,2.2,1/12/2016,690.0\\nP-3044,B-786,jewellery,necklaces chains,necklaces,3.7,1/12/2014,310.0\\nP-6020,B-3078,footwear,men s footwear,casual shoes,2.8,29/12/2016,1593.0\\nP-6650,B-1748,home decor festive needs,decorative lighting lamps,ceiling lamps,3.9,23/3/2019,791.0\\nP-2305,B-546,baby care,infant wear,baby girls clothes,1.8,29/4/2014,796.0\\nP-5167,B-2372,clothing,men s clothing,shirts,2.0,6/12/2014,1590.0\\nP-6808,B-3078,ebooks,academic texts,humanities,4.0,7/1/2020,7227.0\\nP-3679,B-945,favourite bikerz 3514 rad air filter ionic air f,unknown,unknown,3.7,19/4/2014,490.0\\nP-3086,B-793,furniture,living room,sofas sectionals,3.5,31/12/2012,60833.0\\nP-11739,B-3152,home furnishing,kitchen dining linen,table placemats,2.4,7/3/2019,447.0\\nP-1850,B-405,jewellery,rings,unknown,2.1,1/1/2014,26677.0\\nP-2391,B-2355,clothing,women s clothing,lingerie sleep swimwear,4.7,7/1/2018,176.0\\nP-7466,B-2000,gaming,gaming accessories,headphones with mic,3.6,10/5/2018,159.0\\nP-1777,B-2679,clothing,men s clothing,shirts,2.0,7/1/2013,1892.0\\nP-10028,B-3078,clothing,men s clothing,cargos shorts 3 4ths,5.0,4/1/2018,1166.0\\nP-11723,B-3149,automotive,accessories spare parts,car interior exterior,2.6,16/4/2019,442.0\\nP-349,B-88,automotive,accessories spare parts,car interior exterior,4.5,10/5/2013,190.0\\nP-10718,B-2821,tools hardware,tools,gardening tools,2.0,7/1/2017,349.0\\nP-1053,B-148,automotive,accessories spare parts,car electronics accessories,1.9,1/12/2019,247.0\\nP-4629,B-3078,clothing,women s clothing,western wear,1.7,1/12/2014,997.0\\nP-312,B-86,jewellery,necklaces chains,necklaces,4.5,1/12/2013,824.0\\nP-4883,B-1288,furniture,study home office furniture,portable laptop tables,4.3,23/4/2014,1394.0\\nP-11500,B-3078,bags wallets belts,bags,backpacks,3.6,1/1/2017,595.0\\nP-6193,B-3078,clothing,women s clothing,western wear,3.6,1/12/2017,903.0\\nP-12339,B-3078,clothing,men s clothing,winter seasonal wear,1.4,7/1/2016,899.0\\nP-2470,B-599,furniture,living room furniture,sofas sectionals,4.8,2/3/2019,19236.0\\nP-6436,B-3078,clothing,men s clothing,accessories combo sets,4.0,31/12/2017,951.0\\nP-3482,B-3078,clothing,women s clothing,western wear,1.6,7/1/2014,718.0\\nP-2015,B-2666,clothing,women s clothing,lingerie sleep swimwear,5.0,7/1/2020,333.0\\nP-8164,B-2151,jewellery,bangles bracelets armlets,bangles,5.0,30/12/2015,292.0\\nP-12043,B-3215,baby care,baby kids gifts,stickers,1.2,1/12/2018,3018.0\\nP-7370,B-1979,kitchen dining,cookware,pots pans,4.0,1/12/2013,469.0\\nP-9631,B-2504,home furnishing,bed linen,blankets quilts dohars,3.0,1/1/2020,1498.0\\nP-4902,B-2373,clothing,women s clothing,western wear,2.6,30/12/2013,492.0\\nP-3157,B-813,jewellery,necklaces chains,necklaces,2.7,1/12/2017,291.0\\nP-2457,B-2680,clothing,women s clothing,western wear,4.4,30/12/2014,496.0\\nP-6813,B-1815,mast harbour black synthetic clutch,unknown,unknown,1.8,4/4/2016,1896.0\\nP-2505,B-3078,clothing,women s clothing,western wear,4.4,1/1/2019,359.0\\nP-8763,B-2355,clothing,women s clothing,lingerie sleep swimwear,1.7,7/1/2013,399.0\\nP-8435,B-1154,clothing,women s clothing,lingerie sleep swimwear,3.9,7/1/2014,398.0\\nP-6046,B-3078,clothing,women s clothing,western wear,2.1,1/12/2015,889.0\\nP-10138,B-3078,toys school supplies,school supplies,geometry pencil boxes,2.5,1/12/2016,33.0\\nP-1900,B-405,jewellery,rings,unknown,1.2,1/1/2013,25366.0\\nP-8027,B-3078,beauty and personal care,combos and kits,oxyglow combos and kits,1.1,12/12/2018,454.0\\nP-12271,B-3271,sports fitness,fitness accessories,accessories,5.0,24/6/2018,709.0\\nP-11086,B-2201,clothing,women s clothing,lingerie sleep swimwear,5.0,7/1/2014,268.0\\nP-10406,B-2741,speedwav 216552 manual rear view mirror right,unknown,unknown,2.6,3/3/2018,717.0\\nP-2641,B-3078,watches,wrist watches,d signer wrist watches,2.0,4/12/2017,8544.0\\nP-7011,B-1853,home furnishing,cushions pillows covers,cushion covers,3.7,29/12/2017,691.0\\nP-8263,B-3078,watches,wrist watches,perucci wrist watches,1.3,12/12/2015,1386.0\\nP-5308,B-1417,jewellery,necklaces chains,necklaces,4.7,1/12/2019,409.0\\nP-2714,B-3078,clothing,women s clothing,western wear,4.9,1/1/2015,492.0\\nP-10438,B-2741,automotive,accessories spare parts,car interior exterior,3.6,21/4/2016,357.0\\nP-12498,B-3337,home furnishing,living,unknown,1.7,20/12/2013,448.0\\nP-4340,B-3078,beauty and personal care,makeup,vanity boxes,3.0,4/1/2014,783.0\\nP-5875,B-1536,clothing,kids clothing,girls wear,1.2,21/3/2015,209.0\\nP-3136,B-810,tools hardware,tools,gardening tools,2.7,7/1/2018,790.0\\nP-3198,B-825,home furnishing,bed linen,blankets quilts dohars,4.3,1/1/2014,993.0\\nP-6337,B-1654,footwear,women s footwear,heels,1.9,24/4/2019,2960.0\\nP-11525,B-3079,home furnishing,bed linen,blankets quilts dohars,5.0,1/1/2014,594.0\\nP-1033,B-3078,clothing,men s clothing,accessories combo sets,4.1,31/12/2019,489.0\\nP-1498,B-276,jewellery,accessories,brooches,1.4,28/2/2019,897.0\\nP-11949,B-3197,jewellery,jewellery sets,unknown,2.7,4/1/2019,642.0\\nP-7756,B-3078,clothing,men s clothing,t shirts,4.7,13/12/2012,277.0\\nP-10389,B-2741,automotive,accessories spare parts,spares performance parts,2.9,12/3/2018,588.0\\nP-1767,B-379,clothing,men s clothing,shirts,3.5,5/3/2019,369.0\\nP-12085,B-3222,jewellery,bangles bracelets armlets,bangles,3.1,30/12/2016,194.0\\nP-1549,B-294,baby care,infant wear,baby boys clothes,3.9,24/4/2014,499.0\\nP-2098,B-468,kitchen dining,consumables disposables,bowls,2.5,19/4/2013,692.0\\nP-5641,B-3078,beauty and personal care,fragrances,deodorants,5.0,1/12/2016,345.0\\nP-9826,B-2567,tools hardware,tools,hardware electricals,1.0,17/6/2017,265.0\\nP-9486,B-2451,home decor festive needs,showpieces,ethnic,1.2,1/12/2017,387.0\\nP-1127,B-169,footwear,kids infant footwear,for girls,3.3,5/4/2020,498.0\\nP-6406,B-3078,footwear,women s footwear,wedges,4.1,7/1/2019,429.0\\nP-4954,B-1309,home decor festive needs,table decor handicrafts,water fountains,1.8,1/12/2014,2821.0\\nP-10926,B-2895,computers,network components,routers,5.0,1/12/2019,1890.0\\nP-134,B-3078,clothing,women s clothing,western wear,2.7,6/1/2014,849.0\\nP-5394,B-1438,clothing,kids clothing,girls wear,1.5,18/3/2017,696.0\\nP-3342,B-863,clothing,women s clothing,western wear,4.3,3/3/2019,594.0\\nP-11869,B-3192,jewellery,bangles bracelets armlets,bangles,3.1,30/12/2019,529.0\\nP-3861,B-3078,footwear,women s footwear,heels,1.3,6/1/2019,797.0\\nP-6468,B-1685,bags wallets belts,bags,sling bags,4.7,30/4/2015,1295.0\\nP-5196,B-1378,jewellery,necklaces chains,necklaces,3.2,1/12/2016,341.0\\nP-7899,B-2106,computers,laptop accessories,usb gadgets,4.2,29/12/2015,1480.0\\nP-11515,B-3076,clothing,kids clothing,infants wear,1.5,13/4/2013,416.0\\nP-2511,B-615,baby care,infant wear,baby boys clothes,4.5,2/4/2015,289.0\\nP-7349,B-1970,clothing,kids clothing,girls wear,2.0,10/5/2019,892.0\\nP-9151,B-2344,clothing,men s clothing,shirts,2.6,19/6/2016,1252.0\\nP-1489,B-272,automotive,car bike accessories,bike essentials,4.1,17/6/2018,497.0\\nP-4706,B-1252,jewellery,necklaces chains,necklaces,3.3,1/12/2018,415.0\\nP-6707,B-1770,jewellery,necklaces chains,chains,4.4,21/6/2015,1207.0\\nP-6376,B-3078,footwear,men s footwear,formal shoes,3.5,29/12/2018,991.0\\nP-10012,B-2627,home decor festive needs,wall decor clocks,paintings,1.5,17/6/2019,797.0\\nP-5003,B-1318,jewellery,rings,unknown,1.5,6/1/2014,3495.0\\nP-11925,B-3197,jewellery,necklaces chains,necklaces,3.9,1/12/2016,401.0\\nP-8229,B-2372,clothing,women s clothing,western wear,3.4,30/12/2014,398.0\\nP-11051,B-3078,clothing,women s clothing,western wear,4.6,7/1/2015,563.0\\nP-11285,B-2984,computers,network components,routers,3.6,1/12/2012,1909.0\\nP-7570,B-3078,footwear,women s footwear,casual shoes,1.9,1/12/2015,791.0\\nP-11390,B-3078,clothing,women s clothing,western wear,2.1,7/1/2016,641.0\\nP-3824,B-983,automotive,accessories spare parts,car electronics accessories,3.6,1/12/2018,242.0\\nP-1644,B-3078,clothing,women s clothing,western wear,5.0,30/12/2016,468.0\\nP-11575,B-3094,jewellery,bangles bracelets armlets,bangles,4.1,30/12/2018,342.0\\nP-2639,B-664,clothing,kids clothing,girls wear,2.5,15/6/2020,645.0\\nP-4794,B-1265,sports fitness,team sports,cricket,3.8,30/4/2014,385.0\\nP-11399,B-3032,pens stationery,office supplies,tucasa office supplies,1.3,2/3/2018,742.0\\nP-1184,B-3078,footwear,women s footwear,wedges,2.2,29/12/2018,709.0\\nP-3748,B-960,clothing,women s clothing,combo sets,1.4,13/4/2018,1192.0\\nP-5502,B-1465,tools hardware,tools,gardening tools,3.0,7/1/2014,596.0\\nP-7617,B-3078,clothing,men s clothing,t shirts,5.0,13/12/2018,391.0\\nP-6752,B-1793,jewellery,rings,manirathnum manirathnum garnet peridot gemston,1.8,28/3/2016,374.0\\nP-7672,B-3078,clothing,men s clothing,t shirts,1.3,13/12/2015,242.0\\nP-35,B-1,automotive,accessories spare parts,car interior exterior,3.6,1/12/2018,1455.0\\nP-5847,B-1526,footwear,women s footwear,flats,1.6,24/4/2019,1744.0\\nP-8965,B-2307,jewellery,rings,unknown,2.5,1/1/2020,25960.0\\nP-6689,B-378,clothing,women s clothing,lingerie sleep swimwear,1.2,7/1/2018,396.0\\nP-5531,B-1470,footwear,men s footwear,sports shoes,3.9,4/4/2015,1292.0\\nP-4530,B-3078,clothing,women s clothing,ethnic wear,1.8,7/1/2017,740.0\\nP-9078,B-2326,jewellery,rings,unknown,2.6,1/1/2019,25699.0\\nP-4741,B-1260,jewellery,necklaces chains,necklaces,3.4,1/12/2018,475.0\\nP-10776,B-2847,home furnishing,living,sofa covers,1.5,26/5/2016,689.0\\nP-10435,B-2741,automotive,accessories spare parts,car interior exterior,4.5,21/4/2019,352.0\\nP-11644,B-3123,jewellery,accessories,brooches,2.9,28/2/2020,442.0\\nP-3870,B-3078,footwear,women s footwear,heels,3.7,29/12/2018,995.0\\nP-9007,B-2307,jewellery,rings,unknown,3.1,1/1/2020,20861.0\\nP-9505,B-2459,jewellery,accessories,brooches,1.1,28/2/2013,545.0\\nP-12045,B-3215,baby care,baby kids gifts,stickers,4.2,1/12/2018,1330.0\\nP-2097,B-467,clothing,women s clothing,sports gym wear,1.2,1/4/2019,595.0\\nP-11543,B-3082,jewellery,necklaces chains,necklaces,2.7,1/12/2014,392.0\\nP-4817,B-1270,clothing,men s clothing,sports wear,3.6,13/6/2019,5943.0\\nP-2175,B-495,clothing,women s clothing,western wear,2.0,26/3/2017,698.0\\nP-10499,B-3078,sports fitness,other sports,swimming,5.0,3/1/2019,246.0\\nP-1661,B-3078,footwear,women s footwear,heels,3.2,6/1/2015,493.0\\nP-8937,B-2307,jewellery,rings,unknown,4.0,1/1/2020,16359.0\\nP-6391,B-2679,clothing,men s clothing,shirts,4.5,6/1/2015,597.0\\nP-4378,B-1140,home decor festive needs,garden leisure,garden stakes,2.8,1/1/2015,944.0\\nP-11363,B-3017,clothing,women s clothing,lingerie sleep swimwear,4.3,2/4/2013,1616.0\\nP-6450,B-1681,footwear,men s footwear,formal shoes,3.7,5/6/2014,1364.0\\nP-6366,B-2372,clothing,men s clothing,shirts,4.0,6/12/2018,490.0\\nP-5106,B-3078,clothing,men s clothing,shirts,4.0,6/12/2016,757.0\\nP-5014,B-2372,clothing,men s clothing,shirts,1.2,6/12/2017,779.0\\nP-1466,B-3078,footwear,women s footwear,flats,2.5,7/1/2013,241.0\\nP-3207,B-3078,watches,wrist watches,eleganzza wrist watches,3.5,4/12/2015,495.0\\nP-1679,B-3078,clothing,men s clothing,jeans,2.9,12/12/2016,594.0\\nP-3841,B-3078,beauty and personal care,fragrances,deodorants,1.3,1/12/2018,396.0\\nP-1497,B-276,jewellery,accessories,brooches,3.5,28/2/2017,697.0\\nP-774,B-133,automotive,accessories spare parts,car interior exterior,4.6,1/12/2014,1596.0\\nP-4515,B-2373,clothing,women s clothing,western wear,2.9,30/12/2014,393.0\\nP-2025,B-438,footwear,men s footwear,formal shoes,2.1,5/6/2013,1198.0\\nP-6321,B-1647,laser x checkered men s boxer pack of 4,unknown,unknown,3.7,5/5/2018,640.0\\nP-3907,B-1008,kitchen dining,lighting,bulbs,2.6,31/12/2012,394.0\\nP-7467,B-2000,newgen tech eo hs3303 218 wired headset white,unknown,unknown,3.1,12/6/2020,199.0\\nP-3422,B-884,home decor festive needs,table decor handicrafts,showpieces,3.2,1/1/2014,907.0\\nP-11402,B-3033,jewellery,necklaces chains,necklaces,3.4,1/12/2016,192.0\\nP-3453,B-897,kitchen dining,bar glassware,bar glasses,4.3,16/4/2015,549.0\\nP-3270,B-2373,clothing,women s clothing,western wear,1.2,30/12/2018,497.0\\nP-12214,B-3260,baby care,infant wear,baby girls clothes,4.5,7/6/2017,748.0\\nP-1633,B-331,baby care,infant wear,baby girls clothes,3.4,22/3/2017,842.0\\nP-3009,B-772,footwear,women s footwear,heels,3.5,11/6/2017,1138.0\\nP-10163,B-2695,computers,laptop accessories,adapters,5.0,11/3/2019,534.0\\nP-9406,B-2416,footwear,men s footwear,formal shoes,4.2,5/6/2016,890.0\\nP-9776,B-2548,computers,network components,routers,3.2,1/12/2018,17990.0\\nP-6025,B-3078,footwear,men s footwear,casual shoes,1.8,29/12/2019,1592.0\\nP-12290,B-3274,automotive,accessories spare parts,spares performance parts,1.3,31/12/2018,332.0\\nP-8088,B-2136,watches,wrist watches,palito wrist watches,4.0,24/4/2020,193.0\\nP-5048,B-3078,clothing,women s clothing,western wear,2.4,31/12/2014,349.0\\nP-6565,B-1726,beauty and personal care,hair care,hair colors,4.1,22/5/2020,3292.0\\nP-622,B-133,automotive,accessories spare parts,car interior exterior,2.4,1/12/2013,1594.0\\nP-6554,B-3078,clothing,women s clothing,fusion wear,4.6,29/12/2019,572.0\\nP-2357,B-560,jewellery,bangles bracelets armlets,bangles,4.4,30/12/2013,492.0\\nP-12170,B-3246,toys school supplies,action figures,wishkey action figures,4.5,3/3/2018,299.0\\nP-7631,B-2039,footwear,men s footwear,casual shoes,1.8,7/3/2017,991.0\\nP-9488,B-2451,home decor festive needs,showpieces,ethnic,2.9,1/12/2018,650.0\\nP-1412,B-247,computers,network components,routers,4.0,1/12/2012,6500.0\\nP-5705,B-1517,jewellery,rings,unknown,3.0,1/1/2018,21812.0\\nP-1546,B-293,clothing,women s clothing,ethnic wear,2.5,13/6/2018,472.0\\nP-4479,B-1182,home furnishing,curtains accessories,curtains,1.0,31/12/2012,1298.0\\nP-11847,B-3187,jewellery,bangles bracelets armlets,bangles,4.7,30/12/2014,749.0\\nP-6599,B-397,clothing,women s clothing,lingerie sleep swimwear,3.0,7/1/2016,427.0\\nP-5496,B-3078,beauty and personal care,fragrances,deodorants,1.5,1/12/2013,321.0\\nP-12419,B-3303,jewellery,bangles bracelets armlets,bracelets,4.3,20/12/2019,1695.0\\nP-9995,B-2619,kitchen dining,cookware,pots pans,3.7,1/12/2016,530.0\\nP-6408,B-1666,bags wallets belts,bags,backpacks,4.0,24/5/2013,983.0\\nP-1656,B-340,computers,network components,routers,3.9,1/12/2012,8190.0\\nP-2079,B-462,mobiles accessories,mobile accessories,screen protectors,1.8,12/3/2019,273.0\\nP-11438,B-3049,automotive,accessories spare parts,spares performance parts,4.8,31/12/2019,493.0\\nP-7676,B-3078,clothing,men s clothing,t shirts,4.4,13/12/2013,494.0\\nP-10264,B-3078,watches,wrist watches,sonata wrist watches,4.5,7/1/2018,947.0\\nP-3719,B-3078,watches,wrist watches,felix wrist watches,5.0,4/12/2019,546.0\\nP-4567,B-1211,home furnishing,living room furnishing,cushion covers,2.3,26/6/2014,479.0\\nP-5005,B-3078,clothing,women s clothing,ethnic wear,2.2,1/12/2016,291.0\\nP-3672,B-942,mobiles accessories,tablet accessories,cases covers,2.8,31/12/2015,295.0\\nP-9391,B-3078,kitchen dining,coffee mugs,rockmantra coffee mugs,3.6,1/12/2018,197.0\\nP-10016,B-2630,home decor festive needs,showpieces,ethnic,2.8,1/12/2014,597.0\\nP-5406,B-3078,clothing,women s clothing,ethnic wear,4.1,1/12/2019,949.0\\nP-4309,B-1115,tools hardware,tools,gardening tools,1.3,7/1/2019,496.0\\nP-7317,B-1958,footwear,kids infant footwear,for boys,3.8,2/6/2020,956.0\\nP-11305,B-2992,computers,audio players,mp4 video mp3 players,3.8,4/1/2015,3450.0\\nP-678,B-133,automotive,accessories spare parts,car interior exterior,1.0,1/12/2017,1597.0\\nP-8604,B-3078,kitchen dining,coffee mugs,printland coffee mugs,3.6,1/12/2016,297.0\\nP-11833,B-3182,vishudh printed women s anarkali kurta,unknown,unknown,2.3,5/4/2017,1043.0\\nP-8954,B-2307,jewellery,rings,unknown,4.7,1/1/2014,26267.0\\nP-11211,B-2959,baby care,infant wear,baby girls clothes,3.6,2/3/2017,399.0\\nP-6550,B-3078,clothing,women s clothing,western wear,3.2,1/12/2015,895.0\\nP-3709,B-3078,clothing,women s clothing,western wear,2.3,7/1/2017,244.0\\nP-10053,B-3078,clothing,women s clothing,ethnic wear,1.2,30/12/2015,694.0\\nP-3292,B-3078,beauty and personal care,fragrances,deodorants,4.3,1/12/2019,341.0\\nP-2662,B-3078,clothing,women s clothing,ethnic wear,2.5,31/12/2017,394.0\\nP-11391,B-3027,clothing,women s clothing,western wear,2.9,10/5/2014,385.0\\nP-118,B-30,jewellery,necklaces chains,necklaces,2.3,1/12/2014,597.0\\nP-3265,B-3078,beauty and personal care,fragrances,deodorants,4.3,1/12/2016,392.0\\nP-7795,B-3078,clothing,men s clothing,t shirts,2.8,13/12/2016,418.0\\nP-9370,B-3078,kitchen dining,coffee mugs,rockmantra coffee mugs,2.6,1/12/2013,194.0\\nP-3143,B-810,tools hardware,tools,gardening tools,1.7,7/1/2017,541.0\\nP-7439,B-1994,computers,network components,routers,1.0,1/12/2013,1242.0\\nP-4744,B-1260,jewellery,necklaces chains,necklaces,1.6,1/12/2014,471.0\\nP-9100,B-3078,clothing,women s clothing,fusion wear,1.8,7/1/2014,378.0\\nP-1858,B-405,jewellery,rings,unknown,3.7,6/1/2020,20413.0\\nP-669,B-133,automotive,accessories spare parts,car interior exterior,4.1,1/12/2015,1594.0\\nP-3975,B-1020,jewellery,rings,unknown,4.8,1/1/2016,30758.0\\nP-5749,B-1517,jewellery,rings,unknown,1.8,1/1/2018,26229.0\\nP-6455,B-3078,clothing,men s clothing,cargos shorts 3 4ths,3.6,4/1/2013,1070.0\\nP-7000,B-3078,clothing,women s clothing,western wear,2.7,1/12/2019,693.0\\nP-9876,B-2586,clothing,women s clothing,ethnic wear,3.7,11/5/2015,541.0\\nP-9399,B-3078,kitchen dining,coffee mugs,rockmantra coffee mugs,2.5,1/12/2012,197.0\\nP-7583,B-2026,jewellery,necklaces chains,necklaces,4.0,31/12/2012,17814.0\\nP-274,B-78,jewellery,jewellery sets,unknown,2.7,31/12/2016,299.0\\nP-12044,B-3215,baby care,baby kids gifts,stickers,4.2,1/12/2016,2062.0\\nP-9530,B-2463,home decor festive needs,showpieces,s c handicrafts showpieces,4.3,1/12/2012,8897.0\\nP-6621,B-1739,home entertainment,video players accessories,video accessories,4.1,24/4/2017,238.0\\nP-9917,B-2599,home furnishing,living,unknown,2.5,20/12/2013,743.0\\nP-7140,B-3078,footwear,men s footwear,formal shoes,2.0,29/12/2012,1999.0\\nP-10581,B-3078,clothing,men s clothing,winter seasonal wear,4.0,29/12/2017,1049.0\\nP-9886,B-3078,clothing,women s clothing,ethnic wear,3.7,29/12/2017,345.0\\nP-2122,B-3078,clothing,men s clothing,t shirts,1.9,7/1/2020,396.0\\nP-2328,B-3078,beauty and personal care,fragrances,deodorants,1.0,1/12/2012,272.0\\nP-9453,B-2439,jewellery,bangles bracelets armlets,bangles,3.5,20/12/2015,217.0\\nP-7358,B-1973,home decor festive needs,table decor handicrafts,decorative platters,4.9,4/1/2017,594.0\\nP-6497,B-1703,computers,network components,routers,4.0,1/12/2012,8993.0\\nP-3581,B-3078,clothing,women s clothing,western wear,3.5,7/1/2020,343.0\\nP-2920,B-748,toys school supplies,action figures,disney action figures,4.6,28/3/2014,289.0\\nP-4173,B-3078,clothing,men s clothing,accessories combo sets,4.6,31/12/2014,448.0\\nP-6445,B-3078,sports fitness,team sports,basketball,4.5,29/12/2018,981.0\\nP-8,B-3078,footwear,men s footwear,formal shoes,2.4,29/12/2013,546.0\\nP-6392,B-3078,clothing,men s clothing,jeans,2.8,4/12/2018,1611.0\\nP-11680,B-3078,clothing,women s clothing,western wear,3.6,7/1/2019,591.0\\nP-9408,B-3078,clothing,men s clothing,winter seasonal wear,4.3,29/12/2018,391.0\\nP-11796,B-3172,jewellery,nose rings studs,unknown,3.1,31/12/2014,695.0\\nP-6964,B-3078,clothing,women s clothing,western wear,1.5,1/12/2017,722.0\\nP-5768,B-1517,jewellery,rings,unknown,4.7,1/1/2015,35994.0\\nP-5738,B-1517,jewellery,rings,unknown,3.2,1/1/2016,20124.0\\nP-1446,B-2372,clothing,women s clothing,western wear,2.7,30/12/2014,371.0\\nP-4113,B-1062,footwear,men s footwear,casual shoes,1.3,7/3/2019,467.0\\nP-5521,B-1466,jewellery,necklaces chains,necklaces,2.2,1/12/2013,243.0\\nP-3276,B-850,mobiles accessories,tablet accessories,cases covers,1.5,1/1/2015,1692.0\\nP-12298,B-378,automation robotics,smart door locks,unknown,3.0,4/1/2018,16998.0\\nP-7072,B-3078,clothing,women s clothing,western wear,1.8,1/12/2013,830.0\\nP-5779,B-1517,jewellery,rings,unknown,4.4,1/1/2014,26445.0\\nP-9716,B-2530,furniture,pet furniture,unknown,4.3,29/12/2017,293.0\\nP-9012,B-2307,jewellery,rings,unknown,2.1,1/1/2014,39201.0\\nP-4492,B-3078,clothing,women s clothing,western wear,4.8,30/12/2017,491.0\\nP-9181,B-2362,clothing,women s clothing,western wear,2.9,11/6/2015,590.0\\nP-12526,B-3078,footwear,men s footwear,casual shoes,3.3,29/12/2014,1344.0\\nP-7044,B-1866,sunglasses,mikado aviator sunglasses,unknown,3.8,10/6/2018,170.0\\nP-2222,B-3078,watches,wrist watches,cb fashion wrist watches,1.7,31/12/2013,680.0\\nP-1903,B-405,jewellery,rings,unknown,2.1,7/1/2013,17105.0\\nP-3909,B-3078,clothing,women s clothing,western wear,3.8,1/1/2013,465.0\\nP-2385,B-3078,clothing,women s clothing,western wear,4.2,7/1/2016,566.0\\nP-444,B-101,home improvement,lawn gardening,plants,2.1,7/1/2018,72.0\\nP-5789,B-3078,clothing,women s clothing,western wear,3.3,30/12/2015,290.0\\nP-10364,B-2741,automotive,accessories spare parts,bike essentials,2.7,18/3/2019,455.0\\nP-8443,B-3078,beauty and personal care,fragrances,deodorants,3.9,1/12/2014,233.0\\nP-6276,B-2373,clothing,women s clothing,western wear,2.1,30/12/2014,346.0\\nP-1731,B-362,home decor festive needs,showpiece,bharatcraft showpiece,4.1,8/5/2020,1114.0\\nP-12337,B-3283,clothing,men s clothing,ethnic wear,5.0,3/3/2015,596.0\\nP-2438,B-587,coirfit single coir mattress,unknown,unknown,1.2,10/5/2018,7790.0\\nP-1940,B-414,clothing,kids clothing,boys wear,3.2,2/3/2015,475.0\\nP-2279,B-2372,clothing,women s clothing,western wear,3.6,30/12/2014,470.0\\nP-12371,B-3292,clothing,kids clothing,girls wear,1.9,26/5/2017,493.0\\nP-1388,B-3078,footwear,women s footwear,flats,3.4,7/1/2016,597.0\\nP-7913,B-2111,furniture,kids room furniture,kids tables seating,4.5,3/3/2014,997.0\\nP-1573,B-309,home furnishing,bath linen,towels,3.4,20/12/2019,485.0\\nP-3591,B-925,clothing,women s clothing,ethnic wear,1.2,20/5/2014,2645.0\\nP-7803,B-2074,tools hardware,tools,hardware electricals,4.4,17/6/2015,499.0\\nP-12506,B-3339,clothing,kids clothing,boys wear,1.9,12/5/2018,710.0\\nP-8432,B-2281,clothing,women s clothing,lingerie sleep swimwear,2.0,7/1/2013,323.0\\nP-7807,B-681,clothing,women s clothing,lingerie sleep swimwear,1.0,7/1/2020,124.0\\nP-6715,B-1773,clothing,men s clothing,inner wear sleep wear,1.1,5/5/2019,284.0\\nP-3201,B-3078,clothing,women s clothing,western wear,4.9,7/1/2015,390.0\\nP-4214,B-1086,home decor festive needs,festive decor,holi essentials,2.1,11/3/2018,1142.0\\nP-2808,B-725,kitchen dining,kitchen tools,kitchen implements,1.9,1/12/2018,746.0\\nP-2660,B-672,footwear,women s footwear,flats,3.9,24/4/2016,391.0\\nP-3019,B-3078,pens stationery,school supplies,geometry pen pencil boxes,4.4,1/12/2019,125.0\\nP-6708,B-1771,home furnishing,living room furnishing,cushion covers,2.7,23/6/2016,97.0\\nP-10896,B-2891,eyewear,frames,ted smith full rim wayfarer frame 53 mm,3.2,19/3/2014,1493.0\\nP-4858,B-1278,kitchen dining,kitchen tools,choppers peelers,3.9,24/2/2019,189.0\\nP-8233,B-2372,clothing,women s clothing,western wear,4.2,30/12/2015,413.0\\nP-2455,B-3078,clothing,women s clothing,western wear,2.2,30/12/2017,498.0\\nP-4835,B-1273,clothing,women s clothing,ethnic wear,1.5,28/5/2019,945.0\\nP-3105,B-798,clothing,kids clothing,boys wear,3.4,10/5/2019,832.0\\nP-10963,B-2907,baby care,infant wear,baby girls clothes,3.2,28/2/2014,397.0\\nP-11838,B-3185,home decor festive needs,wall decor clocks,paintings,1.5,31/12/2014,1845.0\\nP-11007,B-2923,jewellery,earrings,unknown,2.4,12/12/2018,668.0\\nP-3172,B-818,bags wallets belts,bags,hand bags,2.2,3/6/2020,997.0\\nP-5937,B-1564,automotive,car bike accessories,car interior exterior,3.8,17/6/2014,1845.0\\nP-2059,B-3078,clothing,women s clothing,western wear,1.1,7/1/2014,393.0\\nP-9772,B-2547,home decor festive needs,showpiece,contemporary,3.8,24/4/2015,1491.0\\nP-793,B-133,automotive,accessories spare parts,car interior exterior,1.3,1/12/2019,1348.0\\nP-12205,B-3078,baby care,baby kids gifts,photo frames,3.4,31/12/2014,449.0\\nP-3405,B-879,jewellery,necklaces chains,necklaces,1.1,1/12/2018,243.0\\nP-346,B-88,automotive,accessories spare parts,car interior exterior,4.3,10/5/2014,195.0\\nP-6706,B-3078,clothing,women s clothing,western wear,5.0,1/12/2015,792.0\\nP-304,B-80,jewellery,necklaces chains,necklaces,1.6,1/12/2017,576.0\\nP-2561,B-3078,footwear,women s footwear,casual shoes,4.0,1/12/2019,996.0\\nP-11557,B-3086,beauty and personal care,makeup,makeup accessories,1.6,10/5/2018,998.0\\nP-1170,B-3078,beauty and personal care,fragrances,deodorants,3.1,1/12/2019,197.0\\nP-8871,B-3078,clothing,men s clothing,accessories combo sets,1.3,31/12/2013,665.0\\nP-2343,B-557,jewellery,rings,unknown,4.0,6/1/2019,1563.0\\nP-12449,B-3314,clothing,women s clothing,western wear,4.0,24/4/2017,549.0\\nP-3508,B-909,home furnishing,curtains accessories,curtains,4.0,31/12/2013,3189.0\\nP-9663,B-2515,tools hardware,tools,tool accessories,2.3,29/12/2013,299.0\\nP-455,B-108,clothing,women s clothing,formal wear,4.9,24/2/2015,791.0\\nP-1375,B-240,jewellery,rings,unknown,2.7,6/1/2016,965.0\\nP-4165,B-3078,footwear,men s footwear,casual shoes,1.9,29/12/2012,1873.0\\nP-3313,B-855,home furnishing,bed linen,blankets quilts dohars,1.6,1/1/2018,1191.0\\nP-11689,B-3078,sports fitness,other sports,skating,3.6,3/1/2019,2489.0\\nP-559,B-133,automotive,accessories spare parts,car interior exterior,2.1,1/12/2012,1595.0\\nP-5656,B-1512,mobiles accessories,tablet accessories,cases covers,3.7,1/1/2019,599.0\\nP-5474,B-3078,clothing,men s clothing,shirts,3.2,6/12/2018,691.0\\nP-6186,B-3078,clothing,women s clothing,western wear,5.0,1/12/2014,746.0\\nP-5108,B-1353,jewellery,necklaces chains,necklaces,1.9,1/12/2013,492.0\\nP-8514,B-2245,kitchen dining,pressure cookers pans,prestige pressure cookers pans,3.0,3/12/2018,2096.0\\nP-11119,B-2945,pens stationery,office supplies,diaries,1.7,31/12/2018,793.0\\nP-5392,B-1437,jewellery,necklaces chains,necklaces,1.6,22/6/2016,797.0\\nP-741,B-133,automotive,accessories spare parts,car interior exterior,3.4,1/12/2012,1595.0\\nP-664,B-133,automotive,accessories spare parts,car interior exterior,2.0,1/12/2012,1591.0\\nP-8254,B-3078,watches,wrist watches,perucci wrist watches,3.4,12/12/2017,536.0\\nP-1009,B-133,automotive,accessories spare parts,car interior exterior,4.8,1/12/2015,1371.0\\nP-4411,B-1151,tools hardware,tools,gardening tools,3.0,7/1/2015,292.0\\nP-7431,B-1993,computers,network components,routers,3.5,1/12/2014,7547.0\\nP-9017,B-2307,jewellery,rings,unknown,4.7,1/1/2019,21911.0\\nP-4699,B-1247,home furnishing,bed linen,blankets quilts dohars,1.5,1/1/2020,1299.0\\nP-12058,B-3218,mobiles accessories,mobile accessories,power banks,2.6,5/3/2019,2141.0\\nP-2043,B-3078,clothing,men s clothing,winter seasonal wear,1.0,20/12/2017,953.0\\nP-10003,B-3078,clothing,women s clothing,western wear,2.7,3/12/2012,554.0\\nP-4215,B-3078,clothing,women s clothing,ethnic wear,2.8,30/12/2019,585.0\\nP-6281,B-3078,bags wallets belts,luggage travel,rucksacks,4.7,1/1/2016,2048.0\\nP-5884,B-1542,computers,laptop accessories,usb gadgets,4.0,29/12/2014,541.0\\nP-2292,B-397,clothing,women s clothing,lingerie sleep swimwear,1.8,7/1/2020,385.0\\nP-3540,B-911,jewellery,necklaces chains,necklaces,2.7,1/12/2017,246.0\\nP-911,B-133,automotive,accessories spare parts,car interior exterior,1.7,1/12/2013,910.0\\nP-7028,B-3078,footwear,men s footwear,casual shoes,4.8,29/12/2016,1881.0\\nP-3708,B-2679,clothing,women s clothing,western wear,4.8,30/12/2012,492.0\\nP-590,B-133,automotive,accessories spare parts,car interior exterior,3.5,1/12/2013,1596.0\\nP-12288,B-3274,automotive,accessories spare parts,spares performance parts,4.8,31/12/2013,341.0\\nP-833,B-133,automotive,accessories spare parts,car interior exterior,5.0,1/12/2015,1343.0\\nP-8997,B-2307,jewellery,rings,unknown,1.6,1/1/2016,25224.0\\nP-10839,B-3078,clothing,women s clothing,western wear,4.3,6/1/2019,411.0\\nP-7457,B-2000,gaming,gaming accessories,headphones with mic,3.5,10/5/2017,154.0\\nP-11463,B-3060,ufo full sleeve solid girl s jacket,unknown,unknown,4.8,2/4/2014,712.0\\nP-5973,B-1569,mobiles accessories,mobile accessories,mobile pouches,4.0,5/3/2018,450.0\\nP-10654,B-3078,footwear,men s footwear,formal shoes,1.4,29/12/2012,1889.0\\nP-3457,B-898,sports fitness,other sports,golf,1.4,5/3/2018,593.0\\nP-10025,B-2373,clothing,women s clothing,western wear,3.1,30/12/2018,446.0\\nP-7067,B-1878,clothing,women s clothing,western wear,3.2,10/5/2017,299.0\\nP-3448,B-894,baby care,feeding nursing,utensils,2.4,12/12/2018,393.0\\nP-6294,B-1645,computers,laptop accessories,batteries,3.2,7/1/2017,1699.0\\nP-5505,B-1466,jewellery,necklaces chains,necklaces,3.5,1/12/2019,292.0\\nP-9718,B-2530,furniture,pet furniture,unknown,4.5,29/12/2013,295.0\\nP-4095,B-3078,sports fitness,racquet sports,tennis,1.1,1/1/2015,1241.0\\nP-813,B-133,automotive,accessories spare parts,car interior exterior,4.3,1/12/2016,1591.0\\nP-2967,B-759,computers,laptop accessories,usb gadgets,1.1,29/12/2015,398.0\\nP-4792,B-3078,watches,wrist watches,hpd wrist watches,2.7,12/12/2019,241.0\\nP-9076,B-2326,jewellery,rings,unknown,1.8,1/1/2020,27515.0\\nP-2622,B-662,computers,network components,routers,1.2,20/3/2018,1977.0\\nP-1670,B-3078,clothing,kids clothing,girls wear,2.4,7/1/2020,475.0\\nP-1968,B-422,clothing,women s clothing,western wear,4.9,25/3/2016,796.0\\nP-5482,B-3078,footwear,women s footwear,casual shoes,1.2,1/12/2012,435.0\\nP-3659,B-3078,watches,wrist watches,fastrack wrist watches,4.8,7/1/2020,750.0\\nP-4505,B-1193,jewellery,bangles bracelets armlets,bangles,1.8,20/12/2013,1896.0\\nP-9200,B-2370,computers,laptop accessories,batteries,4.3,7/1/2019,1299.0\\nP-8442,B-2222,clothing,kids clothing,girls wear,1.1,1/5/2018,2462.0\\nP-8338,B-2186,home decor festive needs,showpieces,ethnic,1.2,1/12/2012,599.0\\nP-8356,B-3078,clothing,men s clothing,winter seasonal wear,2.4,31/12/2017,992.0\\nP-2286,B-537,jewellery,bangles bracelets armlets,bangles,2.0,10/5/2016,1092.0\\nP-6060,B-1593,clothing,kids clothing,girls wear,3.0,12/6/2018,1216.0\\nP-8916,B-2307,jewellery,rings,unknown,2.8,1/1/2014,35705.0\\nP-11001,B-2923,jewellery,earrings,unknown,3.6,12/12/2017,727.0\\nP-9377,B-3078,kitchen dining,coffee mugs,rockmantra coffee mugs,4.5,1/12/2017,194.0\\nP-12200,B-3252,clothing,women s clothing,lingerie sleep swimwear,4.9,2/3/2019,541.0\\nP-11989,B-3199,jewellery,necklaces chains,necklaces,2.6,1/12/2019,130.0\\nP-11574,B-3094,jewellery,bangles bracelets armlets,bangles,2.9,31/12/2014,737.0\\nP-3579,B-3078,clothing,women s clothing,western wear,4.0,1/1/2020,341.0\\nP-4513,B-3078,clothing,women s clothing,western wear,5.0,7/1/2020,391.0\\nP-9738,B-2372,clothing,women s clothing,western wear,4.8,30/12/2013,396.0\\nP-12459,B-3078,footwear,men s footwear,formal shoes,1.3,29/12/2019,1099.0\\nP-7651,B-3078,clothing,men s clothing,t shirts,4.9,13/12/2013,349.0\\nP-8476,B-2233,clothing,women s clothing,maternity wear,4.7,13/6/2019,664.0\\nP-541,B-3078,footwear,men s footwear,casual shoes,4.5,29/12/2016,1795.0\\nP-810,B-133,automotive,accessories spare parts,car interior exterior,3.8,1/12/2016,1348.0\\nP-1628,B-2679,clothing,women s clothing,western wear,3.5,30/12/2019,394.0\\nP-11748,B-3158,bags wallets belts,bags,hand bags,4.3,24/2/2019,12330.0\\nP-5262,B-2372,clothing,women s clothing,western wear,1.6,30/12/2016,456.0\\nP-1379,B-238,footwear,kids infant footwear,for boys,4.0,2/4/2020,248.0\\nP-7569,B-2022,clothing,kids clothing,boys wear,1.7,1/5/2020,855.0\\nP-2030,B-3078,footwear,men s footwear,casual shoes,1.7,29/12/2016,1818.0\\nP-7734,B-2058,clothing,men s clothing,inner wear sleep wear,2.1,16/6/2019,1097.0\\nP-1875,B-405,jewellery,rings,unknown,3.8,1/1/2017,33574.0\\nP-11545,B-3083,clothing,women s clothing,fusion wear,1.4,11/3/2018,981.0\\nP-2584,B-649,jewellery,bangles bracelets armlets,bangles,1.7,20/12/2015,615.0\\nP-11041,B-2929,jewellery,bangles bracelets armlets,bangles,4.0,30/12/2014,216.0\\nP-3741,B-3078,footwear,women s footwear,heels,2.0,31/12/2013,890.0\\nP-7056,B-1872,tools hardware,tools,gardening tools,1.1,7/1/2014,546.0\\nP-9316,B-2667,clothing,men s clothing,jeans,3.0,4/12/2016,1245.0\\nP-9970,B-2609,mobiles accessories,mobile accessories,speakers,4.9,20/5/2015,444.0\\nP-9887,B-3078,clothing,women s clothing,ethnic wear,2.7,29/12/2019,398.0\\nP-10943,B-2895,computers,network components,routers,3.7,1/12/2013,994.0\\nP-9783,B-3078,clothing,women s clothing,western wear,2.0,6/1/2014,997.0\\nP-7751,B-2063,clothing,kids clothing,boys wear,3.4,2/4/2015,623.0\\nP-863,B-133,automotive,accessories spare parts,car interior exterior,4.1,1/12/2016,920.0\\nP-2955,B-3078,footwear,women s footwear,wedges,3.8,7/1/2018,547.0\\nP-5377,B-1431,jewellery,rings,unknown,2.2,1/1/2017,30468.0\\nP-4889,B-1292,mobiles accessories,tablet accessories,cases covers,1.3,1/1/2016,595.0\\nP-1960,B-3078,clothing,women s clothing,western wear,3.5,30/12/2018,492.0\\nP-8745,B-3078,kitchen dining,coffee mugs,prithish coffee mugs,5.0,1/12/2014,216.0\\nP-10554,B-2766,kitchen dining,cookware,pots pans,1.5,1/12/2017,694.0\\nP-2608,B-658,clothing,women s clothing,ethnic wear,4.1,3/3/2017,1993.0\\nP-3713,B-3078,clothing,women s clothing,fusion wear,2.2,3/1/2019,306.0\\nP-8956,B-2307,jewellery,rings,unknown,1.6,1/1/2013,27551.0\\nP-1210,B-191,anuradha art stylish hair clip black,unknown,unknown,2.2,11/5/2016,349.0\\nP-8074,B-2133,clothing,kids clothing,girls wear,4.4,29/4/2020,789.0\\nP-7530,B-3078,toys school supplies,remote control toys,nikko remote control toys,5.0,1/1/2014,4995.0\\nP-5391,B-3078,clothing,men s clothing,jewlook men s clothing,2.6,6/1/2016,897.0\\nP-715,B-133,automotive,accessories spare parts,car interior exterior,2.6,1/12/2012,1594.0\\nP-5860,B-3078,clothing,women s clothing,western wear,4.7,1/12/2018,649.0\\nP-920,B-133,automotive,accessories spare parts,car interior exterior,4.3,1/12/2019,919.0\\nP-220,B-63,automotive,car bike accessories,car bike lighting,4.5,15/6/2020,944.0\\nP-11026,B-2925,home furnishing,bed linen,blankets quilts dohars,4.0,1/1/2013,696.0\\nP-975,B-133,automotive,accessories spare parts,car interior exterior,4.5,1/12/2019,1380.0\\nP-10928,B-2895,computers,network components,routers,3.3,1/12/2013,1311.0\\nP-11057,B-3078,clothing,women s clothing,western wear,3.9,30/12/2017,439.0\\nP-12082,B-3078,clothing,men s clothing,t shirts,2.2,15/12/2017,194.0\\nP-12399,B-3302,tools hardware,tools,gardening tools,2.1,7/1/2016,1795.0\\nP-2184,B-502,mobiles accessories,mobile accessories,mobile body panels,4.5,20/6/2020,592.0\\nP-12211,B-3259,home furnishing,bath linen,towels,2.9,20/12/2013,643.0\\nP-4213,B-3078,toys school supplies,remote control toys,gifts arts remote control toys,5.0,1/1/2013,4493.0\\nP-1339,B-222,furniture,living room,sofas sectionals,1.5,31/12/2017,61791.0\\nP-12367,B-3289,yo baby girl s trousers,unknown,unknown,2.1,5/4/2015,194.0\\nP-4084,B-1052,jewellery,necklaces chains,necklaces,2.0,1/12/2014,240.0\\nP-11612,B-3115,jewellery,earrings,unknown,5.0,12/12/2016,295.0\\nP-7086,B-3078,clothing,women s clothing,western wear,3.0,30/12/2013,447.0\\nP-4231,B-1092,clothing,kids clothing,infants wear,3.3,3/5/2014,239.0\\nP-8389,B-2204,beauty and personal care,hair care,hair care accessories,3.3,17/6/2019,478.0\\nP-8412,B-2214,pens stationery,pens,fountain pens,4.0,18/3/2017,1688.0\\nP-7061,B-3078,clothing,women s clothing,fusion wear,2.1,7/1/2020,545.0\\nP-3258,B-3078,beauty and personal care,fragrances,deodorants,2.6,1/12/2018,306.0\\nP-4296,B-1113,clothing,men s clothing,trousers,2.8,25/6/2020,997.0\\nP-11997,B-3200,kitchen dining,lighting,bulbs,1.5,31/12/2012,441.0\\nP-10534,B-3078,sports fitness,team sports,cricket,4.0,7/1/2015,7069.0\\nP-8976,B-2307,jewellery,rings,unknown,4.7,1/1/2014,30314.0\\nP-12457,B-3317,clothing,women s clothing,fusion wear,1.3,20/6/2020,854.0\\nP-2907,B-3078,toys school supplies,school supplies,geometry pencil boxes,1.9,1/12/2014,352.0\\nP-5590,B-1485,automotive,accessories spare parts,car electronics accessories,3.7,18/3/2015,1463.0\\nP-12313,B-3078,beauty and personal care,fragrances,deodorants,1.2,1/12/2018,317.0\\nP-3239,B-844,home decor festive needs,wall decor clocks,wall photo frames,3.2,12/5/2017,1297.0\\nP-3344,B-863,clothing,women s clothing,western wear,3.9,3/3/2019,540.0\\nP-6200,B-2281,clothing,women s clothing,lingerie sleep swimwear,5.0,7/1/2015,247.0\\nP-1389,B-3078,clothing,women s clothing,western wear,4.3,4/1/2016,1093.0\\nP-9579,B-3078,beauty and personal care,body and skin care,hand care,2.7,1/12/2017,501.0\\nP-7911,B-3078,clothing,men s clothing,t shirts,3.2,13/12/2019,354.0\\nP-1179,B-3078,footwear,women s footwear,wedges,3.3,29/12/2019,1009.0\\nP-1281,B-210,jewellery,pendants lockets,aria rhodium sterling silver pendant,1.9,11/3/2020,734.0\\nP-7191,B-1925,jewellery,bangles bracelets armlets,bangles,3.4,30/12/2016,294.0\\nP-5233,B-2373,clothing,men s clothing,shirts,3.6,6/12/2013,1389.0\\nP-2725,B-707,home kitchen,kitchen appliances,food makers,1.5,5/6/2019,324.0\\nP-9218,B-2370,computers,laptop accessories,adapters,4.9,12/12/2018,698.0\\nP-7769,B-2066,automotive,accessories spare parts,spares performance parts,2.0,3/3/2016,838.0\\nP-12476,B-3329,jewellery,necklaces chains,necklaces,4.4,1/12/2019,445.0\\nP-4807,B-3078,pens stationery,office supplies,desk organizers,2.3,1/1/2017,199.0\\nP-7838,B-3078,clothing,men s clothing,t shirts,3.2,13/12/2017,623.0\\nP-10938,B-2895,computers,network components,routers,3.6,1/12/2019,1229.0\\nP-7688,B-3078,clothing,men s clothing,t shirts,3.4,13/12/2015,894.0\\nP-5899,B-1552,clothing,women s clothing,ethnic wear,2.3,7/3/2017,2991.0\\nP-2618,B-661,d d women flats,unknown,unknown,2.7,10/5/2017,497.0\\nP-3234,B-842,clothing,women s clothing,lingerie sleep swimwear,4.6,23/6/2015,480.0\\nP-5943,B-3078,clothing,men s clothing,winter seasonal wear,1.4,31/12/2015,997.0\\nP-11396,B-3078,clothing,men s clothing,winter seasonal wear,2.9,29/12/2015,945.0\\nP-3115,B-802,home improvement,lawn gardening,plants,2.0,7/1/2018,160.0\\nP-3315,B-856,bags wallets belts,bags,hand bags,4.9,7/3/2018,2140.0\\nP-11593,B-3105,v g professional hd 37 hair dryer red,unknown,unknown,4.5,11/4/2013,1093.0\\nP-8967,B-2307,jewellery,rings,unknown,3.0,1/1/2016,32975.0\\nP-9388,B-3078,kitchen dining,coffee mugs,rockmantra coffee mugs,4.4,1/12/2017,193.0\\nP-6859,B-3078,watches,wrist watches,maxima wrist watches,3.2,7/1/2015,987.0\\nP-3928,B-3078,clothing,men s clothing,t shirts,2.0,7/1/2013,396.0\\nP-12059,B-3219,computers,network components,routers,3.0,1/12/2013,12311.0\\nP-12386,B-1686,clothing,women s clothing,lingerie sleep swimwear,1.4,7/1/2016,143.0\\nP-10878,B-2888,computers,laptop accessories,usb gadgets,1.8,29/12/2013,140.0\\nP-1122,B-167,jewellery,accessories,brooches,3.1,28/2/2014,255.0\\nP-7684,B-3078,clothing,men s clothing,t shirts,2.6,13/12/2017,710.0\\nP-2591,B-651,computers,laptop accessories,usb gadgets,4.0,29/12/2019,169.0\\nP-7972,B-2121,mobiles accessories,tablet accessories,cases covers,3.7,1/1/2017,1194.0\\nP-8671,B-3078,kitchen dining,coffee mugs,prithish coffee mugs,1.6,1/12/2017,224.0\\nP-2047,B-3078,footwear,men s footwear,formal shoes,3.7,29/12/2016,1512.0\\nP-7229,B-3078,clothing,women s clothing,fusion wear,2.7,7/1/2013,712.0\\nP-7839,B-3078,clothing,men s clothing,t shirts,3.8,13/12/2013,891.0\\nP-8783,B-2265,mobiles accessories,mobile accessories,screen protectors,1.9,12/3/2014,165.0\\nP-6827,B-3078,clothing,women s clothing,ethnic wear,2.4,1/12/2018,697.0\\nP-9226,B-2374,home furnishing,bath linen,towels,1.1,20/12/2012,261.0\\nP-4830,B-1271,clothing,kids clothing,girls wear,3.2,17/6/2019,1124.0\\nP-10540,B-3078,pens stationery,school supplies,geometry pen pencil boxes,2.8,1/12/2012,259.0\\nP-9543,B-2469,clothing,kids clothing,girls wear,3.8,11/3/2014,1193.0\\nP-4223,B-1089,home decor festive needs,showpiece,gramophones,2.9,15/6/2016,1524.0\\nP-3306,B-3078,pens stationery,school supplies,geometry pen pencil boxes,1.2,1/12/2015,359.0\\nP-9182,B-2363,sunglasses,redex cat eye sunglasses,unknown,2.2,21/6/2017,644.0\\nP-12445,B-3311,jewellery,necklaces chains,necklaces,1.3,1/12/2019,343.0\\nP-7424,B-1993,computers,network components,routers,4.2,1/12/2016,2490.0\\nP-9227,B-2375,home decor festive needs,showpieces,fengshui,3.1,13/3/2015,498.0\\nP-8273,B-2182,furniture,pet furniture,unknown,1.6,29/12/2014,1540.0\\nP-3348,B-3078,beauty and personal care,body and skin care,hand care,3.0,1/12/2013,783.0\\nP-8500,B-3078,clothing,women s clothing,ethnic wear,3.2,1/12/2014,159.0\\nP-9627,B-2504,home furnishing,bed linen,blankets quilts dohars,1.6,1/1/2014,1497.0\\nP-3327,B-860,jewellery,necklaces chains,necklaces,3.4,1/12/2015,241.0\\nP-3960,B-1020,jewellery,rings,unknown,4.2,1/1/2017,28485.0\\nP-10005,B-2624,pet supplies,grooming,skin coat care,4.8,25/3/2014,209.0\\nP-12241,B-3078,toys school supplies,school supplies,geometry pencil boxes,2.0,1/12/2018,275.0\\nP-10401,B-2741,automotive,accessories spare parts,bike essentials,3.6,18/3/2019,422.0\\nP-11022,B-2924,bags wallets belts,bags,backpacks,2.3,24/5/2020,1493.0\\nP-829,B-133,automotive,accessories spare parts,car interior exterior,2.0,1/12/2017,1348.0\\nP-4347,B-1129,jewellery,necklaces chains,necklaces,2.0,1/12/2014,297.0\\nP-9961,B-2608,home furnishing,bed linen,blankets quilts dohars,3.5,1/1/2013,1185.0\\nP-5444,B-1444,cameras accessories,camera accessories,lens hoods,2.5,29/12/2019,2250.0\\nP-8925,B-2307,jewellery,rings,unknown,4.1,1/1/2017,34342.0\\nP-5859,B-3078,clothing,women s clothing,western wear,1.5,1/12/2019,748.0\\nP-7891,B-2679,clothing,men s clothing,shirts,4.6,29/12/2018,843.0\\nP-7222,B-3078,baby care,feeding nursing,utensils,1.8,31/12/2013,345.0\\nP-5476,B-1458,mobiles accessories,tablet accessories,cases covers,2.7,31/12/2014,277.0\\nP-4346,B-1129,jewellery,bangles bracelets armlets,bangles,4.0,20/12/2012,291.0\\nP-5288,B-2679,clothing,men s clothing,shirts,2.5,6/12/2012,975.0\\nP-8870,B-2292,clothing,kids clothing,girls wear,2.3,11/3/2017,741.0\\nP-10672,B-3078,footwear,women s footwear,casual shoes,1.9,4/12/2016,1590.0\\nP-2134,B-479,clothing,men s clothing,t shirts,1.9,19/4/2019,995.0\\nP-724,B-133,automotive,accessories spare parts,car interior exterior,2.7,1/12/2014,1598.0\\nP-1154,B-174,bags wallets belts,bags,pouches and potlis,4.1,3/3/2019,397.0\\n'}"
            ]
          },
          "metadata": {
            "tags": []
          },
          "execution_count": 5
        }
      ]
    },
    {
      "cell_type": "code",
      "metadata": {
        "id": "tVTJp7w4ec7d",
        "colab_type": "code",
        "colab": {
          "resources": {
            "http://localhost:8080/nbextensions/google.colab/files.js": {
              "data": "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",
              "ok": true,
              "headers": [
                [
                  "content-type",
                  "application/javascript"
                ]
              ],
              "status": 200,
              "status_text": ""
            }
          },
          "base_uri": "https://localhost:8080/",
          "height": 110
        },
        "outputId": "f397a450-493d-4752-aaf5-f9b3408c9ee4"
      },
      "source": [
        "files.upload()"
      ],
      "execution_count": 6,
      "outputs": [
        {
          "output_type": "display_data",
          "data": {
            "text/html": [
              "\n",
              "     <input type=\"file\" id=\"files-487d49b9-1ca2-4aaf-b332-7e5f993aaea0\" name=\"files[]\" multiple disabled\n",
              "        style=\"border:none\" />\n",
              "     <output id=\"result-487d49b9-1ca2-4aaf-b332-7e5f993aaea0\">\n",
              "      Upload widget is only available when the cell has been executed in the\n",
              "      current browser session. Please rerun this cell to enable.\n",
              "      </output>\n",
              "      <script src=\"/nbextensions/google.colab/files.js\"></script> "
            ],
            "text/plain": [
              "<IPython.core.display.HTML object>"
            ]
          },
          "metadata": {
            "tags": []
          }
        },
        {
          "output_type": "stream",
          "text": [
            "Saving Test.csv to Test.csv\n"
          ],
          "name": "stdout"
        },
        {
          "output_type": "execute_result",
          "data": {
            "text/plain": [
              "{'Test.csv': b'Product,Product_Brand,Item_Category,Subcategory_1,Subcategory_2,Item_Rating,Date\\nP-11284,B-2984,computers,network components,routers,4.3,1/12/2018\\nP-6580,B-1732,jewellery,bangles bracelets armlets,bracelets,3.0,20/12/2012\\nP-5843,B-3078,clothing,women s clothing,western wear,1.5,1/12/2014\\nP-5334,B-1421,jewellery,necklaces chains,necklaces,3.9,1/12/2019\\nP-5586,B-3078,clothing,women s clothing,western wear,1.4,1/12/2017\\nP-11206,B-3078,clothing,women s clothing,western wear,2.1,3/12/2018\\nP-9966,B-2609,mobiles accessories,mobile accessories,speakers,2.8,20/5/2015\\nP-5367,B-1431,jewellery,rings,unknown,4.9,7/1/2016\\nP-9075,B-2326,jewellery,rings,unknown,4.9,1/1/2015\\nP-8852,B-449,clothing,women s clothing,lingerie sleep swimwear,4.5,7/1/2018\\nP-8545,B-2250,computers,laptop accessories,computer accessories combos,4.8,3/3/2016\\nP-6041,B-1586,home entertainment,video players accessories,video accessories,3.6,20/3/2013\\nP-12536,B-3346,automotive,accessories spare parts,car interior exterior,1.8,25/3/2019\\nP-9869,B-3078,footwear,men s footwear,formal shoes,2.0,29/12/2017\\nP-11800,B-3078,beauty and personal care,fragrances,deodorants,4.5,1/12/2014\\nP-1934,B-410,mobiles accessories,tablet accessories,cases covers,3.4,7/1/2017\\nP-8186,B-2166,jewellery,earrings,unknown,1.0,12/12/2018\\nP-7813,B-2077,olvin rectangular sunglasses,unknown,unknown,4.5,10/5/2014\\nP-75,B-11,jewellery,bangles bracelets armlets,bracelets,3.6,20/12/2019\\nP-7184,B-3078,clothing,men s clothing,winter seasonal wear,2.7,7/1/2014\\nP-6328,B-3078,clothing,women s clothing,western wear,3.7,1/12/2017\\nP-3049,B-786,jewellery,necklaces chains,necklaces,1.7,1/12/2017\\nP-5913,B-2372,clothing,men s clothing,shirts,3.7,6/12/2014\\nP-4460,B-1176,computers,laptop accessories,laptop adapters,2.7,10/6/2016\\nP-4290,B-2281,clothing,women s clothing,lingerie sleep swimwear,2.1,7/1/2019\\nP-6911,B-3078,clothing,women s clothing,western wear,1.8,1/12/2015\\nP-5193,B-2372,clothing,men s clothing,shirts,3.0,6/12/2015\\nP-5746,B-1517,jewellery,rings,unknown,1.8,1/1/2013\\nP-6074,B-2372,clothing,men s clothing,shirts,4.8,6/12/2012\\nP-2925,B-3078,toys school supplies,school supplies,geometry pencil boxes,3.7,1/12/2012\\nP-8546,B-2250,computers,laptop accessories,computer accessories combos,2.9,3/3/2019\\nP-173,B-42,clothing,kids clothing,girls wear,1.1,11/3/2015\\nP-1270,B-3078,footwear,men s footwear,casual shoes,2.6,29/12/2016\\nP-2844,B-735,jewellery,necklaces chains,necklaces,1.3,1/12/2019\\nP-11688,B-3137,jewellery,bangles bracelets armlets,bangles,3.9,30/12/2019\\nP-1176,B-3078,beauty and personal care,fragrances,deodorants,2.2,1/12/2012\\nP-2049,B-3078,footwear,women s footwear,casual shoes,4.8,4/12/2012\\nP-4613,B-1222,automotive,accessories spare parts,car interior exterior,3.1,7/3/2015\\nP-3108,B-801,beauty and personal care,makeup,eyes,1.2,3/3/2013\\nP-7087,B-3078,clothing,women s clothing,western wear,3.2,30/12/2018\\nP-7835,B-3078,clothing,women s clothing,western wear,3.3,7/1/2014\\nP-11064,B-2933,mobiles accessories,tablet accessories,cases covers,3.9,20/12/2018\\nP-9742,B-3078,footwear,women s footwear,sports shoes,1.0,20/12/2017\\nP-7211,B-1933,jewellery,bangles bracelets armlets,bracelets,3.1,20/12/2017\\nP-4549,B-1204,clothing,women s clothing,lingerie sleep swimwear,3.8,15/6/2020\\nP-326,B-3078,footwear,women s footwear,casual shoes,3.6,1/12/2015\\nP-6874,B-3078,watches,wrist watches,maxima wrist watches,5.0,7/1/2015\\nP-4862,B-1281,automotive,accessories spare parts,car interior exterior,4.9,14/12/2013\\nP-11552,B-3078,footwear,women s footwear,casual shoes,3.5,4/12/2017\\nP-5138,B-1363,computers,network components,routers,4.0,1/12/2012\\nP-10769,B-3078,watches,wrist watches,swag wrist watches,2.1,4/12/2016\\nP-2557,B-3078,footwear,women s footwear,casual shoes,4.3,1/12/2014\\nP-9594,B-2492,clothing,women s clothing,ethnic wear,4.3,24/6/2019\\nP-2413,B-3078,clothing,men s clothing,winter seasonal wear,2.0,20/12/2014\\nP-10337,B-2734,jewellery,bangles bracelets armlets,bangles,2.6,7/1/2016\\nP-8252,B-3078,watches,wrist watches,perucci wrist watches,3.4,12/12/2017\\nP-3371,B-876,home decor festive needs,table decor handicrafts,showpieces,4.6,4/1/2018\\nP-2014,B-2355,clothing,women s clothing,lingerie sleep swimwear,4.5,7/1/2018\\nP-5255,B-1402,clothing,kids clothing,girls wear,3.9,26/5/2015\\nP-5518,B-1466,jewellery,necklaces chains,necklaces,1.2,1/12/2014\\nP-11469,B-3062,eyewear,frames,ultravision full rim round frame 51 mm,2.2,26/6/2020\\nP-9448,B-2430,clothing,men s clothing,ethnic wear,3.6,10/6/2017\\nP-6583,B-1732,jewellery,bangles bracelets armlets,bracelets,2.6,20/12/2014\\nP-908,B-133,automotive,accessories spare parts,car interior exterior,4.8,1/12/2012\\nP-909,B-133,automotive,accessories spare parts,car interior exterior,2.1,1/12/2013\\nP-880,B-133,automotive,accessories spare parts,car interior exterior,3.2,1/12/2013\\nP-5766,B-1517,jewellery,rings,unknown,1.6,1/1/2017\\nP-8418,B-2215,clothing,women s clothing,ethnic wear,4.2,25/6/2017\\nP-9539,B-397,clothing,women s clothing,lingerie sleep swimwear,4.3,7/1/2014\\nP-696,B-133,automotive,accessories spare parts,car interior exterior,1.4,1/12/2012\\nP-6606,B-2281,clothing,women s clothing,lingerie sleep swimwear,2.0,7/1/2020\\nP-5672,B-1513,footwear,women s footwear,heels,3.1,24/4/2019\\nP-5064,B-1339,jewellery,necklaces chains,necklaces,2.1,1/12/2019\\nP-10404,B-2741,speedwav 216456 manual rear view mirror right,unknown,unknown,2.9,3/3/2014\\nP-12199,B-3251,jewellery,necklaces chains,necklaces,3.9,1/12/2012\\nP-11577,B-3095,jewellery,necklaces chains,necklaces,3.8,1/12/2015\\nP-2218,B-506,clothing,kids clothing,boys wear,2.0,18/3/2017\\nP-1746,B-372,automotive,accessories spare parts,spares performance parts,2.1,10/4/2013\\nP-50,B-3,baby care,baby bath skin,baby shower caps,1.4,16/6/2014\\nP-11740,B-3153,automotive,accessories spare parts,car bike care,1.7,25/2/2018\\nP-9288,B-2400,clothing,women s clothing,fusion wear,2.1,10/4/2013\\nP-7048,B-3078,kitchen dining,containers bottles,bottles sippers,3.8,3/12/2015\\nP-1678,B-3078,pens stationery,school supplies,geometry pen pencil boxes,3.6,1/12/2012\\nP-5216,B-1384,home furnishing,bed linen,bedsheets,3.3,20/6/2016\\nP-7275,B-3078,clothing,women s clothing,western wear,3.9,1/12/2013\\nP-5980,B-1569,mobiles accessories,mobile accessories,mobile pouches,4.0,5/3/2018\\nP-5410,B-1444,cameras accessories,camera accessories,lens hoods,1.4,29/12/2018\\nP-8168,B-3078,clothing,women s clothing,ethnic wear,1.2,12/12/2015\\nP-9670,B-2515,tools hardware,tools,tool accessories,4.2,29/12/2012\\nP-3356,B-3078,clothing,women s clothing,ethnic wear,4.0,31/12/2019\\nP-3175,B-819,mobiles accessories,mobile accessories,mobile body panels,3.0,25/2/2015\\nP-12521,B-3345,computers,network components,routers,2.1,1/12/2013\\nP-11887,B-3197,jewellery,bangles bracelets armlets,bracelets,2.5,4/1/2018\\nP-1861,B-405,jewellery,rings,unknown,2.2,1/1/2016\\nP-8989,B-2307,jewellery,rings,unknown,2.3,1/1/2014\\nP-6286,B-1645,computers,laptop accessories,batteries,2.6,7/1/2018\\nP-12089,B-3223,bags wallets belts,bags,backpacks,2.6,24/5/2013\\nP-1835,B-405,jewellery,rings,unknown,4.6,1/1/2016\\nP-6363,B-3078,clothing,men s clothing,shirts,3.4,6/12/2016\\nP-11104,B-449,clothing,women s clothing,lingerie sleep swimwear,1.5,7/1/2016\\nP-10210,B-2706,automotive,accessories spare parts,car electronics accessories,4.0,1/12/2018\\nP-4034,B-1040,jewellery,rings,unknown,2.8,6/1/2014\\nP-11586,B-3099,jewellery,jewellery sets,unknown,4.4,31/12/2016\\nP-9667,B-2515,tools hardware,tools,tool accessories,4.2,29/12/2016\\nP-10820,B-2679,clothing,kids clothing,boys wear,4.0,12/12/2019\\nP-3988,B-1024,baby care,feeding nursing,utensils,4.4,12/12/2018\\nP-10951,B-3078,clothing,women s clothing,ethnic wear,2.4,7/1/2014\\nP-4031,B-1038,clothing,women s clothing,ethnic wear,1.7,5/3/2014\\nP-11876,B-3078,bags wallets belts,bags,sling bags,3.0,12/12/2013\\nP-10171,B-2696,computers,network components,routers,3.5,1/12/2012\\nP-7836,B-3078,clothing,women s clothing,western wear,1.8,7/1/2020\\nP-5350,B-1425,jewellery,necklaces chains,necklaces,2.8,1/12/2018\\nP-1723,B-359,jewellery,bangles bracelets armlets,bracelets,1.5,20/12/2017\\nP-1297,B-216,clothing,kids clothing,boys wear,3.0,12/5/2019\\nP-227,B-64,automotive,accessories spare parts,car interior exterior,5.0,1/12/2015\\nP-9812,B-2564,jewellery,jewellery sets,unknown,1.4,7/1/2014\\nP-9458,B-2443,clothing,kids clothing,girls wear,1.8,3/4/2019\\nP-12032,B-3213,baby care,baby kids gifts,stickers,3.8,1/12/2012\\nP-5938,B-1564,automotive,car bike accessories,car interior exterior,3.2,17/6/2015\\nP-7219,B-3078,clothing,men s clothing,winter seasonal wear,2.1,29/12/2018\\nP-7814,B-2077,olvin wayfarer sunglasses,unknown,unknown,1.7,10/5/2020\\nP-11993,B-3199,jewellery,necklaces chains,necklaces,4.8,1/12/2019\\nP-4130,B-1070,jewellery,pendants lockets,gehna yellow gold zircon silver pendant,2.7,22/5/2018\\nP-7560,B-2372,clothing,women s clothing,western wear,3.2,30/12/2016\\nP-11013,B-2923,jewellery,earrings,unknown,1.6,12/12/2019\\nP-2480,B-605,clothing,kids clothing,girls wear,4.3,10/6/2019\\nP-7987,B-3078,clothing,men s clothing,t shirts,4.1,13/12/2019\\nP-11919,B-3197,jewellery,necklaces chains,necklaces,4.7,1/12/2019\\nP-11906,B-3197,jewellery,necklaces chains,necklaces,2.6,1/12/2019\\nP-3329,B-860,home decor festive needs,showpieces,eshoppee showpieces,4.0,6/1/2020\\nP-6396,B-1664,automotive,car bike accessories,car bike lighting,1.3,20/6/2015\\nP-4412,B-1152,home decor festive needs,table decor handicrafts,showpieces,1.4,4/1/2018\\nP-3368,B-874,jewellery,bangles bracelets armlets,bangles,2.5,30/12/2013\\nP-160,B-41,jewellery,necklaces chains,necklaces,4.9,1/12/2014\\nP-8441,B-2221,jewellery,jewellery sets,unknown,3.5,7/1/2020\\nP-6946,B-1835,home furnishing,bed linen,blankets quilts dohars,4.8,1/1/2013\\nP-5841,B-3078,clothing,women s clothing,western wear,2.5,1/12/2017\\nP-4948,B-1308,pens stationery,office supplies,sketch paint markers,5.0,3/3/2016\\nP-12522,B-3078,watches,wrist watches,zoop wrist watches,4.8,4/12/2019\\nP-1065,B-155,bags wallets belts,luggage travel,suitcases,2.4,3/3/2017\\nP-1237,B-200,mobiles accessories,tablet accessories,cases covers,3.5,31/12/2016\\nP-3634,B-941,jewellery,necklaces chains,necklaces,1.5,1/12/2012\\nP-666,B-133,automotive,accessories spare parts,car interior exterior,1.1,1/12/2015\\nP-1719,B-359,jewellery,bangles bracelets armlets,bracelets,4.8,20/12/2019\\nP-5886,B-1543,jewellery,bangles bracelets armlets,bracelets,3.1,20/12/2013\\nP-3193,B-3078,clothing,women s clothing,ethnic wear,1.3,31/12/2012\\nP-1924,B-410,mobiles accessories,tablet accessories,cases covers,1.7,1/1/2017\\nP-3243,B-3078,beauty and personal care,fragrances,deodorants,4.3,1/12/2018\\nP-176,B-42,baby care,infant wear,baby girls clothes,2.6,1/4/2014\\nP-12236,B-3078,clothing,men s clothing,t shirts,4.4,15/12/2016\\nP-4207,B-1082,jewellery,necklaces chains,necklaces,3.4,1/12/2015\\nP-5683,B-1517,jewellery,rings,unknown,1.1,1/1/2013\\nP-643,B-133,automotive,accessories spare parts,car interior exterior,1.6,1/12/2014\\nP-9677,B-2516,clothing,men s clothing,jeans,2.5,18/3/2014\\nP-11608,B-3115,jewellery,bangles bracelets armlets,bangles,1.4,30/12/2012\\nP-1504,B-276,jewellery,accessories,brooches,2.0,28/2/2019\\nP-6304,B-1645,computers,laptop accessories,batteries,4.6,7/1/2015\\nP-9695,B-3078,watches,wrist watches,scheffer s wrist watches,4.7,12/12/2016\\nP-4615,B-1222,automotive,accessories spare parts,car interior exterior,5.0,7/3/2014\\nP-2263,B-3078,watches,wrist watches,chappin nellson wrist watches,5.0,12/12/2015\\nP-5984,B-1570,kittens boys flats,unknown,unknown,2.4,6/4/2018\\nP-10049,B-2645,sports fitness,outdoor adventure,camping hiking,4.7,25/2/2016\\nP-3277,B-850,mobiles accessories,tablet accessories,cases covers,1.3,1/1/2015\\nP-10748,B-2833,tools hardware,tools,gardening tools,2.6,7/1/2015\\nP-5810,B-3078,toys school supplies,school supplies,geometry pencil boxes,5.0,1/12/2018\\nP-8552,B-2250,computers,laptop accessories,computer accessories combos,4.3,3/3/2014\\nP-11926,B-3197,jewellery,necklaces chains,necklaces,1.2,1/12/2016\\nP-4671,B-3078,clothing,women s clothing,western wear,2.2,1/12/2012\\nP-4896,B-1293,computers,laptop accessories,usb gadgets,4.9,29/12/2012\\nP-2880,B-739,computers,network components,routers,3.0,1/12/2018\\nP-4284,B-3280,clothing,women s clothing,lingerie sleep swimwear,3.1,7/1/2020\\nP-11228,B-2966,pens stationery,office supplies,punches punching machines,3.9,12/3/2019\\nP-11439,B-3049,automotive,accessories spare parts,spares performance parts,4.1,31/12/2014\\nP-9856,B-2578,home furnishing,curtains accessories,curtains,2.7,31/12/2014\\nP-5264,B-1404,home furnishing,bed linen,bedsheets,1.4,10/6/2020\\nP-8564,B-2250,computers,laptop accessories,computer accessories combos,3.4,3/3/2015\\nP-7019,B-1855,footwear,kids infant footwear,for boys,5.0,29/4/2016\\nP-6330,B-3078,clothing,kids clothing,boys wear,4.6,12/12/2015\\nP-5477,B-1458,mobiles accessories,tablet accessories,cases covers,1.5,31/12/2013\\nP-2887,B-743,footwear,women s footwear,ballerinas,1.9,25/3/2016\\nP-12349,B-3078,footwear,men s footwear,formal shoes,3.0,29/12/2012\\nP-9402,B-3078,kitchen dining,coffee mugs,rockmantra coffee mugs,1.2,1/12/2012\\nP-8275,B-1936,furniture,pet furniture,unknown,2.3,29/12/2018\\nP-4508,B-1193,jewellery,bangles bracelets armlets,bangles,4.7,20/12/2013\\nP-2672,B-687,clothing,men s clothing,winter seasonal wear,4.8,2/4/2013\\nP-12404,B-3302,tools hardware,tools,gardening tools,3.7,7/1/2017\\nP-3946,B-1018,baby care,infant wear,baby girls clothes,2.3,21/4/2018\\nP-5850,B-1527,home furnishing,kitchen dining linen,table covers,2.6,24/4/2017\\nP-5040,B-3078,clothing,women s clothing,western wear,2.3,31/12/2018\\nP-6975,B-3078,clothing,women s clothing,western wear,3.3,1/12/2016\\nP-1083,B-161,amita home furnishing cotton printed single beds,unknown,unknown,5.0,10/5/2016\\nP-11870,B-3192,jewellery,bangles bracelets armlets,bangles,4.5,30/12/2014\\nP-582,B-133,automotive,accessories spare parts,car interior exterior,3.0,1/12/2018\\nP-4133,B-1073,jewellery,necklaces chains,necklaces,3.3,1/12/2019\\nP-9438,B-3078,clothing,women s clothing,lingerie sleep swimwear,2.3,4/1/2020\\nP-373,B-88,mobiles accessories,mobile accessories,car accessories,1.3,3/3/2014\\nP-11813,B-3175,jewellery,necklaces chains,necklaces,4.1,1/12/2015\\nP-11821,B-3177,clothing,kids clothing,boys wear,1.8,21/3/2015\\nP-6521,B-3078,sports fitness,fitness accessories,accessories,3.8,3/1/2014\\nP-5258,B-3078,clothing,women s clothing,western wear,1.0,31/12/2019\\nP-924,B-133,automotive,accessories spare parts,car interior exterior,4.5,1/12/2018\\nP-7103,B-1887,jewellery,jewellery sets,unknown,2.0,1/1/2018\\nP-8202,B-2168,jewellery,jewellery sets,unknown,3.6,12/12/2018\\nP-2957,B-3078,clothing,women s clothing,western wear,4.9,7/1/2015\\nP-1233,B-200,mobiles accessories,tablet accessories,cases covers,3.0,1/1/2020\\nP-10227,B-2712,pens stationery,office supplies,files and folders,5.0,3/3/2013\\nP-8838,B-3078,clothing,women s clothing,ethnic wear,4.1,1/12/2014\\nP-7091,B-1882,jewellery,accessories,brooches,4.2,28/2/2014\\nP-10146,B-2695,computers,laptop accessories,adapters,3.5,11/3/2018\\nP-4636,B-1230,jewellery,bangles bracelets armlets,bangles,2.4,30/12/2015\\nP-5798,B-3078,footwear,women s footwear,wedges,4.2,7/1/2019\\nP-1510,B-3078,home decor festive needs,wall decor clocks,clocks,5.0,7/1/2019\\nP-8154,B-2679,clothing,men s clothing,shirts,2.5,6/1/2016\\nP-11300,B-2988,home furnishing,bed linen,blankets quilts dohars,4.2,25/2/2014\\nP-4824,B-3078,clothing,women s clothing,western wear,2.6,1/12/2016\\nP-1974,B-424,bootwale bellies,unknown,unknown,3.0,23/4/2013\\nP-1287,B-3078,footwear,women s footwear,wedges,2.0,29/12/2019\\nP-9538,B-2355,clothing,women s clothing,lingerie sleep swimwear,1.1,7/1/2014\\nP-1087,B-163,jewellery,bangles bracelets armlets,bracelets,1.8,20/12/2016\\nP-12034,B-3215,home decor festive needs,wall decor clocks,paintings,1.9,31/12/2015\\nP-5314,B-1417,jewellery,necklaces chains,necklaces,2.4,1/12/2017\\nP-6126,B-3078,footwear,men s footwear,casual shoes,3.6,29/12/2018\\nP-1618,B-324,jewellery,bangles bracelets armlets,bracelets,4.4,16/6/2015\\nP-6400,B-3078,clothing,men s clothing,winter seasonal wear,3.1,20/12/2018\\nP-7075,B-3078,clothing,women s clothing,western wear,1.3,1/12/2012\\nP-8940,B-2307,jewellery,rings,unknown,2.6,1/1/2017\\nP-5026,B-2679,clothing,women s clothing,western wear,1.7,30/12/2012\\nP-9032,B-2312,clothing,men s clothing,winter seasonal wear,4.3,30/5/2017\\nP-10661,B-2797,kitchen dining,coffee mugs,stylestuffs coffee mugs,2.1,26/6/2014\\nP-2186,B-502,mobiles accessories,mobile accessories,mobile body panels,4.3,20/6/2015\\nP-5034,B-1326,clothing,women s clothing,western wear,4.8,4/3/2013\\nP-11031,B-2926,jewellery,bangles bracelets armlets,bangles,1.9,31/12/2017\\nP-8407,B-2211,kitchen dining,housekeeping laundry,home cleaning,5.0,12/12/2018\\nP-3869,B-994,footwear,women s footwear,flats,3.0,21/4/2014\\nP-5278,B-1408,bags wallets belts,bags,hand bags,2.1,5/6/2016\\nP-11665,B-3131,jewellery,jewellery sets,unknown,4.4,12/12/2017\\nP-8276,B-1936,furniture,pet furniture,unknown,2.8,29/12/2019\\nP-4124,B-1066,jewellery,necklaces chains,necklaces,1.3,1/12/2019\\nP-555,B-133,automotive,accessories spare parts,car interior exterior,4.6,1/12/2012\\nP-2558,B-3078,footwear,women s footwear,wedges,1.6,7/1/2014\\nP-6461,B-1683,mobiles accessories,mobile accessories,headphones,1.5,11/3/2020\\nP-11019,B-2923,jewellery,earrings,unknown,2.3,12/12/2019\\nP-6989,B-3078,clothing,women s clothing,ethnic wear,2.7,7/1/2014\\nP-9389,B-3078,kitchen dining,coffee mugs,rockmantra coffee mugs,3.2,1/12/2015\\nP-12555,B-3078,bags wallets belts,bags,backpacks,1.8,1/1/2014\\nP-7953,B-1782,clothing,women s clothing,lingerie sleep swimwear,1.1,7/1/2020\\nP-8243,B-3078,clothing,women s clothing,western wear,2.4,6/1/2018\\nP-2209,B-3078,clothing,women s clothing,western wear,3.2,7/1/2016\\nP-10646,B-2792,footwear,women s footwear,ballerinas,4.6,25/3/2014\\nP-11517,B-3078,clothing,women s clothing,winter seasonal wear,1.4,6/1/2018\\nP-3726,B-2373,clothing,women s clothing,western wear,4.6,30/12/2013\\nP-1611,B-323,clothing,kids clothing,girls wear,1.1,28/4/2017\\nP-11627,B-2679,clothing,women s clothing,western wear,3.6,30/12/2016\\nP-5767,B-1517,jewellery,rings,unknown,2.2,1/1/2017\\nP-2595,B-3078,footwear,women s footwear,casual shoes,1.0,1/12/2013\\nP-3010,B-3078,bags wallets belts,bags,backpacks,1.6,1/1/2020\\nP-4045,B-1046,jewellery,bangles bracelets armlets,bangles,3.5,12/6/2020\\nP-9163,B-2350,tools hardware,tools,gardening tools,4.4,7/1/2016\\nP-10060,B-2650,watches,wrist watches,sitaram wrist watches,4.3,24/4/2014\\nP-5345,B-1422,home furnishing,kitchen dining linen,table linen sets,3.5,19/4/2016\\nP-11854,B-1149,clothing,women s clothing,lingerie sleep swimwear,1.4,7/1/2019\\nP-6726,B-1780,clothing,women s clothing,ethnic wear,2.3,16/3/2019\\nP-4804,B-2373,clothing,women s clothing,western wear,2.4,30/12/2017\\nP-6268,B-3078,watches,wrist watches,lamex wrist watches,2.7,7/1/2019\\nP-3184,B-3078,toys school supplies,school supplies,geometry pencil boxes,3.9,1/12/2015\\nP-505,B-3078,footwear,men s footwear,casual shoes,4.1,29/12/2015\\nP-7449,B-1996,jewellery,pendants lockets,unknown,4.2,12/12/2014\\nP-9096,B-3078,clothing,women s clothing,western wear,1.0,6/1/2016\\nP-7884,B-2372,clothing,women s clothing,western wear,4.3,30/12/2016\\nP-2548,B-3078,clothing,women s clothing,ethnic wear,1.9,31/12/2014\\nP-9323,B-2414,mobiles accessories,mobile accessories,batteries,1.9,3/3/2017\\nP-11743,B-3154,computers,storage,pen drives,4.4,23/6/2017\\nP-640,B-133,automotive,accessories spare parts,car interior exterior,2.7,1/12/2019\\nP-10800,B-2859,clothing,women s clothing,western wear,4.0,3/3/2015\\nP-126,B-30,jewellery,necklaces chains,necklaces,2.2,1/12/2015\\nP-12567,B-3352,computers,network components,routers,5.0,1/12/2014\\nP-12442,B-3311,jewellery,necklaces chains,necklaces,3.3,1/12/2014\\nP-3431,B-888,baby care,baby bath skin,baby bath towels,1.0,31/12/2017\\nP-4847,B-3078,clothing,women s clothing,western wear,4.0,1/12/2016\\nP-923,B-133,automotive,accessories spare parts,car interior exterior,3.4,1/12/2014\\nP-368,B-88,automotive,accessories spare parts,car bike care,1.5,19/3/2016\\nP-1417,B-248,home furnishing,bath linen,towels,2.6,20/12/2015\\nP-2177,B-498,automotive,accessories spare parts,car interior exterior,4.7,5/5/2016\\nP-6793,B-3078,toys school supplies,school supplies,geometry pencil boxes,3.2,1/12/2014\\nP-10756,B-3078,watches,wrist watches,svm wrist watches,1.3,12/12/2019\\nP-3318,B-3078,clothing,women s clothing,western wear,4.6,6/1/2017\\nP-5007,B-3078,clothing,women s clothing,ethnic wear,4.8,1/12/2013\\nP-3388,B-879,jewellery,necklaces chains,necklaces,3.4,1/12/2012\\nP-3261,B-3078,beauty and personal care,fragrances,deodorants,4.3,1/12/2012\\nP-6347,B-1657,beauty and personal care,fragrances,deodorants,2.6,2/3/2013\\nP-3814,B-397,clothing,women s clothing,lingerie sleep swimwear,3.0,7/1/2017\\nP-3969,B-1020,jewellery,rings,unknown,3.7,1/1/2019\\nP-4018,B-1033,mobiles accessories,mobile accessories,mobile chargers,3.4,28/6/2015\\nP-1576,B-310,bags wallets belts,bags,hand bags,4.7,3/6/2017\\nP-1005,B-133,automotive,accessories spare parts,car interior exterior,5.0,1/12/2018\\nP-11062,B-2933,mobiles accessories,tablet accessories,cases covers,4.4,20/12/2013\\nP-5447,B-1444,cameras accessories,camera accessories,lens hoods,3.0,29/12/2016\\nP-699,B-133,automotive,accessories spare parts,car interior exterior,2.4,1/12/2012\\nP-8538,B-2250,computers,laptop accessories,computer accessories combos,2.8,3/3/2019\\nP-7878,B-3078,clothing,men s clothing,t shirts,3.2,13/12/2017\\nP-12063,B-3078,clothing,men s clothing,winter seasonal wear,4.6,29/12/2018\\nP-3262,B-3078,beauty and personal care,fragrances,deodorants,4.2,1/12/2012\\nP-2447,B-590,tools hardware,tools,gardening tools,4.0,7/1/2019\\nP-3003,B-3078,footwear,women s footwear,wedges,4.6,7/1/2018\\nP-11522,B-3075,kitchen dining,pressure cookers pans,united pressure cookers pans,1.4,2/4/2015\\nP-7232,B-3078,clothing,women s clothing,fusion wear,3.2,7/1/2014\\nP-9785,B-3078,clothing,women s clothing,western wear,2.4,7/1/2019\\nP-12178,B-3248,sports fitness,team sports,cricket,3.0,3/3/2019\\nP-242,B-70,footwear,men s footwear,slippers flip flops,1.3,25/3/2017\\nP-11673,B-3132,automotive,accessories spare parts,car interior exterior,3.0,25/3/2020\\nP-2243,B-516,home kitchen,kitchen appliances,mixer juicer grinders,3.6,3/12/2012\\nP-853,B-133,automotive,accessories spare parts,car interior exterior,4.3,1/12/2018\\nP-3133,B-810,tools hardware,tools,gardening tools,1.1,7/1/2014\\nP-7929,B-2114,mobiles accessories,mobile accessories,earphone cable organizers,3.6,2/4/2017\\nP-8698,B-3078,kitchen dining,coffee mugs,prithish coffee mugs,5.0,1/12/2018\\nP-7471,B-2000,gaming,gaming accessories,headphones with mic,2.4,10/5/2013\\nP-11346,B-3078,footwear,women s footwear,casual shoes,3.3,1/12/2018\\nP-2147,B-3078,footwear,women s footwear,wedges,3.1,29/12/2014\\nP-10196,B-2702,mobiles accessories,mobile accessories,headphones,2.5,11/3/2014\\nP-3675,B-943,clothing,women s clothing,western wear,4.7,24/4/2016\\nP-591,B-133,automotive,accessories spare parts,car interior exterior,4.6,1/12/2015\\nP-6320,B-3078,clothing,men s clothing,ethnic wear,1.5,30/12/2019\\nP-2680,B-689,jewellery,bangles bracelets armlets,bracelets,3.5,20/12/2018\\nP-7723,B-3078,clothing,men s clothing,t shirts,3.0,13/12/2016\\nP-37,B-1,automotive,accessories spare parts,car interior exterior,3.7,1/12/2015\\nP-130,B-33,jewellery,necklaces chains,necklaces,3.6,1/12/2012\\nP-11476,B-3067,jewellery,necklaces chains,necklaces,4.4,1/12/2014\\nP-10841,B-3078,clothing,women s clothing,western wear,4.6,6/1/2016\\nP-1036,B-3078,clothing,men s clothing,accessories combo sets,3.8,31/12/2019\\nP-10212,B-2708,clothing,women s clothing,ethnic wear,3.7,25/3/2017\\nP-8945,B-2307,jewellery,rings,unknown,4.8,1/1/2014\\nP-292,B-3078,footwear,men s footwear,sports shoes,4.2,12/12/2016\\nP-6674,B-1755,home furnishing,floor coverings,carpets rugs,3.1,18/3/2013\\nP-1909,B-405,jewellery,rings,unknown,2.5,1/1/2014\\nP-11077,B-2941,sports fitness,team sports,cricket,3.8,23/6/2020\\nP-3811,B-3078,clothing,women s clothing,ethnic wear,5.0,31/12/2016\\nP-2693,B-696,mobiles accessories,mobile accessories,headphones,1.3,21/4/2020\\nP-8349,B-2372,clothing,women s clothing,western wear,2.0,30/12/2012\\nP-4025,B-1035,mobiles accessories,tablet accessories,cases covers,2.5,1/1/2016\\nP-1818,B-402,health personal care appliances,personal care appliances,shavers,4.9,18/3/2019\\nP-12024,B-3078,footwear,men s footwear,casual shoes,1.3,12/12/2015\\nP-6335,B-1653,clothing,women s clothing,lingerie sleep swimwear,1.5,23/4/2013\\nP-5694,B-1517,jewellery,rings,unknown,3.6,1/1/2020\\nP-5292,B-1412,furniture,pet furniture,unknown,4.1,29/12/2016\\nP-9183,B-2364,health personal care appliances,personal care appliances,hair dryers,2.7,3/3/2014\\nP-1824,B-404,jewellery,bangles bracelets armlets,bracelets,2.7,20/12/2017\\nP-3834,B-989,home decor festive needs,table decor handicrafts,showpieces,1.5,4/1/2018\\nP-3625,B-3078,clothing,women s clothing,western wear,1.9,31/12/2018\\nP-3835,B-3078,beauty and personal care,fragrances,deodorants,3.5,1/12/2019\\nP-10563,B-2768,toys school supplies,educational toys,blocks building sets,3.0,21/6/2015\\nP-1254,B-205,computers,laptop accessories,batteries,2.6,7/1/2019\\nP-4498,B-1191,kitchen dining,kitchen tools,kitchen knives,4.1,21/6/2019\\nP-10914,B-3078,footwear,women s footwear,wedges,3.0,7/1/2016\\nP-1201,B-188,clothing,men s clothing,inner wear sleep wear,3.4,2/4/2018\\nP-7605,B-2034,jewellery,bangles bracelets armlets,bangles,1.7,30/12/2018\\nP-6996,B-1847,jewellery,accessories,brooches,3.2,28/2/2013\\nP-7849,B-2090,home decor festive needs,showpieces,ethnic,3.5,1/12/2014\\nP-8250,B-1936,clothing,women s clothing,lingerie sleep swimwear,3.2,7/1/2014\\nP-2508,B-613,clothing,women s clothing,maternity wear,1.9,13/6/2018\\nP-1666,B-3078,footwear,women s footwear,casual shoes,4.3,4/12/2016\\nP-8840,B-3078,clothing,women s clothing,western wear,4.0,4/1/2014\\nP-10708,B-2817,kitchen dining,housekeeping laundry,home cleaning,3.0,7/6/2013\\nP-10778,B-2848,home decor festive needs,showpieces,swayambhu showpieces,4.4,4/1/2018\\nP-6678,B-1759,home decor festive needs,showpieces,ethnic,3.0,1/12/2012\\nP-680,B-133,automotive,accessories spare parts,car interior exterior,2.1,1/12/2015\\nP-6673,B-2679,clothing,women s clothing,western wear,2.1,30/12/2014\\nP-12499,B-3337,zikrak exim women wedges,unknown,unknown,4.3,9/5/2016\\nP-11651,B-3126,jewellery,necklaces chains,necklaces,2.6,1/12/2018\\nP-7130,B-1900,automotive,car accessories,car interior,2.9,1/12/2012\\nP-2443,B-589,home decor festive needs,table decor handicrafts,showpieces,3.6,3/1/2020\\nP-5918,B-3078,footwear,kids infant footwear,for boys,1.2,7/1/2018\\nP-8667,B-3078,kitchen dining,coffee mugs,prithish coffee mugs,3.1,1/12/2015\\nP-11905,B-3197,jewellery,necklaces chains,necklaces,3.1,1/12/2016\\nP-9224,B-3078,home decor festive needs,wall decor clocks,clocks,3.5,12/12/2018\\nP-4849,B-3078,clothing,women s clothing,western wear,5.0,30/12/2012\\nP-10721,B-2821,tools hardware,tools,gardening tools,4.0,7/1/2014\\nP-4383,B-3231,clothing,women s clothing,lingerie sleep swimwear,4.1,7/1/2020\\nP-10671,B-3078,footwear,women s footwear,casual shoes,3.8,4/12/2013\\nP-6131,B-3078,clothing,women s clothing,western wear,4.2,1/12/2017\\nP-1916,B-2679,clothing,women s clothing,western wear,3.0,30/12/2019\\nP-2895,B-745,toys school supplies,musical instruments toys,dinoimpex musical instruments toys,1.8,20/5/2020\\nP-11021,B-2924,bags wallets belts,bags,backpacks,2.1,24/5/2015\\nP-8642,B-3078,kitchen dining,coffee mugs,printland coffee mugs,3.9,1/12/2013\\nP-10229,B-2713,clothing,women s clothing,lingerie sleep swimwear,2.0,17/6/2020\\nP-3751,B-3078,watches,wrist watches,figo fashion wrist watches,4.4,7/1/2014\\nP-11110,B-3231,clothing,women s clothing,lingerie sleep swimwear,2.6,7/1/2017\\nP-5923,B-3078,footwear,women s footwear,heels,1.1,7/1/2014\\nP-2824,B-731,home entertainment,video players accessories,home theaters,1.8,18/3/2019\\nP-9446,B-2436,clothing,men s clothing,ethnic wear,1.4,18/3/2014\\nP-4445,B-1170,clothing,women s clothing,western wear,2.3,30/4/2017\\nP-9815,B-2564,jewellery,rings,unknown,4.9,1/1/2015\\nP-6270,B-3078,watches,wrist watches,lamex timewear wrist watches,1.5,7/1/2014\\nP-12563,B-3352,computers,network components,routers,2.7,1/12/2014\\nP-7584,B-3078,clothing,men s clothing,t shirts,1.1,13/12/2013\\nP-9573,B-3078,clothing,women s clothing,accessories,4.0,1/12/2014\\nP-11822,B-3178,clothing,women s clothing,ethnic wear,1.7,16/3/2020\\nP-4657,B-1237,mobiles accessories,tablet accessories,cases covers,4.9,1/1/2014\\nP-5356,B-1428,jewellery,necklaces chains,necklaces,5.0,1/12/2017\\nP-8413,B-2214,pens stationery,pens,fountain pens,4.0,18/3/2019\\nP-8405,B-2209,watches,wrist watches,pittsburgh polo club wrist watches,3.7,24/4/2014\\nP-701,B-133,automotive,accessories spare parts,car interior exterior,4.3,1/12/2015\\nP-4488,B-1186,kitchen dining,coffee mugs,happiness is coffee mugs,1.6,26/6/2016\\nP-2937,B-3078,toys school supplies,school supplies,geometry pencil boxes,1.0,1/12/2014\\nP-7139,B-1902,footwear,kids infant footwear,for boys,3.1,10/5/2016\\nP-9403,B-3078,kitchen dining,coffee mugs,rockmantra coffee mugs,1.5,1/12/2019\\nP-7642,B-3078,clothing,men s clothing,t shirts,4.9,13/12/2015\\nP-522,B-126,sunglasses,aligatorr aviator sunglasses,unknown,4.9,10/6/2018\\nP-6879,B-3078,watches,wrist watches,maxima wrist watches,5.0,7/1/2016\\nP-2975,B-761,home decor festive needs,table decor handicrafts,showpieces,2.0,4/1/2015\\nP-129,B-32,home decor festive needs,table decor handicrafts,showpieces,4.8,4/1/2014\\nP-10810,B-2863,jewellery,jewellery sets,unknown,4.0,1/1/2019\\nP-6208,B-2355,clothing,women s clothing,lingerie sleep swimwear,5.0,7/1/2018\\nP-794,B-133,automotive,accessories spare parts,car interior exterior,4.2,1/12/2014\\nP-10252,B-3078,watches,wrist watches,sonata wrist watches,4.3,7/1/2019\\nP-3676,B-943,clothing,women s clothing,western wear,4.0,24/4/2018\\nP-5222,B-3078,clothing,women s clothing,western wear,2.5,1/1/2018\\nP-4539,B-1198,jewellery,necklaces chains,necklaces,2.3,1/12/2016\\nP-2377,B-571,clothing,men s clothing,inner wear sleep wear,1.9,2/4/2014\\nP-586,B-133,automotive,accessories spare parts,car interior exterior,2.8,1/12/2017\\nP-1194,B-2372,clothing,women s clothing,western wear,4.7,30/12/2019\\nP-4899,B-3078,clothing,women s clothing,western wear,2.4,1/12/2019\\nP-6790,B-3078,clothing,women s clothing,western wear,4.9,1/12/2016\\nP-2863,B-738,home decor festive needs,decorative lighting lamps,series lights,2.1,1/1/2017\\nP-5091,B-1347,computers,computer components,motherboards,4.5,24/2/2019\\nP-6697,B-1765,jewellery,bangles bracelets armlets,bangles,4.4,30/12/2019\\nP-7485,B-2006,baby care,infant wear,baby girls clothes,2.8,28/2/2015\\nP-11314,B-2372,clothing,women s clothing,western wear,2.1,30/12/2013\\nP-8431,B-2281,clothing,women s clothing,lingerie sleep swimwear,1.0,7/1/2018\\nP-970,B-133,automotive,accessories spare parts,car interior exterior,1.6,1/12/2018\\nP-6960,B-3078,clothing,women s clothing,western wear,4.0,6/1/2017\\nP-8837,B-3078,clothing,women s clothing,ethnic wear,5.0,1/12/2015\\nP-7609,B-2036,home furnishing,bath linen,towels,3.4,20/12/2017\\nP-9786,B-3078,clothing,women s clothing,western wear,3.7,6/1/2015\\nP-10648,B-3078,footwear,women s footwear,wedges,2.2,7/1/2016\\nP-7883,B-3078,clothing,men s clothing,t shirts,2.9,13/12/2013\\nP-5796,B-2372,clothing,men s clothing,shirts,4.5,6/12/2019\\nP-7132,B-1900,automotive,car accessories,car interior,4.4,1/12/2017\\nP-8633,B-3078,kitchen dining,coffee mugs,printland coffee mugs,3.1,1/12/2019\\nP-7825,B-3078,watches,wrist watches,omax wrist watches,1.4,7/1/2015\\nP-12105,B-3078,footwear,women s footwear,wedges,4.7,7/1/2020\\nP-3956,B-1019,clothing,kids clothing,girls wear,2.8,26/5/2019\\nP-11327,B-3001,clothing,kids clothing,girls wear,2.3,1/5/2017\\nP-3008,B-771,footwear,men s footwear,slippers flip flops,3.3,20/4/2020\\nP-8939,B-2307,jewellery,rings,unknown,2.8,1/1/2014\\nP-1306,B-219,home furnishing,curtains accessories,curtains,3.7,3/3/2015\\nP-11106,B-1154,clothing,women s clothing,lingerie sleep swimwear,1.4,7/1/2017\\nP-9343,B-3078,kitchen dining,coffee mugs,rockmantra coffee mugs,3.4,1/12/2014\\nP-10149,B-2695,computers,laptop accessories,adapters,2.5,11/3/2020\\nP-2161,B-489,automotive,car bike accessories,car interior exterior,3.2,23/6/2018\\nP-11935,B-3197,jewellery,jewellery sets,unknown,1.7,1/1/2017\\nP-1844,B-405,jewellery,rings,unknown,4.3,1/1/2014\\nP-11726,B-3149,automotive,accessories spare parts,car interior exterior,1.5,16/4/2020\\nP-4035,B-1040,jewellery,rings,unknown,1.5,6/1/2019\\nP-7557,B-3078,clothing,women s clothing,western wear,3.0,7/1/2019\\nP-4169,B-3078,footwear,women s footwear,wedges,3.9,7/1/2016\\nP-9038,B-2314,home furnishing,bed linen,blankets quilts dohars,4.0,12/12/2014\\nP-449,B-105,mobiles accessories,tablet accessories,cases covers,4.7,1/1/2016\\nP-4536,B-3078,clothing,kids clothing,girls wear,1.1,20/12/2018\\nP-6572,B-3078,beauty and personal care,body and skin care,face care,3.2,31/12/2014\\nP-64,B-3078,clothing,kids clothing,girls wear,2.0,6/1/2014\\nP-6018,B-1579,jewellery,bangles bracelets armlets,bracelets,2.0,20/12/2018\\nP-12529,B-3078,footwear,men s footwear,casual shoes,3.8,29/12/2017\\nP-8437,B-2161,clothing,women s clothing,lingerie sleep swimwear,3.6,7/1/2020\\nP-2401,B-2355,clothing,women s clothing,lingerie sleep swimwear,1.1,7/1/2013\\nP-6677,B-1758,jewellery,earrings,unknown,4.4,12/12/2016\\nP-8780,B-2265,mobiles accessories,mobile accessories,screen protectors,4.5,12/3/2015\\nP-12403,B-3302,tools hardware,tools,gardening tools,1.4,7/1/2014\\nP-5857,B-3078,clothing,women s clothing,western wear,3.9,1/12/2012\\nP-7308,B-1951,jewellery,bangles bracelets armlets,bracelets,4.7,4/1/2020\\nP-1165,B-179,clothing,women s clothing,ethnic wear,4.4,5/3/2014\\nP-2663,B-3078,clothing,women s clothing,ethnic wear,4.5,31/12/2013\\nP-7685,B-3078,clothing,men s clothing,t shirts,2.7,13/12/2016\\nP-9494,B-2453,ruhi s creations polyester silk blend cartoon ki,unknown,unknown,1.0,10/5/2016\\nP-3187,B-3078,footwear,men s footwear,casual shoes,5.0,29/12/2018\\nP-1383,B-241,asics gel kayano 22 running shoes,unknown,unknown,4.5,4/4/2013\\nP-603,B-133,automotive,accessories spare parts,car interior exterior,1.6,1/12/2019\\nP-7390,B-1987,toys school supplies,action figures,nendoroid action figures,2.6,3/3/2017\\nP-8270,B-3078,watches,wrist watches,perucci wrist watches,1.8,12/12/2018\\nP-10747,B-2833,tools hardware,tools,gardening tools,1.0,7/1/2014\\nP-3926,B-1015,jewellery,necklaces chains,necklaces,4.6,1/12/2018\\nP-10569,B-1805,clothing,women s clothing,lingerie sleep swimwear,2.8,7/1/2016\\nP-5417,B-1444,cameras accessories,camera accessories,lens hoods,3.3,29/12/2019\\nP-10609,B-3078,clothing,women s clothing,western wear,4.0,6/1/2014\\nP-539,B-3078,clothing,men s clothing,trousers,3.2,2/1/2015\\nP-1587,B-313,jewellery,bangles bracelets armlets,bracelets,2.8,20/12/2015\\nP-8354,B-2194,pens stationery,office supplies,piedpaper office supplies,4.2,31/12/2016\\nP-3497,B-907,clothing,women s clothing,lingerie sleep swimwear,1.0,26/5/2014\\nP-2588,B-3078,clothing,women s clothing,ethnic wear,1.6,31/12/2015\\nP-12025,B-3078,footwear,women s footwear,wedges,1.9,12/12/2017\\nP-2306,B-546,baby care,infant wear,baby girls clothes,4.0,29/4/2013\\nP-8634,B-3078,kitchen dining,coffee mugs,printland coffee mugs,4.1,1/12/2017\\nP-225,B-64,automotive,accessories spare parts,car interior exterior,2.3,1/12/2017\\nP-9981,B-2612,home decor festive needs,showpieces,ethnic,2.5,1/12/2019\\nP-10070,B-2657,sj bushnell 122 1000m binoculars 36 mm black,unknown,unknown,2.8,25/3/2014\\nP-11660,B-3131,jewellery,jewellery sets,unknown,2.0,12/12/2012\\nP-10917,B-3078,footwear,women s footwear,heels,2.6,7/1/2020\\nP-4782,B-1264,computers,laptop accessories,batteries,4.7,7/1/2019\\nP-4686,B-1244,home furnishing,curtains accessories,curtains,5.0,5/3/2020\\nP-4110,B-2680,clothing,men s clothing,jeans,3.6,12/12/2013\\nP-9246,B-2385,remson india women flats,unknown,unknown,4.4,10/5/2013\\nP-7986,B-3078,clothing,men s clothing,t shirts,2.3,13/12/2015\\nP-4304,B-3078,clothing,women s clothing,western wear,1.4,2/1/2018\\nP-1336,B-222,furniture,living room,sofas sectionals,2.5,31/12/2013\\nP-12094,B-3225,home furnishing,bed linen,blankets quilts dohars,2.3,1/1/2015\\nP-1889,B-405,jewellery,rings,unknown,4.3,6/1/2017\\nP-11117,B-2945,pens stationery,office supplies,diaries,2.9,31/12/2012\\nP-2012,B-2201,clothing,women s clothing,lingerie sleep swimwear,1.8,7/1/2020\\nP-5211,B-1382,jewellery,necklaces chains,necklaces,1.6,1/12/2012\\nP-1285,B-213,jewellery,bangles bracelets armlets,bracelets,4.0,20/12/2019\\nP-4929,B-1300,jewellery,necklaces chains,necklaces,1.1,1/12/2016\\nP-4666,B-1237,mobiles accessories,tablet accessories,cases covers,4.8,1/1/2014\\nP-12293,B-3275,automotive,car bike accessories,bike essentials,1.7,17/6/2018\\nP-1424,B-250,automotive,accessories spare parts,car bike care,2.6,31/12/2017\\nP-633,B-133,automotive,accessories spare parts,car interior exterior,1.7,1/12/2016\\nP-7707,B-3078,kitchen dining,containers bottles,bottles sippers,3.0,12/12/2013\\nP-8051,B-2128,jewellery,rings,unknown,3.5,1/1/2014\\nP-1693,B-350,clothing,women s clothing,sports gym wear,4.0,9/6/2016\\nP-11924,B-3197,jewellery,necklaces chains,necklaces,1.6,1/12/2016\\nP-3002,B-3078,footwear,women s footwear,wedges,2.8,7/1/2014\\nP-719,B-133,automotive,accessories spare parts,car interior exterior,2.4,1/12/2014\\nP-11088,B-397,clothing,women s clothing,lingerie sleep swimwear,4.4,7/1/2018\\nP-464,B-113,clothing,women s clothing,western wear,1.5,10/5/2017\\nP-11188,B-3078,clothing,men s clothing,winter seasonal wear,1.2,29/12/2018\\nP-3964,B-1020,jewellery,rings,unknown,3.2,1/1/2020\\nP-9979,B-2610,jewellery,jewellery sets,unknown,1.5,12/12/2014\\nP-733,B-133,automotive,accessories spare parts,car interior exterior,4.8,1/12/2019\\nP-9519,B-2462,beauty and personal care,combos and kits,rythmx combos and kits,2.0,2/6/2015\\nP-5691,B-1517,jewellery,rings,unknown,2.8,1/1/2013\\nP-8361,B-2197,home kitchen,kitchen appliances,induction cooktops,3.3,10/5/2015\\nP-10191,B-2701,mobiles accessories,tablet accessories,cases covers,2.4,31/12/2017\\nP-4388,B-3078,footwear,women s footwear,wedges,5.0,29/12/2012\\nP-2993,B-3078,footwear,women s footwear,casual shoes,1.9,1/12/2016\\nP-2426,B-579,clothing,women s clothing,western wear,4.0,12/5/2016\\nP-5349,B-1424,jewellery,necklaces chains,necklaces,4.7,31/12/2016\\nP-7675,B-3078,clothing,men s clothing,t shirts,1.4,13/12/2017\\nP-6628,B-3078,watches,wrist watches,luba wrist watches,5.0,12/12/2014\\nP-3145,B-810,tools hardware,tools,gardening tools,3.6,7/1/2014\\nP-7399,B-3078,pens stationery,college supplies,geometry pencil boxes,2.3,1/12/2018\\nP-7295,B-1947,home decor festive needs,decorative lighting lamps,series lights,4.6,1/1/2016\\nP-2545,B-632,clothing,kids clothing,girls wear,2.3,11/3/2020\\nP-8560,B-2250,computers,laptop accessories,computer accessories combos,2.2,3/3/2020\\nP-6134,B-3078,clothing,women s clothing,western wear,4.3,1/12/2012\\nP-11572,B-3093,jewellery,necklaces chains,necklaces,4.5,1/12/2019\\nP-1950,B-418,clothing,kids clothing,girls wear,4.8,4/6/2015\\nP-5554,B-1478,jewellery,necklaces chains,necklaces,4.8,1/12/2017\\nP-3101,B-795,clothing,women s clothing,ethnic wear,1.5,20/6/2019\\nP-11114,B-2944,home furnishing,kitchen dining linen,kitchen linen sets,3.9,9/6/2017\\nP-10135,B-2693,home decor festive needs,wall decor clocks,wall decals stickers,3.3,7/3/2016\\nP-12332,B-3282,clothing,kids clothing,girls wear,4.4,10/5/2016\\nP-4483,B-3078,clothing,women s clothing,winter seasonal wear,1.0,6/1/2020\\nP-2504,B-2679,clothing,women s clothing,western wear,1.0,30/12/2016\\nP-8501,B-3078,clothing,women s clothing,ethnic wear,3.9,1/12/2019\\nP-83,B-14,jewellery,bangles bracelets armlets,bangles,4.9,20/12/2013\\nP-4941,B-1305,footwear,women s footwear,casual shoes,1.9,12/4/2017\\nP-8879,B-2298,clothing,men s clothing,inner wear sleep wear,2.4,27/5/2017\\nP-8815,B-3078,bags wallets belts,bags,backpacks,3.3,1/1/2020\\nP-8047,B-3078,clothing,women s clothing,western wear,2.8,6/1/2014\\nP-400,B-89,home furnishing,cushions pillows covers,cushion covers,4.9,30/12/2017\\nP-4704,B-1251,home furnishing,curtains accessories,curtains,2.6,31/12/2017\\nP-6970,B-3078,clothing,women s clothing,western wear,2.2,1/12/2017\\nP-7305,B-1949,home decor festive needs,candles fragrances,home fragrances,3.4,6/1/2018\\nP-7054,B-1871,clothing,women s clothing,western wear,3.8,14/4/2016\\nP-2679,B-689,jewellery,bangles bracelets armlets,bracelets,2.8,20/12/2014\\nP-8979,B-2307,jewellery,rings,unknown,1.3,1/1/2017\\nP-6907,B-3078,watches,wrist watches,maxima wrist watches,2.4,7/1/2013\\nP-999,B-133,automotive,accessories spare parts,car interior exterior,1.3,1/12/2018\\nP-11063,B-2933,mobiles accessories,tablet accessories,cases covers,4.8,20/12/2019\\nP-11441,B-3078,clothing,women s clothing,western wear,1.6,7/1/2016\\nP-1386,B-2372,clothing,women s clothing,western wear,1.7,30/12/2013\\nP-1141,B-2372,clothing,women s clothing,western wear,2.0,30/12/2014\\nP-11230,B-3078,toys school supplies,school supplies,geometry pencil boxes,5.0,1/12/2016\\nP-4541,B-1198,jewellery,necklaces chains,necklaces,4.7,1/12/2014\\nP-4149,B-1076,mobiles accessories,mobile accessories,cables,1.2,7/3/2019\\nP-10296,B-2719,home entertainment,video players accessories,home theaters,1.5,18/3/2019\\nP-5977,B-1569,mobiles accessories,mobile accessories,mobile pouches,1.7,5/3/2013\\nP-4904,B-3078,clothing,women s clothing,western wear,1.7,31/12/2014\\nP-8891,B-2301,jewellery,bangles bracelets armlets,bangles,3.0,12/12/2017\\nP-5189,B-1377,jewellery,rings,unknown,2.8,1/1/2015\\nP-7650,B-3078,clothing,men s clothing,t shirts,1.6,13/12/2018\\nP-8081,B-3078,toys school supplies,school supplies,geometry pencil boxes,3.3,1/12/2019\\nP-10473,B-2741,automotive,accessories spare parts,spares performance parts,2.7,31/12/2016\\nP-12524,B-3078,footwear,men s footwear,casual shoes,4.3,29/12/2019\\nP-11860,B-2355,clothing,women s clothing,lingerie sleep swimwear,1.0,7/1/2013\\nP-3231,B-840,computers,tablet accessories,cases covers,3.3,21/6/2020\\nP-11028,B-2925,home furnishing,bed linen,blankets quilts dohars,4.9,1/1/2015\\nP-10901,B-3078,clothing,women s clothing,western wear,1.2,6/1/2017\\nP-5748,B-1517,jewellery,rings,unknown,2.5,1/1/2015\\nP-2927,B-3078,toys school supplies,soft toys,disney soft toys,2.5,3/1/2019\\nP-4019,B-1033,mobiles accessories,mobile accessories,mobile chargers,1.5,28/6/2017\\nP-566,B-133,automotive,accessories spare parts,car interior exterior,1.5,1/12/2018\\nP-8569,B-2250,computers,laptop accessories,computer accessories combos,4.0,3/3/2014\\nP-10655,B-2372,clothing,women s clothing,western wear,5.0,12/12/2014\\nP-323,B-3078,footwear,women s footwear,wedges,1.4,29/12/2015\\nP-3065,B-3078,clothing,women s clothing,western wear,2.9,6/1/2014\\nP-6888,B-3078,watches,wrist watches,maxima wrist watches,4.2,7/1/2016\\nP-6232,B-1638,home decor festive needs,showpieces,ethnic,3.3,1/12/2017\\nP-5844,B-2679,clothing,women s clothing,western wear,3.4,30/12/2018\\nP-6918,B-3078,clothing,women s clothing,western wear,3.0,1/12/2018\\nP-6383,B-3078,footwear,women s footwear,flats,3.4,1/1/2016\\nP-3426,B-2372,clothing,women s clothing,western wear,4.0,30/12/2018\\nP-10650,B-2794,home furnishing,cushions pillows covers,cushion covers,1.0,7/3/2014\\nP-5281,B-1409,jewellery,necklaces chains,necklaces,5.0,1/12/2012\\nP-10954,B-2901,clothing,women s clothing,sports gym wear,4.5,9/6/2019\\nP-1256,B-205,computers,laptop accessories,batteries,1.2,7/1/2020\\nP-11863,B-3191,kitchen dining,lighting,bulbs,4.8,31/12/2019\\nP-12084,B-3078,clothing,men s clothing,t shirts,3.4,15/12/2017\\nP-7622,B-3078,watches,wrist watches,noise wrist watches,2.0,7/1/2015\\nP-6463,B-1683,mobiles accessories,mobile accessories,headphones,2.6,11/3/2015\\nP-3035,B-782,computers,laptop accessories,usb gadgets,5.0,29/12/2013\\nP-5920,B-3078,footwear,women s footwear,casual shoes,1.9,4/12/2018\\nP-2272,B-528,kitchen dining,kitchen tools,kitchen implements,2.1,15/6/2017\\nP-2963,B-757,home decor festive needs,table decor handicrafts,showpieces,4.1,31/12/2016\\nP-5008,B-3078,clothing,women s clothing,ethnic wear,4.2,1/12/2014\\nP-4818,B-1270,clothing,men s clothing,sports wear,3.2,23/6/2013\\nP-4882,B-1288,furniture,study home office furniture,portable laptop tables,3.1,23/4/2014\\nP-2373,B-569,clickforsign avoid contanimation wash your hands,unknown,unknown,4.6,23/4/2018\\nP-3526,B-3078,footwear,women s footwear,heels,1.0,31/12/2014\\nP-8286,B-1936,furniture,pet furniture,unknown,2.3,29/12/2015\\nP-7151,B-3078,clothing,women s clothing,western wear,3.5,1/12/2017\\nP-11762,B-3163,jewellery,jewellery sets,unknown,3.5,4/1/2017\\nP-1665,B-3078,footwear,men s footwear,formal shoes,1.1,29/12/2016\\nP-10922,B-2895,computers,network components,routers,3.7,1/12/2013\\nP-7153,B-3078,beauty and personal care,fragrances,deodorants,3.0,1/12/2018\\nP-6581,B-1732,jewellery,rings,unknown,3.2,1/1/2013\\nP-5279,B-1408,bags wallets belts,bags,hand bags,3.4,5/6/2013\\nP-3904,B-3078,watches,wrist watches,franck bella wrist watches,3.5,4/12/2015\\nP-10517,B-3078,clothing,women s clothing,lingerie sleep swimwear,3.0,2/1/2013\\nP-12354,B-3285,computers,tablet accessories,cases covers,2.3,17/6/2020\\nP-9540,B-2466,clothing,women s clothing,western wear,2.4,3/3/2020\\nP-5929,B-3078,clothing,women s clothing,western wear,4.3,31/12/2015\\nP-9669,B-2515,tools hardware,tools,tool accessories,3.4,29/12/2018\\nP-7100,B-1886,baby care,infant wear,baby girls clothes,4.1,29/4/2015\\nP-10856,B-2879,clothing,men s clothing,suits blazers,1.2,25/2/2018\\nP-5283,B-1409,home furnishing,cushions pillows covers,pillows,1.1,6/1/2018\\nP-9142,B-2344,home furnishing,bed linen,blankets quilts dohars,1.0,12/12/2012\\nP-1857,B-405,jewellery,rings,unknown,4.7,1/1/2019\\nP-9992,B-2618,baby care,baby bath skin,baby bath towels,4.8,31/12/2015\\nP-9962,B-2608,home furnishing,bed linen,blankets quilts dohars,1.2,1/1/2018\\nP-11042,B-2930,jewellery,earrings,unknown,3.0,12/12/2013\\nP-7653,B-2044,pens stationery,office supplies,files and folders,2.7,3/3/2020\\nP-3125,B-807,easies solid single breasted casual men s blazer,unknown,unknown,3.1,11/4/2017\\nP-10533,B-2757,sports fitness,team sports,cricket,1.4,25/2/2018\\nP-746,B-133,automotive,accessories spare parts,car interior exterior,4.7,1/12/2018\\nP-222,B-63,automotive,accessories spare parts,helmets riding gear,1.8,24/2/2019\\nP-11536,B-3081,baby care,infant wear,baby boys clothes,2.4,12/4/2016\\nP-4822,B-3078,clothing,women s clothing,western wear,5.0,1/12/2016\\nP-9022,B-2309,tools hardware,tools,gardening tools,4.9,7/1/2018\\nP-6047,B-1589,kombee girl s printed red pink top capri set,unknown,unknown,1.4,7/5/2013\\nP-2813,B-3078,footwear,women s footwear,flats,1.4,7/1/2016\\nP-5343,B-1421,jewellery,necklaces chains,necklaces,2.2,1/12/2013\\nP-3735,B-2372,clothing,women s clothing,western wear,3.0,30/12/2019\\nP-4382,B-3231,clothing,women s clothing,lingerie sleep swimwear,1.8,7/1/2018\\nP-4937,B-1304,jewellery,necklaces chains,necklaces,2.3,1/12/2018\\nP-11637,B-3078,clothing,women s clothing,western wear,2.0,30/12/2015\\nP-1164,B-179,clothing,women s clothing,ethnic wear,1.2,5/3/2019\\nP-9760,B-2543,sports fitness,outdoor adventure,camping hiking,5.0,28/2/2019\\nP-6317,B-1645,computers,laptop accessories,batteries,4.3,7/1/2014\\nP-5404,B-1442,jewellery,necklaces chains,necklaces,3.4,1/12/2016\\nP-2793,B-720,home decor festive needs,wall decor clocks,wall decals stickers,1.6,29/12/2014\\nP-3196,B-824,home decor festive needs,flowers plants vases,flower vase,2.6,21/6/2018\\nP-2601,B-3078,clothing,women s clothing,western wear,4.7,6/1/2018\\nP-142,B-38,home decor festive needs,table decor handicrafts,photo frames,1.6,14/6/2017\\nP-12429,B-3308,clothing,men s clothing,inner wear sleep wear,2.2,22/5/2015\\nP-1349,B-3078,footwear,men s footwear,casual shoes,4.4,29/12/2014\\nP-2578,B-648,automotive,car bike accessories,car bike care,4.4,13/6/2019\\nP-10304,B-2722,beauty and personal care,makeup,vanity boxes,4.2,12/3/2013\\nP-7422,B-1993,computers,network components,routers,5.0,1/12/2015\\nP-12489,B-1121,clothing,women s clothing,lingerie sleep swimwear,4.4,7/1/2015\\nP-6439,B-1676,mobiles accessories,mobile accessories,cables,1.6,7/3/2019\\nP-7604,B-3078,clothing,men s clothing,t shirts,1.4,13/12/2013\\nP-2883,B-3078,footwear,women s footwear,wedges,3.9,7/1/2017\\nP-1079,B-160,home furnishing,bath linen,bath mats,1.4,22/3/2014\\nP-913,B-133,automotive,accessories spare parts,car interior exterior,2.1,1/12/2018\\nP-12456,B-3316,jewellery,necklaces chains,necklaces,2.5,1/12/2019\\nP-6985,B-1842,computers,laptop accessories,usb gadgets,4.6,29/12/2018\\nP-3407,B-879,jewellery,necklaces chains,necklaces,1.2,1/12/2013\\nP-10903,B-3078,clothing,women s clothing,ethnic wear,5.0,29/12/2019\\nP-5416,B-1444,cameras accessories,camera accessories,lens hoods,1.8,29/12/2017\\nP-3454,B-898,sports fitness,other sports,golf,1.7,5/3/2019\\nP-460,B-112,clothing,kids clothing,boys wear,4.9,1/5/2014\\nP-8877,B-2297,home furnishing,bath linen,towels,1.9,20/12/2017\\nP-4780,B-1264,computers,laptops,hp laptops,4.5,7/1/2017\\nP-1240,B-200,mobiles accessories,tablet accessories,cases covers,2.0,31/12/2018\\nP-4852,B-3078,clothing,women s clothing,western wear,2.8,30/12/2015\\nP-11265,B-2982,tools hardware,tools,gardening tools,4.0,7/1/2019\\nP-8217,B-2162,clothing,women s clothing,lingerie sleep swimwear,4.7,7/1/2014\\nP-3357,B-3078,clothing,women s clothing,ethnic wear,4.5,31/12/2013\\nP-6618,B-3078,footwear,women s footwear,wedges,4.8,7/1/2016\\nP-508,B-3078,bags wallets belts,bags,hand bags,3.6,1/1/2015\\nP-7522,B-3078,beauty and personal care,fragrances,deodorants,2.9,1/12/2012\\nP-2649,B-667,mobiles accessories,tablet accessories,cases covers,1.3,1/1/2014\\nP-8601,B-3078,kitchen dining,coffee mugs,printland coffee mugs,3.8,1/12/2017\\nP-3864,B-3078,footwear,women s footwear,wedges,4.6,29/12/2014\\nP-9621,B-2504,home furnishing,bed linen,blankets quilts dohars,1.4,1/1/2013\\nP-5150,B-1366,jewellery,necklaces chains,necklaces,1.6,1/12/2015\\nP-12207,B-3256,automotive,accessories spare parts,car interior exterior,2.9,14/12/2016\\nP-2786,B-397,clothing,women s clothing,lingerie sleep swimwear,4.4,7/1/2015\\nP-7564,B-3078,clothing,men s clothing,t shirts,2.0,13/12/2019\\nP-2402,B-2013,clothing,women s clothing,lingerie sleep swimwear,2.9,7/1/2019\\nP-764,B-133,automotive,accessories spare parts,car interior exterior,2.1,1/12/2019\\nP-8704,B-3078,kitchen dining,coffee mugs,prithish coffee mugs,2.8,1/12/2016\\nP-9790,B-2550,sports fitness,team sports,cricket,1.1,25/2/2020\\nP-8510,B-3078,bags wallets belts,bags,backpacks,5.0,12/12/2019\\nP-11125,B-2945,home decor festive needs,showpieces,tiedribbons showpieces,1.9,1/12/2018\\nP-4013,B-1033,mobiles accessories,mobile accessories,mobile chargers,3.9,28/6/2018\\nP-1590,B-316,balaji exports bottled wine cooler 9 bottles,unknown,unknown,3.0,2/4/2016\\nP-60,B-4,computers,laptop accessories,batteries,1.6,7/1/2016\\nP-11430,B-3078,toys school supplies,soft toys,twisha soft toys,2.2,1/1/2018\\nP-2290,B-3078,clothing,women s clothing,western wear,4.2,7/1/2017\\nP-1674,B-3078,clothing,kids clothing,boys wear,5.0,6/1/2014\\nP-7286,B-3078,footwear,women s footwear,flats,1.6,12/12/2018\\nP-2781,B-3078,clothing,women s clothing,ethnic wear,3.4,31/12/2019\\nP-10219,B-3078,clothing,women s clothing,lingerie sleep swimwear,4.9,12/12/2016\\nP-11198,B-2952,kitchen dining,kitchen tools,kitchen implements,1.6,1/12/2012\\nP-6494,B-1702,jewellery,rings,unknown,2.0,1/1/2017\\nP-8894,B-2301,jewellery,bangles bracelets armlets,bangles,1.4,12/12/2014\\nP-1363,B-3078,footwear,men s footwear,casual shoes,3.6,29/12/2017\\nP-9909,B-2594,pens stationery,office supplies,shoperite office supplies,3.3,29/12/2017\\nP-5177,B-1375,clothing,men s clothing,ethnic wear,2.8,11/3/2014\\nP-8450,B-2225,cameras accessories,camera accessories,camera lenses,2.3,15/4/2014\\nP-2836,B-734,jewellery,necklaces chains,necklaces,1.5,1/12/2014\\nP-11959,B-3197,jewellery,necklaces chains,necklaces,4.2,1/12/2019\\nP-4408,B-1151,furniture,pet furniture,unknown,2.8,29/12/2015\\nP-7361,B-1978,kitchen dining,containers bottles,bottles sippers,2.2,21/3/2014\\nP-536,B-3078,clothing,kids clothing,girls wear,3.4,6/1/2016\\nP-3893,B-1004,home furnishing,bed linen,blankets quilts dohars,1.0,1/1/2014\\nP-5630,B-2373,clothing,men s clothing,shirts,4.1,6/12/2018\\nP-12561,B-3352,computers,network components,routers,3.6,1/12/2019\\nP-1021,B-135,home furnishing,cushions pillows covers,cushion covers,4.3,7/3/2017\\nP-4906,B-3078,clothing,women s clothing,western wear,4.4,1/12/2014\\nP-3668,B-942,mobiles accessories,tablet accessories,cases covers,4.5,31/12/2012\\nP-9536,B-2355,clothing,women s clothing,lingerie sleep swimwear,4.7,7/1/2019\\nP-10691,B-2807,jewellery,bangles bracelets armlets,bangles,4.3,30/12/2013\\nP-6735,B-1786,jewellery,rings,malabar gold and diamonds hbdaaaablzld gold emer,4.7,25/3/2020\\nP-12531,B-3078,footwear,men s footwear,casual shoes,1.1,29/12/2014\\nP-937,B-133,automotive,accessories spare parts,car interior exterior,1.6,1/12/2014\\nP-4091,B-1052,jewellery,necklaces chains,necklaces,2.8,1/12/2017\\nP-8508,B-3078,sports fitness,outdoor adventure,camping hiking,3.9,1/1/2018\\nP-4190,B-3078,watches,wrist watches,gift island wrist watches,3.8,7/1/2014\\nP-11871,B-3192,jewellery,pendants lockets,vk jewels reticular heart rhodium cubic zirconia,3.3,23/6/2013\\nP-4038,B-1042,home entertainment,audio players,home audio,4.7,1/12/2018\\nP-7844,B-3078,clothing,men s clothing,t shirts,2.2,13/12/2016\\nP-3217,B-834,kitchen dining,bar glassware,bar glasses,4.0,31/12/2014\\nP-11886,B-3197,jewellery,necklaces chains,necklaces,2.9,1/12/2013\\nP-768,B-133,automotive,accessories spare parts,car interior exterior,1.2,1/12/2018\\nP-12018,B-3078,clothing,men s clothing,winter seasonal wear,4.5,29/12/2019\\nP-6876,B-3078,watches,wrist watches,maxima wrist watches,3.0,7/1/2014\\nP-1870,B-405,jewellery,rings,unknown,4.0,1/1/2020\\nP-6737,B-1787,home decor festive needs,showpieces,malhar showpieces,1.6,1/12/2016\\nP-1024,B-3078,clothing,women s clothing,western wear,1.0,1/1/2018\\nP-10644,B-2790,footwear,women s footwear,heels,3.6,24/4/2016\\nP-10876,B-2888,computers,laptop accessories,usb gadgets,4.3,29/12/2018\\nP-10958,B-2903,home furnishing,bed linen,blankets quilts dohars,1.6,20/12/2019\\nP-11398,B-3032,pens stationery,office supplies,tucasa office supplies,2.5,2/3/2020\\nP-6094,B-1605,kitchen dining,housekeeping laundry,bathroom accessories,2.6,31/12/2014\\nP-3215,B-833,baby care,baby kids gifts,stickers,4.1,1/12/2019\\nP-10044,B-2643,clothing,women s clothing,lingerie sleep swimwear,4.7,3/3/2017\\nP-10782,B-2851,bags wallets belts,bags,cosmetic bags,3.5,12/3/2013\\nP-6158,B-3078,footwear,women s footwear,heels,5.0,1/12/2013\\nP-252,B-72,home decor festive needs,showpieces,adaa showpieces,5.0,31/12/2012\\nP-12120,B-3233,jewellery,rings,unknown,4.1,1/1/2020\\nP-8300,B-3078,clothing,men s clothing,winter seasonal wear,1.9,29/12/2016\\nP-9825,B-2566,clothing,women s clothing,ethnic wear,2.4,20/5/2015\\nP-3541,B-911,jewellery,necklaces chains,necklaces,3.3,1/12/2013\\nP-10458,B-2741,automotive,accessories spare parts,spares performance parts,3.4,31/12/2017\\nP-4422,B-1160,home furnishing,bed linen,blankets quilts dohars,1.8,20/12/2013\\nP-5680,B-1517,jewellery,rings,unknown,4.2,1/1/2017\\nP-3312,B-855,home furnishing,bed linen,blankets quilts dohars,1.7,1/1/2018\\nP-8001,B-2372,clothing,women s clothing,western wear,2.4,30/12/2012\\nP-3272,B-850,mobiles accessories,tablet accessories,cases covers,4.0,1/1/2019\\nP-3419,B-3078,beauty and personal care,fragrances,deodorants,3.5,1/12/2017\\nP-12228,B-2660,clothing,men s clothing,jeans,1.6,4/12/2014\\nP-6741,B-1790,home furnishing,bath linen,towels,5.0,20/12/2014\\nP-7459,B-2000,gaming,gaming accessories,headphones with mic,3.1,10/5/2018\\nP-3197,B-3078,clothing,women s clothing,western wear,4.2,1/1/2015\\nP-5770,B-1517,jewellery,rings,unknown,3.9,1/1/2016\\nP-711,B-133,automotive,accessories spare parts,car interior exterior,2.5,1/12/2019\\nP-3718,B-3078,baby care,infant wear,baby girls clothes,3.2,29/12/2018\\nP-5371,B-1431,jewellery,rings,unknown,2.2,1/1/2015\\nP-726,B-133,automotive,accessories spare parts,car interior exterior,1.4,1/12/2016\\nP-6370,B-1662,footwear,men s footwear,slippers flip flops,3.2,12/5/2018\\nP-7689,B-3078,clothing,men s clothing,t shirts,3.6,13/12/2018\\nP-10886,B-2888,computers,laptop accessories,usb gadgets,4.5,29/12/2017\\nP-12305,B-3078,beauty and personal care,fragrances,deodorants,4.7,1/12/2018\\nP-3110,B-802,home improvement,lawn gardening,plants,1.9,7/1/2019\\nP-7195,B-3078,beauty and personal care,fragrances,deodorants,3.1,1/12/2019\\nP-2116,B-475,camey men s quarter length socks,unknown,unknown,1.6,10/5/2017\\nP-11553,B-3085,bags wallets belts,suspenders,urban diseno suspenders,3.3,16/3/2016\\nP-2800,B-720,home decor festive needs,wall decor clocks,wall decals stickers,2.9,31/12/2016\\nP-95,B-18,jewellery,necklaces chains,necklaces,1.1,1/12/2015\\nP-10132,B-2693,home decor festive needs,wall decor clocks,wallpapers,1.6,20/6/2018\\nP-2318,B-552,jewellery,rings,unknown,2.4,7/1/2013\\nP-5544,B-1475,jewellery,accessories,brooches,1.1,23/4/2013\\nP-4596,B-1218,footwear,kids infant footwear,for boys,4.0,10/4/2020\\nP-12330,B-3078,beauty and personal care,body and skin care,face care,1.6,31/12/2012\\nP-1345,B-223,home decor festive needs,table decor handicrafts,table decor,4.2,1/12/2018\\nP-11045,B-2930,jewellery,earrings,unknown,2.3,12/12/2012\\nP-7332,B-1962,footwear,women s footwear,wedges,2.1,21/6/2015\\nP-9939,B-2604,footwear,women s footwear,ballerinas,4.3,20/6/2014\\nP-5681,B-1517,jewellery,rings,unknown,4.1,1/1/2015\\nP-9689,B-2372,clothing,women s clothing,western wear,4.4,30/12/2016\\nP-5941,B-2679,clothing,men s clothing,shirts,2.9,6/12/2019\\nP-1615,B-323,be 13 printed boy s round neck t shirt pack of 2,unknown,unknown,2.3,11/4/2015\\nP-11853,B-378,clothing,women s clothing,lingerie sleep swimwear,2.6,7/1/2015\\nP-1225,B-198,computers,network components,routers,2.8,1/12/2015\\nP-11546,B-3084,clothing,women s clothing,lingerie sleep swimwear,3.5,17/6/2014\\nP-7988,B-3078,clothing,men s clothing,t shirts,3.0,13/12/2012\\nP-930,B-133,automotive,accessories spare parts,car interior exterior,2.9,1/12/2013\\nP-8249,B-3231,clothing,women s clothing,lingerie sleep swimwear,4.0,7/1/2014\\nP-4678,B-1243,home decor festive needs,decorative lighting lamps,series lights,1.3,1/1/2015\\nP-9819,B-2564,jewellery,rings,unknown,3.8,1/1/2017\\nP-4026,B-1036,mobiles accessories,mobile accessories,earphone cable organizers,1.3,2/4/2015\\nP-5949,B-2679,clothing,women s clothing,western wear,3.4,30/12/2018\\nP-7831,B-3078,clothing,men s clothing,t shirts,2.4,13/12/2013\\nP-8526,B-3078,clothing,men s clothing,winter seasonal wear,4.8,7/1/2016\\nP-5432,B-1444,cameras accessories,camera accessories,lens hoods,4.1,29/12/2014\\nP-2207,B-3078,clothing,women s clothing,western wear,2.0,7/1/2013\\nP-4236,B-1093,automotive,accessories spare parts,car electronics accessories,2.3,1/12/2015\\nP-8708,B-3078,kitchen dining,coffee mugs,prithish coffee mugs,4.2,1/12/2016\\nP-1376,B-240,jewellery,rings,unknown,2.0,6/1/2018\\nP-9570,B-2486,clothing,women s clothing,accessories,2.6,25/6/2020\\nP-9661,B-2514,home decor festive needs,showpieces,ethnic,2.0,1/12/2014\\nP-11296,B-2986,clothing,kids clothing,girls wear,1.8,17/6/2013\\nP-9587,B-3078,footwear,women s footwear,casual shoes,3.6,4/12/2013\\nP-781,B-133,automotive,accessories spare parts,car interior exterior,4.7,1/12/2012\\nP-12113,B-3229,clothing,women s clothing,lingerie sleep swimwear,2.8,2/3/2020\\nP-2021,B-437,clothing,women s clothing,ethnic wear,2.5,25/3/2019\\nP-8770,B-3078,pens stationery,school supplies,geometry pen pencil boxes,4.9,1/12/2013\\nP-10209,B-3078,clothing,men s clothing,winter seasonal wear,2.4,7/1/2013\\nP-7792,B-3078,clothing,men s clothing,t shirts,2.3,13/12/2012\\nP-5724,B-1517,jewellery,rings,unknown,2.0,1/1/2017\\nP-5039,B-1329,indistar self design viscose women s stole,unknown,unknown,3.9,9/4/2018\\nP-6952,B-3078,clothing,women s clothing,western wear,2.3,1/12/2015\\nP-9371,B-3078,kitchen dining,coffee mugs,rockmantra coffee mugs,4.0,1/12/2017\\nP-798,B-133,automotive,accessories spare parts,car interior exterior,1.1,1/12/2018\\nP-217,B-63,automotive,car bike accessories,car interior exterior,3.3,23/6/2014\\nP-2956,B-3078,clothing,women s clothing,western wear,3.8,7/1/2019\\nP-11090,B-2161,clothing,women s clothing,lingerie sleep swimwear,3.2,7/1/2013\\nP-9302,B-2407,home improvement,hardware,bathroom kitchen fixtures,3.4,10/5/2019\\nP-3394,B-879,jewellery,necklaces chains,necklaces,4.3,1/12/2017\\nP-2555,B-639,home decor festive needs,wall decor clocks,wall decals stickers,4.3,31/12/2014\\nP-8176,B-2157,pet supplies,storage feeding utensils,bowls bottles,3.5,18/3/2017\\nP-1961,B-2679,clothing,women s clothing,western wear,1.7,30/12/2016\\nP-6725,B-1779,home kitchen,kitchen appliances,mixer juicer grinders,4.0,3/12/2013\\nP-7871,B-3078,clothing,men s clothing,t shirts,2.4,13/12/2018\\nP-7806,B-397,clothing,women s clothing,lingerie sleep swimwear,2.7,7/1/2015\\nP-4401,B-1146,clothing,women s clothing,accessories,4.6,4/4/2017\\nP-3041,B-786,dressberry black synthetic clutch,unknown,unknown,2.7,4/4/2018\\nP-2449,B-591,clothing,men s clothing,trousers,3.3,26/6/2018\\nP-6849,B-3078,watches,wrist watches,maxima wrist watches,3.0,7/1/2018\\nP-3697,B-947,jewellery,necklaces chains,necklaces,1.5,1/12/2018\\nP-6098,B-1608,clothing,men s clothing,shirts,4.6,26/6/2018\\nP-1616,B-323,clothing,kids clothing,girls wear,3.7,19/3/2018\\nP-133,B-3078,clothing,women s clothing,western wear,2.7,6/1/2016\\nP-11816,B-3175,jewellery,necklaces chains,necklaces,5.0,1/12/2012\\nP-1996,B-429,clothing,women s clothing,western wear,4.1,20/6/2018\\nP-1796,B-3078,clothing,men s clothing,shirts,3.5,4/1/2017\\nP-4370,B-2372,clothing,women s clothing,western wear,3.4,30/12/2017\\nP-6557,B-1725,home furnishing,floor coverings,carpets rugs,1.1,18/3/2015\\nP-9439,B-3078,footwear,women s footwear,casual shoes,1.8,4/12/2014\\nP-12348,B-3078,clothing,men s clothing,winter seasonal wear,4.3,7/1/2019\\nP-5210,B-1381,home furnishing,bed linen,blankets quilts dohars,1.1,1/1/2013\\nP-5698,B-1517,jewellery,rings,unknown,3.4,1/1/2020\\nP-9225,B-3078,home decor festive needs,wall decor clocks,clocks,1.5,12/12/2013\\nP-3226,B-3078,footwear,women s footwear,sports sandals,5.0,3/12/2012\\nP-7311,B-1953,clothing,women s clothing,sports gym wear,1.9,20/3/2018\\nP-5961,B-1567,home furnishing,bath linen,towels,3.2,20/12/2015\\nP-12156,B-3078,clothing,women s clothing,western wear,4.9,3/12/2019\\nP-10291,B-2715,footwear,kids infant footwear,for boys,4.9,2/4/2017\\nP-8695,B-3078,kitchen dining,coffee mugs,prithish coffee mugs,4.0,1/12/2014\\nP-12248,B-3265,jewellery,bangles bracelets armlets,bangles,1.9,30/12/2013\\nP-5263,B-1403,sports fitness,indoor sports games,pool,4.6,1/1/2014\\nP-11819,B-3175,jewellery,necklaces chains,necklaces,4.0,1/12/2017\\nP-5712,B-1517,jewellery,rings,unknown,4.4,1/1/2020\\nP-6847,B-3078,watches,wrist watches,maxima wrist watches,2.2,7/1/2020\\nP-9747,B-3078,clothing,kids clothing,girls wear,2.8,6/1/2014\\nP-11994,B-3199,jewellery,necklaces chains,necklaces,2.0,1/12/2017\\nP-765,B-133,automotive,accessories spare parts,car interior exterior,4.1,1/12/2013\\nP-11844,B-3186,baby care,infant wear,baby girls clothes,1.1,21/4/2014\\nP-11998,B-3200,home decor festive needs,decorative lighting lamps,series lights,1.5,8/6/2013\\nP-8863,B-3078,footwear,women s footwear,casual shoes,3.2,4/12/2018\\nP-5344,B-1421,jewellery,necklaces chains,necklaces,1.2,1/12/2019\\nP-648,B-133,automotive,accessories spare parts,car interior exterior,3.4,1/12/2013\\nP-94,B-3078,footwear,women s footwear,heels,3.4,31/12/2014\\nP-6775,B-1801,clothing,men s clothing,shirts,4.5,12/3/2016\\nP-216,B-63,automotive,accessories spare parts,helmets riding gear,3.1,24/2/2014\\nP-4973,B-3078,clothing,women s clothing,western wear,3.7,1/12/2014\\nP-1634,B-3078,clothing,kids clothing,girls wear,4.0,6/1/2017\\nP-5730,B-1517,jewellery,rings,unknown,3.6,1/1/2016\\nP-10297,B-2719,cameras accessories,camera accessories,battery chargers,3.7,31/12/2014\\nP-9237,B-3078,watches,wrist watches,relish wrist watches,4.1,31/12/2016\\nP-7573,B-3078,footwear,women s footwear,casual shoes,3.3,1/12/2015\\nP-9272,B-3078,footwear,women s footwear,casual shoes,2.0,4/12/2012\\nP-6605,B-2201,clothing,women s clothing,lingerie sleep swimwear,2.5,7/1/2019\\nP-4851,B-3078,clothing,women s clothing,western wear,3.6,1/12/2015\\nP-9942,B-2679,clothing,women s clothing,western wear,4.2,30/12/2014\\nP-10062,B-2651,home decor festive needs,table decor handicrafts,showpieces,4.9,28/3/2013\\nP-4238,B-1095,footwear,men s footwear,casual shoes,4.0,7/3/2016\\nP-11373,B-3022,home decor festive needs,true home decor festive needs,unknown,1.7,1/12/2018\\nP-10050,B-2646,clothing,kids clothing,girls wear,4.0,11/3/2019\\nP-8593,B-3078,kitchen dining,coffee mugs,printland coffee mugs,4.3,1/12/2019\\nP-7946,B-2116,automotive,accessories spare parts,helmets riding gear,3.6,5/4/2019\\nP-2020,B-437,footwear,women s footwear,casual shoes,2.7,3/3/2018\\nP-10692,B-2807,jewellery,earrings,unknown,3.3,12/12/2013\\nP-6560,B-3078,footwear,men s footwear,casual shoes,1.2,29/12/2013\\nP-4846,B-3078,clothing,women s clothing,western wear,3.1,1/12/2012\\nP-9883,B-3078,clothing,women s clothing,ethnic wear,2.3,29/12/2016\\nP-2980,B-762,jewellery,rings,diwine jewels silver zircon rhodium na k ring,4.6,18/4/2015\\nP-10536,B-2372,clothing,women s clothing,western wear,2.4,30/12/2015\\nP-2931,B-3078,toys school supplies,school supplies,geometry pencil boxes,2.2,1/12/2019\\nP-114,B-3078,beauty and personal care,makeup,vanity boxes,2.1,4/1/2016\\nP-7076,B-3078,beauty and personal care,makeup,lips,2.3,1/1/2015\\nP-9006,B-2307,jewellery,rings,unknown,4.1,1/1/2019\\nP-899,B-133,automotive,accessories spare parts,car interior exterior,2.3,1/12/2013\\nP-2430,B-581,jewellery,bangles bracelets armlets,bangles,3.3,30/12/2018\\nP-7859,B-3078,clothing,women s clothing,western wear,4.4,6/1/2016\\nP-7959,B-2201,clothing,women s clothing,lingerie sleep swimwear,1.6,7/1/2013\\nP-4303,B-3078,footwear,women s footwear,wedges,2.6,12/12/2014\\nP-9899,B-2593,automotive,accessories spare parts,car electronics accessories,3.6,1/12/2018\\nP-4450,B-1173,jewellery,rings,unknown,1.2,6/1/2019\\nP-4569,B-3078,clothing,women s clothing,western wear,3.8,1/12/2016\\nP-113,B-29,pens stationery,office supplies,files and folders,4.9,3/3/2016\\nP-12202,B-3253,kitchen dining,cookware,pots pans,4.7,23/6/2016\\nP-4670,B-1237,mobiles accessories,mobile accessories,cables,1.1,12/12/2018\\nP-4342,B-3078,beauty and personal care,makeup,vanity boxes,4.5,4/1/2019\\nP-9653,B-3078,clothing,kids clothing,boys wear,3.6,12/12/2015\\nP-11030,B-2926,jewellery,bangles bracelets armlets,bangles,1.2,31/12/2013\\nP-1443,B-3078,footwear,men s footwear,casual shoes,4.9,29/12/2017\\nP-8382,B-2204,jewellery,bangles bracelets armlets,bracelets,4.0,3/3/2019\\nP-8732,B-3078,kitchen dining,coffee mugs,prithish coffee mugs,4.5,1/12/2019\\nP-5324,B-1417,jewellery,necklaces chains,necklaces,4.9,1/12/2015\\nP-11576,B-3094,jewellery,necklaces chains,necklaces,2.0,1/12/2018\\nP-5118,B-1359,home decor festive needs,table decor handicrafts,showpieces,1.0,4/1/2015\\nP-8748,B-3078,kitchen dining,coffee mugs,prithish coffee mugs,5.0,1/12/2014\\nP-1862,B-405,jewellery,rings,unknown,2.3,1/1/2013\\nP-5465,B-3078,clothing,men s clothing,shirts,4.5,6/12/2018\\nP-2294,B-3078,clothing,men s clothing,t shirts,1.3,7/1/2019\\nP-2839,B-734,jewellery,necklaces chains,necklaces,5.0,1/12/2014\\nP-7787,B-2070,jewellery,rings,unknown,2.1,1/1/2014\\nP-6316,B-1645,computers,laptop accessories,batteries,3.3,7/1/2017\\nP-11276,B-2984,computers,network components,routers,1.4,1/12/2015\\nP-5735,B-1517,jewellery,rings,unknown,5.0,1/1/2015\\nP-9830,B-2570,home kitchen,home appliances,vacuum cleaners,2.0,21/4/2015\\nP-11095,B-1686,clothing,women s clothing,lingerie sleep swimwear,4.7,7/1/2018\\nP-207,B-2679,clothing,women s clothing,western wear,2.1,30/12/2019\\nP-9088,B-2327,home furnishing,bed linen,blankets quilts dohars,3.5,1/1/2014\\nP-10432,B-2741,automotive,accessories spare parts,car interior exterior,4.6,21/4/2016\\nP-7776,B-3078,pens stationery,school supplies,geometry pen pencil boxes,4.3,1/12/2014\\nP-2065,B-3078,clothing,women s clothing,ethnic wear,2.3,1/12/2016\\nP-11160,B-3078,watches,wrist watches,timewel wrist watches,4.4,7/1/2020\\nP-9694,B-3078,watches,wrist watches,scheffer s wrist watches,2.4,12/12/2013\\nP-10613,B-3078,clothing,women s clothing,western wear,2.0,30/12/2018\\nP-9768,B-2547,home decor festive needs,showpiece,contemporary,5.0,24/4/2013\\nP-915,B-133,automotive,accessories spare parts,car interior exterior,3.9,1/12/2018\\nP-6178,B-334,clothing,women s clothing,lingerie sleep swimwear,1.0,7/1/2020\\nP-10369,B-2741,automotive,accessories spare parts,spares performance parts,2.2,12/3/2016\\nP-6607,B-2330,clothing,women s clothing,lingerie sleep swimwear,1.5,7/1/2015\\nP-11401,B-3032,home decor festive needs,decorative lighting lamps,table lamps,1.8,2/3/2014\\nP-9265,B-2391,footwear,kids infant footwear,for boys,4.6,2/4/2015\\nP-7031,B-3078,footwear,women s footwear,flats,1.6,1/1/2019\\nP-6203,B-378,clothing,women s clothing,lingerie sleep swimwear,5.0,7/1/2020\\nP-6371,B-3078,footwear,men s footwear,formal shoes,4.5,29/12/2014\\nP-9176,B-2359,clothing,kids clothing,girls wear,4.0,23/3/2016\\nP-7374,B-1980,pens stationery,office supplies,boards dusters,4.2,12/6/2018\\nP-12117,B-3078,clothing,men s clothing,t shirts,3.2,7/1/2014\\nP-11710,B-3078,clothing,women s clothing,western wear,2.8,31/12/2013\\nP-11720,B-3147,mobiles accessories,tablet accessories,cases covers,3.1,1/1/2015\\nP-2347,B-557,jewellery,rings,unknown,3.4,6/1/2013\\nP-704,B-133,automotive,accessories spare parts,car interior exterior,3.8,1/12/2015\\nP-7078,B-1879,clothing,women s clothing,lingerie sleep swimwear,4.1,2/4/2015\\nP-12341,B-3078,clothing,women s clothing,western wear,3.4,12/12/2015\\nP-10624,B-3078,clothing,kids clothing,girls wear,4.7,20/12/2012\\nP-3937,B-1018,baby care,infant wear,baby boys clothes,3.3,23/4/2015\\nP-7732,B-3078,clothing,men s clothing,t shirts,5.0,13/12/2016\\nP-6213,B-1634,mobiles accessories,mobile accessories,batteries,3.9,3/3/2015\\nP-2407,B-1258,clothing,women s clothing,lingerie sleep swimwear,2.7,7/1/2019\\nP-2113,B-2372,clothing,women s clothing,western wear,1.7,30/12/2017\\nP-4724,B-1259,clothing,kids clothing,boys wear,4.3,21/6/2016\\nP-7983,B-3078,clothing,men s clothing,t shirts,3.2,13/12/2017\\nP-5293,B-1412,furniture,pet furniture,unknown,4.7,29/12/2012\\nP-6007,B-3078,clothing,women s clothing,western wear,2.0,7/1/2016\\nP-9194,B-3078,footwear,men s footwear,sports shoes,3.3,12/12/2018\\nP-7081,B-3078,clothing,women s clothing,western wear,1.6,1/12/2013\\nP-10598,B-3078,footwear,women s footwear,casual shoes,2.1,4/12/2016\\nP-5791,B-3078,clothing,women s clothing,western wear,4.5,30/12/2017\\nP-3220,B-836,kitchen dining,lighting,bulbs,1.2,31/12/2019\\nP-869,B-133,automotive,accessories spare parts,car interior exterior,2.0,1/12/2015\\nP-7094,B-1885,home improvement,electricals,switches accessories,1.4,1/12/2019\\nP-10235,B-3078,watches,wrist watches,sonata wrist watches,4.2,7/1/2015\\nP-4285,B-2355,clothing,women s clothing,lingerie sleep swimwear,3.3,7/1/2014\\nP-6123,B-1617,clothing,women s clothing,ethnic wear,4.6,2/3/2020\\nP-1407,B-247,computers,network components,routers,3.8,1/12/2017\\nP-7321,B-1960,naaz 2 in 1 paper quilling board game,unknown,unknown,1.5,10/5/2018\\nP-394,B-88,mobiles accessories,mobile accessories,car accessories,1.5,3/3/2018\\nP-3990,B-3078,footwear,men s footwear,formal shoes,5.0,29/12/2013\\nP-9634,B-2504,home furnishing,bed linen,blankets quilts dohars,1.2,1/1/2015\\nP-1034,B-3078,clothing,men s clothing,accessories combo sets,1.6,31/12/2017\\nP-11023,B-2925,home furnishing,bed linen,blankets quilts dohars,1.7,1/1/2016\\nP-10208,B-2201,clothing,women s clothing,lingerie sleep swimwear,1.9,7/1/2018\\nP-8613,B-3078,kitchen dining,coffee mugs,printland coffee mugs,4.9,1/12/2018\\nP-6712,B-2201,clothing,women s clothing,lingerie sleep swimwear,1.3,7/1/2020\\nP-8657,B-3078,kitchen dining,coffee mugs,printland coffee mugs,4.1,1/12/2015\\nP-11364,B-3018,bags wallets belts,bags,sling bags,1.0,7/6/2016\\nP-3755,B-962,computers,computer peripherals,printers inks,4.4,3/1/2016\\nP-200,B-3078,clothing,kids clothing,girls wear,1.5,6/1/2018\\nP-7281,B-1941,jewellery,bangles bracelets armlets,bangles,1.9,31/12/2016\\nP-11231,B-3078,toys school supplies,school supplies,geometry pencil boxes,2.9,1/12/2013\\nP-4870,B-3078,clothing,women s clothing,western wear,4.0,7/1/2017\\nP-5902,B-3078,clothing,women s clothing,ethnic wear,1.8,30/12/2015\\nP-12249,B-3265,jewellery,necklaces chains,necklaces,3.6,1/12/2016\\nP-6346,B-1656,home decor festive needs,festive decor,rakhi,5.0,20/6/2020\\nP-11841,B-3186,baby care,infant wear,baby girls clothes,4.1,19/4/2020\\nP-5601,B-3078,clothing,women s clothing,western wear,2.9,1/12/2015\\nP-5581,B-3078,clothing,women s clothing,western wear,2.4,6/1/2017\\nP-6464,B-3078,clothing,women s clothing,western wear,4.1,1/12/2018\\nP-5594,B-1486,automotive,accessories spare parts,automotive combo,2.9,3/3/2013\\nP-10203,B-2355,furniture,pet furniture,unknown,2.5,29/12/2014\\nP-7910,B-3078,clothing,men s clothing,t shirts,2.2,13/12/2019\\nP-3738,B-956,clothing,men s clothing,shirts,1.2,23/6/2020\\nP-90,B-3078,watches,wrist watches,a avon wrist watches,2.4,4/12/2018\\nP-3920,B-1011,computers,laptop accessories,mouse pads,1.2,12/5/2018\\nP-3872,B-995,footwear,kids infant footwear,for boys,1.6,2/4/2017\\nP-7276,B-2372,clothing,women s clothing,western wear,1.5,30/12/2012\\nP-3528,B-3078,footwear,women s footwear,heels,3.2,31/12/2012\\nP-11952,B-3197,jewellery,necklaces chains,necklaces,3.8,1/12/2013\\nP-5987,B-3078,clothing,women s clothing,western wear,2.0,31/12/2016\\nP-3159,B-813,clothing,women s clothing,lingerie sleep swimwear,3.6,12/6/2019\\nP-12188,B-1805,clothing,women s clothing,lingerie sleep swimwear,5.0,7/1/2015\\nP-5914,B-1557,clothing,kids clothing,girls wear,4.5,28/4/2018\\nP-3921,B-1011,computers,laptop accessories,mouse pads,1.4,12/5/2015\\nP-6661,B-2281,clothing,women s clothing,lingerie sleep swimwear,4.0,7/1/2017\\nP-7325,B-1960,toys school supplies,naaz toys school supplies,naaz the young scientist for kids board game,2.4,10/5/2020\\nP-258,B-74,clothing,women s clothing,ethnic wear,1.3,21/3/2013\\nP-7350,B-1970,clothing,kids clothing,girls wear,3.8,10/5/2014\\nP-627,B-133,automotive,accessories spare parts,car interior exterior,1.6,1/12/2015\\nP-7108,B-1892,footwear,women s footwear,ballerinas,3.6,25/6/2017\\nP-7886,B-2372,clothing,women s clothing,western wear,1.1,30/12/2013\\nP-11392,B-3028,clothing,men s clothing,t shirts,4.1,13/5/2015\\nP-5645,B-1507,bags wallets belts,wallets clutches,travel document holders card holders,3.2,18/3/2017\\nP-7591,B-2030,pens stationery,office equipments,biometric devices,1.2,20/3/2016\\nP-2389,B-2666,clothing,women s clothing,lingerie sleep swimwear,1.1,7/1/2019\\nP-9847,B-3078,clothing,women s clothing,western wear,3.0,6/1/2014\\nP-7525,B-3078,beauty and personal care,fragrances,deodorants,4.0,1/12/2016\\nP-8703,B-3078,kitchen dining,coffee mugs,prithish coffee mugs,5.0,1/12/2018\\nP-8099,B-2140,clothing,women s clothing,western wear,4.5,12/5/2013\\nP-6528,B-3078,footwear,women s footwear,wedges,3.0,12/12/2019\\nP-9758,B-2543,sports fitness,outdoor adventure,camping hiking,2.0,28/2/2014\\nP-11898,B-3197,jewellery,necklaces chains,necklaces,4.7,1/12/2019\\nP-904,B-133,automotive,accessories spare parts,car interior exterior,3.5,1/12/2014\\nP-1714,B-358,kitchen dining,lighting,bulbs,2.4,23/6/2013\\nP-620,B-133,automotive,accessories spare parts,car interior exterior,3.1,1/12/2012\\n'}"
            ]
          },
          "metadata": {
            "tags": []
          },
          "execution_count": 6
        }
      ]
    },
    {
      "cell_type": "code",
      "metadata": {
        "id": "sKzIK5NfeuB0",
        "colab_type": "code",
        "colab": {
          "resources": {
            "http://localhost:8080/nbextensions/google.colab/files.js": {
              "data": "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",
              "ok": true,
              "headers": [
                [
                  "content-type",
                  "application/javascript"
                ]
              ],
              "status": 200,
              "status_text": ""
            }
          },
          "base_uri": "https://localhost:8080/",
          "height": 110
        },
        "outputId": "3f270624-8a19-4b44-e5b6-679447e25f1a"
      },
      "source": [
        "files.upload()"
      ],
      "execution_count": 7,
      "outputs": [
        {
          "output_type": "display_data",
          "data": {
            "text/html": [
              "\n",
              "     <input type=\"file\" id=\"files-478cec7a-aa73-482c-be6c-6edf98d100a1\" name=\"files[]\" multiple disabled\n",
              "        style=\"border:none\" />\n",
              "     <output id=\"result-478cec7a-aa73-482c-be6c-6edf98d100a1\">\n",
              "      Upload widget is only available when the cell has been executed in the\n",
              "      current browser session. Please rerun this cell to enable.\n",
              "      </output>\n",
              "      <script src=\"/nbextensions/google.colab/files.js\"></script> "
            ],
            "text/plain": [
              "<IPython.core.display.HTML object>"
            ]
          },
          "metadata": {
            "tags": []
          }
        },
        {
          "output_type": "stream",
          "text": [
            "Saving Sample_Submission.xlsx to Sample_Submission.xlsx\n"
          ],
          "name": "stdout"
        },
        {
          "output_type": "execute_result",
          "data": {
            "text/plain": [
              "{'Sample_Submission.xlsx': b'PK\\x03\\x04\\x14\\x00\\x00\\x00\\x08\\x00o[\\xc9P\\x07AMb\\x81\\x00\\x00\\x00\\xb1\\x00\\x00\\x00\\x10\\x00\\x00\\x00docProps/app.xmlM\\x8e=\\x0b\\x021\\x10D\\xff\\xcaq\\xbd\\xb7A\\xc1Bb@\\xd0R\\xb0\\xb2\\x0f{\\x1b/\\x90dC\\xb2B~\\xbe9\\xc1\\x8fn\\x1eo\\x18F\\xdf\\ng*\\xe2\\xa9\\x0e-\\x86T\\x8f\\xe3\"\\x92\\x0f\\x00\\x15\\x17\\x8a\\xb6N]\\xa7n\\x1c\\x97h\\xa5cy\\x00;\\xe7\\x91\\xce\\x8c\\xcfHI`\\xab\\xd4\\x1e\\xa8\\t\\xa5\\x99\\xe6M\\xfe\\x0e\\x8eF\\x9fr\\x0e\\x1e\\xadxN\\xe6\\xea\\xb1pe\\'\\xc3\\xa5!\\x05\\r\\xffrm\\xde\\xa9\\xd45\\xef&\\xf5\\x96\\x1f\\xd6\\xf0;i^PK\\x03\\x04\\x14\\x00\\x00\\x00\\x08\\x00o[\\xc9P\\x1b\\xa2\\xd7\\xf2\\xee\\x00\\x00\\x00+\\x02\\x00\\x00\\x11\\x00\\x00\\x00docProps/core.xml\\xcd\\x92\\xc1j\\xc30\\x0c\\x86_e\\xf8\\x9e\\xc8I\\xa0c&\\xf5\\xa5\\xa3\\xa7\\x0e\\x06+l\\xecfl\\xb55\\x8b\\x1dck$}\\xfb9Y\\x9b2\\xb6\\x07\\xd8\\xd1\\xd2\\xefO\\x9f@\\xad\\x0eB\\xf7\\x11\\x9fc\\x1f0\\x92\\xc5t7\\xba\\xce\\'\\xa1\\xc3\\x9a\\x9d\\x88\\x82\\x00H\\xfa\\x84N\\xa52\\'|n\\x1e\\xfa\\xe8\\x14\\xe5g<BP\\xfaC\\x1d\\x11j\\xceW\\xe0\\x90\\x94Q\\xa4`\\x02\\x16a!2\\xd9\\x1a-tDE}\\xbc\\xe0\\x8d^\\xf0\\xe13v3\\xcch\\xc0\\x0e\\x1dzJP\\x95\\x1509M\\x0c\\xe7\\xb1k\\xe1\\x06\\x98`\\x84\\xd1\\xa5\\xef\\x02\\x9a\\x858W\\xff\\xc4\\xce\\x1d`\\x97\\xe4\\x98\\xec\\x92\\x1a\\x86\\xa1\\x1c\\x9a9\\x97w\\xa8\\xe0\\xedi\\xf72\\xaf[X\\x9fHy\\x8d\\xf9W\\xb2\\x82\\xce\\x01\\xd7\\xec:\\xf9\\xb5\\xd9<\\xee\\xb7L\\xd6\\xbc\\xe6\\x05_\\x15\\xfca_U\\xa2\\xbe\\x17\\r\\x7f\\x9f\\\\\\x7f\\xf8\\xdd\\x84]o\\xec\\xc1\\xfec\\xe3\\xab\\xa0l\\xe1\\xd7]\\xc8/PK\\x03\\x04\\x14\\x00\\x00\\x00\\x08\\x00o[\\xc9P\\x99\\\\\\x9c#\\x10\\x06\\x00\\x00\\x9c\\'\\x00\\x00\\x13\\x00\\x00\\x00xl/theme/theme1.xml\\xedZ[s\\xda8\\x14~\\xef\\xaf\\xd0xg\\xf6m\\x0b\\xc66\\x81\\xb6\\xb4\\x13siv\\xdb\\xb4\\x99\\x84\\xedN\\x1f\\x85\\x11X\\x8dlyd\\x91\\x84\\x7f\\xbfG6\\x10\\xcb\\x96\\r\\xed\\x92M\\xba\\x9b<\\x04,\\xe9\\xfb\\xceEG\\xe7\\xe88y\\xf3\\xee.b\\xe8\\x86\\x88\\x94\\xf2x`\\xd9/\\xdb\\xd6\\xbb\\xb7/\\xde\\xe0W2$\\x11A0\\x19\\xa7\\xaf\\xf0\\xc0\\n\\xa5L^\\xb5Zi\\x00\\xc38}\\xc9\\x13\\x12\\xc3\\xdc\\x82\\x8b\\x08Kx\\x14\\xcb\\xd6\\\\\\xe0[\\x1a/#\\xd6\\xea\\xb4\\xdb\\xddV\\x84il\\xa1\\x18Gd`}^,h@\\xd0TQZo_ \\xb4\\xe5\\x1f3\\xf8\\x15\\xcbT\\x8de\\xa3\\x01\\x13WA&\\xb9\\x88\\xb4\\xf2\\xf9l\\xc5\\xfc\\xda\\xde>e\\xcf\\xe9:\\x1d2\\x81n0\\x1bX \\x7f\\xceo\\xa7\\xe4NZ\\x88\\xe1T\\xc2\\xc4\\xc0jg?Vk\\xc7\\xd1\\xd2H\\x80\\x82\\xc9}\\x94\\x05\\xbaI\\xf6\\xa3\\xd3\\x15\\x082\\r;:\\x9dX\\xcev|\\xf6\\xc4\\xed\\x9f\\x8c\\xca\\xdat4m\\x1a\\xe0\\xe3\\xf1x8\\xb6\\xcb\\xd2\\x8bp\\x1c\\x04\\xe0Q\\xbb\\x9e\\xc2\\x9d\\xf4l\\xbf\\xa4A\\t\\xb4\\xa3i\\xd0d\\xd8\\xf6\\xda\\xae\\x91\\xa6\\xaa\\x8dSO\\xd3\\xf7}\\xdf\\xeb\\x9bh\\x9c\\n\\x8d[O\\xd3kw\\xdd\\xd3\\x8e\\x89\\xc6\\xad\\xd0x\\r\\xbe\\xf1O\\x87\\xc3\\xae\\x89\\xc6\\xab\\xd0t\\xebi&\\'\\xfd\\xaek\\xa4\\xe9\\x16hBF\\xe3\\xebz\\x12\\x15\\xb5\\xe5@\\xd3 \\x00Xpv\\xd6\\xcc\\xd2\\x03\\x96^)\\xfau\\x94\\x1a\\xd9\\x1d\\xbb\\xddA\\\\\\xf0X\\xee9\\x89\\x11\\xfe\\xc6\\xc5\\x04\\xd6i\\xd2\\x19\\x964Fr\\x9d\\x90\\x05\\x0e\\x007\\xc4\\xd1LP|\\xafA\\xb6\\x8a\\xe0\\xc2\\x92\\xd2\\\\\\x90\\xd6\\xcf)\\xb5P\\x1a\\x08\\x9a\\xc8\\x81\\xf5G\\x82!\\xc5\\xdc\\xaf\\xfd\\xf5\\x97\\xbb\\xc9\\xa43z\\x9d}:\\xcek\\x94\\x7fi\\xab\\x01\\xa7\\xed\\xbb\\x9b\\xcf\\x93\\xfcs\\xe8\\xe4\\x9f\\xa7\\x93\\xd7MB\\xcep\\xbc,\\t\\xf1\\xfb#[a\\x87\\'n;\\x13r:\\x1cgB|\\xcf\\xf6\\xf6\\x91\\xa5%2\\xcf\\xef\\xf9\\n\\xebN<g\\x1fV\\x96\\xb0]\\xcf\\xcf\\xe4\\x9e\\x8cr#\\xbb\\xdd\\xf6X}\\xf6OGn#\\xd7\\xa9\\xc0\\xb3\"\\xd7\\x94F$E\\x9f\\xc8-\\xba\\xe4\\x118\\xb5I\\r2\\x13?\\x08\\x9d\\x86\\x98jP\\x1c\\x02\\xa4\\t1\\x96\\xa1\\x86\\xf8\\xb4\\xc6\\xac\\x11\\xe0\\x13}\\xb7\\xbe\\x08\\xc8\\xdf\\x8d\\x88\\xf7\\xabo\\x9a=W\\xa1XI\\xda\\x84\\xf8\\x10F\\x1a\\xe2\\x9cs\\xe6s\\xd1l\\xfb\\x07\\xa5F\\xd1\\xf6U\\xbc\\xdc\\xa3\\x97X\\x15\\x01\\x97\\x18\\xdf4\\xaa5,\\xc5\\xd6x\\x95\\xc0\\xf1\\xad\\x9c<\\x1d\\x13\\x12\\xcd\\x94\\x0b\\x06A\\x86\\x97$&\\x12\\xa99~MH\\x13\\xfe+\\xa5\\xda\\xfe\\x9c\\xd3@\\xf0\\x94/$\\xfaJ\\x91\\x8fi\\xb3#\\xa7t&\\xcd\\xe83\\x1a\\xc1F\\xaf\\x1bu\\x87h\\xd2<z\\xfe\\x05\\xf9\\x9c5\\n\\x1c\\x91\\x1b\\x1d\\x02g\\x1b\\xb3F!\\x84i\\xbb\\xf0\\x1e\\xaf$\\x8e\\x9a\\xad\\xc2\\x11+B>b\\x196\\x1ar\\xb5\\x16\\x81\\xb6q\\xa9\\x84`Z\\x12\\xc6\\xd1xN\\xd2\\xb4\\x11\\xfcY\\xac5\\x93>`\\xc8\\xec\\xcd\\x91u\\xce\\xd6\\x91\\x0e\\x11\\x92^7B>b\\xce\\x8b\\x90\\x11\\xbf\\x1e\\x868J\\x9a\\xed\\xa2qX\\x04\\xfd\\x9e^\\xc3I\\xc1\\xe8\\x82\\xcbf\\xfd\\xb8~\\x86\\xd53l,\\x8e\\xf7G\\xd4\\x17J\\xe4\\x0f&\\xa7?\\xe924\\x07\\xa3\\x9aY\\t\\xbd\\x84Vj\\x9f\\xaa\\x874>\\xa8\\x1e2\\n\\x05\\xf1\\xb9\\x1e>\\xe5zx\\n7\\x96\\xc6\\xbcP\\xae\\x82{\\x01\\xff\\xd1\\xda7\\xc2\\xab\\xf8\\x82\\xc09\\x7f.}\\xcf\\xa5\\xef\\xb9\\xf4=\\xa1\\xd2\\xb77#}g\\xc1\\xd3\\x8b[\\xdeFn[\\xc4\\xfb\\xae1\\xda\\xd74.(cWr\\xcd\\xc8\\xc7T\\xaf\\x93)\\xd89\\x9f\\xc0\\xec\\xfdh>\\x9e\\xf1\\xed\\xfa\\xd9$\\x84\\xaf\\x9aY-#\\x16\\x90K\\x81\\xb3A$\\xb8\\xfc\\x8b\\xca\\xf0*\\xc4\\t\\xe8d[%\\t\\xcbT\\xd3e7\\x8a\\x12\\x9eB\\x1bn\\xe9S\\xf5J\\x95\\xd7\\xe5\\xaf\\xb9(\\xb8<[\\xe4\\xe9\\xaf\\xa1t>,\\xcf\\xf9<_\\xe7\\xb4\\xcd\\x0b3C\\xb7rK\\xea\\xb6\\x94\\xbe\\xb5&8J\\xf4\\xb1\\xccpN\\x1e\\xcb\\x0c;g<\\x92\\x1d\\xb6w\\xa0\\x1d5\\xfb\\xf6]v\\xe4#\\xa50S\\x97C\\xb8\\x1aB\\xbe\\x03m\\xba\\x9d\\xdc:8\\x9e\\x98\\x91\\xb9\\n\\xd3R\\x90o\\xc3\\xf9\\xe9\\xc5x\\x1a\\xe29\\xd9\\x04\\xb9}\\x98Wm\\xe7\\xd8\\xd1\\xd1\\xfb\\xe7\\xc1Q\\xb0\\xa3\\xef<\\x96\\x1d\\xc7\\x88\\xf2\\xa2!\\xee\\xa1\\x86\\x98\\xcf\\xc3C\\x87y{_\\x98g\\x95\\xc6P4\\x14ml\\xac$,F\\xb7`\\xb8\\xd7\\xf1,\\x14\\xe0d`-\\xa0\\x07\\x83\\xafQ\\x02\\xf2RU`1[\\xc6\\x03+\\x90\\xa2|L\\x8cE\\xe8p\\xe7\\x97\\\\_\\xe3\\xd1\\x92\\xe3\\xdb\\xa6e\\xb5n\\xaf)w\\x19m\"R9\\xc2i\\x98\\x13g\\xab\\xca\\xdee\\xb1\\xc1U\\x1d\\xcfU[\\xf2\\xb0\\xbej=\\xb4\\x15N\\xcf\\xfeY\\xad\\xc8\\x9f\\x0c\\x11N\\x16\\x0b\\x12Hc\\x94\\x17\\xa6J\\xa2\\xf3\\x19S\\xbe\\xe7+I\\xc4U8\\xbfE3\\xb6\\x12\\x97\\x18\\xbc\\xe3\\xe6\\xc7qNS\\xb8\\x12v\\xb6\\x0f\\x022\\xb9\\xbb9\\xa9ze1g\\xa6\\xf2\\xdf-\\x0c\\t,[\\x88Y\\x12\\xe2M]\\xed\\xd5\\xe7\\x9b\\x9c\\xaez\"v\\xfa\\x97w\\xc1`\\xf2\\xfdp\\xc9G\\x0f\\xe5;\\xe7_\\xf4]C\\xae~\\xf6\\xdd\\xe3\\xfan\\x93;HL\\x9cy\\xc5\\x11\\x01tE\\x02#\\x95\\x1c\\x06\\x16\\x172\\xe4P\\xee\\x92\\x90\\x06\\x13\\x01\\xcd\\x94\\xc9D\\xf0\\x02\\x82d\\xa6\\x1c\\x80\\x98\\xfa\\x0b\\xbd\\xf2\\x0c\\xb9)\\x15\\xce\\xad>9\\x7fE,\\x83\\x86N^\\xd2%\\x12\\x14\\x8a\\xb0\\x0c\\x05!\\x17r\\xe3\\xef\\xef\\x93jw\\x8c\\xd7\\xfa,\\x81m\\x84T2d\\xd5\\x17\\xcaC\\x89\\xc1=3rC\\xd8T%\\xf3\\xae\\xda&\\x0b\\x85\\xdb\\xe2T\\xcd\\xbb\\x1a\\xbe&`K\\xc3zn\\x9d-\\'\\xff\\xdb^\\xd4=\\xb4\\x17=F\\xf3\\xa3\\x99\\xe0\\x1e\\xb3\\x87s\\x9bz\\xb8\\xc2E\\xac\\xffX\\xd6\\x1e\\xf92\\xdf9p\\xdb:\\xde\\x03^\\xe6\\x13,C\\xa4~\\xc1}\\x8a\\x8a\\x80\\x11\\xabb\\xbe\\xba\\xafO\\xf9%\\x9c;\\xb4{\\xf1\\x81 \\x9b\\xfc\\xd6\\xdb\\xa4\\xf6\\xdd\\xe0\\x0c|\\xd4\\xabZ\\xa5d+\\x11?K\\x07|\\x1f\\x92\\x06c\\x8c[\\xf44_\\x8f\\x14b\\xad\\xa6\\xb1\\xad\\xc6\\xda1\\x0cy\\x80X\\xf3\\x0c\\xa1f8\\xdf\\x87E\\x9a\\x1a3\\xd5\\x8b\\xac9\\x8d\\noA\\xd5@\\xe5?\\xdb\\xd4\\rh\\xf6\\r4\\x1c\\x91\\x05^1\\x99\\xb66\\xa3\\xe4N\\n<\\xdc\\xfe\\xef\\r\\xb0\\xc2\\xc4\\x8e\\xe1\\xed\\x8b\\xbf\\x01PK\\x03\\x04\\x14\\x00\\x00\\x00\\x08\\x00o[\\xc9P\\xeeS \\xe7\"*\\x00\\x00\\xb3\\xe3\\x00\\x00\\x18\\x00\\x00\\x00xl/worksheets/sheet1.xml\\x8d\\xdd\\xeb\\xae\\x1cGv%\\xe0W\\x11\\xf8\\x00\\xc5\\x8c\\xcb\\xbe\\x19\\x92\\x00\\x8f\\rc\\xe6\\xc7\\x00\\r7f\\xfcs\\xc0\\x96\\x8e$\\xa2%Q&O\\xb7f\\xde~\"\\xcan\\xe6Z\\xe9^\\xc5j\\xc0\\xb0(U\\xb0\\xaa\\xb2vFF|\\xb1c\\xc7\\xd7\\xbf\\x7f\\xf8\\xf8\\xe7O?\\xbd\\xbc\\xbc~\\xf5\\x7f\\x7f\\xf9\\xf9\\xd7O\\xdf\\xbc\\xf9\\xe9\\xf5\\xf5\\xb7\\x7fx\\xfb\\xf6\\xd3w?\\xbd\\xfc\\xf2\\xee\\xd3\\xed\\xc3o/\\xbf\\xae\\xff\\xf2\\xc3\\x87\\x8f\\xbf\\xbc{]\\x7f\\xfc\\xf8\\xe3\\xdbO\\xbf}|y\\xf7\\xfd\\xbd\\xd1/?\\xbf\\xed\\xc7\\xe1o\\x7fy\\xf7\\xfe\\xd77\\xdf~}\\xffw\\x7f\\xf8\\xf8\\xed\\xd7\\x1f\\xfe\\xf2\\xfa\\xf3\\xfb__\\xfe\\xf0\\xf1\\xabO\\x7f\\xf9\\xe5\\x97w\\x1f\\xff\\xdf\\x7f{\\xf9\\xf9\\xc3\\xef\\xdf\\xbcio\\xfe\\xf6/\\xfe\\xf5\\xfd\\x8f?\\xbd\\xee\\x7f\\xf1\\xf6\\xdb\\xaf\\x7f{\\xf7\\xe3\\xcb\\x1f_^\\xff\\xd7o\\x7f\\xf8\\xb8\\xfe\\xf4\\xf6\\xf3\\xdf\\xf2\\xfd\\xfb_^~\\xfd\\xf4\\xfe\\xc3\\xaf_}|\\xf9\\xe1\\x9b7\\xff\\xd8\\xfe\\xe1\\x1f\\xdba}7\\xb9\\xbf\\xe6\\x7f\\xbf\\x7f\\xf9\\xfd\\x13\\xfc\\xf3W\\xfb\\xcb\\xfc\\xe9\\xc3\\x87?\\xef?\\xfc\\x8f\\xef\\xbfys\\xec\\xcf\\xf4\\xf2\\xf3\\xcbw\\xaf\\xfb/y\\xb7\\xfe\\xdf__\\xfe\\xe9\\xe5\\xe7\\x9f\\xf7\\xdf\\xb5>\\xc9\\xbf\\xff\\xe7_\\xfb\\xe6\\xf3\\xbb\\xee\\x86\\xf8\\xcf\\x7f\\xfb\\xdb\\xff\\xe5\\xfe\\xf5\\xd7\\xd7\\xf9\\xd3\\xbbO/\\xff\\xf4\\xe1\\xe7\\x7f{\\xff\\xfd\\xebO\\xdf\\xbc\\xc97_}\\xff\\xf2\\xc3\\xbb\\xbf\\xfc\\xfc\\xfa\\xaf\\x1f~\\xff\\xef/\\xff\\xf9\\x95\\xec\\xf3\\x07\\xfc\\xe7w\\xaf\\xef\\xbe\\xfd\\xfa\\xe3\\x87\\xdf\\xbf\\xfa\\xb8\\xbf\\xea\\xb7_\\x7f\\xb7\\xff\\xe1\\xfe\\xde\\xf7k\\xb1^\\xfd\\xfe\\xd7}\\xa1\\xfe\\xf8\\xfaq\\xfd\\xd7\\xf7\\xeb\\xed^\\xbf\\xfd\\xe3\\xfa\\x80\\xef\\x7f\\xfd\\xf1\\xff\\xfc\\xe1\\xe3\\xfb\\xef^\\xbe~\\xfb\\xba>\\xcf\\xfe\\x0fo\\xbf[\\xff\\xb7\\xfe\\xaa\\xcf\\x7f_\\xff\\xfc\\xf7\\xf5\\xfb\\xdf\\xb4\\x7f\\x80\\xbf~\\xdb\\xab\\xb7[\\xd9\\xd7o\\xff\\xfaw\\x9a\\x8c\\xcfM\\x064\\xb1#o3\\xfe~\\x8b\\xf9\\xb9\\xc5\\x84\\x16y\\xf4[\\xb4\\xbf\\xdf\\xc2>\\xb70h1w\\x8b\\xfa\\xfb-\\xfcs\\x0b\\x87\\x16a\\xed&\\xde\">7\\x08j\\xe0\\xb7&Z\\xe4\\xe7\\x16\\x89\\x1f\\xca\\xf2\\xd6\\xc4\\xa5\\xaa\\xcf-\\nZ\\xb4\\xd9\\xc3o\\xbd\\xff\\xfd6\\xed8\\x7f\\xe2\\x83\\x7f\\x13\\xab\\x9b\\xbbh\\x05\\x81\\xd1\\xb0U\\xcf[\\x0c\\xd1\\xe6\\xfc\\xf1\\x1b\\xfe\\xfa3\\xec6\\xa7hs\\xfe\\xfa\\r\\x7f\\xfeq\\xb4u\\x19\\xd4\\x1b\\x9d\\x01\\xd0(\\x02f\\xde\\x0e\\xab\\xf3\\x7f\\xa2\\xf9\\x19\\r\\r\\xc3\\xa1\\xf5\\xf2\\xdb\\xa1\\xde\\xf3\\x0c\\x88\\x86\\x111\\xa2\\xdfR\\xb59c\\xa2aP\\xe4\\xe8\\xb7C}\\xb83*Z\\xd2\\xfd`\\xb7&\\xee\\x87v\\xc6E\\xc3\\xc0\\x98\\xd9n\\xa2I?\\xa3\\xa2cT\\xb4\\x16\\xf3\\x16\\xaa\\xd1\\x19\\x14\\x1d\\x83\\xa2U\\xd9-\\xc5/\\xdc\\xa1K\\xc0\\xa8\\xc88\\xe4\\xcd\\xd7\\xcf\\xa8\\xe8\\x14\\x15\\xeb}\\xc4\\xb5\\xeegLt\\x8c\\x89v\\x1c+\\xca\\xc5\\x1d\\xd8\\xcfH\\xe8\\x14\\t\\x99]\\xde\\x84\\xfd\\x8c\\x84\\xee\\x97\\xde\\xc4\\xd4\\x17:#\\xa1s$\\x1c\\xaa?\\xe9g \\xf4\\xa4/Tu3q\\xb3\\xf73\\x12:FB\\x0f\\xeb\\xc7M\\xdd\\x10\\xe3\\x0c\\x86\\x81\\xc1\\x90\\xabM\\xa4hs\\xc6\\xc2\\xc0X\\x18#n!>\\xdd8Cat\\xfaY\\xc7M\\xbd\\r<\\x1d0\\x12\\x9a\\xb7qk\\xea}\\xceX\\x18\\x14\\x0b\\xe1!\\xe3t\\x9c\\xb100\\x16F\\x86\\xbcY\\xc7\\x19\\n\\x83Ba\\x0c\\x15\\xa7\\xe3\\x8c\\x84\\x81\\x910[\\xdd\\x86\\x08\\x85q\\x86\\xc2\\xa0P\\xb0\\xa6{\\xf0q\\x86\\xc2\\xc0P\\xa86o\\x87\\xb8\\x06\\xf3\\x0c\\x84I\\xbd\\xc2\\xb4~\\x9b\\xe2\\xd3\\xcd3\\x12f\\xa3o\\xb4.\\x82\\xf8p\\xf3\\x8c\\x84\\x89\\x91`\\xddn]\\xdcw\\xf3\\x0c\\x85\\x89\\xa1\\xe0\\xeb\\xb3\\xc9/\\x04C\\x05\\x8a\\x84\\xb1\\xba\\xe0T_\\xe8\\x8c\\x84i\\x970U\\xa1=\\xcfH\\x98Nwk\\x8f\\x9b\\x8b\\xe0\\x9eg,L\\x8c\\x05[C\\x80.\\xe2g\\x9e\\xb10)\\x16f_7\\x91z\\xa33\\x16&\\x8f\\x1cf\\x93\\xd7\\xce\\xce`0\\n\\x86}\\x1dL\\r\\xb4\\xce`0\\x0c\\x06\\x8f\\xd4\\xfd\\x82\\x9d\\xd1`\\x18\\r\\xad\\xaf\\x9fV=\\xf4\\xec\\x0c\\x07\\xa3p\\x98\\xfd6D\\x08\\xd9\\x19\\x0eF\\x03\\x87\\xd5/x\\x1d\\x9f\\xff\\xa7\\xbe\\x1c\\x0c#10r=b\\xd4X\\xd5\\xce\\xc00\\n\\x8c\\xbe\\x06\\xb8)n\\x0f;\\x03\\xc3\\xa8\\x93X\\x8f%y\\x11\\xcf\\xc00\\n\\x8c\\x18k\\xf8%\\xa2\\xc9\\xce\\xc00z^T\\xc8\\x9e\\xdf\\xcf\\xb8pzZ\\xac\\x87\\xf3\\x11_\\xbc\\x88~F\\x88\\xd3\\x83cu\\x17S|7?\\x03\\xc4)@Z\\xad\\xf1\\xb8\\xfa\\x9cg\\x808\\x06H\\xae\\x91e\\x89\\x0b\\xefg\\x808\\x06\\xc8\\xecz\\xf4\\xe5gT8\\x0f\\'WX\\xa8\\xa1\\x94\\xc3\\xfc\\x82\\xfb\\x8bc\\xe89\\xc9\\x19\\x16\\x8eaQ\\xab3\\xeb\\xea*\\x9ca\\xe1\\x18\\x16k\\xf0\\x1f\\xed6\\xd5;\\x9dq\\xe1\\x18\\x17\\xb1\\x06mC\\xbcS\\x9cq\\x114\\xd1H\\xbf\\x99\\xb8\\x0cq\\x06C\\xd0\\x88\\xd2\\x1e<u\\xe3\\x8c\\x86\\xe0a\\x84\\xc9~)\\xce`\\x08\\x1aGD;\\xe4\\xd4)\\xceh\\x08\\x8c\\x86\\xfd\\xf0(\\xf5\\x8d\\xceh\\x08\\x8e\\x06_a\\xa7\\xde\\xe8\\x8c\\x86\\xa0q\\xc4\\x9an\\xaa{\"`\\xc2\\x89\\xc10B\\x8f\\xc5\\xe3\\x0c\\x86\\xc0`\\xc8\\x15\\xde\\xaa\\xcf\\x8c3\\x14\\x82\\xba\\x88c\\x94\\x1c#\\xe7\\x19\\x0b\\x89\\xb1\\xb0:\\xd9\\x9b\\x8b/\\x94g,$\\xc5B\\xae\\x1e]\\\\\\xed<C!1\\x14j\\xcd\\xe4\\xd4\\xc5\\xce3\\x14\\x92\\xc4!\\x87\\xbc\\xc7\\xf3\\x8c\\x84\\xa4q\\xc4\\\\qj\\xea\"\\x9c\\xa1\\x90\\x18\\n\\xbeGm\\xa2C\\xce3\\x12\\x12#!s>3\\xb5\\xcd3(\\x92\\x1e\\x1c{D!\\xee\\xdb\\x04\\x87\\xa0\\x07\\xc7\\xd8\\xaa\\xa0\\xbe\\xdb\\x19\\x15I\\x1d\\xc4<\\x9ey\\x92\\xd6\\x19\\x1f\\xc5c\\x8b\\xd1n&\\xaeM\\x9d\\x01R4\\xb60_w\\xc9\\x17\\xafM\\x9d\\xb1R\\xf4\\x109\\xe6\\xd0\\xefy\\x06K\\r\\xba\\xa0{D\\xac\\xde\\xe9\\x8c\\x96\\xc2h\\x89Jyk\\xd6\\x19,\\x85\\xc1\\xd2\\xcb\\xd7\\x8c\\\\\\x8d \\xeb\\x0c\\x97\"\\x95h\\xd6\\x9b\\xd4\\xb0:\\xa3\\xa40J\\xfa\\ng\\xd9\\xbd\\xd7\\x19&\\x85aR\\xeb\\xb9\\xad\\xee\\x80\\x02\\xb0\\xc2(\\x19G\\xac\\x19\\x92\\xfaR\\xeb\\x19\\xf8\\xb9\\xd9\\xfeg\\x1cE\\xba\\xbcs\\xda\\x01du\\x90Y\\xf9z\\xa4*\\x7f:\\x00\\xad\\x0eR+\\x9fr\\xc2\\xdc\\x0e`\\xab\\x83F\\x9f\\xa3\\xad\\xa1\\xa4|3\\x80\\xab\\x03#\\xc3V\\x7f\\xd5\\xe5\\x9b\\x81W\\x1d\\x18\\x1b\\xb6\\x9e\\xc6S\\\\\\xfav\\x00X\\x1d<\\xf2\\\\\\xbd\\xbdz \\xb7\\x03\\xcc\\xea\\x08\\xba5\\xdd\\xe5\\xc8\\xa4\\x1d\\xc0VGR\\x8f\\xaf\\xc7&\\xed\\x00\\xb8:(@6=\\xa8\\xdb\\xab!i\\x92i\\xae\\xdf\\xe2\\xc1\\xbb\\x91i\\xd2\\xd0\\xb3V\\x84\\x94l\\x06\\x11B\\xae\\xe9V\\x9a\\xf1\\x106Y6\\xd7\\xd0ZM\\xa5\\x1b\\xca&\\xd1\\xe6\\x7fL\\x85T\\\\\\xa1h2i\\x1e\\x87Kxoh\\x9a\\x84\\x9a}\\xdfh%?$\\x84\\x08\\xb9\\xe6\\x9a\\x83\\xae^GF$\\xd2&\\xd9\\xe6\\xba@\\xc7\\xcd\\xe4\\xf5\\x87 !\\xdel#\\x9b\\xc4\\xf5\\x06\\xc2\\xd9\\x988}\\xdaM\\xb17\\x10g#\\xe3\\xcc(eT\\xad#|S\\x1f\\xb2f\\xca]\\xfdh\\x80\\x9c\\x8d\\x94\\xb3\\xef\\x1eU5\\x82\\x00!\\xe7\\xcc=}\\x9a_|\\xf06 \\xcfF\\xe6\\xb9\\x9e\\xa0\\xb7\\xa1z\\x050\\xcfF\\xe8\\xe9\\xeb\\x97\\xeb\\xf2bB\\xa0\\x10{\\xfa\\x9c\\x12\\xef\\x1a\\xc0g#\\xf9\\x9c\\xab\\x93\\x94K\\x02 \\x9f\\xedB\\x9f\\xae{\\x7f\\x90\\xcf6xu\\xa4\\xc9\\tp\\x03\\xfbl\\x83\\xa7-nrf\\xd0\\x80?\\xdb\\xb8LcM\\x7f\\xb3\\x81K$4w\\xe9G\\xbbu\\xf9n\\x10)\\xac\\xa0\\xa3\\xad\\x9b[^\\x11\\x88\\x0fr\\xd0X\\xc3\\x90\\xa1z;\\x80\\xd0F\\x12\\xdaf<p\\x8e\\x06\\x1a\\xda\\x88C\\x9b\\xaf\\x9eD>\\x11\\x01D\\x1b\\x89h\\xecQ\\xd9\\x13w\\x01\\xe0h#\\x1d]\\xbf\\xc4\\xa6 \\xb5\\xee\\x04\\xe1r\\x01\\xd26o\\xa9nZ\\x10\\xd2FDj}3\\xa4j\\x05\\xe12/\\xf3\\\\\\xbdt\\xd2\\x80I\\x1b9\\xe9\\x16f92\\x99\\xb8\\xa4F\\xd1bk\\xca&[A\\xb0L~\\xee\\xac\\xc9\\xd4\\xa1\\xeep\\xc0\\xd2FZ:=\\x1e|1\\x88\\x15\\xe2\\xd25\\xb3v=\\x98\\x040m,\\xa6\\xc7\\x9a)\\xabq\\x7f\\x032md\\xa6c]Fu=\\x80L\\x1b\\x9bi\\xac\\xfeD\\xde=\\x80\\xa6\\x8d\\xd5t\\x86\\\\\\xeai\\xa0\\xa6\\x8d\\xd8t\\xaenAF>\\xb0i#7\\xed1\\x8e\\xe3v\\xa8\\xee\\x04\\xe8\\xb4\\xd9%@\\xd6P^\\x85\\xbe\\xe1Z+E\\xc8\\x9e7(\\x1dk\\xa0\\xa6\\x8d\\xd9\\xf4\\xd8C\\x05\\xf9\\xe5 D\\x08N\\xf7\\xc2\\x8f\\x0cG\\x90\\xd3\\xc6t\\xea\\x99\\xd2E\\x1a\\xd8i#<\\xbd\\xdf2\\xaa\\x15\\xe8is\\x1e\\xbb\\xaei\\xec\\x90\\xab\\xcf\\x10\"\\xc4\\xa6k\\xbcW\\xfa\\x91\\x03p\\xdaHNc\\xa3\\x9c\\x8aG\\x90\\xd3Ft\\xda\\xf7m\\xad\\xbc\\xb5\\x01\\x9e6\\xe7\\x10\\xd9T\\xa4ZA\\x84\\x90\\x9f\\xe6\\xba\\x8a\\xf2\\x13\\xe2j<\\x8f\\\\\\xa7\\xc4\\xdd\\x06~\\xda\\x08P\\xf7\\xe2\\xa8\\xfc|\\x10\\x1d$\\xa8c\\xf5\\xc2\\xf2\\t\\x05\\x80\\xdaHP\\xab\\xaf\\x0b\\xffD\\x8e\\x02hj#N\\xb5f\\xb7C\\xfd\\x04\\xe0\\xa9\\x8d@u\\xf4\\x9c\\xba\\xf7\\x07QmL\\xaa\\xde\\xf5P\\x01L\\xb5\\x11\\xaa\\xde\\'oO<\\x85\\xc1W\\x1b\\x01k\\xae\\x8b\\xa4\\xd69\\x1a\\x08k#b\\xf5\\x11\\xb7\\xf5\\xd6_~[\\x08\\x9e\\xb8t.SO_\\x02\\xb39H\\\\k=\\x11\\xe4/\\x02\\xe1C\\xe6Z+R\\x9f\\n\\x04\\x88$\\x02X\\x1f.\\xa71\\xe0\\xaf-9\\xbfc=\\xbe\\x14\\xd74 \\xd8\\xc6\\x06{\\xe4\\x033\\x00\\x85m\\xc4\\xb0\\xeb!\\xd8\\xf5\\xf4\\x00 \\xb6\\x91\\xc4\\xf6\\x15?j-\\xbc\\x01\\xc56\\xb6\\xd8}\\xef\\xcb\\x995`lK\\x1e\\xaa\\xac\\xfb8\\xe5W\\x83X!\\x90-\\x9bru\\xbb\\x01\\xc36r\\xd8\\xb6\\x97\\n\\xa54$\\xe6\\xfe\\xd0\\xb0vj\\xd3o@\\xb1\\x8d,v\\xcd\\xb9\\x9a\\\\Gn@\\xb0\\x8d\\x0cv\\xce\\xd2\\x97\\x11\\x0c\\xb6\\x11\\xc2F\\xae.>\\xbe\\x1c\\xce\\xa0\\xb0\\x8d\\x19vgo\\xc9\\x1e\\n\\x1c\\xb6\\x11\\xc4\\xda\\xa3\\xa9\\x13@l\\xab\\xcb\\xa0\\xc5\\xf5\\x80\\x00,\\xb6\\x11\\xc6\\x0e{0\\x97\\x01\\x8bm\\x84\\xb1\\xb6fNO,\\x8c6`\\xd9F.[5\\xb5j\\x81\\xcb6\\x82\\xd9\\x11\\xa9\\xa7$\\x85)c\\x0c\\xf8~S\\xc9E\\x07&\\x8dQ\\xaf\\xb2\\x9f\\xd5j\\x0c\\xd8\\x01f;\\xc1\\xec\\xac~\\x1b\\xf2\\xcd o\\x8c`\\xb6\\xd6\\xa0\\xb8\\x89\\x1f\\xa1\\x03\\xccv\\x82\\xd9X\\xc3\\xcf\\xf5tP\\xcd {\\x8cav?S\\xe4\\x17\\x83\\xf41\\x82\\xd9{\\x0e\\xa7\\xfc\\x88\\x90?\\xc60{\\xb4\\x07\\xb9w\\x00\\xb3\\x9d`\\xb6\\x9b\\xad\\t\\xbdJ\\xca\\xec \\xb3\\x9dd6\\xb69\\xcbV\\x90HF2\\xebm\\xcdXU\\x96\\x1b\\xc0l\\'\\x98\\xb5\\x15UO\\x8c\\x08z\\xc3\\x0cC\\x9a\\t\\x95N&\\xea \\xb4\\x9d3O\\xd7\\xf4Z\\x86%\\x08m\\'\\xa1]C\\xea)\\xf3@;\\x10mg\\xa2mC/\\tu \\xda\\xceD\\xdbz\\x7f\\xf0n\\x10,\\x8d\\x17\\x04]\\xa6B\\x02\\xd0v\\x06\\xdan!\\x175:\\xf8lg\\x9f=\\xd6\\x98\\xd3eR(\\x84J\\xbb\\xca\\x9b\\x1a3tL@\\xed<\\xbe}j\\xa5\\xb3c2j\\xe7\\x14\\xe5CO\\xa4:\\xa5\\xa3\\xd2P7\\x86\\x1c\\xaatLH\\xed\\x97<\\xc4\\xa9\\xd3K1)\\x95\\xb4\\xd6\\xab\\xadq\\xf5\\x97\\xef\\x07LP\\xe5\\x0c\\xd5\\xbd\\xd2\\xa1\\xc6H\\x1dST\\x89kc\\xcd\\x02\\xf4\\x97\\x84\\xb0!\\xae\\xed\\xb35\\x9d\\xbd\\xd51S\\x95\\xc0vTJ`\\xe9\\x98\\xaaJ`\\xbb\\xf3sd~+\\x80m\\x1f<j\\x19\\xba{\\x07\\xb0\\xed\\x04\\xb6\\xe6\\x0f\\xae\\x07xm\\'\\xaf\\xb5c=K\\xd4\\xcaO\\x1f\\x98\\xbcLk\\x83k\\x0c\\xad\\xd2\\xc4:pm\\'\\xae\\xdd[\\'\\x94\\x1cu\\xd0\\xda>.\\xbd\\x8a\\xddJ]{\\xe0\\xda\\xce\\\\\\xbbf62A\\xa3\\x83\\xd6v\\xd2\\xda\\xcd\\xde\\xf2\\x8bAtp\\xf6\\xea\\xa3T\\xe1\\x0eB\\xdb\\x07\\xaf\\x1dk\\x93\\xe9\\x00\\xb4\\x9d\\x81v\\']\\xa8\\x8f\\x08>\\xdb\\xc9g\\xa3\\r\\x9d\\xd7\\x0e>\\xdb\\xc9g\\xd7\\xe39\\xe5\\x92C\\x07\\x9f\\xed\\x9c\\xc7\\xdau\\xb6\\xfe\\xc4\\xecv\\xeaHV\\x00\\xab\\xf8\\x05\\x9d\\xed\\xac\\xb3\\xeb\\xbe\\x94}\\x16\\xe0l\\'\\x9c\\xdd\\x90\\xaf\\xa6.\\x1dp\\xb6\\x13\\xce\\xee\\xf5p9\\xa6\\x01\\x9b\\xedd\\xb3\\xee)G\\xa1 \\xb3\\x9dd6\\xba\\xcbyx\\x07\\x9a\\xedD\\xb3\\xf5`\\x8d\\xae\\x83\\xccv\\x92\\xd9\\xff\\x98l\\xca7\\x83\\xd0`\\x9a\\xdds+uW\\x02\\xcdv\\xe3\\x85\\x9e=\\xe4U\\x17\\x11d\\xb6\\x93\\xcc\\xae\\xe7\\x8bZ\\\\\\xe8\\x86;\\x1f(\\xdf\\xc4\\xe3\\xd1\\xe8\\x07`\\xb6\\x13\\xcc\\xfa\\x1a\\x83\\x8e/\\xe3K\\x07\\xa2\\xedL\\xb4M\\xef,\\xea@\\xb4\\x9d\\x88\\xb6\\xfb\\x9a\\x1b\\r\\xf9\\xf3A\\xa8\\xd8e\\xe9\\xb8K\\xc8\\xec`\\xb4\\x9d\\x8c\\xd6\\xfc\\xb9/\\tZ\\xdb/Z{\\xe8\\x84\\xd5\\x0eZ\\xdbIk\\xfb\\xea\\x95\\xd5w\\x04\\xac\\xed~Y\\x1e|0w\\x01\\xac\\xed\\x9c\\xeajCN6;`mg\\xac=\\xe63\\xf6\\xd6\\x1d7\\xcf\\x10\\xdc\\xeeI\\xb2\\xea\\xc9\\x00n;\\xc1m\\x8b\\xbd\\x85O~G\\x88\\x1a\\xe7\\xa4\\x94|fF\\xdeAq\\xbb3\\xadL\\x9d\\xb1\\xd0\\xc1n;\\xd9\\xed\\xdeF!\\x9f\\xe5`\\xb7\\x9d\\xecv\\xe6!S\\xb9:\\xd0m\\x0f\\x9e&\\x9b\\xdcZ\\x04r\\xdb9\\x1dv\\x8e\\x94\\xeb\\xde\\x1d\\xbc\\xb6\\x93\\xd76\\xdfa\\xadn^\\x00\\xdbN`[{\\x14,?#DJpO3\\xa4\\x13\\xf5\\xc0\\x8dV\\xf4\\x1c\\x1akV \\xfbPP\\xdaNJ;T\\x9aB\\x07\\x97\\xed\\xe4\\xb2k\\xf2\\xdf\\xe4\\xd4\\x0c`\\xb6\\'g\\xcf\\x97\\x0e\\rp\\xd9N.[\\xa3\\xc9\\xc5\\x9f\\x0e,\\xdb\\x99e\\xdb~R\\xaa/\\x06,\\xdb\\x89ec\\xaf\\x97\\xaa\\xd8\\x00\\x96\\xedyI7\\x08\\x99F\\xda\\x81e;\\xb1\\xec\\x9a\\x81\\xc8\\x14\\x91\\x0e*\\xdb\\xd3\\xaf}\\x9eZ\\xc3\\xec\\xc0\\xb2\\x9d\\xd3c\\xf3\\xc1$.q#\\x1e\\x01\\xca\\x8a(\\x95~\\xd1Ae;\\xa9\\xec\\xe8\\x1a\\xe0;\\xa0l\\'\\x94\\x1d{\\x95Ou\\x8f\\x80\\xb2\\x9dP\\xb6\\xed\\x04$9Q\\x01\\x8a\\xedD\\xb1c\\xea\\xe4\\xbb\\x0e\\x12\\xdb\\x8b\\x17\\x90\\xbd\\xa7\\\\\\x9a\\xea`\\xb1\\xbd\\xaeCX\\xbd\\x9f\\x11\\xe2\\x83(6W\\xa7(\\x1d\\n(\\xb6\\x13\\xc5\\xb6\\xbdV#G\\xf4\\x00\\xb0\\xbdx\\x10[&\\xd7\\xfa:\\x08l/\\xde\\x9f\\xb7oj\\xf9\\xd5p\\xaf\\xe6e\\xfd\\xb8K8\\x19\\x07n\\xd6\\xa4\\x10y\\xb0\\x8b\\x12\\x08v\\x1c<\\x01>d\\x12\\xff\\x00\\x82\\x1dD\\xb09\\xd6\\xb3\\xe5\\xcbY\\xde\\x034v\\x90\\xc6\\xeeuE5j\\x1b\\x80\\xb1\\x8306#\\x9eY2\\x1b\\xe0\\xb2\\x83]\\xd6\\xf5\\xf6\\x83\\x01.;\\x8e\\xff\\xd2\\xa9\\xa8=\"\\x03\\\\v\\x90\\xcbZ\\xb8\\xbc\\x8b\\x06\\xa8\\xec\\xe0|\\xd9\\xbd[K\\xfe \\xb0\\xa7\\x93Tv\\xcd\\xac\\x87|\\x00\\x0f`\\xd9\\xc1\\xf9\\xb2\\xf7\\xf4=\\x15i\\r\\xb7\\xf8\\xf2j\\xe0vU\\xb91\\x18\\xa2\\xa6\\xf1v\\xbe\\xe1\\xd2h\\x06p\\xec \\x8e\\xdd\\xcf85 \\x1d\\xa0\\xb1\\x8346\\xd67S\\x8f\\xb8\\x01\\x18;\\x08cw+\\xb5od\\x80\\xc5\\x0eN\\x97m]\\xceq\\x07`\\xec \\x8c\\x9dc\\x8d\\xd0\\xd4\\x90w\\x00\\xc6\\x0e\\xc2X?\\xf4\\xf3c\\x80\\xc5\\x0e\\xb2\\xd8\\x9a.\\xc7\\x90\\x03,v\\xb0\\xc5\\xce\\x07\\xa4=@`\\x07\\xd7\\x03X\\xe3AY\\xf1at\\xdc\\x05N\\xf1\\xe1\\xc7\\xd0{\\xd4\\x81`Gg7\\x19r\\xfdv\\x80\\xc0\\x0e\\x12\\xd8\\xbdE[F>\\xb0\\xeb\\xe8\\x9cq?uw\\t\\xea:H]\\xd7\\x17\\x0b\\x1dV\\xc0\\xae\\x83\\xd8u\\xe7q\\xa9l\\xb8\\x01\\xe8:\\x18]\\xd7{\\xa9\\xa4\\xe8\\x01\\xe8:\\x08]}6\\xb9\\xe8;\\xb0>\\x00\\xa1\\xab\\xab\\xa9\\xec\\xc0\\xf2\\x00\\x9c\"\\xdb\\xa7\\xce\\xc7\\x1dX!\\x80\\xc8uM\\xfb\\xda\\xbcu\\xf9\\t\\xb1L\\x00\\x8dY\\xd7X\\\\\\xee\\xde\\xc7:\\x01d\\xae\\xb1nh\\xf5sa\\x9d\\x00\"\\xd75q\\xa8\\xf9\\xe0\\xabAt\\\\Rdw\\xaa\\xab\\xfcf\\x10\\x1d\\x9c!\\xbbW\\xbee\\xbf\\x88%\\x03X]k]\\x11\\x95@7\\xb0h\\x00\\xa9\\xeb<\\x1e\\\\}P\\xd7qQ\\xd7\\xf54S\\xbe>\\x80]\\xc7\\xe4\\x15\\x9c=OV7\\'\\xb8\\xeb\\x98\\xbc\\x91k\\xef\\x06V\\xd7\\x1f\\xdcu\\xb0\\xbb\\xce\\x94\\x927&\\x96\\x92\\xc0\\x10Y\\xf3\\x8e\\xd5}\\xab!\\xf9\\x00{\\x1dd\\xaf\\xfd\\xb0&\\xe7\\x1a\\x03\\xf0u\\xccK\\x90\\x94\\\\\\xad\\x1d\\xa0\\xaf\\x83\\xf4\\xb5Z\\xe4m\\xf8\\x17\\x07j\\x00\\xb1\\x83 \\xb6\\x1f\\xe9\\xb2\\xbe\\xcd\\x00\\x8a\\x1dD\\xb1\\xf7\\x81\\x96h\\x04\\x12;Hbw\\xfe\\xa9|\\xb2\\x81\\xc4\\x0e\\x96\\xd8c\\xdd>r\\xb4\\x0c\\x12;\\xb8\\xb6\\xc0\\xde\\xe2\\xa2*@\\x0c\\xa0\\xd8A\\x14\\x9b^\\xba\\xbc\\tH\\xec \\x89\\xddy\\xa42T\\x0c\\x0b\\x8f\\x10\\x8fD\\xc9\\xe2\\x0c\\x03 v\\x18\\xd7\\x1e\\xd1y\\xfa\\x03\\xf4u\\x90\\xbe\\xfa\\x8aJ\\x85\\xbe\\x03\\xf4u\\x90\\xbe\\xeeT\\x0c\\x93\\x9f\\x10\\x82\\x83\\xf0u\\'\\xa6\\xa8\\xb7\\x02z\\x1dD\\xaf\\xe5\\xba,\\xd6\\x00o\\x1d\\xec\\xad\\xc7j\\xa6\\xd6\\x82\\x07x\\xeb\\xe0\\xec\\xd8\\xe8rJ:\\x00\\\\\\x07\\x17\\x16X\\xdfK\\x169\\x03o\\x1d\\x9c\\x1c\\xbb+\\x84\\xa8\\xd4\\x86\\x01\\xe0:\\xb8\\xba@\\xae\\xbbEv\\xff\\xc0\\xac\\x83\\xeb\\x0bXN\\x898\\x03\\x9cu\\x90\\xb3\\xce\\xae\\xf7S\\x0f`\\xd6A\\xcc\\xba{\\x01\\x19\\x8a`\\xab\\xc39<\\x0e]\\xd9\\x07hu\\x10\\xad\\x86\\xfb3\\xa4;@Y\\x07\\x97\\x1ch][\\xda\\x00f\\x1d\\xcc\\xac\\xeb\\xc18\\xd5\\xaf\\x07\\xce:\\x82\\x13\\xa9\\xe5j\\xe4\\x00e\\x1d\\\\v`\\xf5\"\\xf2\\xc9\\r\\xc8:\\xe2\\xb2\\x15C\\xef\\x89\\x1c\\xa0\\xac\\x83K\\x0f\\xec\\xfdd\\xf2#b\\x11#\\xde\\x01\\x98kN\\xa3\\xee\\x01P\\xd6\\xc1\\xca:Ks\\x00@\\xeb hm\\x87\\xa5\\x1e\\xb4\\x82\\xb4\\x0e\\x92\\xd6]\\x89F~3\\x90\\xd6A\\xd2:M\\xd7\\x86\\x1b \\xad\\x83\\xa55\\xf6\\xee3\\xd5\\n\\xa2\\x83\\xa1u\\x97S\\x93\\xef\\x05\\xe1A\\xd0\\xda\\xab\\xeb\\xe2V\\xe0\\xac\\x83\\x9c5VP)\\x16\\x1f\\xe0\\xac\\x83\\x9c5\\xfa\\x83\\x0e\\x12\\x98u$3\\x9a^\\xc8\\x18\\xc0\\xac\\x83\\x99u\\xab\\x81\\n)`\\xd6\\xc1\\x85\\x08Jgv\\x0c`\\xd6q\\xa9?\\xd0J\\x8fs\\xc1Y\\x079k\\xee;S\\xddb\\xc0\\xac\\x83\\x99\\xf58vz\\xbd\\xba\\x8c\\x00\\xad\\x83\\xa05\\xc6\\x83\\xa1 0\\xeb f]\\xc3\\x9f\\xd0\\xe3$p\\xd6A\\xcej6V\\xab/\\xf7\\xab@\\xae\\x83\\xc85\\xfb|\\xf0i!T\\x8aw\\x9bo\\xc8\\x97\\xcd V.\\xe2\\xba:qE\\xd0\\x03\\xc4u\\x14\\xcfn\\x0e\\xd9\\xf5O\\x00\\xd7y\\\\\\x8aU\\x94\\x8c\\xb1\\t\\xe4:9\\xeb\\xb5\\xe9\\xfa}\\x13\\xc8u\\x1e\\x9cJ\\xbfQX\\xd5\\xf7\\x02h\\x9d\\x04\\xadkt\\xa1Ek\\x82\\xb4N\\x92\\xd6\\xb1s\\x12\\xe57\\x83\\xfah\\x07\\x1761i*\\x13xu\\x1e\\xbceGg\\xa3L\\xd0\\xd5\\xc9\\xba\\xba\\xe2R\\xf5\\x91\\x13tu\\x1e\\x97t\\x81C\\xc6\\xc7\\x04^\\x9d\\xc4\\xabm\\xee\\xdd\\xdf\\xeaz\\x00\\xaf\\xce\\xc6\\xa9%&\\xd7(&\\xe8\\xead]\\xddk\\xb0*ku\\x82\\xaeN\\xd2\\xd5<Lg\\xdaL\\xd0\\xd5\\xc9\\xe5\\x08\\xa6\\xde\\xef:AW\\'\\xe7\\xbaZK\\x89n\\x13xu6\\xde\\xd2\\xd5\\x9eY7\\x98 \\xad\\xb3q~\\xda\\xde\\xfe\\'\\x7f\\x08\\x08\\x16\\xa2\\xd6\\xcd\\x10\\n\\x06&H\\xeblyy\\\\\\xa9\\x85\\xe6\\t\\xd2:IZ3\\x87\\xcc\\x95\\x9d \\xad\\x93\\x8b\\x12\\xec\\r\\t*\\x9c\\x01Z\\'A\\xeb|\\x90\\x925\\xc1Y\\'W^\\x9d:\\xd3f\\x02\\xb3\\xce\\xce\\x83\\x92\\x92+\\x0c\\x13\\x98u\\x12\\xb3\\xc6\\xba\\xb9\\xd5%\\x04e\\x9d\\xa4\\xac\\xeb\\xc1x\\xc8mg\\x13\\x98u\\x12\\xb3\\xda\\xd4\\x99+\\x13\\x94u\\x92\\xb2\\xb6c\\'\\xfe\\xaa;\\x00\\x98u2\\xb3\\xe6\\x83b\\x90\\xc0\\xac\\xb3s\\xf2\\xe2!\\xc7h\\x13\\x98u\\x0e~\\xd0\\xec\\xeeG}D\\xa0\\xd6\\xc9\\xc9\\xad[\\x1d\\xbe\\x9cd<\\x01]\\xe7\\xe0M\\xa2\\xbbd\\xd9\\x17\\xd7\\xdb&\\xe8\\xeb$}\\xb5<\\xe4\\xec{\\x82\\xbeN\\xd2\\xd7\\xbd\\xc5@\\xbe\\x15\\xc4\\x0c\\xe9\\xeb\\xae\\x92$\\x0b\\x87B\\xc4\\x10\\xbd\\xee\\x9bN%\\xa0L\\x90\\xd7I\\xf2Z{D#? \\x04\\x0c\\xc1kN\\x9dC?\\xc1]\\xe7\\xe0\\x1cz-\\xa1\\x13\\xcb\\xb5\\x92\\xbb\\xd6\\xd0un\\'\\xd6k%v\\xf5\\x15e*\\xf7gb\\xc5V\\xcev\\x1d\\x0f\\x88}b\\xd1\\xd6\\xc9\\xabzkb\\xa4:r*\\xdb\\xca\\xc9$\\xa6W\\x96&\\x16net\\x1dm\\xf5Cr\\xb8\\x80\\xc5[I]\\xf7\\x82\\x94\\x9a\\xb0L\\xac\\xde\\xca\\xf5\\x08\\xf6/-\\xbf\\x1a\\xc4\\x07K\\xeb\\xea\\x95\\xe5`\\x12\\x0b\\xb8\\x12\\xb4\\xda\\x83M\\xc8\\x13\\xa4u\\x1acI\\xc9\\x85\\x8a\\t\\xd2:/5\\\\\\xa3\\xc9\\x9c\\xf2\\t\\xd2:IZ{\\xdd;f\\x15\\xc4@\\xad\\x93\\xa8u\\x97\\xce\\x1f\\xc7\\x97{\\x1fP\\xd7I\\xeaj\\xc7\\x83\\xf2\\t\\x13\\xd8u\\x1ao#\\xd6\\x9b\\x80\\'\\xb0\\xebdv\\xf5\\xa6\\xe3\\x19\\xd8u\\x1a\\x979\\x19z\\xddm\\x82\\xbb\\xcekM\\xd7G? \\x04\\x0b\\xc1\\xeb\\xce\\xb4\\x91\\x9f\\x11\\xe4u\\x92\\xbcz?T\\x13\\x88\\x14b\\xd7J\\xbd\\xefj\\x82\\xbaNR\\xd7\\x19!sc\\'\\xa8\\xeb\\xf4K\\xca\\xa2N\\xb2\\x99\\xc0\\xae\\x93\\xd3\\\\\\x8f)\\xa1j\\x82\\xbaN\\xe7\\x91\\x89|#,\\x00\\xcd\\xbb?\\x87\\x1e{\\x02\\xb8N\\x06\\xd7\\xd9\\x1e|)\\x88\\x0b\\xe7\\x82\\x15\\xfd\\xc1\\x1d\\n\\xe2:\\xb9\\xaa\\xebzL\\xab\\x14\\xf8\\t\\xe2:Y\\\\\\xe7\\xa1\\x87\\x91\\xc0\\xac\\x93\\x99u\\xec\\x84m\\x15\\xf1\\xc0\\xac3X\\xe4\\xa7~\\xc8\\x00\\xb3\\xce\\xe0\\xd4\\x805\\x82\\xff\\xf2\\xa6\\xe4\\t\\xe4:\\x83\\xf7iiS\\x9b@\\xae\\x93\\xc9\\xd5\\xba\\xdeZ9\\x81\\\\\\'\\x97\\x1f0\\xd7\\xe7BL0\\xd7\\xc9\\xe6\\xbak\\xe5\\xaa\\xaa\\x88\\x13\\xccu\\xb2\\xb9\\xc6z\\xdc\\xab\\xce\\x00\\xccur\\xd1\\x81]\\x8bU\\xdd\\xa3@\\xae\\x93\\xab\\x0e\\x1c=5\\xb0\\x80\\xb9N2\\xd7]YF\\xb7\\x82P!s\\x1dkj\\xaa2\\x7f&\\x98\\xebL\\xeeF\\xba\\xde\\x1a9\\x01]g\\xf2\\xfc\\xa6t\\xc1z@\\xd7\\xc9\\xe8\\xba\\x06?\\xaa\\xce\\xe6\\x04t\\x9d\\xc9$\\xaf\\xab\\xa1O@\\xd7I\\xe8\\xba\\xc6g\\xc7\\x83Z\\xf7\\xc0\\xae\\x93\\xcb\\xbf\\xba\\x0f\\x99J;\\xc1]\\'\\xb9\\xeb\\xdc\\x85\\xd3\\xd4\\xd5\\x07w\\x9d\\xe4\\xae9\\x9e*\\xe1:A`g\\xf1\\x13G\\x1f\\x071A`g\\xf1\\xd0\\xc4U\\xca\\xe4\\x04~\\x9d\\x9c\\xe7:\\xeaA\\'\\x0b\\xfe:\\xc9_{oz\\xc1n\\x82\\xbfN.9\\xe0\\x91z\\x84\\x07\\xea:I]\\xab\\xf4\\x8a\\xca\\x04u\\x9d\\xa4\\xae{\\x8e/G\\xc9\\x80\\xae\\x93\\xd0u\\x8d\\xaeM\\x0b\\x1e\\xa0\\xeb\\xe44\\xd7]@Z%^\\x18\\xa8\\xab\\xb1\\xba\\xce\\xbd\\xabT\\x9eY\\x00\\xe7\\x0f\\x90\\xba\\xee\\'\\xa3z\\x0c\\x1b\\xa8\\xabq\\x11\\xd8]vY\\x15\\xdc\\x07t5.\\x02\\xbb\\x13\\xb7\\xd4\\x11\\x04`\\xaeF\\xe6\\xbaB\\xd3t\\xc5\\x06\\x03u5R\\xd7\\x1a:m\\xc2@]\\x8d\\x93Z\\xfd\\xbe\\x83M^\\x118\\x81\\x80\\xdcuo\\xc4\\x97\\xc7\\x16\\x80\\xbb\\x1a\\xb9\\xeb\\xdc\\xd9\\x98\\xea\\x84\\x04`W\\xe3*\\xb0C\\xd774PWk\\x9c\\x946\\xf4\\xd5\\x07u5\\xae\\x01k&\\xbbd\\x03t\\xb5KJkhO6@W#t\\r\\xd7\\x99}\\x06\\xe8j\\x84\\xae#tID\\x03s5\\xae/`\\x0fv\\xd9\\x18H\\xab\\x91\\xb4\\xae_B\\xf6V\\x06\\xd0j\\x04\\xadk\\xbe\\xe6\\x8f>$\\xc4\\x07QkX\\xe8\\xbb\\x13\\xa8\\xd5\\x88ZGJ\\xf31\\x90V#i\\xdd\\xd3;y>\\x08H\\xabqJ\\xab=(\\xf4n@\\xad\\xd6\\xf9\\x01\\xa3\\xf9\\xc6\\x80Z\\xad\\xb3\\x8dt9\\xb26\\xa0V\\xe3\\n\\xb0\\x87,\\xb2f@\\xadF\\xd4\\xda\\xd3B\\xefH4\\xb0V\\xe3\\xba\\xaf\\x0f\\xd2q\\x0c\\xac\\xd5\\xd8Z\\xf7dH\\xadF\\x19X\\xab\\x91\\xb5\\xda\\x83j\\xc4\\x06\\xd6j\\\\\\xf85\\xf7\\xc9\\x13*o\\xdf@[\\xedr\\xea\\x95\\xe6=\\x03l5\\xc6\\xd69\\x9e\\xd9\\x1aj\\x80\\xad\\xc6E`\\xef\\x8b\\xc1\\xaa\\x15\\x1evC\\x8f\\x9a\\x9dK\\xf5e$1\\xc0V\\xe3T\\xd7C;\\xb6\\x81\\xb6\\x1ai\\xeb\\xb4\\xbdq@\\xfd\\xfe\\xe0\\xad\\xc6\\xe7b\\xd5\\xa1o\\x07\\xf0V\\xe3\\xea\\x02M\\xefm0\\xf0V\\xbb\\x94\\x82M\\x95ya\\xc0\\xad\\xc6\\xc5\\x05v\\xa4\\xa9\\xa7\\x1bp\\xab]\\xb8\\xf5xf\\xf4j \\xafF\\xf2\\x9a\\xcd\\x9f:\\x7f\\x08\\x10\\xd6\\xf8\\xdc\\xac\\xa63\\xe7\\r\\x0c\\xd6\\xc8`\\xf7\\x0c^\\r\\xf7\\x0c\\x0c\\xd68\\xf3\\xd5\\xf5:\\xa3\\x01\\xc1\\xda\\xbc\\xee\\xacP\\xb5@\\x0c\\x00\\xd6\\x08`\\xfb>\\x00E\\xbe\\x17\\x04\\xcc\\xa5\\xe6\\xc0\\xfe\\x88\\xf2\"B\\xc4p\\xd1\\x81>\\x9eY\\x9d4\\xc0X#\\x8c\\xed}\\xc5\\xb7\\xca\\x1e1<O\\x8b46\\xedA\\xf7\\x86\\x07j]*\\x10\\x1c\\xc7\\xfa\\xb8\\xaa\\x19D\\xca\\xa5\\x02A\\x93KI\\x86gj\\xf1\\xa1Z\\xed\\xc1\\xe8\\x19O\\xd5\"\\x80\\xdd98r$F\\x87i\\xd1\\x80e\\x9b\\xa8\\x0cK<O\\xebr\\xa0\\xd6\\x9a\\x1e\\xcb7\\x83P\\xe1\\xbc\\xd7u\\xe7\\xa9S\\xd3\\x0c\\x8f\\xd4\"\\x7f\\xdd\\xb9\\x97je\\xd8\\xf0L->Tk\\xcf\\x00U\\xae\\xa0\\x81\\xbf\\x1ag\\xbe\\xa6,\\xf1a \\xb0F\\x02\\x1b\\xae\\x8f\\xb65\\x10X\\xe3\\xbc\\xd7\\xd2C\\x08\\x00X\\xf3k:\\xd23\\xb7\\rP\\xac\\x11\\xc5\\xeeU\\xc2\\xa7\\xfe\\x02\\x88\\x18\\xe7\\x9a\\x15{;\\xbe\\xca\\x162\\xa0Y#\\x9a\\xdd}\\x92Z\\xa81\\xa0Y\\xe3\\x9a\\x03{\\xc1K\\x0e+\\xc0f\\x8dl6\\xf6\\xe6E\\xd5\\x08B\\x86\\xeb\\x0c\\xec\\xa4T\\xf9\\x11\\x81f\\x8dhv\\xcc\\x94Y\\x12\\x064k\\\\#\\xb6t\\rs\\x03\\x995.\\x11\\xbb/\\xa2\\xba\\xf4 \\xb3\\x16\\xbc\\x014T\\xba\\x83\\x81\\xc6\\x1a\\'\\xc0\\xba\\xce\\xc14\\xd0Xc\\x8d\\x1dc\\xc8Ml\\x06\\x1ak\\xa4\\xb1#\\xf7\\x91\\x0fj\\x89\\xc0\\x80c-x[_\\x97\\xb7+`\\xac\\x11\\xc6\\xee\\x83\\xbe\\x14)\\x19`\\xac\\xf1\\x11\\\\k\\xca\\xd6\\xf5O\\x06\\x1ck\\xc4\\xb1\\xf3\\xc1!K\\x06\\x1ak\\xc9\\xbbr4D\\x19h\\xac%\\'\\x9b<x$\\x82\\xc6\\xdaEcC\\x97\\x194\\xd0X\\xbb\\xa4\\xc0\\xea\\x0c\\x10\\x03\\x8d5\\xae\\x00\\xdb\\x9a>\\xe8\\xca\\x80c\\x8dk\\r\\xb4\\x9d\"-/#\\xc4\\x07yl\\xb8\\xe9\\xfb\\x054\\xd6Hc{\\xec\\x82\\x08\\x8a\\xb5\\r8\\xd6\\xb8\\x06l\\x0e}\\xf2\\x97\\x81\\xc7\\x1ayl\\x94.\\xabb\\x80\\xb0V\\x97I\\xf2\\xd4\\xe3.PX+^\\xf7{\\x80l\\xc0\\xb0F\\x0c\\x9bk\\xb4\\xa6VN\\r\\x14\\xd6\\xf8\\x08.\\xd3\\x0b\\x11\\x06\\x08k\\x84\\xb0\\xd1\\xed\\xc1\\'\\x84\\x00\\xe1\\xccW\\xd3\\xa9\\x97\\x06\\x06k\\x97\\xcc\\xd75\\xd6\\x92.\\x07\\x08k\\x84\\xb0\\xfb\\x00\\n\\xb5\\xf9\\xc4\\xc0`\\x8d\\xab\\xbd\\xae\\x07\\xfe3gv\\x82\\xc6:k\\xec\\xde\\xd3\\xad\\xfad\\x07\\x8du\\xce\\x81\\xdd{\\xee\\xd4\\xd9\\x93\\xa0\\xb1~\\\\6\\x90\\x0f\\xf9\\xe4u\\xe0X\\xe7b\\x03\\xab\\x0b\\x92\\x87\\x84\\x02\\xc7:\\x17\\x1bX_L\\xad(8`\\xac\\x1f<x\\xb5\\x94\\xbby\\x1c4\\xd6Ic\\xd7\\xb8Y\\x8e\\x0c\\x1d,\\xd6\\xc9b\\xef\\xbb\\xecD\\xa48X\\xac\\x93\\xc5\\xd6\\xd1\\x9e\\xc9\\xear`Y\\xe7b\\x03\\xedp\\xb9\\x11\\xc5\\xc1e\\x9d\\\\v\\xc6!\\x8f\\x1cppY\\xe7l\\xd8xPk\\xd1\\x01f\\x9d\\xcf\\xe6zP>\\xc6\\xc1e\\xfdR\\xf9\\xd5w2\\xa0\\ng\\x90Y\\'\\x99\\xbd\\x9fg\\xa4~>\\x90Y\\'\\x99\\x1dmv9kw\\x90Y\\xe7\\x1cX_w\\x81Z\\xcfs\\xa0Yo\\xd7\\xac5\\xb5l\\xe2\\x00\\xb3\\xdex\\xa6\\xa3O\\x1bp\\x80Y\\xe7\\x93\\xb9\\xfa.W#z#\\x07\\x9au\\xa2\\xd9,\\xbd\\x1d\\xc2\\x81f\\x9d\\xeb\\xbd\\xee\\xaal\\xaa\\xac\\x84\\x03\\xcd:W\\x1b\\x18\\xeb\\x9eS\\xac\\xe4`\\xb3\\xce\\x05_k\\x9f\\xff\\xa2\\xae#\\xe0\\xacw\\xde.\\x9cr\\x8e\\xef\\xa0\\xb3\\xce:\\x1b\\xc3\\xe5^I\\x07\\x9cu\\xae7\\xb0O\\xafR\\x83.\\x07\\x9du\\xd2\\xd9\\xdd1\\xa8\\xe3\\x8a\\xc1f\\x9d\\x0f\\xe5r\\x9dc\\xe5`\\xb3\\xce5^\\xbb\\xde]\\xe6 \\xb3N2[S\\xc3\\x80\\x83\\xcc:\\xcb\\xecs\\xe5\\xd7\\x1dd\\xd6If}Mp\\x9f\\xd8\\x02\\xe3\\x80\\xb4>x\\xa8\\xe2\\xfa|f\\x90Y\\'\\x99\\x1d-M\\xc7\\x0c\\xd0\\xac\\x13\\xcd\\xe6\\xbaH\\xb2\\x9b\\x05\\x99u\\x92\\xd9\\xb1!D\\rq\\x1ch\\xd6\\x89f{\\xb6\\xaeK\\x9d;\\xe0\\xac\\x13\\xce\\xde\\xeb{\\xca+\\x02Q\\xc3\\x87s\\xad;X\\x9f\\xa8\\r<\\xeb\\xc4\\xb3;\\x8dD~50Y\\'\\x93\\xdd\\x0bYO\\xc8\\xba\\x83\\xc9\\xfa\\xa5\\x1c\\xc1\\x1a\\xc8\\xc9[\\x03P\\xd6\\'\\xa7\\x17\\xcc\\x07\\x0f<PY\\xbf\\x9c\\xd3\\xf5\\xa0\\xba\\xb0\\x03\\xcb:\\xb1\\xec\\x18S\\xefzupY\\xe7Z\\xb0\\xf7\\xd2\\xde_\\xbe%\\x80h\\x9d\\x88vw\\xf5*\\x81\\xd1Ah\\x9d\\x8f\\xec\\xdaU\\x10\\xd4\\xe4\\xc9\\xc1e\\x9d\\\\v\\xd7\\x8d\\x92g\\xaa\\x03\\xcb:\\xb1\\xac\\x9b\\xae[\\xe7\\xc0\\xb2N,;\\xd6{\\xa9\\\\:\\x07\\x95\\xf5\\x8b\\xca\\x9aL\\xabrPY7\\x1e\\xd8\\xca2%\\x0e(\\xeb\\xc6[\\xbb\\xf41p\\x0e(\\xeb\\x84\\xb2\\xf7\\xbai*L\\xc0d\\x9dMv\\xef\\x92P\\xb9\\xb4\\x0e(\\xeb\\x84\\xb2cw\\xd9*\\x7f\\xd4Ae\\xfd\\xbf\\x1e\\xd7\\xa5\\xb0\\xcc\\x81e\\x9d\\xcb\\x11\\xac\\x9eO\\x0e\\x8c@e\\x9dTvo\\xf6Wev\\x1cX\\xd6\\xaf\\xa7u\\xe9*\\xf3\\x0e.\\xeb~MCQ\\xcbR\\x0e0\\xeb\\x9c\\x19\\xbb\\xfbf\\xc5\\x80\\x0e\\x1c\\xeb\\xc4\\xb1;\\x1bT^\\x0e\\x88\\x0f.G\\xe0\\xbbB\\x80\\xba\\xc7@`\\x9d\\x04v\\x85\\xa6\\x1e\\xa8\\x80\\xc0\\xfa%9v\\xe8\\x12\\x01\\x0e\\x02\\xeb|`W_]\\xba|\\x10\\x80\\xc1:\\xd7#\\xd8\\x0b\\x89*\\xf4\\x81`\\x9dK\\xbd\\xfa\\x90\\x0b\\xe4\\x0e\\x04\\xebD\\xb0\\xb6nN\\x95\\xa1\\xed@\\xb0N\\x04k{\\x90\\xae~2 X\\x0f\\xce\\xaf\\x9f\\xcfl\\x0fr\\xe0X\\'\\x8e\\xad~<\\xf8\\xb0\\x10)\\xc1\\x19\\x07.\\xf7\\xac9h\\xac_\\xca\\x11\\xa4\\xccgs\\xb0X\\xbf\\x14}5=\\xa1\\x00\\x8cu>\\x99\\xeb\\x08\\xb9J\\xed\\x80\\xb1\\xce\\xd5\\x08\\xd6XH?\\x9b\\xc0b\\x9dSc\\xad\\xe9C\\x8c\\x1d0\\xd6\\xf9@\\xae\\xb6\\x8fUU\\xf7\\x1bh\\xac\\'\\x0fe\\xa7\\xccgv\\xd0X\\xbfh\\xec\\xae?.\\xdf\\x0c\\xe2#9\\xc5~]\\x11\\xd9\\n\\xe2\\x834\\xf6\\xd19\\xc4\\x0e\\x18\\xeb\\x97\\xc2\\xaf;\\xffB\\xddo\\x80\\xb1\\xce\\x15\\t\\xd6\\x13Te\\xb39`\\xacsE\\x82\\xd4y\\xc9\\x0e\\x14\\xeb\\x9c\\x19\\xbbw_\\xa8\\xcb\\x01\\x12\\xeb$\\xb1;cF\\xbd\\x15@\\xac\\x13\\xc4\\x8e\\x9d\\x0e\\xa0.\\x068\\xac\\xf3\\t\\\\{\\xd9H>f\\x00b\\x9d\\xf3aw}\\x11\\xf9f\\x10\\x1c\\xc5\\xd9JrU\\xd3\\xc1a\\xbd8\\x97mo]\\x95\\xd7\\x10\\x82\\x83 vv\\x9d\\xe9\\xe8\\x00\\xb1\\xce\\xc9\\xb0\\x9bo\\xd5\\x8d\\t\\x0e\\xeb\\x9c\\x0c\\x1b\\x0f\\xfc\\x0f\\x1c\\xd6\\xb9\\x00A\\xd7\\xb3\\xe8\\x00|\\r\\xae\\xf8\\x9a%\\xc7\\x9a\\x01\\xf6\\x1a\\x07+\\xfd\\x0e)\\xd1\\x03\\x07\\xe0k\\x10\\xbe\\xf6CWR\\n\\xb0\\xd7`{\\x8dC\\xef/\\x0f\\xc0\\xd7 |\\xdd3}5\\x99\\t\\xc0\\xd7`|=Vx\\xa8\\x07a\\x00\\xbe\\x06\\xe1\\xeb\\xfa\\xd9eU\\xd8\\x00|\\x8d\\x83g0!\\xd7\\x1f\\x02\\xf05\\x0e\\xde\\xb9u\\xe8\\n\\x92\\x01\\xe4\\x1a\\\\\\x80\\xe0\\x9e\\x8d\\xaf\\x1e\\xb6\\x01\\xe6\\x1a\\x97\\\\X\\x9d\\x99\\x1d`\\xae\\xc1\\xe6:6\\xcf\\xa8\\x08\\x01s\\x8dK2\\xec\\xd4;\\xa9\\x03\\xd05\\x08]g\\xe9\\xd1K\\x00\\xb9\\x06\\x91\\xab\\xed\\xd9\\x99\\xbc\\x1e\\x10!D\\xae{\\xa9I=5\\x03\\xc45\\xb8\\xbek\\xce5\\xfdQc\\xc0\\x00r\\x8dv\\xadQ!\\xefj \\xd7\\xe0\\xd3\\xb6\\xd6\\xd4P.\\xa9\\x04\\x98kp\\x85W}\\\\n\\x80\\xb8\\x06\\x97\\x1d\\xd8\\x94\\xaf\\x06\\xe0\\x01\\xe4\\x1aD\\xae{7\\x96\\x9a2\\x05\\x88k\\x90\\xb8\\xee%*\\xd55\\x06\\x80k\\x10\\xb8\\xf6C\\x9f\\xea\\x19\\xe0\\xad\\xc1\\xdezxI$\\x0f\\x00\\xd7 p\\x9d\\xae\\x8f,\\x0b\\xf0\\xd6`om]g\\x81\\x07xkp6\\xecz\\xb8\\xe9\\x8e\\x07\\xc45:\\'\\x92\\xb8\\xdcH\\x1e \\xae\\xc1\\xd9\\xb0\\xb6\\xb7`\\xa9\\xa8\\x02r\\x8dq\\xd9\\xb9\\xa55*\\xc0\\\\\\x83\\xcc5M\\x1fA\\x1e\\x00\\xadA\\xd0:w\\xb5>e\\x97\\x01\\xbc\\x1a\\x83\\x9f1S_F\\xe0\\xd5 ^\\xdd\\xe5\\x90\\x9e8\\xb1$\\x00Z\\x83+\\x0e\\xac\\x1bN\\x8dE\\x02\\xa05\\xb8\\xda\\xab\\xa9=U\\x01\\xca\\x1a\\\\\\xea\\xf5\\x98\\xbany\\x00\\xb2\\x06!\\xeb\\xee\"\\x9f8\\x925\\xc0[\\x83\\x8b\\x0f\\xb4z\\xd0\\xc9\\x82\\xb7\\x06y\\xeb\\n<9\\xc3\\x0b\\xf0\\xd6\\xe0\\xb3\\xb6,\\x9e!\\xc5\\x00o\\x8d\\xc9H\\xb2\\x97\"\\xe4\\xa7\\x85\\xe8!o\\x9d\\xa1+F\\x05pkp\\x12\\xec\\xfd\\xfcz\\xf9\\x19!f\\x98[7\\xe4\\xa8F\\x102\\\\\\xfb\\xf5~\\xba\\x8a|/\\x88\\x1a\\xae\\xfd\\xfa@\\x05\\x02\\x885\\x88XwF\\x80\\x9a2\\x07\\x08kL\\xaek\\xb2we\\xa9\\x8c\\x91\\x00c\\r2\\xd6V+\\xc2\\xd4\"\\\\\\x00\\xb2\\x06!\\xeb\\xbd\\xfc\\x9c|3\\x08\\x10B\\xd6-\\xfa\\xf22\\x02\\xb2\\x06!\\xeb\\xa3\\xea\\xcc\\x01\\xca\\x1a\\xc6\\x85*F\\xd7\\xc1\\x08\\xcc\\x1a\\x97\\xdc\\xd7#\\xe5\\xa6\\xcb\\x00g\\rr\\xd6{V\\x8bj\\x04\\xf1\\xc1\\xb5\\x07Z\\xea$\\x8c\\x00e\\rV\\xd6c\\xa7\\xcc\\xca\\x8f\\x08\\x11r9qk\\xdd\\x9d\\xf2\\xdd\\x80Y\\x83\\x98u\\xd8\\xde$\\xa8ZA|\\x10\\xb3\\xf6\\xbdKM>H\\x80Y\\x83\\x8f\\xd9\\xca]>N>[\\x01Z\\x83\\x0b\\xbfZ\\xc9|\\xba\\x00g\\rr\\xd6\\xbd\\x04\\xa2?#D\\xc8\\xa5\\x02\\x81\\xce\\xc4\\x0ep\\xd6 g\\xcd1\\xf4\\xe4\\r\\x9c5\\xc8Y{\\x7f\\xb0\\x99+\\xc0Y\\xc3y\\n|\\xac\\xbeQ\\x91@\\x00\\xb4\\xc6%\\xd9u\\x9f\\x04\\xa3\\xde\\x0e\\xa45XZ\\xd7\\x08Em\\x8b\\x0e\\x90\\xd6\\xe0:\\x04\\xdb\\xb4\\xe4\\xe4\\x19\\xa858\\xdbu=\\xa5\\xe4p\\x08\\xa85\\xf8X\\xad\\xf5\\xb8\\x907(\\xf8j\\x90\\xaf\\xeeC\\x93\\xf5{A\\x80\\x04?b\\xba\\\\$\\x0f\\xf0\\xd5`_]\\xad\\xd46\\xa0\\x00_\\r\\xf2\\xd5^}\\x96\\xee\\xe6@X#x\\x8as\\xe8\\xd2\\xd6\\x01\\xc4\\x1aD\\xacf\\xb2jn\\x00\\xb0\\x06\\x01k\\xaf\\x91\\xfa\\x1c\\xbc\\x00a\\x8d\\xbc$3\\xea-\\xd4\\x01\\xc2\\x1a\\\\\\xf1u\\x1b\\x84\\xdaH\\x1a@\\xac\\x91\\xbceX\\xd7\\x1d\\r\\x10\\xd6`a\\xed:\\xf7:@X#/EL\\xf4\\xc0\\x15\\x845HX\\xf7\\xb2\\xb4Z\\xb2\\x0f\\x00\\xd6\\xe0\\xea\\x03Q2\\xf7.\\x00X\\x83k\\x0f\\xb4]\\x98K^{\\x88\\x8f\\xbc\\xe4\\x07\\xb8\\xee\\x88\\x81X\\x83\\x89\\xd5\\xea\\x99\\x13\\xa7\\x03\\xb85\\x88[\\xed\\xd0\\xfb\\\\\\x02\\xb85\\x98[\\xcd\\x87\\\\\\xae\\x0c\\xe0\\xd6(^\\xd5;\\xd6\\xc0N]\\x1b\\xf0\\xd6`om\\xa6J\\x1d\\x04xkp\\xf1\\x81ZsMy\\x9f\\x82\\xb7\\x06\\x9f\\xb2U\\xeb\\xd6\\x91sv\\x00\\xd7\\xe0\\xccW\\xdbN\\xab:!\\x10\\xd7 q\\xad-A\\xf2G\\x87X!q-7)\\xff\\t\\xe2\\x9a\\x9c\\xeez\\xdfY\\xa6Z5hE\\xc3\\x91\\xcc\\xbd\\xe9X|\\xc6\\x04rM\"W\\xdb\\x0bl\\xaa\\xd1\\x80F\\x1c\\x1fk\\x04\\xaf\\x0egJ\\x10\\xd7dq\\xdd\\x199\\xe2\\xda\\'\\x88k\\x1e\\xbc\\x98W\\x92t\\x12\\xc05\\xb9\\xe2\\xab=\\xa84\\x97 \\xae\\xc9\\xa5\\x07\\x8e\\xfe\\xcc\\xf1_\\t\\xf8\\x9a\\x84\\xaf\\xb6\\x1e\\xf9*\\x1b!\\xc1^\\xf3`X{j\\x9d4\\x01a\\xb3\\xf1\\x13\\xc8$\\x1e& l\\x12\\xc2\\xde\\xcb^\\xabk\\x04\\x06\\x9b\\x8d7\\x9c\\xcfv\\xe8\\xc0\\x06\\x84M\\xce|\\xed{\\xe4\\xab\\xae((lrI\\x82\\xfdh\\x95_\\r\\xa2\\x86\\x14vo9W\\x1bk\\x12\\x1469\\xef\\xb5\\xba\\xdc3\\x94`\\xb0\\xd9\\x18\\xd9\\x1e\\x1c\\xd4\\x9c\\x80\\xb0\\xc9\\xa7l\\xed\\x9d\\x0c\\xb2\\x15\\x84\\n\\xe7\\xbd\\x1e\\xab\\x97U\\x1d_\\x82\\xc2&)\\xec}t\\xa8\\xae= lv^\\xe4[\\xcd\\xe4O\\x06\\n\\x9b\\xa4\\xb0\\xa5+\\xd2\\' l2\\xc2v\\xd7GB&(l\\x92\\xc2\\xde\\x8f(\\x92o\\x06\\xe1\\xc1Y\\xaf;oE\\xf5\\xe8\\t\\n\\x9b\\x97S\\xb6V35yKP\\xd8\\xbc\\xd4\\x7f\\xf5\\x94\\xe2\\x91\\xa0\\xb0I\\n\\xdb\\xeeg\\x16\\xc8\\x0f\\t\\x11\\xd2\\xeb\\x1a\\x8ej\\x05\"\\x81a\\x93\\x19\\xd6\\xf6\\x9eX\\xf5!\\x81as\\xf06\\x8bCwx\\xc0\\xb0\\xc9gm\\xc5>UY\\xd5hKp\\xd8\\x1c\\x9c\\x1a\\xed\\xba\"\\\\\\x02\\xc4\\xe6\\xe0\\x95`\\xbdw3A_\\x93O\\xdb\\xda\\x9bF\\xc5\\xc8$A_\\xf3r\\xd6\\xd6\\x90E\\x16\\x12\\xfc5\\xb9\\xe0k\\xf4g2\\x88\\x13$6\\x07o\\xce\\xd1\\'\\xd3\\'\\xf0kr1\\x82\\xae\\xab;\\'\\xe8k\\xf2\\x99[;\\xf9[\\xe5x$\\xf0k\\xf2\\x99[)\\x8f\\x18O \\xd7\\xe4\\xb2\\x03\\xa6w\\xe9%\\x88kr\\xe9\\xd7}\\xe4\\x84|/\\x08\\x93\\xc9s\\x1d\\xadw\\t\\xe0\\x9a\\x04\\xae\\x19\\xba\\xf4h\\x82\\xb8&\\x89\\xeb.\\xf7.\\xe3\\x1f\\xc05\\xb9\\xec@\\xd7\\xfb\\xd8\\x12\\xc05\\xe7u/\\xf9\\x13\\xdbq\\x12\\xec5\\xc9^[L]\\xe0\\'\\x81^\\x93\\xe9\\xf5\\x18\\xfa8\\xe7\\x04zM\\xa2\\xd7\\xd5y\\xea\\xbb\\x15\\xe859\\xbf\\xb55=(\\x01zM\\xa2\\xd7f\\xfb\\xcc?\\xd5\\x7f\\x81\\xbd&\\xd9kf\\xd7\\xf7\\r\\xd0kr\\xd9\\xd7\\xbd4\\xac\"\\x05\\xe45I^w\\x86\\x99\\xbe\\x1c\\x10)D\\xafk\\x10%\\xd7O\\x13\\xe45\\xb9\\xea\\xc0\\xea\\x86\\x94\\x11$\\xc0k\\x12\\xbc\\xee\\\\I\\xb5\\x08\\x9d\\xe0\\xaeI\\xee\\xbaw]=Q93\\x81`\\x93\\t\\xb6\\xed3\\x14\\xe5\\xfbB\\xa0\\x10\\xc1\\xaeVz\\xd5\"A`\\xf3\\x92\\xea:\\x87\\x9c\\xf9\\'\\x10l\\x12\\xc1\\xf6\\xd8\\x83{y\\xcf\\x02\\xc2&g\\xbbZ\\xe8\\x02#\\t\\n\\x9b\\xa4\\xb0\\xbd\\r\\xbd\\x877\\x81a\\xd39\\xd3$\\xe5jG\\x82\\xc2&)\\xec\\xfdxB\\xf9^\\x10-^\\x97\\xdb[\\xad\\xf8%\\x10l\\x12\\xc1\\xb6}\\x86\\xa2\\xec0\\xc1`\\x93\\x0cv\\x9f\\x82%\\x87P@\\xb0\\xc9\\'n\\xad\\xd0T\\xc9m\\t\\x04\\x9bL\\xb0\\xe6\\x0f\\xa6\\xc5`\\xb0\\xc9%\\x07L\\x1fi\\x9e`\\xb0\\xc99\\xae\\xde\\xd6D@\\x0e\\x85@a3x\\x1d\\xa7\\xe99\\x1f(l\\x92\\xc2\\xd6\\xd0K\\xf4\\t\\x06\\x9bd\\xb0\\xbd\\x0f=\\t\\x03\\x82M\\xcer\\xdd\\x97Q\\xe5!% lr\\x96\\xeb\\xbe\\xad\\x959&\\x18l\\xb2\\xc1\\xee\\xb3\\x9fUFb\\x82\\xc1&\\x1b\\xecN\\x13\\x94\\xa3e0\\xd8L^\\t\\xd6\\xdb\\xb4\\x12\\x0c6\\xf3\\xb2\\xf1F\\x1f\\xe8\\x99\\x80\\xb0I\\x08\\xbb\\xcf\\x8a}b{Q\\x82\\xc7&ylV\\xa9\\xcd\\x1f\\t\\x1c\\x9b\\\\|`M\\xc8\\xd4n\\xad\\x04\\x8eM\\xe2\\xd8t\\xb9\\xbc\\x98\\x80\\xb1\\xc9\\x18{\\xaf\\x17\\xa1\\xde\\x0b06\\tcW\\x97<u\\x8d\\xb8\\x04\\x83M.\\x00\\xbbkY\\xa9\\x1f\\x0f\\x0c6\\xc9`\\xebH\\xfd\\xd8\\x00\\x82M\"\\xd8}0\\xa7Z,I\\x10\\xd8$\\x81m\\xa5\\xf7r&\\x10l\\x12\\xc1\\xee#^\\xe4\\x00\\x03\\x046\\xb9\\xfc\\xeb\\xa1\\xf7W&\\x00l\\x12\\xc0\\xee\\xedur`\\x0e\\xfe\\x9a\\xe4\\xaf\\xb6\\xabY\\xca\\'=\\x00l^J\\x0fL\\xf93\\x17\\x00lq\\xca\\xeb8\\xf4\\xfc\\xb9@`\\xeb\\xb8\\xa4\\xcb\\x9b\\xec\\xfd\\x0b\\x00\\xb68\\xe7\\xf5\\xc1\\x18\\xa6@`\\xebr\\xe6\\xd6\\x1a\\xed\\xaa\\xa5\\xc5\\x02\\x81\\xad\\x83S\\x06\\xc2TJt\\x81\\xc0\\x16\\t\\xec\\xce1T\\xf1Q \\xb0\\xc5\\xd5_c\\xe84\\xe5\\x02\\x81-\\xcey\\xdd\\x89\\xef\\xf2*&\\xb4\\xa2\\x00\\xd9\\xb4\\xac\\x1a\\x154\\xaaK\\x9f\\xa3>\\x1fHkq\\x89\\x81\\xa1\\xb7\\xea\\x14Hkq\\xe9\\xd7C/\\xf4\\x15Hk\\xb5\\xcb\\xf6N\\x93JU\\x00\\xad\\xc5\\xa5_\\x0f\\x9d+P\\xe0\\xac\\xd5x\\xfb\\xf8\\x0e\\x0e5\\xfd-\\x90\\xd6\"i-\\xd7\\xa5\\xe5\\n\\xa4\\xb5\\x1a\\xf7\\x1eZ1\\x0b\\xa4\\xb58\\xdb5u\\xf2u\\x01\\xb4\\x16\\x1f\\xb2U.\\x87!\\x05\\xd0Z|\\xc8\\xd6\\xa1\\x8f\\xb0*p\\xd6\\xe2\\xd2\\xaf%K3\\x150k\\x11\\xb3\\x9a?8\\xfb\\xad\\x80Y\\x8b\\x0f\\xd9J\\x97\\x03\\xc7\\x02g-\\xae\\xfcj\\xbaJb\\x01\\xb3\\x161\\xab\\xef\\x03\\xe3\\xbe\\\\@\\xad@\\\\\\x8b\\xc45Z{\\xee/\\x80\\x88!{\\xcd\\xaeS\\x89\\n\\xe8\\xb5\\xb8\\xe0\\xc0\\xd0\\xb9f\\x05\\xf2Z$\\xaf\\xde\\xb4@\\x14\\xc0k1\\xbc\\xda\\x83:\"\\x05\\xf0Z\\x04\\xaf\\xf7t8\\xd5\\x08Bf\\xf0\\xdc\\xd7ut\\x02\\xbb\\x16g\\xbf\\x0e\\x9dD\\\\\\x80\\xae\\xc5\\xc9\\xaf\\xe6r#u\\x81\\xb9\\x16\\x99kk\\xeb\\x99\\xad\\x04\\xa2\\x00]\\x8b\\xd1u\\xa7~\\xa9[\\x01\\xd0\\xb5\\x06\\xa7\\xcfG\\xd7\\xe5I\\x0b\\xd8\\xb5\\x88]\\xf7\\xa4\\xf2\\x89\\xb2\\xaa\\x05\\xecZ\\x9c\\x00[z~Y\\xc0\\xae5\\x18LJ.\\xcb\\x17\\xb0k\\xcdK\\x9aI\\xd7\\x0bo\\x05\\xeeZ\\xe4\\xae-\\xf6\\x01\\x9d\\xeaC\\x82\\xbc\\x16\\x9f\\xbau\\xac{^\\xb1N\\x01\\xbd\\xd6\\xe4\\x1d\\xe3i:=\\xa8\\x00_k^\\xf7\\x04\\xab\\xe5\\xb0\\x02|-\\xcev\\xdd *[A\\xb80\\xbe\\xbaN\\xb1*\\xc0\\xd7\"|m\\xf7\\x03}\\xe4\\x17\\x83\\x10!}\\x1d\\xbb \\xb5l\\x05!\\xc2\\xe9\\xaek6+\\xc3\\x11\\xc4\\xb5H\\\\w\\x01$\\x85F\\x05\\xe0Z\\x17p\\xd5e\\x93\\n\\xc0\\xb5\\x08\\\\\\xd7\\xe5\\x08\\xdd\\xb7\\x82\\xb8\\x16\\'\\xbbN}\\x04S\\x01\\xb8\\x96\\xf1\\xe8d\\x9fE\\xaf\\xc6] \\xaeE\\xe2\\xba\\x1e!r\\xbaQ \\xae\\xc5\\xe2\\xba7\\x0e\\xca\\xf7\\x82\\xf0\\xe0:\\xafSn7,\\x00\\xd7\"p\\xdd\\x15\\x82\\xd4\\xf2Y\\x01\\xb8\\x16\\xd7\\x13\\x88\\n=E\\x01q-\\xe7u\\x9b\\x07DR\\xe0\\xac\\xc5\\x15\\x05\\xf6\\xc1\\x05\\xaatX\\x81\\xb3\\x169\\xeb(\\x93\\xbbl\\x0b\\x98\\xb5\\x98Y\\x875Y<\\xa2\\x80Y\\x8b\\x98\\xf5~B\\x85\\x8a*@\\xd6\"d\\xbd\\x8f\\xa0\\xe4\\xf5\\x80\\xf0\\xe0\\x9a\\xae;\\xfdA5\\x82\\xe8 a]\\x7f\\x92\\xd1\\x01\\xc0Z\\x04\\xacY\\xe3\\xc1\\xb5\\x80\\xe8\\xe0\\xb3\\xb6|\\x96\\x1e\\x92\\x83\\xb0\\x16\\x0b\\xeb>\\x7f@-!\\x16\\x08k\\x91\\xb0\\xee\\t\\xdb\\x13+\\x97\\x05\\xd8Z\\x84\\xad\\xbe\\x82\\xf2\\x99\\x91!\\xb8k\\xf1\\x11\\\\\\x87\\xae\\x16^\\xc0\\xaeE\\xec\\xba\\x93_\\xd4\\xb6\\x80\\x02v-b\\xd7\\xbd\\\\$\\x9f\\x89\\x80\\xaeE\\xe8\\xba\\x97\\xd6\\x95S\\x15\\xa0kq\\x99\\xd7\\xa3\\xc9\\xfd\\xe6\\x05\\xe8Zq]\\x08\\x96\\x9d\\x17\\xa0k\\x11\\xba\\xe6\\x1cR\\xed\\n\\xcc\\xb5\\xc8\\\\MU\\xc8(\\xf0\\xd6bo\\xdd%+\\x95\\xe3\\x17xkqU\\x81\\xd5%?\\x91\\x98U \\xaf\\x95\\x97J%\\xfa4\\xd0\\x02z->|+t\\t\\xd0\\x02y-.\\xf7\\x9a\\xfb\\xa0\\x05\\x15\\\\\\xe0\\xad\\xc5\\xa7om/W7 \\x80kq\\xfe\\xeb\\xfaj\\x0f\\x9e\\x06@\\xaeE\\xe4Z\\x0fjG\\x15\\x98k\\xb1\\xb9\\xb6\\xbd\\x88)Z\\x01\\xb9V\\xf1J\\xf0\\xae\\x02\\xaa\\xde\\x0c\\xc4\\xb5\\xb8\\xc8\\x80O\\xdd\\xff\\x81\\xb8\\x16g\\xbd\\xe6\\xfa\\x88J\\xd9\\x0b\\xc8\\xb5\\x88\\\\\\xc7\\x1a\\'\\xebn\\x13\\xcc\\xb5\\xc8\\\\}K\\x86\\xba\\xf8`\\xaeU\\xbc\\xb3\\xef\\xa9\\x93G\\x0b\\xf8\\xb58\\x01v>\\xc8\\x8b+\\xf0\\xd7\\xba$\\xc0\\xaef\\n\\x96\\x0b\\x00\\xb6\\x8aW\\xfa\\x1eD&\\xf8k\\x15w*\\x87\\x14\\xc0v\\x00\\xc0\\xde\\xff\\x80\\x1d\\x9f\\xc9\\xaf\\xb6^\\xda\\xb0\\x1d\\'\\x98\\x94\\xdc\\xf8\\xbe^\\xda\\xb1\\x1d\\xd7\\x17w\\xd9\\xd1\\xae\\x97\\x0el\\xc7e)L\\xe5\\xb9\\xadWNlF3\\xe3#\\xe4X`g^c;\\xde\\xb9\\xb5\\x99H\\xb6slGr\\xb2F9j\\x8c\\xb9^\\x1a\\xd8\\x8eVrvB\\x98\\xfe~\\x89\\xedh\\xd9o\\xaf\\x9e\\xea\\xefW\\xd8\\x8e\\xf6^\\xacNSmkhG\\xc3p\\xe1\\n\\x04G\\xc9\\x95\\x88\\r\\xe5\\xd8\\x8e\\xc2eM\\x96\\xd4*\\xefz)\\x86\\x0b\\xb1l\\xec\\x19\\x8cl\\x86\\xd1\\xd2x\\x0b\\x97\\xc9\\x92.\\xeb\\xa5\\x18.\\x8d\\'\\xc6\\xfd\\x99\\xb3\\x0b6\\x16\\xe3_\\xc1\\x89\\'\\xfa<\\xbb\\xbd\\xd9\\x0e\\xdb\\x91\\xd2\\xeeg\\xa6\\xe8,\\xd6K1r.\\x19\\xb1\\xd1\\xd4:\\xd4z)F\\x0e\\xd7%\\xb0\\x07\\xe7\\xf5\\xad\\xd7b\\xe8\\x10\\xd6\\xce\\x9d\\xb7-\\xbf`\\xc7\\xd0\\xe1\\xe2\\x04\\xbb \\xa9Jp]\\xaf\\xc5\\xd8\\xe1\\x8a\\xb0\\xedA\\xb7\\xbf^\\x8b\\xc1\\xd3/\\x0f\\']\\xdcu\\xbd\\x16\\xc3\\x87\\xab\\xc2\\xee\\xa3\\xfb\\x145\\xad\\xd7b\\xfc\\x10\\xdd\\xde{S\\xfd\\x86\\x184\\x9c#\\xbbWW\\xd5z\\xc0z-FM\\xe7m<:\\x05e\\xbd\\x14\\xa3\\x86\\xacv\\xae~J\\xadr\\xef\\xe3]\\xb1\\x1d\\xed\\'\\x9e\\xfaP\\x89\\xf5R\\x0c\\x9a\\xce;\\x8a5\\x0e\\xb4c`\\xd0p\\xa6\\xec\\xae\\xb0\\xa7j\\x07\\xae\\xd7b\\xd00\\xda\\x1e\\x0f\\xea\\x00\\xae\\xd7b\\xd0\\x90\\xdb\\xeeS)\\xd4\\xfe\\xc3\\xf5R\\x8c\\x19\\x92\\xdb\\x8d\\xee\\xfa\\x8180d\\xc8n\\xfb}\\x13\\xb9\\xfc\\t\\x07\\xc6\\x0c\\xe9\\xed\\xdek\\xad\\xd6\\xb9\\xd6K1d.%\\x0b\\xd6LWa\\xc1z-\\xc6\\xcc\\xe0\\xc4\\xa5x\\x06pW+\\x0c\\x1f&\\xdc\\x15\\xe6C\\xb7\\xc3\\xf0!\\xc4}\\xb4\\xc5`\\x97S\\x80v\\xcc\\xb8{\\x06\\xa4\\xb6\\xd4\\xad\\xd7b\\xf8p\\xf9\\x829\\x9f\\xd9D\\xb6Za \\xb1\\xe9\\xeeB\\xc5\\xf2\\xd1<1\\x90\\x08u\\xf3\\xc1Tt\\xbd\\x14\\x03\\x89Pw<(\\x10\\xb0^\\x8aq4y\\x15\\xc0dv\\xcdz)\\xc6\\xd1\\xe4\\xa1\\xce\\xf1L\\x85\\x87\\xd5\\n#\\x8ak\\x1a\\x84\\xae\\xff\\xbaw^b;\\x92\\xbc]|M\\xb7\\xc30\\xe2\\x13\\xbd\\xf2\\xd1\\xb0\\xc00\\x8c\\x88zwiD\\xf9\\x8b\\x18\\x06\\xd1\\xe5L\\xaf\\x07\\xf6\\xbd^\\x8b\\xa1\\xc3\\xdc{\\xe7\\xa1\\xebo\\xf2\\xf6\\xd3O//\\xaf\\xff\\xfc\\xee\\xf5\\xdd\\xb7_\\xff\\xf6\\xee\\xc7\\x97\\xff\\xf9\\xee\\xe3\\x8f\\xef\\x7f\\xfd\\xf4\\xd5\\xcf/?\\xac\\x96\\xc7m\\xe3\\xc9\\xc7\\xf7?\\xfe\\xf4\\xf9\\x0f\\xaf\\x1f~[\\xef\\xf3\\xe6\\xab?}x}\\xfd\\xf0\\xcb\\xfd\\x1f\\x7fzy\\xf7\\xfd\\xcb\\xc7\\xfd\\x82\\xf5\\xdf\\x7f\\xf8\\xf0\\xe1\\xf5o\\x7fx\\xbb\\xfe\\xfe\\xdf?|\\xfc\\xf3\\xfd=\\xbe\\xfd\\xffPK\\x03\\x04\\x14\\x00\\x00\\x00\\x08\\x00o[\\xc9PW\\x19\\x8c\\xf6\\xce\\x01\\x00\\x00q\\x04\\x00\\x00\\r\\x00\\x00\\x00xl/styles.xml\\x9dT\\xdbj\\xe40\\x0c\\xfd\\x15\\xe3\\x0f\\xd8L\\x02[hI\\x02\\xbb\\x0b\\x85\\xc2n)\\xb4\\x0f\\xfb\\xea$Jb\\xf0%u\\x94!\\xe9\\xd7W\\xb63\\xc9\\xcct\\x0be_\\xc6\\xd2\\x91t\\x8e$\\xc7\\x93\\x8f\\xb8(x\\xee\\x01\\x90\\xcdZ\\x99\\xb1\\xe0=\\xe2p\\x97$c\\xdd\\x83\\x16\\xe37;\\x80\\xa1Hk\\x9d\\x16H\\xae\\xeb\\x92qp \\x9a\\xd1\\x17i\\x95d\\x87\\xc3M\\xa2\\x854\\xbc\\xcc\\xcd\\xa4\\xef5\\x8e\\xac\\xb6\\x93\\xc1\\x82\\x1fxR\\xe6\\xad5;\\x92\\xf1\\x08P\\xaa\\xd0\\xc0\\x8eB\\x15\\xfc\\x97P\\xb2r2\\xe4\\n-\\xd5\\x12\\xe1\\xcc\\x03\\xb5U\\xd61\\xa4V\\xa0\\xe0\\xa9G\\xc6\\xb7\\x18N\\xa3\\xe7\\xbb\\\\y\\xb44\\xd6y0\\x89\\n\\xf1\\xb7Z\\xd3\\xcf\\x02\\xe1\\x18)A*u\\xd9\\x19\\x01e>\\x08Dp\\xe6\\x9e\\x9cP\\x13\\xc0\\x0f!\\xb6\\xda/\\xcb@\\xaduN,i\\xf6\\x9d\\xef\\x05\\xe1 \\x91\\xca\\xba\\x06\\xdc\\x85L\\x84\\xca\\\\A\\x8bT\\xe0d\\xd7\\xfb\\x13\\xed\\x90\\xf8 \\xa2\\xd5d4Rt\\xd6\\x88\\xd0\\xc3\\xa9\\xe2\\xbc\\x92\\x85\\xab+8\\xf6\\xb4\\xfa\\x13\\xcd5H\\x9c\\xd7P\\x14\\xb8F\\xff\\xa5\\xb6\\x1a4D\\rJ=\\xfb\\x82\\xbf\\xed6IJ\\x93\\xcc-\\x8bW\\xfe\\xd0\\xf8\\xdbf~\\xb1\\'\\x93\\xc6_\\xcdH\\x13\\x1d\\xcf\\x7f\\xce\\x16\\xb9\\xcfh\\xb3\\xff\\xa2e\\x83<Z\\xfc9\\xd1h&\\xf8\\xaf\\x93Exr\\xd0\\xca9\\xf8s\\xbb\\xe9\\x7f\\xc6\\x9e~\\xc2N\\xb8\\x18\\x06\\xb5\\xfcP\\xb23\\x1a\\xe2\\xec_\\x16,sq\\xaac\\xbdu\\xf2\\x8d\\xd4\\xfc\\x07Y\\x13\\x00\\x8e\\xb3#8\\x94\\xb5G\\xe8\\xae\\xc2z\\xe6v\\xdd\\xd1\\xb6\\x9e\\xb0\\xac\\x8b\\xc5o(\\xf3\\xef\\xa8\\xe0\\x8f\\xfey\\xaa]\\x95U\\x93T(\\xcd\\xea\\xf5\\xb2i\\xc0|\\xd8?\\xd1\\xa3\\xa8\\xe8\\xfd_\\xf0S~\\x03\\xad\\x98\\x14\\xbel\\xc1\\x82\\xef\\xf6\\x1fh\\xe4\\xa4o\\xb7\\xac\\'\\xbf\\x895k\\xb7\\x7f\\xfb\\xcf1\\xbd\\t\\x82\\xfb\\x9fL\\xf9\\x0ePK\\x03\\x04\\x14\\x00\\x00\\x00\\x08\\x00o[\\xc9P\\x97\\x8a\\xbb\\x1c\\xc0\\x00\\x00\\x00\\x13\\x02\\x00\\x00\\x0b\\x00\\x00\\x00_rels/.rels\\x9d\\x92\\xb9n\\xc30\\x0c@\\x7f\\xc5\\xd0\\x9e0\\x07\\xd0!\\x883e\\xf1\\x16\\x04\\xf9\\x01V\\xa2\\x0f\\xd8\\x12\\x05\\x8aE\\x9d\\xbf\\xaf\\xda\\xa5q\\x90\\x0b\\x19y=<\\x12\\xdc\\x1ei@\\xed8\\xa4\\xb6\\x8b\\xa9\\x18\\xfd\\x10RiZ\\xd5\\xb8\\x01H\\xb6%\\x8fi\\xce\\x91B\\xae\\xd4,\\x1e5\\x87\\xd2@D\\xdbcC\\xb0Z,>@.\\x19f\\xb7\\xbdd\\x16\\xa7s\\xa4W\\x88\\\\\\xd7\\x9d\\xa5=\\xdb/OAo\\x80\\xaf:LqBiHK3\\x0e\\xf0\\xcd\\xd2\\x7f2\\xf7\\xf3\\x0c5E\\xe5J#\\x95[\\x1ax\\xd3\\xe5\\xfev\\xe0I\\xd1\\xa1\"X\\x16\\x9aE\\xc9\\xd3\\xa2\\x1d\\xa5\\x7f\\x1d\\xc7\\xf6\\x90\\xd3\\xe9\\xafc\"\\xb4z[\\xe8\\xf9qhT\\n\\x8e\\xdcc%\\x8cqb\\xb4\\xfe5\\x82\\xc9\\x0f\\xec~\\x00PK\\x03\\x04\\x14\\x00\\x00\\x00\\x08\\x00o[\\xc9P\\x1a\\xba\\x1b\\xab0\\x01\\x00\\x00#\\x02\\x00\\x00\\x0f\\x00\\x00\\x00xl/workbook.xml\\x8dQ\\xd1J\\xc3@\\x10\\xfc\\x95p\\x1f`R\\xd1\\x82\\xa5\\xe9\\x8bE-\\x88\\x16+}\\xbf$\\x9bf\\xe9\\xddm\\xd8\\xdb\\xb4\\xda\\xafw\\x93\\x10,\\xf8\\xe2\\xd3\\xde\\xce,\\xc3\\xcc\\xdc\\xf2L|,\\x88\\x8e\\xc9\\x97w!\\xe6\\xa6\\x11i\\x17i\\x1a\\xcb\\x06\\xbc\\x8d7\\xd4BP\\xa6&\\xf6Vt\\xe5C\\x1a[\\x06[\\xc5\\x06@\\xbcKo\\xb3l\\x9ez\\x8b\\xc1\\xac\\x96\\x93\\xd6\\x96\\xd3\\xeb\\x85\\x04JA\\n\\n\\xf6\\xc0\\x1e\\xe1\\x1c\\x7f\\xf9~MN\\x18\\xb1@\\x87\\xf2\\x9d\\x9b\\xe1\\xed\\xc0$\\x1e\\x03z\\xbc@\\x95\\x9b\\xcc$\\xb1\\xa1\\xf3\\x0b1^(\\x88u\\xbb\\x92\\xc9\\xb9\\xdc\\xccFb\\x0f,X\\xfe\\x81w\\xbd\\xc9O[\\xc4\\x01\\x11[|X5\\x92\\x9by\\xa6\\x825r\\x94\\xe1b\\xd0\\xb7\\xea\\xf1\\x04z<n\\x9d\\xd0\\x13:\\x01^[\\x81g\\xa6\\xae\\xc5p\\xe8e4Ez\\x15c\\xe8a\\x9ac\\x89\\x0b\\xfeO\\x8dT\\xd7X\\xc2\\x9a\\xca\\xceC\\x90\\xb1G\\x06\\xd7\\x1b\\x0c\\xb1\\xc16\\x9a$X\\x0f\\xb9\\x19,\\x0e\\x81tn\\xaa1\\x9c\\xa8\\xab\\xab\\xaax\\x81J\\xf0\\xa6\\x1a\\xfdM\\xa6*\\xa81@\\xf5\\xa6:Qq-\\xa8\\xdcr\\xd2\\x8fA\\xe7\\xf6\\xee~\\xf6\\xa0Et\\xce=*\\xf6\\x1e^\\xc9VS\\xc6\\xe9\\x7fV?PK\\x03\\x04\\x14\\x00\\x00\\x00\\x08\\x00o[\\xc9P$\\x1e\\x9b\\xa2\\xad\\x00\\x00\\x00\\xf8\\x01\\x00\\x00\\x1a\\x00\\x00\\x00xl/_rels/workbook.xml.rels\\xb5\\x91=\\x0e\\x830\\x0c\\x85\\xaf\\x12\\xe5\\x005P\\xa9C\\x05L]X+.\\x10\\x05\\xf3#\\x12\\x12\\xc5\\xae\\n\\xb7/\\x85\\x01\\x90:ta\\xb2\\x9e-\\x7f\\xef\\xc9N\\x9fh\\x14wn\\xa0\\xb6\\xf3$Fk\\x06\\xcad\\xcb\\xec\\xef\\x00\\xa4[\\xb4\\x8a.\\xce\\xe30Oj\\x17\\xac\\xe2Y\\x86\\x06\\xbc\\xd2\\xbdj\\x10\\x92(\\xbaA\\xd83d\\x9e\\xee\\x99\\xa2\\x9c<\\xfeCtu\\xddi|8\\xfd\\xb28\\xf0\\x0f0\\xbc]\\xe8\\xa9Ed)J\\x15\\x1a\\xe4L\\xc2h\\xb66\\xc1R\\xe2\\xcbL\\x96\\xa2\\xa82\\x19\\x8a*\\x96pZ \\xe2\\xc9 miV}\\xb0ON\\xb4\\xe7y\\x177\\xf7E\\xae\\xcd\\xe3\\t\\xae\\xdf\\x0cpxt\\xfe\\x01PK\\x03\\x04\\x14\\x00\\x00\\x00\\x08\\x00o[\\xc9Pe\\x90y\\x92\\x19\\x01\\x00\\x00\\xcf\\x03\\x00\\x00\\x13\\x00\\x00\\x00[Content_Types].xml\\xad\\x93MN\\xc30\\x10\\x85\\xaf\\x12e[%.,X\\xa0\\xa6\\x1b`\\x0b]p\\x01cO\\x1a\\xab\\xfe\\x93gZ\\xd2\\xdb3N\\xdaJ\\xa0\\x12\\x15\\x85M\\xacx\\xde\\xbc\\xcf\\x9e\\x97\\xac\\xde\\x8f\\x11\\xb0\\xe8\\x9d\\xf5\\xd8\\x94\\x1dQ|\\x14\\x02U\\x07Nb\\x1d\"x\\xae\\xb4!9I\\xfc\\x9a\\xb6\"J\\xb5\\x93[\\x10\\xf7\\xcb\\xe5\\x83P\\xc1\\x13x\\xaa({\\x94\\xeb\\xd53\\xb4ro\\xa9x\\xe9y\\x1bM\\xf0M\\x99\\xc0bY<\\x8d\\xc2\\xccjJ\\x19\\xa35J\\x12\\xd7\\xc5\\xc1\\xeb\\x1f\\x94\\xeaD\\xa8\\xb9s\\xd0`g\".XP\\x8a\\xab\\x84\\\\\\xf9\\x1dp\\xea{;@JFC\\xb1\\x91\\x89^\\xa5c\\x95\\xe8\\xad@:Z\\xc0z\\xda\\xe2\\xca\\x19C\\xdb\\x1a\\x05:\\xa8\\xbd\\xe3\\x96\\x1ac\\x02\\xa9\\xb1\\x03 g\\xeb\\xd1t1M&\\x9e0\\x8c\\xcf\\xbb\\xd9\\xfc\\xc1f\\n\\xc8\\xcaM\\n\\x119\\xb1\\x04\\x7f\\xc7\\x9d#\\xc9\\xddUd#Hd\\xa6\\xafx!\\xb2\\xf5\\xec\\xfbAN[\\x83\\xbe\\x91\\xcd\\xe3\\xfd\\x0ci7\\xe4\\x81bX\\xe6\\xcf\\xf8{\\xc6\\x17\\xff\\x1b\\xce\\xf1\\x11\\xc2\\xee\\xbf?\\xb1\\xbc\\xd6N\\x1a\\x7f\\xe6\\x8b\\xe1?^\\x7f\\x01PK\\x01\\x02\\x14\\x03\\x14\\x00\\x00\\x00\\x08\\x00o[\\xc9P\\x07AMb\\x81\\x00\\x00\\x00\\xb1\\x00\\x00\\x00\\x10\\x00\\x00\\x00\\x00\\x00\\x00\\x00\\x00\\x00\\x00\\x00\\x80\\x01\\x00\\x00\\x00\\x00docProps/app.xmlPK\\x01\\x02\\x14\\x03\\x14\\x00\\x00\\x00\\x08\\x00o[\\xc9P\\x1b\\xa2\\xd7\\xf2\\xee\\x00\\x00\\x00+\\x02\\x00\\x00\\x11\\x00\\x00\\x00\\x00\\x00\\x00\\x00\\x00\\x00\\x00\\x00\\x80\\x01\\xaf\\x00\\x00\\x00docProps/core.xmlPK\\x01\\x02\\x14\\x03\\x14\\x00\\x00\\x00\\x08\\x00o[\\xc9P\\x99\\\\\\x9c#\\x10\\x06\\x00\\x00\\x9c\\'\\x00\\x00\\x13\\x00\\x00\\x00\\x00\\x00\\x00\\x00\\x00\\x00\\x00\\x00\\x80\\x01\\xcc\\x01\\x00\\x00xl/theme/theme1.xmlPK\\x01\\x02\\x14\\x03\\x14\\x00\\x00\\x00\\x08\\x00o[\\xc9P\\xeeS \\xe7\"*\\x00\\x00\\xb3\\xe3\\x00\\x00\\x18\\x00\\x00\\x00\\x00\\x00\\x00\\x00\\x00\\x00\\x00\\x00\\x80\\x81\\r\\x08\\x00\\x00xl/worksheets/sheet1.xmlPK\\x01\\x02\\x14\\x03\\x14\\x00\\x00\\x00\\x08\\x00o[\\xc9PW\\x19\\x8c\\xf6\\xce\\x01\\x00\\x00q\\x04\\x00\\x00\\r\\x00\\x00\\x00\\x00\\x00\\x00\\x00\\x00\\x00\\x00\\x00\\x80\\x01e2\\x00\\x00xl/styles.xmlPK\\x01\\x02\\x14\\x03\\x14\\x00\\x00\\x00\\x08\\x00o[\\xc9P\\x97\\x8a\\xbb\\x1c\\xc0\\x00\\x00\\x00\\x13\\x02\\x00\\x00\\x0b\\x00\\x00\\x00\\x00\\x00\\x00\\x00\\x00\\x00\\x00\\x00\\x80\\x01^4\\x00\\x00_rels/.relsPK\\x01\\x02\\x14\\x03\\x14\\x00\\x00\\x00\\x08\\x00o[\\xc9P\\x1a\\xba\\x1b\\xab0\\x01\\x00\\x00#\\x02\\x00\\x00\\x0f\\x00\\x00\\x00\\x00\\x00\\x00\\x00\\x00\\x00\\x00\\x00\\x80\\x01G5\\x00\\x00xl/workbook.xmlPK\\x01\\x02\\x14\\x03\\x14\\x00\\x00\\x00\\x08\\x00o[\\xc9P$\\x1e\\x9b\\xa2\\xad\\x00\\x00\\x00\\xf8\\x01\\x00\\x00\\x1a\\x00\\x00\\x00\\x00\\x00\\x00\\x00\\x00\\x00\\x00\\x00\\x80\\x01\\xa46\\x00\\x00xl/_rels/workbook.xml.relsPK\\x01\\x02\\x14\\x03\\x14\\x00\\x00\\x00\\x08\\x00o[\\xc9Pe\\x90y\\x92\\x19\\x01\\x00\\x00\\xcf\\x03\\x00\\x00\\x13\\x00\\x00\\x00\\x00\\x00\\x00\\x00\\x00\\x00\\x00\\x00\\x80\\x01\\x897\\x00\\x00[Content_Types].xmlPK\\x05\\x06\\x00\\x00\\x00\\x00\\t\\x00\\t\\x00>\\x02\\x00\\x00\\xd38\\x00\\x00\\x00\\x00'}"
            ]
          },
          "metadata": {
            "tags": []
          },
          "execution_count": 7
        }
      ]
    },
    {
      "cell_type": "code",
      "metadata": {
        "id": "RFyog6H2e6Wg",
        "colab_type": "code",
        "colab": {}
      },
      "source": [
        "train=pd.read_csv('Train.csv')\n",
        "test=pd.read_csv('Test.csv')\n",
        "submission=pd.read_excel('Sample_Submission.xlsx')"
      ],
      "execution_count": 8,
      "outputs": []
    },
    {
      "cell_type": "code",
      "metadata": {
        "id": "iBpkpuAdfC3W",
        "colab_type": "code",
        "colab": {
          "base_uri": "https://localhost:8080/",
          "height": 195
        },
        "outputId": "1df327ba-7de7-4802-e184-2cb53f0f60ec"
      },
      "source": [
        "train.head()"
      ],
      "execution_count": 9,
      "outputs": [
        {
          "output_type": "execute_result",
          "data": {
            "text/html": [
              "<div>\n",
              "<style scoped>\n",
              "    .dataframe tbody tr th:only-of-type {\n",
              "        vertical-align: middle;\n",
              "    }\n",
              "\n",
              "    .dataframe tbody tr th {\n",
              "        vertical-align: top;\n",
              "    }\n",
              "\n",
              "    .dataframe thead th {\n",
              "        text-align: right;\n",
              "    }\n",
              "</style>\n",
              "<table border=\"1\" class=\"dataframe\">\n",
              "  <thead>\n",
              "    <tr style=\"text-align: right;\">\n",
              "      <th></th>\n",
              "      <th>Product</th>\n",
              "      <th>Product_Brand</th>\n",
              "      <th>Item_Category</th>\n",
              "      <th>Subcategory_1</th>\n",
              "      <th>Subcategory_2</th>\n",
              "      <th>Item_Rating</th>\n",
              "      <th>Date</th>\n",
              "      <th>Selling_Price</th>\n",
              "    </tr>\n",
              "  </thead>\n",
              "  <tbody>\n",
              "    <tr>\n",
              "      <th>0</th>\n",
              "      <td>P-2610</td>\n",
              "      <td>B-659</td>\n",
              "      <td>bags wallets belts</td>\n",
              "      <td>bags</td>\n",
              "      <td>hand bags</td>\n",
              "      <td>4.3</td>\n",
              "      <td>2/3/2017</td>\n",
              "      <td>291.0</td>\n",
              "    </tr>\n",
              "    <tr>\n",
              "      <th>1</th>\n",
              "      <td>P-2453</td>\n",
              "      <td>B-3078</td>\n",
              "      <td>clothing</td>\n",
              "      <td>women s clothing</td>\n",
              "      <td>western wear</td>\n",
              "      <td>3.1</td>\n",
              "      <td>7/1/2015</td>\n",
              "      <td>897.0</td>\n",
              "    </tr>\n",
              "    <tr>\n",
              "      <th>2</th>\n",
              "      <td>P-6802</td>\n",
              "      <td>B-1810</td>\n",
              "      <td>home decor festive needs</td>\n",
              "      <td>showpieces</td>\n",
              "      <td>ethnic</td>\n",
              "      <td>3.5</td>\n",
              "      <td>1/12/2019</td>\n",
              "      <td>792.0</td>\n",
              "    </tr>\n",
              "    <tr>\n",
              "      <th>3</th>\n",
              "      <td>P-4452</td>\n",
              "      <td>B-3078</td>\n",
              "      <td>beauty and personal care</td>\n",
              "      <td>eye care</td>\n",
              "      <td>h2o plus eye care</td>\n",
              "      <td>4.0</td>\n",
              "      <td>12/12/2014</td>\n",
              "      <td>837.0</td>\n",
              "    </tr>\n",
              "    <tr>\n",
              "      <th>4</th>\n",
              "      <td>P-8454</td>\n",
              "      <td>B-3078</td>\n",
              "      <td>clothing</td>\n",
              "      <td>men s clothing</td>\n",
              "      <td>t shirts</td>\n",
              "      <td>4.3</td>\n",
              "      <td>12/12/2013</td>\n",
              "      <td>470.0</td>\n",
              "    </tr>\n",
              "  </tbody>\n",
              "</table>\n",
              "</div>"
            ],
            "text/plain": [
              "  Product Product_Brand  ...        Date Selling_Price\n",
              "0  P-2610         B-659  ...    2/3/2017         291.0\n",
              "1  P-2453        B-3078  ...    7/1/2015         897.0\n",
              "2  P-6802        B-1810  ...   1/12/2019         792.0\n",
              "3  P-4452        B-3078  ...  12/12/2014         837.0\n",
              "4  P-8454        B-3078  ...  12/12/2013         470.0\n",
              "\n",
              "[5 rows x 8 columns]"
            ]
          },
          "metadata": {
            "tags": []
          },
          "execution_count": 9
        }
      ]
    },
    {
      "cell_type": "code",
      "metadata": {
        "id": "1OjLPGNxfC50",
        "colab_type": "code",
        "colab": {
          "base_uri": "https://localhost:8080/",
          "height": 195
        },
        "outputId": "da2f58db-efb2-42a8-b1f8-5e35f592cdb7"
      },
      "source": [
        "test.head()"
      ],
      "execution_count": 10,
      "outputs": [
        {
          "output_type": "execute_result",
          "data": {
            "text/html": [
              "<div>\n",
              "<style scoped>\n",
              "    .dataframe tbody tr th:only-of-type {\n",
              "        vertical-align: middle;\n",
              "    }\n",
              "\n",
              "    .dataframe tbody tr th {\n",
              "        vertical-align: top;\n",
              "    }\n",
              "\n",
              "    .dataframe thead th {\n",
              "        text-align: right;\n",
              "    }\n",
              "</style>\n",
              "<table border=\"1\" class=\"dataframe\">\n",
              "  <thead>\n",
              "    <tr style=\"text-align: right;\">\n",
              "      <th></th>\n",
              "      <th>Product</th>\n",
              "      <th>Product_Brand</th>\n",
              "      <th>Item_Category</th>\n",
              "      <th>Subcategory_1</th>\n",
              "      <th>Subcategory_2</th>\n",
              "      <th>Item_Rating</th>\n",
              "      <th>Date</th>\n",
              "    </tr>\n",
              "  </thead>\n",
              "  <tbody>\n",
              "    <tr>\n",
              "      <th>0</th>\n",
              "      <td>P-11284</td>\n",
              "      <td>B-2984</td>\n",
              "      <td>computers</td>\n",
              "      <td>network components</td>\n",
              "      <td>routers</td>\n",
              "      <td>4.3</td>\n",
              "      <td>1/12/2018</td>\n",
              "    </tr>\n",
              "    <tr>\n",
              "      <th>1</th>\n",
              "      <td>P-6580</td>\n",
              "      <td>B-1732</td>\n",
              "      <td>jewellery</td>\n",
              "      <td>bangles bracelets armlets</td>\n",
              "      <td>bracelets</td>\n",
              "      <td>3.0</td>\n",
              "      <td>20/12/2012</td>\n",
              "    </tr>\n",
              "    <tr>\n",
              "      <th>2</th>\n",
              "      <td>P-5843</td>\n",
              "      <td>B-3078</td>\n",
              "      <td>clothing</td>\n",
              "      <td>women s clothing</td>\n",
              "      <td>western wear</td>\n",
              "      <td>1.5</td>\n",
              "      <td>1/12/2014</td>\n",
              "    </tr>\n",
              "    <tr>\n",
              "      <th>3</th>\n",
              "      <td>P-5334</td>\n",
              "      <td>B-1421</td>\n",
              "      <td>jewellery</td>\n",
              "      <td>necklaces chains</td>\n",
              "      <td>necklaces</td>\n",
              "      <td>3.9</td>\n",
              "      <td>1/12/2019</td>\n",
              "    </tr>\n",
              "    <tr>\n",
              "      <th>4</th>\n",
              "      <td>P-5586</td>\n",
              "      <td>B-3078</td>\n",
              "      <td>clothing</td>\n",
              "      <td>women s clothing</td>\n",
              "      <td>western wear</td>\n",
              "      <td>1.4</td>\n",
              "      <td>1/12/2017</td>\n",
              "    </tr>\n",
              "  </tbody>\n",
              "</table>\n",
              "</div>"
            ],
            "text/plain": [
              "   Product Product_Brand Item_Category  ... Subcategory_2 Item_Rating        Date\n",
              "0  P-11284        B-2984     computers  ...       routers         4.3   1/12/2018\n",
              "1   P-6580        B-1732     jewellery  ...     bracelets         3.0  20/12/2012\n",
              "2   P-5843        B-3078      clothing  ...  western wear         1.5   1/12/2014\n",
              "3   P-5334        B-1421     jewellery  ...     necklaces         3.9   1/12/2019\n",
              "4   P-5586        B-3078      clothing  ...  western wear         1.4   1/12/2017\n",
              "\n",
              "[5 rows x 7 columns]"
            ]
          },
          "metadata": {
            "tags": []
          },
          "execution_count": 10
        }
      ]
    },
    {
      "cell_type": "code",
      "metadata": {
        "id": "nXjF2jfjfZ71",
        "colab_type": "code",
        "colab": {
          "base_uri": "https://localhost:8080/",
          "height": 195
        },
        "outputId": "a252787e-a23a-4142-aead-8357893133c7"
      },
      "source": [
        "submission.head()"
      ],
      "execution_count": 11,
      "outputs": [
        {
          "output_type": "execute_result",
          "data": {
            "text/html": [
              "<div>\n",
              "<style scoped>\n",
              "    .dataframe tbody tr th:only-of-type {\n",
              "        vertical-align: middle;\n",
              "    }\n",
              "\n",
              "    .dataframe tbody tr th {\n",
              "        vertical-align: top;\n",
              "    }\n",
              "\n",
              "    .dataframe thead th {\n",
              "        text-align: right;\n",
              "    }\n",
              "</style>\n",
              "<table border=\"1\" class=\"dataframe\">\n",
              "  <thead>\n",
              "    <tr style=\"text-align: right;\">\n",
              "      <th></th>\n",
              "      <th>Selling_Price</th>\n",
              "    </tr>\n",
              "  </thead>\n",
              "  <tbody>\n",
              "    <tr>\n",
              "      <th>0</th>\n",
              "      <td>2921.95</td>\n",
              "    </tr>\n",
              "    <tr>\n",
              "      <th>1</th>\n",
              "      <td>508.47</td>\n",
              "    </tr>\n",
              "    <tr>\n",
              "      <th>2</th>\n",
              "      <td>802.71</td>\n",
              "    </tr>\n",
              "    <tr>\n",
              "      <th>3</th>\n",
              "      <td>402.79</td>\n",
              "    </tr>\n",
              "    <tr>\n",
              "      <th>4</th>\n",
              "      <td>751.10</td>\n",
              "    </tr>\n",
              "  </tbody>\n",
              "</table>\n",
              "</div>"
            ],
            "text/plain": [
              "   Selling_Price\n",
              "0        2921.95\n",
              "1         508.47\n",
              "2         802.71\n",
              "3         402.79\n",
              "4         751.10"
            ]
          },
          "metadata": {
            "tags": []
          },
          "execution_count": 11
        }
      ]
    },
    {
      "cell_type": "code",
      "metadata": {
        "id": "cfMLrU_Wfgol",
        "colab_type": "code",
        "colab": {
          "base_uri": "https://localhost:8080/",
          "height": 300
        },
        "outputId": "48858c2f-e705-45e2-caea-7457903233ae"
      },
      "source": [
        "sns.distplot(train['Selling_Price']) #highly skewed.normalize it by log transform"
      ],
      "execution_count": 12,
      "outputs": [
        {
          "output_type": "execute_result",
          "data": {
            "text/plain": [
              "<matplotlib.axes._subplots.AxesSubplot at 0x7f53519e0748>"
            ]
          },
          "metadata": {
            "tags": []
          },
          "execution_count": 12
        },
        {
          "output_type": "display_data",
          "data": {
            "image/png": "[encoded data removed]",
            "text/plain": [
              "<Figure size 432x288 with 1 Axes>"
            ]
          },
          "metadata": {
            "tags": [],
            "needs_background": "light"
          }
        }
      ]
    },
    {
      "cell_type": "code",
      "metadata": {
        "id": "HD9kj0ugflJP",
        "colab_type": "code",
        "colab": {}
      },
      "source": [
        "train['Selling_Price']=np.log1p(train['Selling_Price'])"
      ],
      "execution_count": 13,
      "outputs": []
    },
    {
      "cell_type": "code",
      "metadata": {
        "id": "eOA__2R8f5lm",
        "colab_type": "code",
        "colab": {
          "base_uri": "https://localhost:8080/",
          "height": 297
        },
        "outputId": "501566cd-4d97-40c4-9b0a-3e2b792c4534"
      },
      "source": [
        "sns.distplot(train['Selling_Price'])"
      ],
      "execution_count": 14,
      "outputs": [
        {
          "output_type": "execute_result",
          "data": {
            "text/plain": [
              "<matplotlib.axes._subplots.AxesSubplot at 0x7f53518c18d0>"
            ]
          },
          "metadata": {
            "tags": []
          },
          "execution_count": 14
        },
        {
          "output_type": "display_data",
          "data": {
            "image/png": "[encoded data removed]",
            "text/plain": [
              "<Figure size 432x288 with 1 Axes>"
            ]
          },
          "metadata": {
            "tags": [],
            "needs_background": "light"
          }
        }
      ]
    },
    {
      "cell_type": "code",
      "metadata": {
        "id": "0RORLXd3f8pN",
        "colab_type": "code",
        "colab": {
          "base_uri": "https://localhost:8080/",
          "height": 284
        },
        "outputId": "0343a80a-f7a4-4ac2-f34a-5b9fa963e6c1"
      },
      "source": [
        "train.describe()"
      ],
      "execution_count": 15,
      "outputs": [
        {
          "output_type": "execute_result",
          "data": {
            "text/html": [
              "<div>\n",
              "<style scoped>\n",
              "    .dataframe tbody tr th:only-of-type {\n",
              "        vertical-align: middle;\n",
              "    }\n",
              "\n",
              "    .dataframe tbody tr th {\n",
              "        vertical-align: top;\n",
              "    }\n",
              "\n",
              "    .dataframe thead th {\n",
              "        text-align: right;\n",
              "    }\n",
              "</style>\n",
              "<table border=\"1\" class=\"dataframe\">\n",
              "  <thead>\n",
              "    <tr style=\"text-align: right;\">\n",
              "      <th></th>\n",
              "      <th>Item_Rating</th>\n",
              "      <th>Selling_Price</th>\n",
              "    </tr>\n",
              "  </thead>\n",
              "  <tbody>\n",
              "    <tr>\n",
              "      <th>count</th>\n",
              "      <td>2452.000000</td>\n",
              "      <td>2452.000000</td>\n",
              "    </tr>\n",
              "    <tr>\n",
              "      <th>mean</th>\n",
              "      <td>3.078467</td>\n",
              "      <td>6.652575</td>\n",
              "    </tr>\n",
              "    <tr>\n",
              "      <th>std</th>\n",
              "      <td>1.187137</td>\n",
              "      <td>1.177109</td>\n",
              "    </tr>\n",
              "    <tr>\n",
              "      <th>min</th>\n",
              "      <td>1.000000</td>\n",
              "      <td>3.526361</td>\n",
              "    </tr>\n",
              "    <tr>\n",
              "      <th>25%</th>\n",
              "      <td>2.000000</td>\n",
              "      <td>5.918894</td>\n",
              "    </tr>\n",
              "    <tr>\n",
              "      <th>50%</th>\n",
              "      <td>3.100000</td>\n",
              "      <td>6.391917</td>\n",
              "    </tr>\n",
              "    <tr>\n",
              "      <th>75%</th>\n",
              "      <td>4.100000</td>\n",
              "      <td>7.086947</td>\n",
              "    </tr>\n",
              "    <tr>\n",
              "      <th>max</th>\n",
              "      <td>5.000000</td>\n",
              "      <td>11.663842</td>\n",
              "    </tr>\n",
              "  </tbody>\n",
              "</table>\n",
              "</div>"
            ],
            "text/plain": [
              "       Item_Rating  Selling_Price\n",
              "count  2452.000000    2452.000000\n",
              "mean      3.078467       6.652575\n",
              "std       1.187137       1.177109\n",
              "min       1.000000       3.526361\n",
              "25%       2.000000       5.918894\n",
              "50%       3.100000       6.391917\n",
              "75%       4.100000       7.086947\n",
              "max       5.000000      11.663842"
            ]
          },
          "metadata": {
            "tags": []
          },
          "execution_count": 15
        }
      ]
    },
    {
      "cell_type": "code",
      "metadata": {
        "id": "8CkWTy8YgCjI",
        "colab_type": "code",
        "colab": {
          "base_uri": "https://localhost:8080/",
          "height": 269
        },
        "outputId": "20788e02-f254-4f3e-aec7-817ad0368f21"
      },
      "source": [
        "train.info()"
      ],
      "execution_count": 16,
      "outputs": [
        {
          "output_type": "stream",
          "text": [
            "<class 'pandas.core.frame.DataFrame'>\n",
            "RangeIndex: 2452 entries, 0 to 2451\n",
            "Data columns (total 8 columns):\n",
            " #   Column         Non-Null Count  Dtype  \n",
            "---  ------         --------------  -----  \n",
            " 0   Product        2452 non-null   object \n",
            " 1   Product_Brand  2452 non-null   object \n",
            " 2   Item_Category  2452 non-null   object \n",
            " 3   Subcategory_1  2452 non-null   object \n",
            " 4   Subcategory_2  2452 non-null   object \n",
            " 5   Item_Rating    2452 non-null   float64\n",
            " 6   Date           2452 non-null   object \n",
            " 7   Selling_Price  2452 non-null   float64\n",
            "dtypes: float64(2), object(6)\n",
            "memory usage: 153.4+ KB\n"
          ],
          "name": "stdout"
        }
      ]
    },
    {
      "cell_type": "code",
      "metadata": {
        "id": "nDBFAYIZgGml",
        "colab_type": "code",
        "colab": {
          "base_uri": "https://localhost:8080/",
          "height": 168
        },
        "outputId": "3e545b23-df9b-429d-ce0b-fe8e8256e08f"
      },
      "source": [
        "train.nunique()"
      ],
      "execution_count": 17,
      "outputs": [
        {
          "output_type": "execute_result",
          "data": {
            "text/plain": [
              "Product          2452\n",
              "Product_Brand    1010\n",
              "Item_Category      75\n",
              "Subcategory_1     130\n",
              "Subcategory_2     336\n",
              "Item_Rating        41\n",
              "Date              483\n",
              "Selling_Price    1095\n",
              "dtype: int64"
            ]
          },
          "metadata": {
            "tags": []
          },
          "execution_count": 17
        }
      ]
    },
    {
      "cell_type": "code",
      "metadata": {
        "id": "nPAhGT-UgKHK",
        "colab_type": "code",
        "colab": {
          "base_uri": "https://localhost:8080/",
          "height": 34
        },
        "outputId": "f4241399-8dc5-4d88-d6a2-ce4d3c96d5ee"
      },
      "source": [
        "train.shape"
      ],
      "execution_count": 18,
      "outputs": [
        {
          "output_type": "execute_result",
          "data": {
            "text/plain": [
              "(2452, 8)"
            ]
          },
          "metadata": {
            "tags": []
          },
          "execution_count": 18
        }
      ]
    },
    {
      "cell_type": "code",
      "metadata": {
        "id": "hP-O6HnWgesM",
        "colab_type": "code",
        "colab": {}
      },
      "source": [
        "# Extracting Date features \n",
        "def extract_time_features(df):\n",
        "    df['Date']=pd.to_datetime(df['Date'])\n",
        "    df['month'] = df['Date'].dt.month\n",
        "    df['Day'] = df['Date'].dt.day\n",
        "    df['DayOfyear'] = df['Date'].dt.dayofyear\n",
        "    df['Week'] = pd.to_datetime(df['Date']).dt.week \n",
        "    df['Quarter'] = pd.to_datetime(df['Date']).dt.quarter  \n",
        "    df['Is_month_start'] = pd.to_datetime(df['Date']).dt.is_month_start \n",
        "    df['Is_month_end'] = pd.to_datetime(df['Date']).dt.is_month_end \n",
        "    del df['Date']\n",
        "    return df"
      ],
      "execution_count": 19,
      "outputs": []
    },
    {
      "cell_type": "code",
      "metadata": {
        "id": "y5kMO0iJg-y7",
        "colab_type": "code",
        "colab": {}
      },
      "source": [
        "train=extract_time_features(train)\n",
        "test=extract_time_features(test)"
      ],
      "execution_count": 20,
      "outputs": []
    },
    {
      "cell_type": "code",
      "metadata": {
        "id": "g3FFkQwsg-1b",
        "colab_type": "code",
        "colab": {}
      },
      "source": [
        "train['Unique_Item_category_per_product_brand']=train.groupby(['Product_Brand'])['Item_Category'].transform('nunique')\n",
        "train['Unique_Subcategory_1_per_product_brand']=train.groupby(['Product_Brand'])['Subcategory_1'].transform('nunique')\n",
        "train['Unique_Subcategory_2_per_product_brand']=train.groupby(['Product_Brand'])['Subcategory_2'].transform('nunique')"
      ],
      "execution_count": 21,
      "outputs": []
    },
    {
      "cell_type": "code",
      "metadata": {
        "id": "05_ZuHMQhG_q",
        "colab_type": "code",
        "colab": {}
      },
      "source": [
        "test['Unique_Item_category_per_product_brand']=test.groupby(['Product_Brand'])['Item_Category'].transform('nunique')\n",
        "test['Unique_Subcategory_1_per_product_brand']=test.groupby(['Product_Brand'])['Subcategory_1'].transform('nunique')\n",
        "test['Unique_Subcategory_2_per_product_brand']=test.groupby(['Product_Brand'])['Subcategory_2'].transform('nunique')"
      ],
      "execution_count": 22,
      "outputs": []
    },
    {
      "cell_type": "code",
      "metadata": {
        "id": "9qDahRgFhNqV",
        "colab_type": "code",
        "colab": {
          "base_uri": "https://localhost:8080/",
          "height": 282
        },
        "outputId": "77be1575-c7aa-46f2-ed7d-cc5c64c0df38"
      },
      "source": [
        "train.head()"
      ],
      "execution_count": 23,
      "outputs": [
        {
          "output_type": "execute_result",
          "data": {
            "text/html": [
              "<div>\n",
              "<style scoped>\n",
              "    .dataframe tbody tr th:only-of-type {\n",
              "        vertical-align: middle;\n",
              "    }\n",
              "\n",
              "    .dataframe tbody tr th {\n",
              "        vertical-align: top;\n",
              "    }\n",
              "\n",
              "    .dataframe thead th {\n",
              "        text-align: right;\n",
              "    }\n",
              "</style>\n",
              "<table border=\"1\" class=\"dataframe\">\n",
              "  <thead>\n",
              "    <tr style=\"text-align: right;\">\n",
              "      <th></th>\n",
              "      <th>Product</th>\n",
              "      <th>Product_Brand</th>\n",
              "      <th>Item_Category</th>\n",
              "      <th>Subcategory_1</th>\n",
              "      <th>Subcategory_2</th>\n",
              "      <th>Item_Rating</th>\n",
              "      <th>Selling_Price</th>\n",
              "      <th>month</th>\n",
              "      <th>Day</th>\n",
              "      <th>DayOfyear</th>\n",
              "      <th>Week</th>\n",
              "      <th>Quarter</th>\n",
              "      <th>Is_month_start</th>\n",
              "      <th>Is_month_end</th>\n",
              "      <th>Unique_Item_category_per_product_brand</th>\n",
              "      <th>Unique_Subcategory_1_per_product_brand</th>\n",
              "      <th>Unique_Subcategory_2_per_product_brand</th>\n",
              "    </tr>\n",
              "  </thead>\n",
              "  <tbody>\n",
              "    <tr>\n",
              "      <th>0</th>\n",
              "      <td>P-2610</td>\n",
              "      <td>B-659</td>\n",
              "      <td>bags wallets belts</td>\n",
              "      <td>bags</td>\n",
              "      <td>hand bags</td>\n",
              "      <td>4.3</td>\n",
              "      <td>5.676754</td>\n",
              "      <td>2</td>\n",
              "      <td>3</td>\n",
              "      <td>34</td>\n",
              "      <td>5</td>\n",
              "      <td>1</td>\n",
              "      <td>False</td>\n",
              "      <td>False</td>\n",
              "      <td>1</td>\n",
              "      <td>1</td>\n",
              "      <td>1</td>\n",
              "    </tr>\n",
              "    <tr>\n",
              "      <th>1</th>\n",
              "      <td>P-2453</td>\n",
              "      <td>B-3078</td>\n",
              "      <td>clothing</td>\n",
              "      <td>women s clothing</td>\n",
              "      <td>western wear</td>\n",
              "      <td>3.1</td>\n",
              "      <td>6.800170</td>\n",
              "      <td>7</td>\n",
              "      <td>1</td>\n",
              "      <td>182</td>\n",
              "      <td>27</td>\n",
              "      <td>3</td>\n",
              "      <td>True</td>\n",
              "      <td>False</td>\n",
              "      <td>13</td>\n",
              "      <td>29</td>\n",
              "      <td>100</td>\n",
              "    </tr>\n",
              "    <tr>\n",
              "      <th>2</th>\n",
              "      <td>P-6802</td>\n",
              "      <td>B-1810</td>\n",
              "      <td>home decor festive needs</td>\n",
              "      <td>showpieces</td>\n",
              "      <td>ethnic</td>\n",
              "      <td>3.5</td>\n",
              "      <td>6.675823</td>\n",
              "      <td>1</td>\n",
              "      <td>12</td>\n",
              "      <td>12</td>\n",
              "      <td>2</td>\n",
              "      <td>1</td>\n",
              "      <td>False</td>\n",
              "      <td>False</td>\n",
              "      <td>1</td>\n",
              "      <td>1</td>\n",
              "      <td>1</td>\n",
              "    </tr>\n",
              "    <tr>\n",
              "      <th>3</th>\n",
              "      <td>P-4452</td>\n",
              "      <td>B-3078</td>\n",
              "      <td>beauty and personal care</td>\n",
              "      <td>eye care</td>\n",
              "      <td>h2o plus eye care</td>\n",
              "      <td>4.0</td>\n",
              "      <td>6.731018</td>\n",
              "      <td>12</td>\n",
              "      <td>12</td>\n",
              "      <td>346</td>\n",
              "      <td>50</td>\n",
              "      <td>4</td>\n",
              "      <td>False</td>\n",
              "      <td>False</td>\n",
              "      <td>13</td>\n",
              "      <td>29</td>\n",
              "      <td>100</td>\n",
              "    </tr>\n",
              "    <tr>\n",
              "      <th>4</th>\n",
              "      <td>P-8454</td>\n",
              "      <td>B-3078</td>\n",
              "      <td>clothing</td>\n",
              "      <td>men s clothing</td>\n",
              "      <td>t shirts</td>\n",
              "      <td>4.3</td>\n",
              "      <td>6.154858</td>\n",
              "      <td>12</td>\n",
              "      <td>12</td>\n",
              "      <td>346</td>\n",
              "      <td>50</td>\n",
              "      <td>4</td>\n",
              "      <td>False</td>\n",
              "      <td>False</td>\n",
              "      <td>13</td>\n",
              "      <td>29</td>\n",
              "      <td>100</td>\n",
              "    </tr>\n",
              "  </tbody>\n",
              "</table>\n",
              "</div>"
            ],
            "text/plain": [
              "  Product  ... Unique_Subcategory_2_per_product_brand\n",
              "0  P-2610  ...                                      1\n",
              "1  P-2453  ...                                    100\n",
              "2  P-6802  ...                                      1\n",
              "3  P-4452  ...                                    100\n",
              "4  P-8454  ...                                    100\n",
              "\n",
              "[5 rows x 17 columns]"
            ]
          },
          "metadata": {
            "tags": []
          },
          "execution_count": 23
        }
      ]
    },
    {
      "cell_type": "code",
      "metadata": {
        "id": "YmqVbzL9hr25",
        "colab_type": "code",
        "colab": {}
      },
      "source": [
        "#concat train and test data set\n",
        "total=pd.concat([train,test],0)"
      ],
      "execution_count": 24,
      "outputs": []
    },
    {
      "cell_type": "code",
      "metadata": {
        "id": "DcKE37DLh2Lb",
        "colab_type": "code",
        "colab": {
          "base_uri": "https://localhost:8080/",
          "height": 282
        },
        "outputId": "fb0725e8-68c6-45da-a549-a42639f2031f"
      },
      "source": [
        "total.head()"
      ],
      "execution_count": 25,
      "outputs": [
        {
          "output_type": "execute_result",
          "data": {
            "text/html": [
              "<div>\n",
              "<style scoped>\n",
              "    .dataframe tbody tr th:only-of-type {\n",
              "        vertical-align: middle;\n",
              "    }\n",
              "\n",
              "    .dataframe tbody tr th {\n",
              "        vertical-align: top;\n",
              "    }\n",
              "\n",
              "    .dataframe thead th {\n",
              "        text-align: right;\n",
              "    }\n",
              "</style>\n",
              "<table border=\"1\" class=\"dataframe\">\n",
              "  <thead>\n",
              "    <tr style=\"text-align: right;\">\n",
              "      <th></th>\n",
              "      <th>Product</th>\n",
              "      <th>Product_Brand</th>\n",
              "      <th>Item_Category</th>\n",
              "      <th>Subcategory_1</th>\n",
              "      <th>Subcategory_2</th>\n",
              "      <th>Item_Rating</th>\n",
              "      <th>Selling_Price</th>\n",
              "      <th>month</th>\n",
              "      <th>Day</th>\n",
              "      <th>DayOfyear</th>\n",
              "      <th>Week</th>\n",
              "      <th>Quarter</th>\n",
              "      <th>Is_month_start</th>\n",
              "      <th>Is_month_end</th>\n",
              "      <th>Unique_Item_category_per_product_brand</th>\n",
              "      <th>Unique_Subcategory_1_per_product_brand</th>\n",
              "      <th>Unique_Subcategory_2_per_product_brand</th>\n",
              "    </tr>\n",
              "  </thead>\n",
              "  <tbody>\n",
              "    <tr>\n",
              "      <th>0</th>\n",
              "      <td>P-2610</td>\n",
              "      <td>B-659</td>\n",
              "      <td>bags wallets belts</td>\n",
              "      <td>bags</td>\n",
              "      <td>hand bags</td>\n",
              "      <td>4.3</td>\n",
              "      <td>5.676754</td>\n",
              "      <td>2</td>\n",
              "      <td>3</td>\n",
              "      <td>34</td>\n",
              "      <td>5</td>\n",
              "      <td>1</td>\n",
              "      <td>False</td>\n",
              "      <td>False</td>\n",
              "      <td>1</td>\n",
              "      <td>1</td>\n",
              "      <td>1</td>\n",
              "    </tr>\n",
              "    <tr>\n",
              "      <th>1</th>\n",
              "      <td>P-2453</td>\n",
              "      <td>B-3078</td>\n",
              "      <td>clothing</td>\n",
              "      <td>women s clothing</td>\n",
              "      <td>western wear</td>\n",
              "      <td>3.1</td>\n",
              "      <td>6.800170</td>\n",
              "      <td>7</td>\n",
              "      <td>1</td>\n",
              "      <td>182</td>\n",
              "      <td>27</td>\n",
              "      <td>3</td>\n",
              "      <td>True</td>\n",
              "      <td>False</td>\n",
              "      <td>13</td>\n",
              "      <td>29</td>\n",
              "      <td>100</td>\n",
              "    </tr>\n",
              "    <tr>\n",
              "      <th>2</th>\n",
              "      <td>P-6802</td>\n",
              "      <td>B-1810</td>\n",
              "      <td>home decor festive needs</td>\n",
              "      <td>showpieces</td>\n",
              "      <td>ethnic</td>\n",
              "      <td>3.5</td>\n",
              "      <td>6.675823</td>\n",
              "      <td>1</td>\n",
              "      <td>12</td>\n",
              "      <td>12</td>\n",
              "      <td>2</td>\n",
              "      <td>1</td>\n",
              "      <td>False</td>\n",
              "      <td>False</td>\n",
              "      <td>1</td>\n",
              "      <td>1</td>\n",
              "      <td>1</td>\n",
              "    </tr>\n",
              "    <tr>\n",
              "      <th>3</th>\n",
              "      <td>P-4452</td>\n",
              "      <td>B-3078</td>\n",
              "      <td>beauty and personal care</td>\n",
              "      <td>eye care</td>\n",
              "      <td>h2o plus eye care</td>\n",
              "      <td>4.0</td>\n",
              "      <td>6.731018</td>\n",
              "      <td>12</td>\n",
              "      <td>12</td>\n",
              "      <td>346</td>\n",
              "      <td>50</td>\n",
              "      <td>4</td>\n",
              "      <td>False</td>\n",
              "      <td>False</td>\n",
              "      <td>13</td>\n",
              "      <td>29</td>\n",
              "      <td>100</td>\n",
              "    </tr>\n",
              "    <tr>\n",
              "      <th>4</th>\n",
              "      <td>P-8454</td>\n",
              "      <td>B-3078</td>\n",
              "      <td>clothing</td>\n",
              "      <td>men s clothing</td>\n",
              "      <td>t shirts</td>\n",
              "      <td>4.3</td>\n",
              "      <td>6.154858</td>\n",
              "      <td>12</td>\n",
              "      <td>12</td>\n",
              "      <td>346</td>\n",
              "      <td>50</td>\n",
              "      <td>4</td>\n",
              "      <td>False</td>\n",
              "      <td>False</td>\n",
              "      <td>13</td>\n",
              "      <td>29</td>\n",
              "      <td>100</td>\n",
              "    </tr>\n",
              "  </tbody>\n",
              "</table>\n",
              "</div>"
            ],
            "text/plain": [
              "  Product  ... Unique_Subcategory_2_per_product_brand\n",
              "0  P-2610  ...                                      1\n",
              "1  P-2453  ...                                    100\n",
              "2  P-6802  ...                                      1\n",
              "3  P-4452  ...                                    100\n",
              "4  P-8454  ...                                    100\n",
              "\n",
              "[5 rows x 17 columns]"
            ]
          },
          "metadata": {
            "tags": []
          },
          "execution_count": 25
        }
      ]
    },
    {
      "cell_type": "code",
      "metadata": {
        "id": "RX1pKL8MiBeg",
        "colab_type": "code",
        "colab": {}
      },
      "source": [
        "total['std_rating_per_product_brand']=total.groupby(['Product_Brand'])['Item_Rating'].transform('std')\n",
        "total['std_rating_Item_Category']=total.groupby(['Item_Category'])['Item_Rating'].transform('std')\n",
        "total['std_rating_Subcategory_1']=total.groupby(['Subcategory_1'])['Item_Rating'].transform('std')\n",
        "total['std_rating_Subcategory_2']=total.groupby(['Subcategory_2'])['Item_Rating'].transform('std')"
      ],
      "execution_count": 26,
      "outputs": []
    },
    {
      "cell_type": "code",
      "metadata": {
        "id": "Y-njnF52iOMm",
        "colab_type": "code",
        "colab": {}
      },
      "source": [
        "total['Product_Brand']=total['Product_Brand'].str.lstrip('B-').astype(int)"
      ],
      "execution_count": 27,
      "outputs": []
    },
    {
      "cell_type": "code",
      "metadata": {
        "id": "14NFE5doiTCK",
        "colab_type": "code",
        "colab": {}
      },
      "source": [
        "from sklearn.preprocessing import LabelEncoder\n",
        "le=LabelEncoder()\n",
        "\n",
        "cat=['Item_Category','Subcategory_1','Subcategory_2']\n",
        "for items in cat:\n",
        "    total[items]=le.fit_transform(total[items])"
      ],
      "execution_count": 28,
      "outputs": []
    },
    {
      "cell_type": "code",
      "metadata": {
        "id": "bZ1tJLJnicUp",
        "colab_type": "code",
        "colab": {}
      },
      "source": [
        "train_final=total[:train.shape[0]]\n",
        "test_final=total[train.shape[0]:]"
      ],
      "execution_count": 29,
      "outputs": []
    },
    {
      "cell_type": "code",
      "metadata": {
        "id": "-bE63oA3ihJP",
        "colab_type": "code",
        "colab": {
          "base_uri": "https://localhost:8080/",
          "height": 34
        },
        "outputId": "058cd1a4-1fce-4132-d896-bb49c7571787"
      },
      "source": [
        "train_final.shape"
      ],
      "execution_count": 31,
      "outputs": [
        {
          "output_type": "execute_result",
          "data": {
            "text/plain": [
              "(2452, 21)"
            ]
          },
          "metadata": {
            "tags": []
          },
          "execution_count": 31
        }
      ]
    },
    {
      "cell_type": "code",
      "metadata": {
        "id": "5BLXqBFMioKQ",
        "colab_type": "code",
        "colab": {
          "base_uri": "https://localhost:8080/",
          "height": 34
        },
        "outputId": "7ff57f8b-9efa-464d-fe47-0fe0a4025b45"
      },
      "source": [
        "test_final.shape"
      ],
      "execution_count": 32,
      "outputs": [
        {
          "output_type": "execute_result",
          "data": {
            "text/plain": [
              "(1051, 21)"
            ]
          },
          "metadata": {
            "tags": []
          },
          "execution_count": 32
        }
      ]
    },
    {
      "cell_type": "code",
      "metadata": {
        "id": "H2Zuy6mDiuqM",
        "colab_type": "code",
        "colab": {}
      },
      "source": [
        "X=train_final.drop(['Product','Selling_Price'],1)\n",
        "y=train_final['Selling_Price']\n",
        "test_final=test_final.drop(['Product','Selling_Price'],1)"
      ],
      "execution_count": 33,
      "outputs": []
    },
    {
      "cell_type": "code",
      "metadata": {
        "id": "EVJon0NEiwpz",
        "colab_type": "code",
        "colab": {}
      },
      "source": [
        "from sklearn.model_selection import train_test_split\n",
        "X_train,X_test,y_train,y_test=train_test_split(X,y,test_size=0.3,random_state=7)"
      ],
      "execution_count": 34,
      "outputs": []
    },
    {
      "cell_type": "code",
      "metadata": {
        "id": "N53OSNBgi6c9",
        "colab_type": "code",
        "colab": {
          "base_uri": "https://localhost:8080/",
          "height": 454
        },
        "outputId": "304661c6-15df-4dd5-bb37-1b6516d70446"
      },
      "source": [
        "#XG Boost\n",
        "\n",
        "from xgboost import XGBRegressor\n",
        "model_2 = XGBRegressor(\n",
        "    learning_rate =0.01,\n",
        "    n_estimators=5000,\n",
        "    max_depth=6,\n",
        "    colsample_bytree=0.8,\n",
        "    seed=100,\n",
        "    eval_metric='rmse'\n",
        "    )\n",
        "#model.fit(X_train, y_train)\n",
        "model_2.fit(X_train, y_train, eval_metric='rmse', \n",
        "          eval_set=[(X_test, y_test)], early_stopping_rounds=100, verbose=100)"
      ],
      "execution_count": 35,
      "outputs": [
        {
          "output_type": "stream",
          "text": [
            "[15:01:16] WARNING: /workspace/src/objective/regression_obj.cu:152: reg:linear is now deprecated in favor of reg:squarederror.\n",
            "[0]\tvalidation_0-rmse:6.18299\n",
            "Will train until validation_0-rmse hasn't improved in 100 rounds.\n",
            "[100]\tvalidation_0-rmse:2.39414\n",
            "[200]\tvalidation_0-rmse:1.10503\n",
            "[300]\tvalidation_0-rmse:0.748987\n",
            "[400]\tvalidation_0-rmse:0.671509\n",
            "[500]\tvalidation_0-rmse:0.655313\n",
            "[600]\tvalidation_0-rmse:0.650131\n",
            "[700]\tvalidation_0-rmse:0.647207\n",
            "[800]\tvalidation_0-rmse:0.64594\n",
            "[900]\tvalidation_0-rmse:0.643378\n",
            "[1000]\tvalidation_0-rmse:0.640014\n",
            "[1100]\tvalidation_0-rmse:0.638598\n",
            "[1200]\tvalidation_0-rmse:0.637999\n",
            "[1300]\tvalidation_0-rmse:0.637802\n",
            "Stopping. Best iteration:\n",
            "[1289]\tvalidation_0-rmse:0.637631\n",
            "\n"
          ],
          "name": "stdout"
        },
        {
          "output_type": "execute_result",
          "data": {
            "text/plain": [
              "XGBRegressor(base_score=0.5, booster='gbtree', colsample_bylevel=1,\n",
              "             colsample_bynode=1, colsample_bytree=0.8, eval_metric='rmse',\n",
              "             gamma=0, importance_type='gain', learning_rate=0.01,\n",
              "             max_delta_step=0, max_depth=6, min_child_weight=1, missing=None,\n",
              "             n_estimators=5000, n_jobs=1, nthread=None, objective='reg:linear',\n",
              "             random_state=0, reg_alpha=0, reg_lambda=1, scale_pos_weight=1,\n",
              "             seed=100, silent=None, subsample=1, verbosity=1)"
            ]
          },
          "metadata": {
            "tags": []
          },
          "execution_count": 35
        }
      ]
    },
    {
      "cell_type": "code",
      "metadata": {
        "id": "aa2kXlCCjUaF",
        "colab_type": "code",
        "colab": {
          "base_uri": "https://localhost:8080/",
          "height": 34
        },
        "outputId": "c9153a3c-8016-4155-bd3c-3b4a7f2fb946"
      },
      "source": [
        "from xgboost import XGBRegressor\n",
        "xgb=XGBRegressor(\n",
        "    learning_rate =0.01,\n",
        "    n_estimators=1350,\n",
        "    max_depth=6,\n",
        "    colsample_bytree=0.8,\n",
        "    seed=100)\n",
        "xgb_model=xgb.fit(X,y)"
      ],
      "execution_count": 36,
      "outputs": [
        {
          "output_type": "stream",
          "text": [
            "[15:02:31] WARNING: /workspace/src/objective/regression_obj.cu:152: reg:linear is now deprecated in favor of reg:squarederror.\n"
          ],
          "name": "stdout"
        }
      ]
    },
    {
      "cell_type": "code",
      "metadata": {
        "id": "cOFFg7HZjvj7",
        "colab_type": "code",
        "colab": {
          "base_uri": "https://localhost:8080/",
          "height": 101
        },
        "outputId": "510b786a-a1bf-4492-8896-b63f33a0b3c1"
      },
      "source": [
        "from sklearn.model_selection import cross_val_score\n",
        "score=cross_val_score(X=X,y=y,estimator=xgb,scoring='neg_root_mean_squared_error',cv=5)"
      ],
      "execution_count": 37,
      "outputs": [
        {
          "output_type": "stream",
          "text": [
            "[15:03:33] WARNING: /workspace/src/objective/regression_obj.cu:152: reg:linear is now deprecated in favor of reg:squarederror.\n",
            "[15:03:36] WARNING: /workspace/src/objective/regression_obj.cu:152: reg:linear is now deprecated in favor of reg:squarederror.\n",
            "[15:03:40] WARNING: /workspace/src/objective/regression_obj.cu:152: reg:linear is now deprecated in favor of reg:squarederror.\n",
            "[15:03:43] WARNING: /workspace/src/objective/regression_obj.cu:152: reg:linear is now deprecated in favor of reg:squarederror.\n",
            "[15:03:46] WARNING: /workspace/src/objective/regression_obj.cu:152: reg:linear is now deprecated in favor of reg:squarederror.\n"
          ],
          "name": "stdout"
        }
      ]
    },
    {
      "cell_type": "code",
      "metadata": {
        "id": "miYaiDOhj1uI",
        "colab_type": "code",
        "colab": {
          "base_uri": "https://localhost:8080/",
          "height": 34
        },
        "outputId": "291e69df-b481-4842-a585-19417ea6436c"
      },
      "source": [
        "score"
      ],
      "execution_count": 38,
      "outputs": [
        {
          "output_type": "execute_result",
          "data": {
            "text/plain": [
              "array([-0.71462691, -0.64018146, -0.64697859, -0.64833916, -0.6607256 ])"
            ]
          },
          "metadata": {
            "tags": []
          },
          "execution_count": 38
        }
      ]
    },
    {
      "cell_type": "code",
      "metadata": {
        "id": "yfq6FXfZkDoX",
        "colab_type": "code",
        "colab": {
          "base_uri": "https://localhost:8080/",
          "height": 34
        },
        "outputId": "a6b91352-566f-4712-ac14-b7a7222d000b"
      },
      "source": [
        "np.mean(score)"
      ],
      "execution_count": 39,
      "outputs": [
        {
          "output_type": "execute_result",
          "data": {
            "text/plain": [
              "-0.6621703441307158"
            ]
          },
          "metadata": {
            "tags": []
          },
          "execution_count": 39
        }
      ]
    },
    {
      "cell_type": "code",
      "metadata": {
        "id": "Q3YUXW92kReQ",
        "colab_type": "code",
        "colab": {}
      },
      "source": [
        "y_pred1=xgb.predict(test_final)"
      ],
      "execution_count": 40,
      "outputs": []
    },
    {
      "cell_type": "code",
      "metadata": {
        "id": "we_y81x1kWfo",
        "colab_type": "code",
        "colab": {}
      },
      "source": [
        "y_pred1=np.expm1(y_pred1)"
      ],
      "execution_count": 41,
      "outputs": []
    },
    {
      "cell_type": "code",
      "metadata": {
        "id": "csKQuVMqkfhQ",
        "colab_type": "code",
        "colab": {
          "base_uri": "https://localhost:8080/",
          "height": 50
        },
        "outputId": "ed2cdc6f-fbfe-4b3b-fcca-2181169b6ee4"
      },
      "source": [
        "y_pred1"
      ],
      "execution_count": 42,
      "outputs": [
        {
          "output_type": "execute_result",
          "data": {
            "text/plain": [
              "array([2244.199  ,  384.16357,  728.9483 , ..., 1351.9078 ,  440.58673,\n",
              "       1341.4869 ], dtype=float32)"
            ]
          },
          "metadata": {
            "tags": []
          },
          "execution_count": 42
        }
      ]
    },
    {
      "cell_type": "code",
      "metadata": {
        "id": "lzfhIOmhkkY2",
        "colab_type": "code",
        "colab": {
          "base_uri": "https://localhost:8080/",
          "height": 610
        },
        "outputId": "33655a1f-dbcc-4ca5-98b6-2a3d105872ff"
      },
      "source": [
        "pd.DataFrame(list(zip(X.columns,xgb_model.feature_importances_*100)))"
      ],
      "execution_count": 43,
      "outputs": [
        {
          "output_type": "execute_result",
          "data": {
            "text/html": [
              "<div>\n",
              "<style scoped>\n",
              "    .dataframe tbody tr th:only-of-type {\n",
              "        vertical-align: middle;\n",
              "    }\n",
              "\n",
              "    .dataframe tbody tr th {\n",
              "        vertical-align: top;\n",
              "    }\n",
              "\n",
              "    .dataframe thead th {\n",
              "        text-align: right;\n",
              "    }\n",
              "</style>\n",
              "<table border=\"1\" class=\"dataframe\">\n",
              "  <thead>\n",
              "    <tr style=\"text-align: right;\">\n",
              "      <th></th>\n",
              "      <th>0</th>\n",
              "      <th>1</th>\n",
              "    </tr>\n",
              "  </thead>\n",
              "  <tbody>\n",
              "    <tr>\n",
              "      <th>0</th>\n",
              "      <td>Product_Brand</td>\n",
              "      <td>1.207585</td>\n",
              "    </tr>\n",
              "    <tr>\n",
              "      <th>1</th>\n",
              "      <td>Item_Category</td>\n",
              "      <td>3.546038</td>\n",
              "    </tr>\n",
              "    <tr>\n",
              "      <th>2</th>\n",
              "      <td>Subcategory_1</td>\n",
              "      <td>2.339068</td>\n",
              "    </tr>\n",
              "    <tr>\n",
              "      <th>3</th>\n",
              "      <td>Subcategory_2</td>\n",
              "      <td>7.091056</td>\n",
              "    </tr>\n",
              "    <tr>\n",
              "      <th>4</th>\n",
              "      <td>Item_Rating</td>\n",
              "      <td>0.702977</td>\n",
              "    </tr>\n",
              "    <tr>\n",
              "      <th>5</th>\n",
              "      <td>month</td>\n",
              "      <td>2.606958</td>\n",
              "    </tr>\n",
              "    <tr>\n",
              "      <th>6</th>\n",
              "      <td>Day</td>\n",
              "      <td>2.642967</td>\n",
              "    </tr>\n",
              "    <tr>\n",
              "      <th>7</th>\n",
              "      <td>DayOfyear</td>\n",
              "      <td>20.679478</td>\n",
              "    </tr>\n",
              "    <tr>\n",
              "      <th>8</th>\n",
              "      <td>Week</td>\n",
              "      <td>1.340544</td>\n",
              "    </tr>\n",
              "    <tr>\n",
              "      <th>9</th>\n",
              "      <td>Quarter</td>\n",
              "      <td>10.261303</td>\n",
              "    </tr>\n",
              "    <tr>\n",
              "      <th>10</th>\n",
              "      <td>Is_month_start</td>\n",
              "      <td>12.352847</td>\n",
              "    </tr>\n",
              "    <tr>\n",
              "      <th>11</th>\n",
              "      <td>Is_month_end</td>\n",
              "      <td>2.690032</td>\n",
              "    </tr>\n",
              "    <tr>\n",
              "      <th>12</th>\n",
              "      <td>Unique_Item_category_per_product_brand</td>\n",
              "      <td>1.673950</td>\n",
              "    </tr>\n",
              "    <tr>\n",
              "      <th>13</th>\n",
              "      <td>Unique_Subcategory_1_per_product_brand</td>\n",
              "      <td>3.244393</td>\n",
              "    </tr>\n",
              "    <tr>\n",
              "      <th>14</th>\n",
              "      <td>Unique_Subcategory_2_per_product_brand</td>\n",
              "      <td>1.369855</td>\n",
              "    </tr>\n",
              "    <tr>\n",
              "      <th>15</th>\n",
              "      <td>std_rating_per_product_brand</td>\n",
              "      <td>1.600263</td>\n",
              "    </tr>\n",
              "    <tr>\n",
              "      <th>16</th>\n",
              "      <td>std_rating_Item_Category</td>\n",
              "      <td>6.032631</td>\n",
              "    </tr>\n",
              "    <tr>\n",
              "      <th>17</th>\n",
              "      <td>std_rating_Subcategory_1</td>\n",
              "      <td>15.682927</td>\n",
              "    </tr>\n",
              "    <tr>\n",
              "      <th>18</th>\n",
              "      <td>std_rating_Subcategory_2</td>\n",
              "      <td>2.935128</td>\n",
              "    </tr>\n",
              "  </tbody>\n",
              "</table>\n",
              "</div>"
            ],
            "text/plain": [
              "                                         0          1\n",
              "0                            Product_Brand   1.207585\n",
              "1                            Item_Category   3.546038\n",
              "2                            Subcategory_1   2.339068\n",
              "3                            Subcategory_2   7.091056\n",
              "4                              Item_Rating   0.702977\n",
              "5                                    month   2.606958\n",
              "6                                      Day   2.642967\n",
              "7                                DayOfyear  20.679478\n",
              "8                                     Week   1.340544\n",
              "9                                  Quarter  10.261303\n",
              "10                          Is_month_start  12.352847\n",
              "11                            Is_month_end   2.690032\n",
              "12  Unique_Item_category_per_product_brand   1.673950\n",
              "13  Unique_Subcategory_1_per_product_brand   3.244393\n",
              "14  Unique_Subcategory_2_per_product_brand   1.369855\n",
              "15            std_rating_per_product_brand   1.600263\n",
              "16                std_rating_Item_Category   6.032631\n",
              "17                std_rating_Subcategory_1  15.682927\n",
              "18                std_rating_Subcategory_2   2.935128"
            ]
          },
          "metadata": {
            "tags": []
          },
          "execution_count": 43
        }
      ]
    },
    {
      "cell_type": "code",
      "metadata": {
        "id": "N6-ZeNtfkmNj",
        "colab_type": "code",
        "colab": {
          "base_uri": "https://localhost:8080/",
          "height": 252
        },
        "outputId": "2cdaa2ba-84e9-466d-b39e-c15ba9743531"
      },
      "source": [
        "#Light GBM\n",
        "from lightgbm import LGBMRegressor\n",
        "lgb_fit_params={\"early_stopping_rounds\":50, \n",
        "            \"eval_metric\" : 'rmse', \n",
        "            \"eval_set\" : [(X_test,y_test)],\n",
        "            'eval_names': ['valid'],\n",
        "            'verbose':100\n",
        "           }\n",
        "\n",
        "lgb_params = {'boosting_type': 'gbdt',\n",
        " 'objective': 'regression',\n",
        " 'metric': 'rmse',\n",
        " 'verbose': 0,\n",
        " 'bagging_fraction': 0.8,\n",
        " 'bagging_freq': 1,\n",
        " 'lambda_l1': 0.01,\n",
        " 'lambda_l2': 0.01,\n",
        " 'learning_rate': 0.01,\n",
        " 'max_bin': 255,\n",
        " 'max_depth': 6,\n",
        " 'min_data_in_bin': 1,\n",
        " 'min_data_in_leaf': 1,\n",
        " 'num_leaves': 31}\n",
        "lgb_params"
      ],
      "execution_count": 44,
      "outputs": [
        {
          "output_type": "execute_result",
          "data": {
            "text/plain": [
              "{'bagging_fraction': 0.8,\n",
              " 'bagging_freq': 1,\n",
              " 'boosting_type': 'gbdt',\n",
              " 'lambda_l1': 0.01,\n",
              " 'lambda_l2': 0.01,\n",
              " 'learning_rate': 0.01,\n",
              " 'max_bin': 255,\n",
              " 'max_depth': 6,\n",
              " 'metric': 'rmse',\n",
              " 'min_data_in_bin': 1,\n",
              " 'min_data_in_leaf': 1,\n",
              " 'num_leaves': 31,\n",
              " 'objective': 'regression',\n",
              " 'verbose': 0}"
            ]
          },
          "metadata": {
            "tags": []
          },
          "execution_count": 44
        }
      ]
    },
    {
      "cell_type": "code",
      "metadata": {
        "id": "EVWxLjjhlDRx",
        "colab_type": "code",
        "colab": {
          "base_uri": "https://localhost:8080/",
          "height": 218
        },
        "outputId": "9e59ad9d-1d03-481f-e2cd-b571f03c39c2"
      },
      "source": [
        "clf_lgb = LGBMRegressor(n_estimators=10000, **lgb_params, random_state=123456789, n_jobs=-1)\n",
        "clf_lgb.fit(X_train, y_train, **lgb_fit_params)\n",
        "clf_lgb.best_iteration_"
      ],
      "execution_count": 45,
      "outputs": [
        {
          "output_type": "stream",
          "text": [
            "Training until validation scores don't improve for 50 rounds.\n",
            "[100]\tvalid's rmse: 0.771477\n",
            "[200]\tvalid's rmse: 0.68349\n",
            "[300]\tvalid's rmse: 0.656189\n",
            "[400]\tvalid's rmse: 0.644552\n",
            "[500]\tvalid's rmse: 0.639316\n",
            "[600]\tvalid's rmse: 0.635627\n",
            "[700]\tvalid's rmse: 0.633443\n",
            "[800]\tvalid's rmse: 0.632627\n",
            "Early stopping, best iteration is:\n",
            "[832]\tvalid's rmse: 0.632087\n"
          ],
          "name": "stdout"
        },
        {
          "output_type": "execute_result",
          "data": {
            "text/plain": [
              "832"
            ]
          },
          "metadata": {
            "tags": []
          },
          "execution_count": 45
        }
      ]
    },
    {
      "cell_type": "code",
      "metadata": {
        "id": "_oIgMGAmlJEE",
        "colab_type": "code",
        "colab": {}
      },
      "source": [
        "clf_lgb=LGBMRegressor(n_estimators=int(clf_lgb.best_iteration_*1.2), **lgb_params)\n",
        "lgb_model=clf_lgb.fit(X, y)"
      ],
      "execution_count": 46,
      "outputs": []
    },
    {
      "cell_type": "code",
      "metadata": {
        "id": "-svN9QWOlKF8",
        "colab_type": "code",
        "colab": {}
      },
      "source": [
        "from sklearn.model_selection import cross_val_score\n",
        "score=cross_val_score(X=X,y=y,estimator=clf_lgb,scoring='neg_root_mean_squared_error',cv=5)"
      ],
      "execution_count": 48,
      "outputs": []
    },
    {
      "cell_type": "code",
      "metadata": {
        "id": "trzcG9ZylWtm",
        "colab_type": "code",
        "colab": {
          "base_uri": "https://localhost:8080/",
          "height": 34
        },
        "outputId": "95c66ce4-d20f-44ff-d6ae-8b587c0062d6"
      },
      "source": [
        "score"
      ],
      "execution_count": 49,
      "outputs": [
        {
          "output_type": "execute_result",
          "data": {
            "text/plain": [
              "array([-0.70568776, -0.65095725, -0.64274763, -0.64769899, -0.66754616])"
            ]
          },
          "metadata": {
            "tags": []
          },
          "execution_count": 49
        }
      ]
    },
    {
      "cell_type": "code",
      "metadata": {
        "id": "5m8Nj7zzlZIy",
        "colab_type": "code",
        "colab": {
          "base_uri": "https://localhost:8080/",
          "height": 34
        },
        "outputId": "4604c4d6-e077-4b25-8046-bd65685f53dc"
      },
      "source": [
        "np.mean(score)"
      ],
      "execution_count": 50,
      "outputs": [
        {
          "output_type": "execute_result",
          "data": {
            "text/plain": [
              "-0.6629275567395373"
            ]
          },
          "metadata": {
            "tags": []
          },
          "execution_count": 50
        }
      ]
    },
    {
      "cell_type": "code",
      "metadata": {
        "id": "nppElo4FlbUY",
        "colab_type": "code",
        "colab": {
          "base_uri": "https://localhost:8080/",
          "height": 610
        },
        "outputId": "9c9e80c1-6034-4f91-80b5-ebff6629bfd5"
      },
      "source": [
        "pd.DataFrame(list(zip(X.columns,clf_lgb.feature_importances_)))"
      ],
      "execution_count": 51,
      "outputs": [
        {
          "output_type": "execute_result",
          "data": {
            "text/html": [
              "<div>\n",
              "<style scoped>\n",
              "    .dataframe tbody tr th:only-of-type {\n",
              "        vertical-align: middle;\n",
              "    }\n",
              "\n",
              "    .dataframe tbody tr th {\n",
              "        vertical-align: top;\n",
              "    }\n",
              "\n",
              "    .dataframe thead th {\n",
              "        text-align: right;\n",
              "    }\n",
              "</style>\n",
              "<table border=\"1\" class=\"dataframe\">\n",
              "  <thead>\n",
              "    <tr style=\"text-align: right;\">\n",
              "      <th></th>\n",
              "      <th>0</th>\n",
              "      <th>1</th>\n",
              "    </tr>\n",
              "  </thead>\n",
              "  <tbody>\n",
              "    <tr>\n",
              "      <th>0</th>\n",
              "      <td>Product_Brand</td>\n",
              "      <td>4639</td>\n",
              "    </tr>\n",
              "    <tr>\n",
              "      <th>1</th>\n",
              "      <td>Item_Category</td>\n",
              "      <td>1719</td>\n",
              "    </tr>\n",
              "    <tr>\n",
              "      <th>2</th>\n",
              "      <td>Subcategory_1</td>\n",
              "      <td>1664</td>\n",
              "    </tr>\n",
              "    <tr>\n",
              "      <th>3</th>\n",
              "      <td>Subcategory_2</td>\n",
              "      <td>2704</td>\n",
              "    </tr>\n",
              "    <tr>\n",
              "      <th>4</th>\n",
              "      <td>Item_Rating</td>\n",
              "      <td>3179</td>\n",
              "    </tr>\n",
              "    <tr>\n",
              "      <th>5</th>\n",
              "      <td>month</td>\n",
              "      <td>825</td>\n",
              "    </tr>\n",
              "    <tr>\n",
              "      <th>6</th>\n",
              "      <td>Day</td>\n",
              "      <td>1523</td>\n",
              "    </tr>\n",
              "    <tr>\n",
              "      <th>7</th>\n",
              "      <td>DayOfyear</td>\n",
              "      <td>1574</td>\n",
              "    </tr>\n",
              "    <tr>\n",
              "      <th>8</th>\n",
              "      <td>Week</td>\n",
              "      <td>1014</td>\n",
              "    </tr>\n",
              "    <tr>\n",
              "      <th>9</th>\n",
              "      <td>Quarter</td>\n",
              "      <td>7</td>\n",
              "    </tr>\n",
              "    <tr>\n",
              "      <th>10</th>\n",
              "      <td>Is_month_start</td>\n",
              "      <td>35</td>\n",
              "    </tr>\n",
              "    <tr>\n",
              "      <th>11</th>\n",
              "      <td>Is_month_end</td>\n",
              "      <td>14</td>\n",
              "    </tr>\n",
              "    <tr>\n",
              "      <th>12</th>\n",
              "      <td>Unique_Item_category_per_product_brand</td>\n",
              "      <td>140</td>\n",
              "    </tr>\n",
              "    <tr>\n",
              "      <th>13</th>\n",
              "      <td>Unique_Subcategory_1_per_product_brand</td>\n",
              "      <td>101</td>\n",
              "    </tr>\n",
              "    <tr>\n",
              "      <th>14</th>\n",
              "      <td>Unique_Subcategory_2_per_product_brand</td>\n",
              "      <td>136</td>\n",
              "    </tr>\n",
              "    <tr>\n",
              "      <th>15</th>\n",
              "      <td>std_rating_per_product_brand</td>\n",
              "      <td>2721</td>\n",
              "    </tr>\n",
              "    <tr>\n",
              "      <th>16</th>\n",
              "      <td>std_rating_Item_Category</td>\n",
              "      <td>1595</td>\n",
              "    </tr>\n",
              "    <tr>\n",
              "      <th>17</th>\n",
              "      <td>std_rating_Subcategory_1</td>\n",
              "      <td>2248</td>\n",
              "    </tr>\n",
              "    <tr>\n",
              "      <th>18</th>\n",
              "      <td>std_rating_Subcategory_2</td>\n",
              "      <td>3221</td>\n",
              "    </tr>\n",
              "  </tbody>\n",
              "</table>\n",
              "</div>"
            ],
            "text/plain": [
              "                                         0     1\n",
              "0                            Product_Brand  4639\n",
              "1                            Item_Category  1719\n",
              "2                            Subcategory_1  1664\n",
              "3                            Subcategory_2  2704\n",
              "4                              Item_Rating  3179\n",
              "5                                    month   825\n",
              "6                                      Day  1523\n",
              "7                                DayOfyear  1574\n",
              "8                                     Week  1014\n",
              "9                                  Quarter     7\n",
              "10                          Is_month_start    35\n",
              "11                            Is_month_end    14\n",
              "12  Unique_Item_category_per_product_brand   140\n",
              "13  Unique_Subcategory_1_per_product_brand   101\n",
              "14  Unique_Subcategory_2_per_product_brand   136\n",
              "15            std_rating_per_product_brand  2721\n",
              "16                std_rating_Item_Category  1595\n",
              "17                std_rating_Subcategory_1  2248\n",
              "18                std_rating_Subcategory_2  3221"
            ]
          },
          "metadata": {
            "tags": []
          },
          "execution_count": 51
        }
      ]
    },
    {
      "cell_type": "code",
      "metadata": {
        "id": "C1ulCXSAlsNr",
        "colab_type": "code",
        "colab": {}
      },
      "source": [
        "y_pred2=lgb_model.predict(test_final)"
      ],
      "execution_count": 52,
      "outputs": []
    },
    {
      "cell_type": "code",
      "metadata": {
        "id": "nxRWjPk8luaa",
        "colab_type": "code",
        "colab": {}
      },
      "source": [
        "y_pred2=np.expm1(y_pred2)"
      ],
      "execution_count": 53,
      "outputs": []
    },
    {
      "cell_type": "code",
      "metadata": {
        "id": "zm9DqV85lwoJ",
        "colab_type": "code",
        "colab": {
          "base_uri": "https://localhost:8080/",
          "height": 50
        },
        "outputId": "87a9b756-3c12-4867-dd70-b4eb4c0b7629"
      },
      "source": [
        "y_pred2"
      ],
      "execution_count": 54,
      "outputs": [
        {
          "output_type": "execute_result",
          "data": {
            "text/plain": [
              "array([2227.90984163,  383.77716397,  744.16048133, ..., 1356.15990238,\n",
              "        397.34376471, 1349.76831087])"
            ]
          },
          "metadata": {
            "tags": []
          },
          "execution_count": 54
        }
      ]
    },
    {
      "cell_type": "code",
      "metadata": {
        "id": "t17uhBxVmdnj",
        "colab_type": "code",
        "colab": {
          "base_uri": "https://localhost:8080/",
          "height": 50
        },
        "outputId": "262c2d5f-7237-4a32-b575-4bea67891f66"
      },
      "source": [
        "y_pred=(0.2*y_pred1)+(y_pred2*0.8)\n",
        "y_pred"
      ],
      "execution_count": 55,
      "outputs": [
        {
          "output_type": "execute_result",
          "data": {
            "text/plain": [
              "array([2231.16768654,  383.85444907,  741.11804265, ..., 1355.30948318,\n",
              "        405.99235948, 1348.1120425 ])"
            ]
          },
          "metadata": {
            "tags": []
          },
          "execution_count": 55
        }
      ]
    },
    {
      "cell_type": "code",
      "metadata": {
        "id": "dyyHKpHJmlbz",
        "colab_type": "code",
        "colab": {}
      },
      "source": [
        "submission_new=pd.DataFrame(np.round(abs(y_pred),2),columns=['Selling_Price'])"
      ],
      "execution_count": 56,
      "outputs": []
    },
    {
      "cell_type": "code",
      "metadata": {
        "id": "i6xi03T-mrft",
        "colab_type": "code",
        "colab": {
          "base_uri": "https://localhost:8080/",
          "height": 195
        },
        "outputId": "1886d564-01e9-455b-9bfe-2f904e3e24d5"
      },
      "source": [
        "submission_new.head()"
      ],
      "execution_count": 57,
      "outputs": [
        {
          "output_type": "execute_result",
          "data": {
            "text/html": [
              "<div>\n",
              "<style scoped>\n",
              "    .dataframe tbody tr th:only-of-type {\n",
              "        vertical-align: middle;\n",
              "    }\n",
              "\n",
              "    .dataframe tbody tr th {\n",
              "        vertical-align: top;\n",
              "    }\n",
              "\n",
              "    .dataframe thead th {\n",
              "        text-align: right;\n",
              "    }\n",
              "</style>\n",
              "<table border=\"1\" class=\"dataframe\">\n",
              "  <thead>\n",
              "    <tr style=\"text-align: right;\">\n",
              "      <th></th>\n",
              "      <th>Selling_Price</th>\n",
              "    </tr>\n",
              "  </thead>\n",
              "  <tbody>\n",
              "    <tr>\n",
              "      <th>0</th>\n",
              "      <td>2231.17</td>\n",
              "    </tr>\n",
              "    <tr>\n",
              "      <th>1</th>\n",
              "      <td>383.85</td>\n",
              "    </tr>\n",
              "    <tr>\n",
              "      <th>2</th>\n",
              "      <td>741.12</td>\n",
              "    </tr>\n",
              "    <tr>\n",
              "      <th>3</th>\n",
              "      <td>357.58</td>\n",
              "    </tr>\n",
              "    <tr>\n",
              "      <th>4</th>\n",
              "      <td>731.89</td>\n",
              "    </tr>\n",
              "  </tbody>\n",
              "</table>\n",
              "</div>"
            ],
            "text/plain": [
              "   Selling_Price\n",
              "0        2231.17\n",
              "1         383.85\n",
              "2         741.12\n",
              "3         357.58\n",
              "4         731.89"
            ]
          },
          "metadata": {
            "tags": []
          },
          "execution_count": 57
        }
      ]
    },
    {
      "cell_type": "code",
      "metadata": {
        "id": "rBzTnOfWmxHE",
        "colab_type": "code",
        "colab": {}
      },
      "source": [
        "submission_new.to_excel('submission_final.xlsx',index=False)"
      ],
      "execution_count": 58,
      "outputs": []
    }
  ]
}